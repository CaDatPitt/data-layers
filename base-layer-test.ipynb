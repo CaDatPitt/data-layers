{
 "cells": [
  {
   "cell_type": "code",
   "execution_count": 1,
   "metadata": {},
   "outputs": [],
   "source": [
    "import extract_base_layer as ebl"
   ]
  },
  {
   "cell_type": "code",
   "execution_count": null,
   "metadata": {},
   "outputs": [],
   "source": [
    "result = ebl.base_layer_maker('american-left-ephemera', 'archive', 'digital')\n",
    "result"
   ]
  },
  {
   "cell_type": "code",
   "execution_count": null,
   "metadata": {},
   "outputs": [],
   "source": [
    "from data_layers_config import * \n",
    "ARCHIVAL_ITEM_MODS_MAP"
   ]
  },
  {
   "cell_type": "code",
   "execution_count": 5,
   "metadata": {},
   "outputs": [
    {
     "name": "stdout",
     "output_type": "stream",
     "text": [
      "working with 1 ead files\n",
      "working with 95 mods files\n",
      "success!\n",
      "working with 0 ead files\n",
      "working with 3181 mods files\n",
      "success!\n",
      "working with 1 ead files\n",
      "working with 1887 mods files\n",
      "success!\n",
      "working with 1 ead files\n",
      "working with 118 mods files\n",
      "success!\n"
     ]
    }
   ],
   "source": [
    "locations = ['hervey-allen-papers', 'fred-wright-cartoons', 'american-left-ephemera', 'communist-collection-forbes']\n",
    "for z in locations:\n",
    "    result = ebl.base_layer_maker(z, 'archive', 'digital')\n"
   ]
  },
  {
   "cell_type": "code",
   "execution_count": 6,
   "metadata": {},
   "outputs": [
    {
     "name": "stdout",
     "output_type": "stream",
     "text": [
      "working with 1 mods files\n",
      "success!\n",
      "working with 31 mods files\n",
      "success!\n"
     ]
    }
   ],
   "source": [
    "serial_locations = ['african-and-african-diasporic-serials', 'shooting-star-review']\n",
    "for z in serial_locations:\n",
    "    result = ebl.base_layer_maker(z, 'serial', 'digital')"
   ]
  },
  {
   "cell_type": "code",
   "execution_count": null,
   "metadata": {},
   "outputs": [],
   "source": [
    "#from bs4 import BeautifulSoup\n",
    "for location in locations:\n",
    "    item_dir = \"source-data/%s/mods/\" % location\n",
    "    print(item_dir)\n",
    "    item_data = ebl.get_bs_from_xml(item_dir, 'mods')\n",
    "\n",
    "    count = 0\n",
    "    for i in item_data:\n",
    "        #result = i.select('relatedItem > genre')\n",
    "        result = i.select(':not(relatedItem) > genre')\n",
    "        if len(result) > 0:\n",
    "            print(result)\n",
    "            #print(i.select(':not(relatedItem) > genre'))\n",
    "            count +=1\n",
    "            if count > 10:\n",
    "                break\n",
    "                "
   ]
  },
  {
   "cell_type": "code",
   "execution_count": null,
   "metadata": {},
   "outputs": [],
   "source": []
  }
 ],
 "metadata": {
  "kernelspec": {
   "display_name": "Python 3",
   "language": "python",
   "name": "python3"
  },
  "language_info": {
   "codemirror_mode": {
    "name": "ipython",
    "version": 3
   },
   "file_extension": ".py",
   "mimetype": "text/x-python",
   "name": "python",
   "nbconvert_exporter": "python",
   "pygments_lexer": "ipython3",
   "version": "3.6.5"
  }
 },
 "nbformat": 4,
 "nbformat_minor": 2
}
