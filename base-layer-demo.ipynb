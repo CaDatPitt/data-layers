{
 "cells": [
  {
   "cell_type": "code",
   "execution_count": 6,
   "metadata": {},
   "outputs": [],
   "source": [
    "import extract_base_layer as ebl"
   ]
  },
  {
   "cell_type": "code",
   "execution_count": 7,
   "metadata": {},
   "outputs": [
    {
     "data": {
      "text/plain": [
       "{'acquisition_number': ['AIS.2007.11'],\n",
       " 'biography_or_history': ['\\nThe Left',\n",
       "  'Left and Right as political designations date to the French Revolution when the Jacobins sat on the left in the National Assembly and the Girondins on the right. The Left has come to mean movements, organizations, and intellectual or cultural tendencies that emphasize an egalitarian ethos, a utopian vision of social reconstruction, and a commitment to agitation and action to advance that ethos and vision.',\n",
       "  '\\nMajor Left-Wing Organizations in the Twentieth-Century U.S.',\n",
       "  'Only three left-wing organizations have attained mass followings in the twentieth-century U.S.: the Socialist Party of the U.S. (SPUSA), the Communist Party of the U.S. (CPUSA), and the Students for a Democratic Society (SDS). Founded 1901 with remnants still in existence today, SPUSA reached a peak membership of about 120,000 around the 1912 election when it polled 6% of the presidential vote. The party declined sharply after 1919 from a combination of government repression, a split between reformists and revolutionaries crystallized by the Bolshevik revolution, and the effects of social change on their core constituencies and on the credibility of their hopes for imminent change.',\n",
       "  'CPUSA, formed out of an amalgamation of revolutionary factions from the 1919 split in the Socialist Party, reached a membership of roughly 75,000 (with a pool of close sympathizers, \"fellow travelers,\" perhaps five to ten times larger than the membership) at the end of the 1930s and again during WWII. CPUSA declined very rapidly after the war under the impact of the Cold War, disillusionment with the Soviet Union, postwar prosperity, and the Party\\'s dogmatic and sectarian tendencies.',\n",
       "  'SDS began as the student wing of the League for Industrial Democracy (originally an organization of socialist college students that evolved into a social-democratic policy group of intellectuals and union functionaries). They parted company with the parent organization over Vietnam and anticommunism in the early 1960s, and expanded rapidly during the 1960s as the most visible American exponents of the New Left. In contrast to the old Left parties, SDS did not collect monthly dues or keep systematic membership records, so estimates of its membership vary widely, but at its peak in 1968-69 probably several hundred thousand people identified themselves at least loosely with SDS.',\n",
       "  '\\nRole of the Left in Modern U.S. History',\n",
       "  'Although each of these organizations briefly functioned as a mass movement, none sustained substantial organization for much more than a decade. Nonetheless, they had decisive impact on modern American history. Left-wing activists played crucial roles in virtually every progressive social movement in twentieth-century America: labor organization, civil rights and black liberation, antiwar and peace movements, feminism, gay rights, environmentalism, and anti-globalism. They shaped terms of debate in American political culture and forced mainstream politicians to respond to their arguments. Understanding the history of the Left is thus critical to understanding key themes in American history.'],\n",
       " 'collection_creator': ['Oestreicher, Richard Jules, 1947-'],\n",
       " 'collection_scope_and_content': ['The collection includes items from the 1870s to the present including periodicals, photographs, letters, pamphlets, books, posters, flyers, labels, pins and other objects, but it emphasizes ephemeral items (e.g., items made for one time or brief usage and then likely to be discarded). While the majority of these items were produced by the Socialist Party USA (SPUSA), Communist Party USA (CPUSA), Students for a Democratic Society (SDS), or organizations linked to them, the collection also includes material from a wide variety of other organizations and movements as well as from unaffiliated activists and radical intellectuals.',\n",
       "  'Dr. Richard Oestreicher wrote all of the scope and content notes within the collection as well as writing the History section.'],\n",
       " 'collection_title': ['American Left Ephemera Collection'],\n",
       " 'conditions_governing_use': ['The University of Pittsburgh holds the property rights to the material in this collection, but the copyright may still be held by the original creator/author. Researchers are therefore advised to follow the regulations set forth in the U.S. Copyright Code when publishing, quoting, or reproducing material from this collection without the consent of the creator/author or that go beyond what is allowed by fair use.'],\n",
       " 'date_of_creation': ['2017-08-29T07:46-0400'],\n",
       " 'date_of_publication': '',\n",
       " 'extent': ['22.75 linear feet', '(37 boxes)', '\\n', '\\n3'],\n",
       " 'finding_aid_creator': ['Finding aid prepared by Lindsay Bedford and Patrick Trembeth with assistance provided by Dr. Richard Oestreicher.'],\n",
       " 'finding_aid_title': ['Guide to the American Left Ephemera Collection, 1875-2015\\n                    AIS.2007.11\\n'],\n",
       " 'identifier': ['US-PPiU-ais200711'],\n",
       " 'preferred_citation': ['American Left Ephemera Collection, 1875-2015, AIS.2007.11, Archives & Special Collections, University of Pittsburgh Library System'],\n",
       " 'publisher': ['ULS Archives & Special Collections'],\n",
       " 'related material': ['A.E. Forbes Communist Collection, 1921-1972, AIS.2000.07, Archives & Special Collections, University of Pittsburgh Library System'],\n",
       " 'repository': ['ULS Archives & Special Collections'],\n",
       " 'subject_headings': ['Communist Party of the United States of America. -- History -- Sources',\n",
       "  'Socialist Labor Party. -- History -- Sources',\n",
       "  'Socialist Party (U.S.). -- History -- Sources',\n",
       "  'Socialist Workers Party. -- History -- Sources',\n",
       "  'Student Peace Union (U.S.). -- History -- Sources',\n",
       "  'Students for a Democratic Society (U.S.). -- History -- Sources',\n",
       "  'Anarchism -- United States -- History -- Sources',\n",
       "  'Buttons (Information artifacts)',\n",
       "  'Christian socialism -- United States -- History -- Sources',\n",
       "  'Communism -- United States -- History -- Sources',\n",
       "  'Labor -- United States -- History -- Sources',\n",
       "  'Minorities -- Political activity -- United States -- Sources',\n",
       "  'New Left -- United States -- History -- Sources',\n",
       "  'Pamphlets',\n",
       "  'Photographs',\n",
       "  'Politics',\n",
       "  'Posters',\n",
       "  'Radicalism -- United States -- History -- 20th century -- Sources',\n",
       "  'Social action',\n",
       "  'Socialism -- United States -- History -- Sources',\n",
       "  'Utopian socialism -- United States -- History -- Sources',\n",
       "  'Vietnam War, 1961-1975'],\n",
       " 'temporal_coverage': ['1875-2015']}"
      ]
     },
     "execution_count": 7,
     "metadata": {},
     "output_type": "execute_result"
    }
   ],
   "source": [
    "ebl.base_layer_maker('american-left-ephemera', 'archive', 'digital')"
   ]
  },
  {
   "cell_type": "code",
   "execution_count": null,
   "metadata": {},
   "outputs": [],
   "source": []
  }
 ],
 "metadata": {
  "kernelspec": {
   "display_name": "Python 3",
   "language": "python",
   "name": "python3"
  },
  "language_info": {
   "codemirror_mode": {
    "name": "ipython",
    "version": 3
   },
   "file_extension": ".py",
   "mimetype": "text/x-python",
   "name": "python",
   "nbconvert_exporter": "python",
   "pygments_lexer": "ipython3",
   "version": "3.6.4"
  }
 },
 "nbformat": 4,
 "nbformat_minor": 2
}
