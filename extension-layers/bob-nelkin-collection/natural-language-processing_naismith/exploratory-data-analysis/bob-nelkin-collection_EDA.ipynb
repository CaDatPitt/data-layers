{
 "cells": [
  {
   "cell_type": "markdown",
   "metadata": {},
   "source": [
    "# Bob Nelkin Collection - Exploratory Data Analysis (EDA)  \n",
    "\n",
    "<br>\n",
    "\n",
    "**Notebook author:** Ben Naismith  \n",
    "**Last modified:** July 15, 2021\n",
    "\n",
    "<br>\n",
    "\n",
    "**Notebook contents:**\n",
    "1. [Initial setup](#1.-Initial-setup)\n",
    "2. [`source-data` folder](#2.-source-data-folder)\n",
    "    - [`ead` folder](#ead-folder)\n",
    "    - [`mods` folder](#mods-folder)\n",
    "    - [`ocr` folder](#ocr-folder)\n",
    "    - [`rel-ext` folder](#rel-ext-folder)\n",
    "    - [`source-data` summary](#source-data-summary)\n",
    "3. [`base-layers` folder](#3.-base-layers-folder)"
   ]
  },
  {
   "cell_type": "markdown",
   "metadata": {},
   "source": [
    "## 1. Initial setup"
   ]
  },
  {
   "cell_type": "code",
   "execution_count": 1,
   "metadata": {},
   "outputs": [],
   "source": [
    "# Import necessary modules\n",
    "\n",
    "import pandas as pd\n",
    "import pprint\n",
    "from IPython.core.interactiveshell import InteractiveShell\n",
    "import csv\n",
    "from ast import literal_eval\n",
    "import joblib\n",
    "import xml.etree.ElementTree as ET\n",
    "import os"
   ]
  },
  {
   "cell_type": "code",
   "execution_count": 2,
   "metadata": {},
   "outputs": [],
   "source": [
    "# Set preferred notebook format\n",
    "\n",
    "InteractiveShell.ast_node_interactivity = \"all\" # Show all output, not just last item\n",
    "pd.set_option('display.max_columns', 999) # Allow viewing of all columns"
   ]
  },
  {
   "cell_type": "code",
   "execution_count": 3,
   "metadata": {},
   "outputs": [
    {
     "data": {
      "text/plain": [
       "'/Users/Ben/Documents/data-layers'"
      ]
     },
     "execution_count": 3,
     "metadata": {},
     "output_type": "execute_result"
    }
   ],
   "source": [
    "# Set root folder to the data-layers parent directory\n",
    "\n",
    "root = '/Users/Ben/Documents/data-layers'\n",
    "os.chdir(root)\n",
    "os.getcwd()"
   ]
  },
  {
   "cell_type": "markdown",
   "metadata": {},
   "source": [
    "## 2. `source-data` folder"
   ]
  },
  {
   "cell_type": "markdown",
   "metadata": {},
   "source": [
    "### Folder contents"
   ]
  },
  {
   "cell_type": "code",
   "execution_count": 4,
   "metadata": {},
   "outputs": [
    {
     "data": {
      "text/plain": [
       "['ead',\n",
       " '.DS_Store',\n",
       " 'ocr',\n",
       " 'pdf',\n",
       " 'rels-ext',\n",
       " 'ocr_new',\n",
       " 'mods',\n",
       " 'CLAWS_tagged']"
      ]
     },
     "execution_count": 4,
     "metadata": {},
     "output_type": "execute_result"
    }
   ],
   "source": [
    "# Move into source-data folder\n",
    "\n",
    "os.chdir('source-data/bob-nelkin-collection')\n",
    "os.listdir()"
   ]
  },
  {
   "cell_type": "markdown",
   "metadata": {},
   "source": [
    "I will look into each of these individually (except .DS_Store which is just a hidden file on my local computer)."
   ]
  },
  {
   "cell_type": "markdown",
   "metadata": {},
   "source": [
    "### `ead` folder\n",
    "\n",
    "There is only one large file in this folder which contains information about the collection (abstract, history, etc.) and about data objects."
   ]
  },
  {
   "cell_type": "code",
   "execution_count": 5,
   "metadata": {},
   "outputs": [
    {
     "data": {
      "text/plain": [
       "['pitt_US-QQS-MSS1002_EAD.xml']"
      ]
     },
     "execution_count": 5,
     "metadata": {},
     "output_type": "execute_result"
    }
   ],
   "source": [
    "# Move into ead folder\n",
    "\n",
    "os.chdir('ead')\n",
    "os.listdir()"
   ]
  },
  {
   "cell_type": "code",
   "execution_count": 6,
   "metadata": {},
   "outputs": [],
   "source": [
    "# Reading in .xml file\n",
    "\n",
    "ead_tree = ET.parse('pitt_US-QQS-MSS1002_EAD.xml')\n",
    "ead_root = ead_tree.getroot()"
   ]
  },
  {
   "cell_type": "code",
   "execution_count": 7,
   "metadata": {},
   "outputs": [
    {
     "data": {
      "text/plain": [
       "'{urn:isbn:1-931666-22-9}ead'"
      ]
     },
     "execution_count": 7,
     "metadata": {},
     "output_type": "execute_result"
    }
   ],
   "source": [
    "ead_root.tag"
   ]
  },
  {
   "cell_type": "markdown",
   "metadata": {},
   "source": [
    "There are no records for this isbn number."
   ]
  },
  {
   "cell_type": "code",
   "execution_count": 8,
   "metadata": {},
   "outputs": [
    {
     "data": {
      "text/plain": [
       "{'{http://www.w3.org/2001/XMLSchema-instance}schemaLocation': 'urn:isbn:1-931666-22-9 http://www.loc.gov/ead/ead.xsd'}"
      ]
     },
     "execution_count": 8,
     "metadata": {},
     "output_type": "execute_result"
    }
   ],
   "source": [
    "ead_root.attrib"
   ]
  },
  {
   "cell_type": "markdown",
   "metadata": {},
   "source": [
    "The w3 data repo link to the library of congress is broken."
   ]
  },
  {
   "cell_type": "code",
   "execution_count": 9,
   "metadata": {},
   "outputs": [
    {
     "name": "stdout",
     "output_type": "stream",
     "text": [
      "{urn:isbn:1-931666-22-9}eadheader {'countryencoding': 'iso3166-1', 'dateencoding': 'iso8601', 'langencoding': 'iso639-2b', 'repositoryencoding': 'iso15511'}\n",
      "{urn:isbn:1-931666-22-9}archdesc {'level': 'collection'}\n"
     ]
    }
   ],
   "source": [
    "for child in ead_root:\n",
    "    print(child.tag, child.attrib)"
   ]
  },
  {
   "cell_type": "code",
   "execution_count": 10,
   "metadata": {},
   "outputs": [
    {
     "data": {
      "text/plain": [
       "[<Element '{urn:isbn:1-931666-22-9}ead' at 0x7fbbc7c9c890>,\n",
       " <Element '{urn:isbn:1-931666-22-9}eadheader' at 0x7fbbc7c9c9b0>,\n",
       " <Element '{urn:isbn:1-931666-22-9}eadid' at 0x7fbbc7c9ca70>,\n",
       " <Element '{urn:isbn:1-931666-22-9}filedesc' at 0x7fbbc7c9cb30>,\n",
       " <Element '{urn:isbn:1-931666-22-9}titlestmt' at 0x7fbbc7c9cc50>,\n",
       " <Element '{urn:isbn:1-931666-22-9}titleproper' at 0x7fbbc7c9cd70>,\n",
       " <Element '{urn:isbn:1-931666-22-9}num' at 0x7fbbc7c9ce30>,\n",
       " <Element '{urn:isbn:1-931666-22-9}author' at 0x7fbbc7c9ce90>,\n",
       " <Element '{urn:isbn:1-931666-22-9}sponsor' at 0x7fbbc7c9cef0>,\n",
       " <Element '{urn:isbn:1-931666-22-9}publicationstmt' at 0x7fbbc7caa050>,\n",
       " <Element '{urn:isbn:1-931666-22-9}publisher' at 0x7fbbc7caa110>,\n",
       " <Element '{urn:isbn:1-931666-22-9}p' at 0x7fbbc7caa170>,\n",
       " <Element '{urn:isbn:1-931666-22-9}date' at 0x7fbbc7caa1d0>,\n",
       " <Element '{urn:isbn:1-931666-22-9}address' at 0x7fbbc7caa230>,\n",
       " <Element '{urn:isbn:1-931666-22-9}addressline' at 0x7fbbc7caa2f0>,\n",
       " <Element '{urn:isbn:1-931666-22-9}addressline' at 0x7fbbc7caa350>,\n",
       " <Element '{urn:isbn:1-931666-22-9}addressline' at 0x7fbbc7caa3b0>,\n",
       " <Element '{urn:isbn:1-931666-22-9}addressline' at 0x7fbbc7caa410>,\n",
       " <Element '{urn:isbn:1-931666-22-9}extptr' at 0x7fbbc7caa6b0>,\n",
       " <Element '{urn:isbn:1-931666-22-9}profiledesc' at 0x7fbbc7caa770>]"
      ]
     },
     "execution_count": 10,
     "metadata": {},
     "output_type": "execute_result"
    }
   ],
   "source": [
    "# Example of subelements (children) in the file (first 20)\n",
    "\n",
    "list(ead_root.iter())[:20]"
   ]
  },
  {
   "cell_type": "code",
   "execution_count": 11,
   "metadata": {},
   "outputs": [
    {
     "data": {
      "text/plain": [
       "'Guide to the Bob Nelkin Collection of ACC-PARC Records, 1953-2000 '"
      ]
     },
     "execution_count": 11,
     "metadata": {},
     "output_type": "execute_result"
    }
   ],
   "source": [
    "# Checking one of these - most don't have text, but 'titleproper' does\n",
    "\n",
    "list(ead_root.iter())[5].text"
   ]
  },
  {
   "cell_type": "code",
   "execution_count": 12,
   "metadata": {},
   "outputs": [
    {
     "data": {
      "text/plain": [
       "9011"
      ]
     },
     "execution_count": 12,
     "metadata": {},
     "output_type": "execute_result"
    }
   ],
   "source": [
    "# Total number of subelements\n",
    "\n",
    "len(list(ead_root.iter()))"
   ]
  },
  {
   "cell_type": "markdown",
   "metadata": {},
   "source": [
    "### `mods` folder "
   ]
  },
  {
   "cell_type": "code",
   "execution_count": 13,
   "metadata": {},
   "outputs": [
    {
     "data": {
      "text/plain": [
       "542"
      ]
     },
     "execution_count": 13,
     "metadata": {},
     "output_type": "execute_result"
    },
    {
     "data": {
      "text/plain": [
       "['pitt_MSS_1002_B004_F12_I08_MODS.xml',\n",
       " 'pitt_MSS_1002_B004_F12_I09_MODS.xml',\n",
       " 'pitt_MSS_1002_B002_F47_I01_MODS.xml',\n",
       " 'pitt_MSS_1002_B004_F38_I01_MODS.xml',\n",
       " 'pitt_MSS_1002_B003_F52_I10_MODS.xml']"
      ]
     },
     "execution_count": 13,
     "metadata": {},
     "output_type": "execute_result"
    }
   ],
   "source": [
    "# Move into mod folder\n",
    "\n",
    "os.chdir('../mods')\n",
    "len(os.listdir())\n",
    "os.listdir()[:5]"
   ]
  },
  {
   "cell_type": "code",
   "execution_count": 14,
   "metadata": {},
   "outputs": [],
   "source": [
    "# Explore one of these xml files as the names suggest they are all similar in format\n",
    "\n",
    "mods_tree = ET.parse('pitt_MSS_1002_B004_F12_I08_MODS.xml')\n",
    "mods_root = mods_tree.getroot()"
   ]
  },
  {
   "cell_type": "code",
   "execution_count": 15,
   "metadata": {},
   "outputs": [
    {
     "data": {
      "text/plain": [
       "'{http://www.loc.gov/mods/v3}mods'"
      ]
     },
     "execution_count": 15,
     "metadata": {},
     "output_type": "execute_result"
    },
    {
     "data": {
      "text/plain": [
       "{'{http://www.w3.org/2001/XMLSchema-instance}schemaLocation': 'http://www.loc.gov/mods/v3 http://www.loc.gov/standards/mods/v3/mods-3-3.xsd'}"
      ]
     },
     "execution_count": 15,
     "metadata": {},
     "output_type": "execute_result"
    }
   ],
   "source": [
    "mods_root.tag\n",
    "mods_root.attrib # This link also broken"
   ]
  },
  {
   "cell_type": "code",
   "execution_count": 16,
   "metadata": {},
   "outputs": [
    {
     "name": "stdout",
     "output_type": "stream",
     "text": [
      "{http://www.loc.gov/mods/v3}titleInfo {}\n",
      "{http://www.loc.gov/mods/v3}accessCondition {}\n",
      "{http://www.loc.gov/mods/v3}name {}\n",
      "{http://www.loc.gov/mods/v3}originInfo {}\n",
      "{http://www.loc.gov/mods/v3}abstract {}\n",
      "{http://www.loc.gov/mods/v3}identifier {'type': 'pitt'}\n",
      "{http://www.loc.gov/mods/v3}relatedItem {'type': 'host'}\n"
     ]
    }
   ],
   "source": [
    "for child in mods_root:\n",
    "    print(child.tag, child.attrib)"
   ]
  },
  {
   "cell_type": "code",
   "execution_count": 17,
   "metadata": {},
   "outputs": [
    {
     "data": {
      "text/plain": [
       "25"
      ]
     },
     "execution_count": 17,
     "metadata": {},
     "output_type": "execute_result"
    },
    {
     "data": {
      "text/plain": [
       "[<Element '{http://www.loc.gov/mods/v3}mods' at 0x7fbbc83050b0>,\n",
       " <Element '{http://www.loc.gov/mods/v3}titleInfo' at 0x7fbbc8305290>,\n",
       " <Element '{http://www.loc.gov/mods/v3}title' at 0x7fbbc83053b0>,\n",
       " <Element '{http://www.loc.gov/mods/v3}accessCondition' at 0x7fbbc83054d0>,\n",
       " <Element '{http://www.cdlib.org/inside/diglib/copyrightMD}copyright' at 0x7fbbc8305590>,\n",
       " <Element '{http://www.loc.gov/mods/v3}name' at 0x7fbbc8305650>,\n",
       " <Element '{http://www.loc.gov/mods/v3}namePart' at 0x7fbbc8305710>,\n",
       " <Element '{http://www.loc.gov/mods/v3}role' at 0x7fbbc8305830>,\n",
       " <Element '{http://www.loc.gov/mods/v3}roleTerm' at 0x7fbbc8305950>,\n",
       " <Element '{http://www.loc.gov/mods/v3}originInfo' at 0x7fbbc8305a10>,\n",
       " <Element '{http://www.loc.gov/mods/v3}dateIssued' at 0x7fbbc8305ad0>,\n",
       " <Element '{http://www.loc.gov/mods/v3}dateOther' at 0x7fbbc8305b90>,\n",
       " <Element '{http://www.loc.gov/mods/v3}abstract' at 0x7fbbc8305c50>,\n",
       " <Element '{http://www.loc.gov/mods/v3}identifier' at 0x7fbbc8305d10>,\n",
       " <Element '{http://www.loc.gov/mods/v3}relatedItem' at 0x7fbbc8305dd0>,\n",
       " <Element '{http://www.loc.gov/mods/v3}titleInfo' at 0x7fbbc8305e30>,\n",
       " <Element '{http://www.loc.gov/mods/v3}title' at 0x7fbbc8305e90>,\n",
       " <Element '{http://www.loc.gov/mods/v3}identifier' at 0x7fbbc8305f50>,\n",
       " <Element '{http://www.loc.gov/mods/v3}originInfo' at 0x7fbbc8305fb0>,\n",
       " <Element '{http://www.loc.gov/mods/v3}dateCreated' at 0x7fbbc830a0b0>,\n",
       " <Element '{http://www.loc.gov/mods/v3}note' at 0x7fbbc830a170>,\n",
       " <Element '{http://www.loc.gov/mods/v3}note' at 0x7fbbc830a1d0>,\n",
       " <Element '{http://www.loc.gov/mods/v3}note' at 0x7fbbc830a230>,\n",
       " <Element '{http://www.loc.gov/mods/v3}note' at 0x7fbbc830a290>,\n",
       " <Element '{http://www.loc.gov/mods/v3}note' at 0x7fbbc830a2f0>]"
      ]
     },
     "execution_count": 17,
     "metadata": {},
     "output_type": "execute_result"
    }
   ],
   "source": [
    "# All the subelements\n",
    "\n",
    "len(list(mods_root.iter()))\n",
    "list(mods_root.iter())"
   ]
  },
  {
   "cell_type": "code",
   "execution_count": 18,
   "metadata": {},
   "outputs": [
    {
     "data": {
      "text/plain": [
       "28"
      ]
     },
     "execution_count": 18,
     "metadata": {},
     "output_type": "execute_result"
    }
   ],
   "source": [
    "# Determining how much of the name to strip when looking at them in Python\n",
    "\n",
    "len('{http://www.loc.gov/mods/v3}')"
   ]
  },
  {
   "cell_type": "code",
   "execution_count": 19,
   "metadata": {},
   "outputs": [
    {
     "name": "stdout",
     "output_type": "stream",
     "text": [
      "mods :\n",
      " \n",
      "   \n",
      " _______ \n",
      "\n",
      "titleInfo :\n",
      " \n",
      "     \n",
      " _______ \n",
      "\n",
      "title :\n",
      " Letter from Charles Peters to Norman Taylor \n",
      " _______ \n",
      "\n",
      "accessCondition :\n",
      " \n",
      "     \n",
      " _______ \n",
      "\n",
      "/diglib/copyrightMD}copyright :\n",
      " None \n",
      " _______ \n",
      "\n",
      "name :\n",
      " \n",
      "     \n",
      " _______ \n",
      "\n",
      "namePart :\n",
      " Detre Library & Archives, Heinz History\n",
      "                            Center \n",
      " _______ \n",
      "\n",
      "role :\n",
      " \n",
      "       \n",
      " _______ \n",
      "\n",
      "roleTerm :\n",
      " depositor \n",
      " _______ \n",
      "\n",
      "originInfo :\n",
      " \n",
      "     \n",
      " _______ \n",
      "\n",
      "dateIssued :\n",
      " 1972-11-15/1972-11-15 \n",
      " _______ \n",
      "\n",
      "dateOther :\n",
      " November 15, 1972 \n",
      " _______ \n",
      "\n",
      "abstract :\n",
      " A letter from Charles Peters, executive director of ACC-PARC, to Secretary Norman Taylor expressing his support for Mr. W. and Mike Levine's demands regarding telephone access for residents of Polk State School and Hospital. \n",
      " _______ \n",
      "\n",
      "identifier :\n",
      " MSS_1002_B004_F12_I08 \n",
      " _______ \n",
      "\n",
      "relatedItem :\n",
      " \n",
      "     \n",
      " _______ \n",
      "\n",
      "titleInfo :\n",
      " \n",
      "       \n",
      " _______ \n",
      "\n",
      "title :\n",
      " Bob Nelkin Collection of ACC-PARC Records \n",
      " _______ \n",
      "\n",
      "identifier :\n",
      " MSS 1002 \n",
      " _______ \n",
      "\n",
      "originInfo :\n",
      " \n",
      "       \n",
      " _______ \n",
      "\n",
      "dateCreated :\n",
      " 1953-2000 \n",
      " _______ \n",
      "\n",
      "note :\n",
      " II. State School and Hospital (SSH) and Interim Care Committee Records 1972-1997 \n",
      " _______ \n",
      "\n",
      "note :\n",
      " 3. Polk Center c1966-1997 \n",
      " _______ \n",
      "\n",
      "note :\n",
      " box 4, Folder 12, Item 8 \n",
      " _______ \n",
      "\n",
      "note :\n",
      " Heinz History Center \n",
      " _______ \n",
      "\n",
      "note :\n",
      " Bob Nelkin Collection of ACC-PARC Records, 1953-2000, MSS 1002 , Detre Library and Archives, Senator John Heinz History Center \n",
      " _______ \n",
      "\n"
     ]
    }
   ],
   "source": [
    "# Let's look at format of each of these (my own formatting added for clarity)\n",
    "\n",
    "for elem in mods_tree.iter():\n",
    "    print(elem.tag[28:],':\\n',elem.text,'\\n _______ \\n')"
   ]
  },
  {
   "cell_type": "markdown",
   "metadata": {},
   "source": [
    "### `ocr_new` folder\n",
    "\n",
    "The original ocr fold contained many blank files so I used the [Optical Character Recognition (OCR) station](https://www.library.pitt.edu/digital-scholarship-commons) at Pitt which uses ABBYY FineReader to convert images to text. These new text files are used throughout this extension layer."
   ]
  },
  {
   "cell_type": "code",
   "execution_count": 20,
   "metadata": {},
   "outputs": [
    {
     "data": {
      "text/plain": [
       "537"
      ]
     },
     "execution_count": 20,
     "metadata": {},
     "output_type": "execute_result"
    },
    {
     "data": {
      "text/plain": [
       "['pitt_MSS_1002_B004_F17_I03_PDF.txt',\n",
       " 'pitt_MSS_1002_B001_F65_I12_PDF.txt',\n",
       " 'pitt_MSS_1002_B004_F17_I13_PDF.txt',\n",
       " 'pitt_MSS_1002_B001_F65_I02_PDF.txt',\n",
       " 'pitt_MSS_1002_B001_F76_I01_PDF.txt']"
      ]
     },
     "execution_count": 20,
     "metadata": {},
     "output_type": "execute_result"
    }
   ],
   "source": [
    "# Move into ocr_new folder\n",
    "\n",
    "os.chdir('../ocr_new')\n",
    "len(os.listdir())\n",
    "ocr_list = os.listdir()\n",
    "ocr_list[:5]"
   ]
  },
  {
   "cell_type": "markdown",
   "metadata": {},
   "source": [
    "There are 537 ocr files, but need to find out how many total text files to see what percentage have ocr."
   ]
  },
  {
   "cell_type": "code",
   "execution_count": 21,
   "metadata": {},
   "outputs": [
    {
     "name": "stdout",
     "output_type": "stream",
     "text": [
      "﻿\n",
      "i I\n",
      "A27 Vermont Avenue\n",
      "Erie, Pennsylvania 16505\n",
      "April 2A, 1973\n",
      "\n",
      "Ms. Helen Wohlgemuth Secretary of Welfare Harrisburg, Pennsylvania\n",
      "Dear Ms. Wohlgemuth,\n",
      "I am a Special Education teacher and h-ave a severely living at Polk State School. Therefore, I feel more than express my great distress caused by your recent firing of superintendent of Polk State School.\n",
      "retarded daughter\n",
      "Qualified to\n",
      "Dr. JamES McClelland,\n",
      "/\n",
      "\n",
      "\n",
      "\n",
      "Your ahrupt action indicates to me that you have very little intimate knowledge of severely and profoundly retarded children and adults. There are individuals who require close supervision and partial confinement in a playpen-like enclosure for their safety and the safety of others. This is not cruel and inhumane, it is sensible action taken for safety. Some of the children and adults do reouire rather heavy medication at various times because of severely aggressive hehavior.\n",
      "It is my opinion, and the opinion of various professional persons that I have discussed this matter with, that partial confinement used in conjunction with some medication is far preferable, more humane, and more sensible course of action. This gives aides and teachers the opportunity to work with and try to help the residents.\n",
      "\n",
      "i $ t\n",
      "Play pens are used by many oarents of young children to keeo them safe and not isolated. Many residents of Polk are still very young children though they are physically mature.\n",
      "My daughter is and has been receiving excellent care at Polk. Dr. McClelland is responsible for a fine program of high Quality care for all the patients in his care. I do not understand how you can possibly charge him with inhumane treatment. He could not Dossiblv have held his position at’ Polk as administrator for so long a time or be so highly respected by his employees, parents of patients, professionals is his field,-and many other people^ if your charges were true.\n",
      "\n",
      "I believe that you h my sincere wish that you instate Dr. McClelland at gram which is progressive and best interests of its\n",
      "ave made a very serious error in judgement. It is reconsider this extremely serious decision and re-Polk so that he can continue to administer a pro-\n",
      ", thoughtful, residents.\n",
      "and has great concern for the welfare\n"
     ]
    }
   ],
   "source": [
    "# Check one file as an example\n",
    "\n",
    "f = open(\"pitt_MSS_1002_B004_F17_I13_PDF.txt\",\"r\")\n",
    "ocr = f.read()\n",
    "print(ocr)"
   ]
  },
  {
   "cell_type": "markdown",
   "metadata": {},
   "source": [
    "Even with the updated OCR, the quality of the original scans has led to numerous OCR issues resulting in spelling mistakes, odd characters, and spacing issues."
   ]
  },
  {
   "cell_type": "markdown",
   "metadata": {},
   "source": [
    "### `rel-ext` folder"
   ]
  },
  {
   "cell_type": "code",
   "execution_count": 22,
   "metadata": {},
   "outputs": [
    {
     "data": {
      "text/plain": [
       "542"
      ]
     },
     "execution_count": 22,
     "metadata": {},
     "output_type": "execute_result"
    },
    {
     "data": {
      "text/plain": [
       "['pitt_MSS_1002_B004_F20_I14_RELS-EXT.xml',\n",
       " 'pitt_MSS_1002_B003_F18_I13_RELS-EXT.xml',\n",
       " 'pitt_MSS_1002_B004_F20_I13_RELS-EXT.xml',\n",
       " 'pitt_MSS_1002_B004_F18_I39_RELS-EXT.xml',\n",
       " 'pitt_MSS_1002_B001_F52_I02_RELS-EXT.xml']"
      ]
     },
     "execution_count": 22,
     "metadata": {},
     "output_type": "execute_result"
    }
   ],
   "source": [
    "# Move into rels-ext folder\n",
    "\n",
    "os.chdir('../rels-ext')\n",
    "len(os.listdir())\n",
    "rels_ext_list = os.listdir()\n",
    "rels_ext_list[:5]"
   ]
  },
  {
   "cell_type": "markdown",
   "metadata": {},
   "source": [
    "There are 5 more files in this folder than OCR files (likely due to not all objects being text files)."
   ]
  },
  {
   "cell_type": "code",
   "execution_count": 23,
   "metadata": {},
   "outputs": [
    {
     "data": {
      "text/plain": [
       "'pitt_MSS_1002_B004_F17_I03_PDF.txt'"
      ]
     },
     "execution_count": 23,
     "metadata": {},
     "output_type": "execute_result"
    },
    {
     "data": {
      "text/plain": [
       "'pitt_MSS_1002_B004_F17_I03'"
      ]
     },
     "execution_count": 23,
     "metadata": {},
     "output_type": "execute_result"
    }
   ],
   "source": [
    "# Standardize list names for easy list comprehension\n",
    "\n",
    "ocr_list[0]\n",
    "ocr_list[0][:-8]\n",
    "ocr_list_temp = [x[:-8] for x in ocr_list]"
   ]
  },
  {
   "cell_type": "code",
   "execution_count": 24,
   "metadata": {},
   "outputs": [
    {
     "data": {
      "text/plain": [
       "['pitt_MSS_1002_B004_F56_I03_RELS-EXT.xml',\n",
       " 'pitt_MSS_1002_B004_F56_I04_RELS-EXT.xml',\n",
       " 'pitt_MSS_1002_B004_F56_I05_RELS-EXT.xml',\n",
       " 'pitt_MSS_1002_B004_F56_I02_RELS-EXT.xml',\n",
       " 'pitt_US-QQS-MSS1002_RELS-EXT.xml',\n",
       " 'pitt_MSS_1002_B004_F56_I01_RELS-EXT.xml']"
      ]
     },
     "execution_count": 24,
     "metadata": {},
     "output_type": "execute_result"
    }
   ],
   "source": [
    "# The files with no equivalent in OCR folder\n",
    "\n",
    "[x for x in rels_ext_list if x[:-13] not in ocr_list_temp]"
   ]
  },
  {
   "cell_type": "code",
   "execution_count": 25,
   "metadata": {},
   "outputs": [
    {
     "name": "stdout",
     "output_type": "stream",
     "text": [
      "\n",
      "<rdf:RDF xmlns:fedora=\"info:fedora/fedora-system:def/relations-external#\" xmlns:fedora-model=\"info:fedora/fedora-system:def/model#\" xmlns:islandora=\"http://islandora.ca/ontology/relsext#\" xmlns:rdf=\"http://www.w3.org/1999/02/22-rdf-syntax-ns#\">\n",
      "  <rdf:Description rdf:about=\"info:fedora/pitt:US-QQS-MSS1002\">\n",
      "    <fedora-model:hasModel rdf:resource=\"info:fedora/islandora:findingAidCModel\"></fedora-model:hasModel>\n",
      "    <isMemberOfSite xmlns=\"http://digital.library.pitt.edu/ontology/relations#\" rdf:resource=\"info:fedora/pitt:site.historic-pittsburgh\"></isMemberOfSite>\n",
      "    <fedora:isMemberOfCollection rdf:resource=\"info:fedora/pitt:collection.341\"></fedora:isMemberOfCollection>\n",
      "  </rdf:Description>\n",
      "</rdf:RDF>\n",
      "\n"
     ]
    }
   ],
   "source": [
    "# Check the one different file name\n",
    "\n",
    "f = open('pitt_US-QQS-MSS1002_RELS-EXT.xml',\"r\")\n",
    "rel_ext1 = f.read()\n",
    "print(rel_ext1)"
   ]
  },
  {
   "cell_type": "markdown",
   "metadata": {},
   "source": [
    "Global information about fedora - not a data object file."
   ]
  },
  {
   "cell_type": "code",
   "execution_count": 26,
   "metadata": {},
   "outputs": [],
   "source": [
    "# Explore one of the other xml files which correspond to the OCR files\n",
    "\n",
    "rel_ext_tree = ET.parse('pitt_MSS_1002_B004_F20_I13_RELS-EXT.xml')\n",
    "rel_ext_root = rel_ext_tree.getroot()"
   ]
  },
  {
   "cell_type": "code",
   "execution_count": 27,
   "metadata": {},
   "outputs": [
    {
     "data": {
      "text/plain": [
       "'{http://www.w3.org/1999/02/22-rdf-syntax-ns#}RDF'"
      ]
     },
     "execution_count": 27,
     "metadata": {},
     "output_type": "execute_result"
    },
    {
     "data": {
      "text/plain": [
       "{}"
      ]
     },
     "execution_count": 27,
     "metadata": {},
     "output_type": "execute_result"
    }
   ],
   "source": [
    "rel_ext_root.tag\n",
    "rel_ext_root.attrib"
   ]
  },
  {
   "cell_type": "code",
   "execution_count": 28,
   "metadata": {},
   "outputs": [
    {
     "name": "stdout",
     "output_type": "stream",
     "text": [
      "{http://www.w3.org/1999/02/22-rdf-syntax-ns#}Description {'{http://www.w3.org/1999/02/22-rdf-syntax-ns#}about': 'info:fedora/pitt:MSS_1002_B004_F20_I13'}\n"
     ]
    }
   ],
   "source": [
    "for child in rel_ext_root:\n",
    "    print(child.tag, child.attrib)"
   ]
  },
  {
   "cell_type": "code",
   "execution_count": 29,
   "metadata": {},
   "outputs": [
    {
     "data": {
      "text/plain": [
       "8"
      ]
     },
     "execution_count": 29,
     "metadata": {},
     "output_type": "execute_result"
    },
    {
     "data": {
      "text/plain": [
       "[<Element '{http://www.w3.org/1999/02/22-rdf-syntax-ns#}RDF' at 0x7fbbc83464d0>,\n",
       " <Element '{http://www.w3.org/1999/02/22-rdf-syntax-ns#}Description' at 0x7fbbc83466b0>,\n",
       " <Element '{http://digital.library.pitt.edu/ontology/relations#}isMemberOfSite' at 0x7fbbc8346830>,\n",
       " <Element '{info:fedora/fedora-system:def/model#}hasModel' at 0x7fbbc8346950>,\n",
       " <Element '{http://digital.library.pitt.edu/ontology/relations#}isMemberOfSite' at 0x7fbbc8346a10>,\n",
       " <Element '{info:fedora/fedora-system:def/relations-external#}isMemberOfCollection' at 0x7fbbc8346a70>,\n",
       " <Element '{http://islandora.ca/ontology/relsext#}deferDerivatives' at 0x7fbbc8346b30>,\n",
       " <Element '{info:fedora/fedora-system:def/relations-external#}isMemberOf' at 0x7fbbc8346bf0>]"
      ]
     },
     "execution_count": 29,
     "metadata": {},
     "output_type": "execute_result"
    }
   ],
   "source": [
    "# All the subelements\n",
    "\n",
    "len(list(rel_ext_root.iter()))\n",
    "list(rel_ext_root.iter())"
   ]
  },
  {
   "cell_type": "code",
   "execution_count": 30,
   "metadata": {},
   "outputs": [
    {
     "name": "stdout",
     "output_type": "stream",
     "text": [
      "{http://www.w3.org/1999/02/22-rdf-syntax-ns#}RDF :\n",
      " \n",
      "   \n",
      " _______ \n",
      "\n",
      "{http://www.w3.org/1999/02/22-rdf-syntax-ns#}Description :\n",
      " \n",
      "     \n",
      " _______ \n",
      "\n",
      "{http://digital.library.pitt.edu/ontology/relations#}isMemberOfSite :\n",
      " None \n",
      " _______ \n",
      "\n",
      "{info:fedora/fedora-system:def/model#}hasModel :\n",
      " None \n",
      " _______ \n",
      "\n",
      "{http://digital.library.pitt.edu/ontology/relations#}isMemberOfSite :\n",
      " None \n",
      " _______ \n",
      "\n",
      "{info:fedora/fedora-system:def/relations-external#}isMemberOfCollection :\n",
      " None \n",
      " _______ \n",
      "\n",
      "{http://islandora.ca/ontology/relsext#}deferDerivatives :\n",
      " true \n",
      " _______ \n",
      "\n",
      "{info:fedora/fedora-system:def/relations-external#}isMemberOf :\n",
      " None \n",
      " _______ \n",
      "\n"
     ]
    }
   ],
   "source": [
    "# Let's look at format of each of these (my own formatting added for clarity)\n",
    "\n",
    "for elem in rel_ext_tree.iter():\n",
    "    print(elem.tag,':\\n',elem.text,'\\n _______ \\n')"
   ]
  },
  {
   "cell_type": "markdown",
   "metadata": {},
   "source": [
    "There appears to be minimal metadata for each text"
   ]
  },
  {
   "cell_type": "markdown",
   "metadata": {},
   "source": [
    "### `source-data` summary\n",
    "\n",
    "- `ead` folder: contains one large xml file with extensive metadata about the collection\n",
    "- `ocr` folder: contains 537 text files. The quality of OCR appears to be variable, leading to spelling issues.\n",
    "- `mods` and `rel-ext` folders: contain 542 .xml files with metadata which correspond to the OCR text files, plus one for the 'Finding aid content model'. These figures are in line with the description [online](https://historicpittsburgh.org/collection/nelkin-acc-parc-records)."
   ]
  },
  {
   "cell_type": "markdown",
   "metadata": {},
   "source": [
    "## 3. `base-layers` folder"
   ]
  },
  {
   "cell_type": "markdown",
   "metadata": {},
   "source": [
    "### Folder contents"
   ]
  },
  {
   "cell_type": "code",
   "execution_count": 31,
   "metadata": {},
   "outputs": [
    {
     "data": {
      "text/plain": [
       "['bob-nelkin-collection_collection-base-layer.csv',\n",
       " 'bob-nelkin-collection_item-base-layer_archival.csv']"
      ]
     },
     "execution_count": 31,
     "metadata": {},
     "output_type": "execute_result"
    }
   ],
   "source": [
    "# Move into source-data folder\n",
    "\n",
    "os.chdir('../../../base-layers/bob-nelkin-collection')\n",
    "os.listdir()"
   ]
  },
  {
   "cell_type": "markdown",
   "metadata": {},
   "source": [
    "### `collection-base-layer.csv`"
   ]
  },
  {
   "cell_type": "code",
   "execution_count": 32,
   "metadata": {},
   "outputs": [
    {
     "data": {
      "text/html": [
       "<div>\n",
       "<style scoped>\n",
       "    .dataframe tbody tr th:only-of-type {\n",
       "        vertical-align: middle;\n",
       "    }\n",
       "\n",
       "    .dataframe tbody tr th {\n",
       "        vertical-align: top;\n",
       "    }\n",
       "\n",
       "    .dataframe thead th {\n",
       "        text-align: right;\n",
       "    }\n",
       "</style>\n",
       "<table border=\"1\" class=\"dataframe\">\n",
       "  <thead>\n",
       "    <tr style=\"text-align: right;\">\n",
       "      <th></th>\n",
       "      <th>finding_aid_id</th>\n",
       "      <th>finding_aid_title</th>\n",
       "      <th>finding_aid_creator</th>\n",
       "      <th>finding_aid_creation_date</th>\n",
       "      <th>finding_aid_publisher</th>\n",
       "      <th>finding_aid_pub_date</th>\n",
       "      <th>acquisition_number</th>\n",
       "      <th>collection_title</th>\n",
       "      <th>collection_creator</th>\n",
       "      <th>collection_language</th>\n",
       "      <th>collection_extent</th>\n",
       "      <th>collection_temp_coverage</th>\n",
       "      <th>collection_scope_content</th>\n",
       "      <th>biography_history</th>\n",
       "      <th>collection_abstract</th>\n",
       "      <th>subject_headings</th>\n",
       "      <th>related_material</th>\n",
       "      <th>repository</th>\n",
       "      <th>preferred_citation</th>\n",
       "      <th>conditions_governing_use</th>\n",
       "      <th>collection_id</th>\n",
       "    </tr>\n",
       "  </thead>\n",
       "  <tbody>\n",
       "    <tr>\n",
       "      <th>0</th>\n",
       "      <td>US-QQS-MSS1002</td>\n",
       "      <td>Guide to the Bob Nelkin Collection of ACC-PARC...</td>\n",
       "      <td>The guide to this collection was written by Si...</td>\n",
       "      <td>2020-08-11 17:14:30 -0400</td>\n",
       "      <td>Heinz History Center</td>\n",
       "      <td>NaN</td>\n",
       "      <td>MSS 1002</td>\n",
       "      <td>Bob Nelkin Collection of ACC-PARC Records</td>\n",
       "      <td>NaN</td>\n",
       "      <td>NaN</td>\n",
       "      <td>4.5 linear feet|||(5 boxes + shelf)</td>\n",
       "      <td>1953-2000</td>\n",
       "      <td>The Bob Nelkin Collection of ACC-PARC Records ...</td>\n",
       "      <td>First formed in 1951, the Allegheny County Cha...</td>\n",
       "      <td>First formed in 1951, the Allegheny County Cha...</td>\n",
       "      <td>Social service--Pennsylvania--Pittsburgh|||Soc...</td>\n",
       "      <td>Pennsylvania Association for Retarded Children...</td>\n",
       "      <td>Heinz History Center</td>\n",
       "      <td>Bob Nelkin Collection of ACC-PARC Records, 195...</td>\n",
       "      <td>Property rights reside with the Senator John H...</td>\n",
       "      <td>collection.341</td>\n",
       "    </tr>\n",
       "  </tbody>\n",
       "</table>\n",
       "</div>"
      ],
      "text/plain": [
       "   finding_aid_id                                  finding_aid_title  \\\n",
       "0  US-QQS-MSS1002  Guide to the Bob Nelkin Collection of ACC-PARC...   \n",
       "\n",
       "                                 finding_aid_creator  \\\n",
       "0  The guide to this collection was written by Si...   \n",
       "\n",
       "   finding_aid_creation_date finding_aid_publisher  finding_aid_pub_date  \\\n",
       "0  2020-08-11 17:14:30 -0400  Heinz History Center                   NaN   \n",
       "\n",
       "  acquisition_number                           collection_title  \\\n",
       "0           MSS 1002  Bob Nelkin Collection of ACC-PARC Records   \n",
       "\n",
       "   collection_creator  collection_language  \\\n",
       "0                 NaN                  NaN   \n",
       "\n",
       "                     collection_extent collection_temp_coverage  \\\n",
       "0  4.5 linear feet|||(5 boxes + shelf)                1953-2000   \n",
       "\n",
       "                            collection_scope_content  \\\n",
       "0  The Bob Nelkin Collection of ACC-PARC Records ...   \n",
       "\n",
       "                                   biography_history  \\\n",
       "0  First formed in 1951, the Allegheny County Cha...   \n",
       "\n",
       "                                 collection_abstract  \\\n",
       "0  First formed in 1951, the Allegheny County Cha...   \n",
       "\n",
       "                                    subject_headings  \\\n",
       "0  Social service--Pennsylvania--Pittsburgh|||Soc...   \n",
       "\n",
       "                                    related_material            repository  \\\n",
       "0  Pennsylvania Association for Retarded Children...  Heinz History Center   \n",
       "\n",
       "                                  preferred_citation  \\\n",
       "0  Bob Nelkin Collection of ACC-PARC Records, 195...   \n",
       "\n",
       "                            conditions_governing_use   collection_id  \n",
       "0  Property rights reside with the Senator John H...  collection.341  "
      ]
     },
     "execution_count": 32,
     "metadata": {},
     "output_type": "execute_result"
    }
   ],
   "source": [
    "# Read in base_layer.csv\n",
    "\n",
    "base_df = pd.read_csv(\"bob-nelkin-collection_collection-base-layer.csv\")\n",
    "base_df.head()"
   ]
  },
  {
   "cell_type": "code",
   "execution_count": 33,
   "metadata": {},
   "outputs": [
    {
     "name": "stdout",
     "output_type": "stream",
     "text": [
      "<class 'pandas.core.frame.DataFrame'>\n",
      "RangeIndex: 1 entries, 0 to 0\n",
      "Data columns (total 21 columns):\n",
      " #   Column                     Non-Null Count  Dtype  \n",
      "---  ------                     --------------  -----  \n",
      " 0   finding_aid_id             1 non-null      object \n",
      " 1   finding_aid_title          1 non-null      object \n",
      " 2   finding_aid_creator        1 non-null      object \n",
      " 3   finding_aid_creation_date  1 non-null      object \n",
      " 4   finding_aid_publisher      1 non-null      object \n",
      " 5   finding_aid_pub_date       0 non-null      float64\n",
      " 6   acquisition_number         1 non-null      object \n",
      " 7   collection_title           1 non-null      object \n",
      " 8   collection_creator         0 non-null      float64\n",
      " 9   collection_language        0 non-null      float64\n",
      " 10  collection_extent          1 non-null      object \n",
      " 11  collection_temp_coverage   1 non-null      object \n",
      " 12  collection_scope_content   1 non-null      object \n",
      " 13  biography_history          1 non-null      object \n",
      " 14  collection_abstract        1 non-null      object \n",
      " 15  subject_headings           1 non-null      object \n",
      " 16  related_material           1 non-null      object \n",
      " 17  repository                 1 non-null      object \n",
      " 18  preferred_citation         1 non-null      object \n",
      " 19  conditions_governing_use   1 non-null      object \n",
      " 20  collection_id              1 non-null      object \n",
      "dtypes: float64(3), object(18)\n",
      "memory usage: 296.0+ bytes\n"
     ]
    }
   ],
   "source": [
    "base_df.info()"
   ]
  },
  {
   "cell_type": "markdown",
   "metadata": {},
   "source": [
    "Only 1 row , 3 null values"
   ]
  },
  {
   "cell_type": "markdown",
   "metadata": {},
   "source": [
    "### `base-layer_archival.csv`"
   ]
  },
  {
   "cell_type": "code",
   "execution_count": 34,
   "metadata": {},
   "outputs": [
    {
     "data": {
      "text/html": [
       "<div>\n",
       "<style scoped>\n",
       "    .dataframe tbody tr th:only-of-type {\n",
       "        vertical-align: middle;\n",
       "    }\n",
       "\n",
       "    .dataframe tbody tr th {\n",
       "        vertical-align: top;\n",
       "    }\n",
       "\n",
       "    .dataframe thead th {\n",
       "        text-align: right;\n",
       "    }\n",
       "</style>\n",
       "<table border=\"1\" class=\"dataframe\">\n",
       "  <thead>\n",
       "    <tr style=\"text-align: right;\">\n",
       "      <th></th>\n",
       "      <th>id</th>\n",
       "      <th>title</th>\n",
       "      <th>creator</th>\n",
       "      <th>contributor</th>\n",
       "      <th>creation_date</th>\n",
       "      <th>sort_date</th>\n",
       "      <th>display_date</th>\n",
       "      <th>language</th>\n",
       "      <th>type_of_resource</th>\n",
       "      <th>format</th>\n",
       "      <th>extent</th>\n",
       "      <th>genre</th>\n",
       "      <th>abstract</th>\n",
       "      <th>subject</th>\n",
       "      <th>temporal_coverage</th>\n",
       "      <th>geographic_coverage</th>\n",
       "      <th>host</th>\n",
       "      <th>series</th>\n",
       "      <th>container</th>\n",
       "      <th>owner</th>\n",
       "      <th>depositor</th>\n",
       "      <th>collection_id</th>\n",
       "    </tr>\n",
       "  </thead>\n",
       "  <tbody>\n",
       "    <tr>\n",
       "      <th>0</th>\n",
       "      <td>MSS_1002_B001_F11_I01</td>\n",
       "      <td>Recent Litigation Memo</td>\n",
       "      <td>NaN</td>\n",
       "      <td>NaN</td>\n",
       "      <td>NaN</td>\n",
       "      <td>NaN</td>\n",
       "      <td>July 11, 1975</td>\n",
       "      <td>NaN</td>\n",
       "      <td>NaN</td>\n",
       "      <td>NaN</td>\n",
       "      <td>NaN</td>\n",
       "      <td>NaN</td>\n",
       "      <td>A PARC internal memo that summarizes recent li...</td>\n",
       "      <td>NaN</td>\n",
       "      <td>NaN</td>\n",
       "      <td>NaN</td>\n",
       "      <td>Bob Nelkin Collection of ACC-PARC Records</td>\n",
       "      <td>I. Administrative Records 1953-1983</td>\n",
       "      <td>box 1, folder 11, Item 1</td>\n",
       "      <td>Heinz History Center</td>\n",
       "      <td>Detre Library &amp; Archives, Heinz History\\n     ...</td>\n",
       "      <td>collection.341</td>\n",
       "    </tr>\n",
       "    <tr>\n",
       "      <th>1</th>\n",
       "      <td>MSS_1002_B001_F12_I01</td>\n",
       "      <td>Letter from Peter Polloni to Bob Nelkin</td>\n",
       "      <td>NaN</td>\n",
       "      <td>NaN</td>\n",
       "      <td>NaN</td>\n",
       "      <td>NaN</td>\n",
       "      <td>March 11, 1975</td>\n",
       "      <td>NaN</td>\n",
       "      <td>NaN</td>\n",
       "      <td>NaN</td>\n",
       "      <td>NaN</td>\n",
       "      <td>NaN</td>\n",
       "      <td>A letter from Peter Polloni, executive directo...</td>\n",
       "      <td>NaN</td>\n",
       "      <td>NaN</td>\n",
       "      <td>NaN</td>\n",
       "      <td>Bob Nelkin Collection of ACC-PARC Records</td>\n",
       "      <td>I. Administrative Records 1953-1983</td>\n",
       "      <td>box 1, folder 12, Item 1</td>\n",
       "      <td>Heinz History Center</td>\n",
       "      <td>Detre Library &amp; Archives, Heinz History\\n     ...</td>\n",
       "      <td>collection.341</td>\n",
       "    </tr>\n",
       "    <tr>\n",
       "      <th>2</th>\n",
       "      <td>MSS_1002_B001_F13_I01</td>\n",
       "      <td>Letter to Frank Beal from Families and Friends...</td>\n",
       "      <td>NaN</td>\n",
       "      <td>NaN</td>\n",
       "      <td>NaN</td>\n",
       "      <td>NaN</td>\n",
       "      <td>August 19, 1976</td>\n",
       "      <td>NaN</td>\n",
       "      <td>NaN</td>\n",
       "      <td>NaN</td>\n",
       "      <td>NaN</td>\n",
       "      <td>NaN</td>\n",
       "      <td>A letter from Families and Friends of Southwes...</td>\n",
       "      <td>NaN</td>\n",
       "      <td>NaN</td>\n",
       "      <td>NaN</td>\n",
       "      <td>Bob Nelkin Collection of ACC-PARC Records</td>\n",
       "      <td>I. Administrative Records 1953-1983</td>\n",
       "      <td>box 1, folder 13, Item 1</td>\n",
       "      <td>Heinz History Center</td>\n",
       "      <td>Detre Library &amp; Archives, Heinz History\\n     ...</td>\n",
       "      <td>collection.341</td>\n",
       "    </tr>\n",
       "    <tr>\n",
       "      <th>3</th>\n",
       "      <td>MSS_1002_B001_F13_I02</td>\n",
       "      <td>Letter from families of patients at Southwest ...</td>\n",
       "      <td>NaN</td>\n",
       "      <td>NaN</td>\n",
       "      <td>NaN</td>\n",
       "      <td>NaN</td>\n",
       "      <td>July 27, 1976</td>\n",
       "      <td>NaN</td>\n",
       "      <td>NaN</td>\n",
       "      <td>NaN</td>\n",
       "      <td>NaN</td>\n",
       "      <td>NaN</td>\n",
       "      <td>A letter requesting Bob Nelkin's advice on adv...</td>\n",
       "      <td>NaN</td>\n",
       "      <td>NaN</td>\n",
       "      <td>NaN</td>\n",
       "      <td>Bob Nelkin Collection of ACC-PARC Records</td>\n",
       "      <td>I. Administrative Records 1953-1983</td>\n",
       "      <td>box 1, folder 13, Item 2</td>\n",
       "      <td>Heinz History Center</td>\n",
       "      <td>Detre Library &amp; Archives, Heinz History\\n     ...</td>\n",
       "      <td>collection.341</td>\n",
       "    </tr>\n",
       "    <tr>\n",
       "      <th>4</th>\n",
       "      <td>MSS_1002_B001_F16_I01</td>\n",
       "      <td>ACC-PARC Recent Benefits to Families Memo</td>\n",
       "      <td>NaN</td>\n",
       "      <td>NaN</td>\n",
       "      <td>NaN</td>\n",
       "      <td>NaN</td>\n",
       "      <td>March 28, 1977</td>\n",
       "      <td>NaN</td>\n",
       "      <td>NaN</td>\n",
       "      <td>NaN</td>\n",
       "      <td>NaN</td>\n",
       "      <td>NaN</td>\n",
       "      <td>Correspondence from Bob Nelkin to Joan Murdoch...</td>\n",
       "      <td>NaN</td>\n",
       "      <td>NaN</td>\n",
       "      <td>NaN</td>\n",
       "      <td>Bob Nelkin Collection of ACC-PARC Records</td>\n",
       "      <td>I. Administrative Records 1953-1983</td>\n",
       "      <td>box 1, folder 16, Item 1</td>\n",
       "      <td>Heinz History Center</td>\n",
       "      <td>Detre Library &amp; Archives, Heinz History\\n     ...</td>\n",
       "      <td>collection.341</td>\n",
       "    </tr>\n",
       "  </tbody>\n",
       "</table>\n",
       "</div>"
      ],
      "text/plain": [
       "                      id                                              title  \\\n",
       "0  MSS_1002_B001_F11_I01                             Recent Litigation Memo   \n",
       "1  MSS_1002_B001_F12_I01            Letter from Peter Polloni to Bob Nelkin   \n",
       "2  MSS_1002_B001_F13_I01  Letter to Frank Beal from Families and Friends...   \n",
       "3  MSS_1002_B001_F13_I02  Letter from families of patients at Southwest ...   \n",
       "4  MSS_1002_B001_F16_I01          ACC-PARC Recent Benefits to Families Memo   \n",
       "\n",
       "  creator  contributor  creation_date  sort_date     display_date language  \\\n",
       "0     NaN          NaN            NaN        NaN    July 11, 1975      NaN   \n",
       "1     NaN          NaN            NaN        NaN   March 11, 1975      NaN   \n",
       "2     NaN          NaN            NaN        NaN  August 19, 1976      NaN   \n",
       "3     NaN          NaN            NaN        NaN    July 27, 1976      NaN   \n",
       "4     NaN          NaN            NaN        NaN   March 28, 1977      NaN   \n",
       "\n",
       "  type_of_resource format extent  genre  \\\n",
       "0              NaN    NaN    NaN    NaN   \n",
       "1              NaN    NaN    NaN    NaN   \n",
       "2              NaN    NaN    NaN    NaN   \n",
       "3              NaN    NaN    NaN    NaN   \n",
       "4              NaN    NaN    NaN    NaN   \n",
       "\n",
       "                                            abstract subject  \\\n",
       "0  A PARC internal memo that summarizes recent li...     NaN   \n",
       "1  A letter from Peter Polloni, executive directo...     NaN   \n",
       "2  A letter from Families and Friends of Southwes...     NaN   \n",
       "3  A letter requesting Bob Nelkin's advice on adv...     NaN   \n",
       "4  Correspondence from Bob Nelkin to Joan Murdoch...     NaN   \n",
       "\n",
       "   temporal_coverage geographic_coverage  \\\n",
       "0                NaN                 NaN   \n",
       "1                NaN                 NaN   \n",
       "2                NaN                 NaN   \n",
       "3                NaN                 NaN   \n",
       "4                NaN                 NaN   \n",
       "\n",
       "                                        host  \\\n",
       "0  Bob Nelkin Collection of ACC-PARC Records   \n",
       "1  Bob Nelkin Collection of ACC-PARC Records   \n",
       "2  Bob Nelkin Collection of ACC-PARC Records   \n",
       "3  Bob Nelkin Collection of ACC-PARC Records   \n",
       "4  Bob Nelkin Collection of ACC-PARC Records   \n",
       "\n",
       "                                series                 container  \\\n",
       "0  I. Administrative Records 1953-1983  box 1, folder 11, Item 1   \n",
       "1  I. Administrative Records 1953-1983  box 1, folder 12, Item 1   \n",
       "2  I. Administrative Records 1953-1983  box 1, folder 13, Item 1   \n",
       "3  I. Administrative Records 1953-1983  box 1, folder 13, Item 2   \n",
       "4  I. Administrative Records 1953-1983  box 1, folder 16, Item 1   \n",
       "\n",
       "                  owner                                          depositor  \\\n",
       "0  Heinz History Center  Detre Library & Archives, Heinz History\\n     ...   \n",
       "1  Heinz History Center  Detre Library & Archives, Heinz History\\n     ...   \n",
       "2  Heinz History Center  Detre Library & Archives, Heinz History\\n     ...   \n",
       "3  Heinz History Center  Detre Library & Archives, Heinz History\\n     ...   \n",
       "4  Heinz History Center  Detre Library & Archives, Heinz History\\n     ...   \n",
       "\n",
       "    collection_id  \n",
       "0  collection.341  \n",
       "1  collection.341  \n",
       "2  collection.341  \n",
       "3  collection.341  \n",
       "4  collection.341  "
      ]
     },
     "execution_count": 34,
     "metadata": {},
     "output_type": "execute_result"
    }
   ],
   "source": [
    "# Read in base_layer.csv\n",
    "\n",
    "archive_df = pd.read_csv('bob-nelkin-collection_item-base-layer_archival.csv')\n",
    "archive_df.head()"
   ]
  },
  {
   "cell_type": "code",
   "execution_count": 35,
   "metadata": {},
   "outputs": [
    {
     "name": "stdout",
     "output_type": "stream",
     "text": [
      "<class 'pandas.core.frame.DataFrame'>\n",
      "RangeIndex: 542 entries, 0 to 541\n",
      "Data columns (total 22 columns):\n",
      " #   Column               Non-Null Count  Dtype  \n",
      "---  ------               --------------  -----  \n",
      " 0   id                   542 non-null    object \n",
      " 1   title                542 non-null    object \n",
      " 2   creator              1 non-null      object \n",
      " 3   contributor          0 non-null      float64\n",
      " 4   creation_date        0 non-null      float64\n",
      " 5   sort_date            0 non-null      float64\n",
      " 6   display_date         541 non-null    object \n",
      " 7   language             1 non-null      object \n",
      " 8   type_of_resource     1 non-null      object \n",
      " 9   format               1 non-null      object \n",
      " 10  extent               1 non-null      object \n",
      " 11  genre                0 non-null      float64\n",
      " 12  abstract             540 non-null    object \n",
      " 13  subject              1 non-null      object \n",
      " 14  temporal_coverage    0 non-null      float64\n",
      " 15  geographic_coverage  1 non-null      object \n",
      " 16  host                 541 non-null    object \n",
      " 17  series               541 non-null    object \n",
      " 18  container            541 non-null    object \n",
      " 19  owner                541 non-null    object \n",
      " 20  depositor            542 non-null    object \n",
      " 21  collection_id        542 non-null    object \n",
      "dtypes: float64(5), object(17)\n",
      "memory usage: 93.3+ KB\n"
     ]
    }
   ],
   "source": [
    "archive_df.info()"
   ]
  },
  {
   "cell_type": "markdown",
   "metadata": {},
   "source": [
    "- 1 row for each text + the finding aid\n",
    "- many null/near null columns\n",
    "- 1 missing abstract"
   ]
  },
  {
   "cell_type": "markdown",
   "metadata": {},
   "source": [
    "[Back to top](#Bob-Nelkin-Collection---Exploratory-Data-Analysis-(EDA))"
   ]
  }
 ],
 "metadata": {
  "kernelspec": {
   "display_name": "Python 3",
   "language": "python",
   "name": "python3"
  },
  "language_info": {
   "codemirror_mode": {
    "name": "ipython",
    "version": 3
   },
   "file_extension": ".py",
   "mimetype": "text/x-python",
   "name": "python",
   "nbconvert_exporter": "python",
   "pygments_lexer": "ipython3",
   "version": "3.7.6"
  }
 },
 "nbformat": 4,
 "nbformat_minor": 4
}
