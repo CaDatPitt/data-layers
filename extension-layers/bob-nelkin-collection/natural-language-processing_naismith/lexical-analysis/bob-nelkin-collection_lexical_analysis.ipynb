{
 "cells": [
  {
   "cell_type": "markdown",
   "metadata": {},
   "source": [
    "# Bob Nelkin Collection - Lexical analysis\n",
    "\n",
    "<br>\n",
    "\n",
    "**Notebook author:** Ben Naismith  \n",
    "**Last modified:** July 16, 2021\n",
    "\n",
    "<br>\n",
    "\n",
    "This notebook looks at options for creating _concordances_ and examining _collocations_ with the Bob Nelkin Collection. These tools and data are intended to allow for a greater understanding of the lexis used in the collection's texts through consideration of frequencies of lexical items and the contexts in which they occur.  \n",
    "\n",
    "For more detail, please see the `README.md` file in this folder.\n",
    "\n",
    "<br>\n",
    "\n",
    "**Notebook contents:**\n",
    "1. [Initial setup](#1.-Initial-setup)\n",
    "2. [Concordancing](#2.-Concordancing)\n",
    "3. [Collocations](#3.-Collocations)"
   ]
  },
  {
   "cell_type": "markdown",
   "metadata": {},
   "source": [
    "## 1. Initial setup"
   ]
  },
  {
   "cell_type": "code",
   "execution_count": 1,
   "metadata": {},
   "outputs": [],
   "source": [
    "# Import necessary modules\n",
    "\n",
    "import pandas as pd\n",
    "import pprint\n",
    "from IPython.core.interactiveshell import InteractiveShell\n",
    "import joblib\n",
    "from pelitk import conc\n",
    "from more_itertools import unique_everseen\n",
    "from nltk import FreqDist"
   ]
  },
  {
   "cell_type": "code",
   "execution_count": 2,
   "metadata": {},
   "outputs": [],
   "source": [
    "# Set preferred notebook format\n",
    "\n",
    "InteractiveShell.ast_node_interactivity = \"all\" # Show all output, not just last item\n",
    "pd.set_option('display.max_columns', 999) # Allow viewing of all columns"
   ]
  },
  {
   "cell_type": "code",
   "execution_count": 3,
   "metadata": {},
   "outputs": [
    {
     "data": {
      "text/html": [
       "<div>\n",
       "<style scoped>\n",
       "    .dataframe tbody tr th:only-of-type {\n",
       "        vertical-align: middle;\n",
       "    }\n",
       "\n",
       "    .dataframe tbody tr th {\n",
       "        vertical-align: top;\n",
       "    }\n",
       "\n",
       "    .dataframe thead th {\n",
       "        text-align: right;\n",
       "    }\n",
       "</style>\n",
       "<table border=\"1\" class=\"dataframe\">\n",
       "  <thead>\n",
       "    <tr style=\"text-align: right;\">\n",
       "      <th></th>\n",
       "      <th>id</th>\n",
       "      <th>title</th>\n",
       "      <th>display_date</th>\n",
       "      <th>abstract</th>\n",
       "      <th>host</th>\n",
       "      <th>series</th>\n",
       "      <th>container</th>\n",
       "      <th>owner</th>\n",
       "      <th>depositor</th>\n",
       "      <th>collection_id</th>\n",
       "      <th>text</th>\n",
       "      <th>language</th>\n",
       "      <th>len</th>\n",
       "      <th>tok_lem_POS_NLTK</th>\n",
       "      <th>tok_lem_POS_CLAWS</th>\n",
       "      <th>tok_lem_POS_NLTK_corrected</th>\n",
       "      <th>misspelling_correction</th>\n",
       "      <th>len_errors</th>\n",
       "      <th>genre</th>\n",
       "      <th>genre_MODS</th>\n",
       "      <th>resource_type</th>\n",
       "      <th>sentiment_polarity</th>\n",
       "      <th>sentiment_agreement</th>\n",
       "      <th>sentiment_confidence</th>\n",
       "      <th>entities</th>\n",
       "      <th>topics</th>\n",
       "    </tr>\n",
       "  </thead>\n",
       "  <tbody>\n",
       "    <tr>\n",
       "      <th>0</th>\n",
       "      <td>MSS_1002_B001_F11_I01</td>\n",
       "      <td>Recent Litigation Memo</td>\n",
       "      <td>July 11, 1975</td>\n",
       "      <td>A PARC internal memo that summarizes recent li...</td>\n",
       "      <td>Bob Nelkin Collection of ACC-PARC Records</td>\n",
       "      <td>I. Administrative Records 1953-1983</td>\n",
       "      <td>box 1, folder 11, Item 1</td>\n",
       "      <td>Heinz History Center</td>\n",
       "      <td>Detre Library &amp; Archives, Heinz History Center</td>\n",
       "      <td>collection.341</td>\n",
       "      <td>﻿V\\n\\nPennsylvania Association for Retarded Ci...</td>\n",
       "      <td>English</td>\n",
       "      <td>3042</td>\n",
       "      <td>[(V, V, NNP), (Pennsylvania, Pennsylvania, NNP...</td>\n",
       "      <td>[(Pennsylvania, pennsylvania, n), (Association...</td>\n",
       "      <td>[(v, V, NNP), (pennsylvania, Pennsylvania, NNP...</td>\n",
       "      <td>[((dpw, DPW, NNP), (dpi, dpi, NNP)), ((bazelon...</td>\n",
       "      <td>26</td>\n",
       "      <td>memo</td>\n",
       "      <td>correspondence</td>\n",
       "      <td>text</td>\n",
       "      <td>NEU</td>\n",
       "      <td>DISAGREEMENT</td>\n",
       "      <td>86</td>\n",
       "      <td>[(Legal Services, Company), (Supreme Court, Go...</td>\n",
       "      <td>[(plaintiff, Person), (patient, Person), (pati...</td>\n",
       "    </tr>\n",
       "    <tr>\n",
       "      <th>1</th>\n",
       "      <td>MSS_1002_B001_F12_I01</td>\n",
       "      <td>Letter from Peter Polloni to Bob Nelkin</td>\n",
       "      <td>March 11, 1975</td>\n",
       "      <td>A letter from Peter Polloni, executive directo...</td>\n",
       "      <td>Bob Nelkin Collection of ACC-PARC Records</td>\n",
       "      <td>I. Administrative Records 1953-1983</td>\n",
       "      <td>box 1, folder 12, Item 1</td>\n",
       "      <td>Heinz History Center</td>\n",
       "      <td>Detre Library &amp; Archives, Heinz History Center</td>\n",
       "      <td>collection.341</td>\n",
       "      <td>﻿Pennsylvania Association for Retarded Citizen...</td>\n",
       "      <td>English</td>\n",
       "      <td>242</td>\n",
       "      <td>[(Pennsylvania, Pennsylvania, NNP), (Associati...</td>\n",
       "      <td>[(Pennsylvania, pennsylvania, n), (Association...</td>\n",
       "      <td>[(pennsylvania, Pennsylvania, NNP), (associati...</td>\n",
       "      <td>[((ppp, PPP, NNP), (pop, pop, NNP)), ((schmi, ...</td>\n",
       "      <td>4</td>\n",
       "      <td>letter</td>\n",
       "      <td>correspondence</td>\n",
       "      <td>text</td>\n",
       "      <td>P</td>\n",
       "      <td>DISAGREEMENT</td>\n",
       "      <td>84</td>\n",
       "      <td>[(Pennsylvania, Adm1)]</td>\n",
       "      <td>[(report, Top)]</td>\n",
       "    </tr>\n",
       "    <tr>\n",
       "      <th>2</th>\n",
       "      <td>MSS_1002_B001_F13_I01</td>\n",
       "      <td>Letter to Frank Beal from Families and Friends...</td>\n",
       "      <td>August 19, 1976</td>\n",
       "      <td>A letter from Families and Friends of Southwes...</td>\n",
       "      <td>Bob Nelkin Collection of ACC-PARC Records</td>\n",
       "      <td>I. Administrative Records 1953-1983</td>\n",
       "      <td>box 1, folder 13, Item 1</td>\n",
       "      <td>Heinz History Center</td>\n",
       "      <td>Detre Library &amp; Archives, Heinz History Center</td>\n",
       "      <td>collection.341</td>\n",
       "      <td>﻿11\\nFAMILIES &amp; FRIENDS OF SOUTHWEST HABILITAT...</td>\n",
       "      <td>English</td>\n",
       "      <td>268</td>\n",
       "      <td>[(11, 11, CD), (FAMILIES, FAMILIES, NNP), (&amp;, ...</td>\n",
       "      <td>[(1, 1, m), (FAMILIES, family, n), (FRIENDS, f...</td>\n",
       "      <td>[(11, 11, CD), (families, FAMILIES, NNP), (&amp;, ...</td>\n",
       "      <td>[((fodi, Fodi, NNP), (jodi, jodi, NNP))]</td>\n",
       "      <td>1</td>\n",
       "      <td>letter</td>\n",
       "      <td>correspondence</td>\n",
       "      <td>text</td>\n",
       "      <td>P</td>\n",
       "      <td>DISAGREEMENT</td>\n",
       "      <td>92</td>\n",
       "      <td>[(Habilitation Center, Facility), (Pennsylvani...</td>\n",
       "      <td>[(southwest, Location), (unit, Unit), (group, ...</td>\n",
       "    </tr>\n",
       "  </tbody>\n",
       "</table>\n",
       "</div>"
      ],
      "text/plain": [
       "                      id                                              title  \\\n",
       "0  MSS_1002_B001_F11_I01                             Recent Litigation Memo   \n",
       "1  MSS_1002_B001_F12_I01            Letter from Peter Polloni to Bob Nelkin   \n",
       "2  MSS_1002_B001_F13_I01  Letter to Frank Beal from Families and Friends...   \n",
       "\n",
       "      display_date                                           abstract  \\\n",
       "0    July 11, 1975  A PARC internal memo that summarizes recent li...   \n",
       "1   March 11, 1975  A letter from Peter Polloni, executive directo...   \n",
       "2  August 19, 1976  A letter from Families and Friends of Southwes...   \n",
       "\n",
       "                                        host  \\\n",
       "0  Bob Nelkin Collection of ACC-PARC Records   \n",
       "1  Bob Nelkin Collection of ACC-PARC Records   \n",
       "2  Bob Nelkin Collection of ACC-PARC Records   \n",
       "\n",
       "                                series                 container  \\\n",
       "0  I. Administrative Records 1953-1983  box 1, folder 11, Item 1   \n",
       "1  I. Administrative Records 1953-1983  box 1, folder 12, Item 1   \n",
       "2  I. Administrative Records 1953-1983  box 1, folder 13, Item 1   \n",
       "\n",
       "                  owner                                       depositor  \\\n",
       "0  Heinz History Center  Detre Library & Archives, Heinz History Center   \n",
       "1  Heinz History Center  Detre Library & Archives, Heinz History Center   \n",
       "2  Heinz History Center  Detre Library & Archives, Heinz History Center   \n",
       "\n",
       "    collection_id                                               text language  \\\n",
       "0  collection.341  ﻿V\\n\\nPennsylvania Association for Retarded Ci...  English   \n",
       "1  collection.341  ﻿Pennsylvania Association for Retarded Citizen...  English   \n",
       "2  collection.341  ﻿11\\nFAMILIES & FRIENDS OF SOUTHWEST HABILITAT...  English   \n",
       "\n",
       "    len                                   tok_lem_POS_NLTK  \\\n",
       "0  3042  [(V, V, NNP), (Pennsylvania, Pennsylvania, NNP...   \n",
       "1   242  [(Pennsylvania, Pennsylvania, NNP), (Associati...   \n",
       "2   268  [(11, 11, CD), (FAMILIES, FAMILIES, NNP), (&, ...   \n",
       "\n",
       "                                   tok_lem_POS_CLAWS  \\\n",
       "0  [(Pennsylvania, pennsylvania, n), (Association...   \n",
       "1  [(Pennsylvania, pennsylvania, n), (Association...   \n",
       "2  [(1, 1, m), (FAMILIES, family, n), (FRIENDS, f...   \n",
       "\n",
       "                          tok_lem_POS_NLTK_corrected  \\\n",
       "0  [(v, V, NNP), (pennsylvania, Pennsylvania, NNP...   \n",
       "1  [(pennsylvania, Pennsylvania, NNP), (associati...   \n",
       "2  [(11, 11, CD), (families, FAMILIES, NNP), (&, ...   \n",
       "\n",
       "                              misspelling_correction  len_errors   genre  \\\n",
       "0  [((dpw, DPW, NNP), (dpi, dpi, NNP)), ((bazelon...          26    memo   \n",
       "1  [((ppp, PPP, NNP), (pop, pop, NNP)), ((schmi, ...           4  letter   \n",
       "2           [((fodi, Fodi, NNP), (jodi, jodi, NNP))]           1  letter   \n",
       "\n",
       "       genre_MODS resource_type sentiment_polarity sentiment_agreement  \\\n",
       "0  correspondence          text                NEU        DISAGREEMENT   \n",
       "1  correspondence          text                  P        DISAGREEMENT   \n",
       "2  correspondence          text                  P        DISAGREEMENT   \n",
       "\n",
       "  sentiment_confidence                                           entities  \\\n",
       "0                   86  [(Legal Services, Company), (Supreme Court, Go...   \n",
       "1                   84                             [(Pennsylvania, Adm1)]   \n",
       "2                   92  [(Habilitation Center, Facility), (Pennsylvani...   \n",
       "\n",
       "                                              topics  \n",
       "0  [(plaintiff, Person), (patient, Person), (pati...  \n",
       "1                                    [(report, Top)]  \n",
       "2  [(southwest, Location), (unit, Unit), (group, ...  "
      ]
     },
     "execution_count": 3,
     "metadata": {},
     "output_type": "execute_result"
    }
   ],
   "source": [
    "# Read in pre-processed dataframe\n",
    "\n",
    "bob_df = joblib.load('../bob_df.pkl')\n",
    "bob_df.head(3)"
   ]
  },
  {
   "cell_type": "markdown",
   "metadata": {},
   "source": [
    "## 2. Concordancing"
   ]
  },
  {
   "cell_type": "code",
   "execution_count": 4,
   "metadata": {},
   "outputs": [
    {
     "name": "stdout",
     "output_type": "stream",
     "text": [
      "Pretty printing has been turned OFF\n"
     ]
    },
    {
     "data": {
      "text/plain": [
       "['                                           advocacy   report march 21 , 1978                  ', '                  , 1978 i . educational   advocacy   10 year old - placed                    ', '              held . -2- ii• residential   advocacy   somerset m , r .                        ', '        report - an in-depth residential   advocacy   report is available . ill               ']"
      ]
     },
     "execution_count": 4,
     "metadata": {},
     "output_type": "execute_result"
    }
   ],
   "source": [
    "%pprint\n",
    "\n",
    "# Example with single lemma in single text\n",
    "\n",
    "example = [x[0].lower() for x in bob_df.iloc[10,13]]\n",
    "conc.concordance(example,'advocacy',5,pretty=True)"
   ]
  },
  {
   "cell_type": "code",
   "execution_count": 5,
   "metadata": {},
   "outputs": [],
   "source": [
    "# Create function which creates a concordance line for each occurrence of any item in a list\n",
    "\n",
    "def get_concs(tok_text, forms_list):\n",
    "    conclist = []\n",
    "    for x in tok_text:\n",
    "        if x.lower() in [x for x in forms_list]: \n",
    "            conclist.append(conc.concordance(tok_text, x, 5))\n",
    "    return [x for y in list(unique_everseen(conclist)) for x in y]"
   ]
  },
  {
   "cell_type": "code",
   "execution_count": 6,
   "metadata": {},
   "outputs": [
    {
     "data": {
      "text/plain": [
       "['                                           advocacy   report march 21 , 1978                  ', '                  , 1978 i . educational   advocacy   10 year old - placed                    ', '              held . -2- ii• residential   advocacy   somerset m , r .                        ', '        report - an in-depth residential   advocacy   report is available . ill               ', '                    year old - placed in    school    acc-parc was informed by a              ', '           year old child never attended    school    . the child is now                      ', '                  ’ s education . parent    school    conference - penn hills acc-parc        ', '             , and evaluation . expedite    school    placement acc-parc requested pittsburgh schools', '               to our intervention , the    school    board refused to make the               ', '                make the placement . the    school    placement was made and the              ', '                  per year . the current    school    calendar of 900 hours is                ']"
      ]
     },
     "execution_count": 6,
     "metadata": {},
     "output_type": "execute_result"
    }
   ],
   "source": [
    "# Test with example\n",
    "\n",
    "conc.prettify(get_concs(example,['advocacy','school']))"
   ]
  },
  {
   "cell_type": "code",
   "execution_count": 7,
   "metadata": {},
   "outputs": [],
   "source": [
    "# Test on entire dataset\n",
    "\n",
    "all_toks = bob_df.tok_lem_POS_NLTK.apply(lambda row: [x[0].lower() for x in row])\n",
    "all_toks = [x for y in all_toks for x in y]"
   ]
  },
  {
   "cell_type": "code",
   "execution_count": 8,
   "metadata": {},
   "outputs": [
    {
     "data": {
      "text/plain": [
       "['                    very dire need for a   behavior   management unit at southwest habilitation', '                     recently , due to a   behavior   problem of some residents ,             ', '               a much needed third floor   behavior   care unit is needed for                 ', '        be- cause of severely aggressive   behavior   . it is my opinion                      ', '   inclined toward assaultive or violent   behavior   than are any other persons              ', ' and emotionally disturbed or exhibiting   behavior   oroblems . the problem is               ', '  families reduce aggressive or abnormal   behavior   of their children and reduce            ', '  this responsibility because of extreme   behavior   . 3 ) the conversion                    ', '                 the care of people with   behavior   problems , who currently reside         ', 'also emotionally disturbed or exhibiting   behavior   problems 4 ) adult training             ']"
      ]
     },
     "execution_count": 8,
     "metadata": {},
     "output_type": "execute_result"
    },
    {
     "data": {
      "text/plain": [
       "178"
      ]
     },
     "execution_count": 8,
     "metadata": {},
     "output_type": "execute_result"
    }
   ],
   "source": [
    "conc.prettify(get_concs(all_toks,['behavior']))[:10]\n",
    "len(conc.prettify(get_concs(all_toks,['behavior'])))"
   ]
  },
  {
   "cell_type": "markdown",
   "metadata": {},
   "source": [
    "## 3. Collocations"
   ]
  },
  {
   "cell_type": "code",
   "execution_count": 9,
   "metadata": {},
   "outputs": [],
   "source": [
    "# Extract potential collocations in span 4 (up to 4 words either side of key word)\n",
    "\n",
    "padding = [('x','x'),('x','x'),('x','x'),('x','x'),('x','x')]\n",
    "all_lemmas = bob_df.tok_lem_POS_CLAWS.apply(lambda row: [(x[1],x[2]) for x in row])\n",
    "all_lemmas = [x for y in all_lemmas for x in y]\n",
    "padded_lemmas = padding + all_lemmas.copy() + padding\n",
    "\n",
    "def find_cols(lemma,POS):\n",
    "    col_list = []\n",
    "    for i in range(len(padded_lemmas)):\n",
    "        if padded_lemmas[i] == (lemma,POS):\n",
    "            col_list.extend(padded_lemmas[i-4:i])\n",
    "            col_list.extend(padded_lemmas[i+1:i+5])\n",
    "    i += 1\n",
    "    col_freq = [(x,FreqDist(col_list)[x]) for x in FreqDist(col_list)] \n",
    "    return sorted(col_freq,key = lambda x: x[1],reverse=True)"
   ]
  },
  {
   "cell_type": "code",
   "execution_count": 10,
   "metadata": {},
   "outputs": [
    {
     "data": {
      "text/plain": [
       "[('x', 'x'), ('x', 'x'), ('x', 'x'), ('x', 'x'), ('x', 'x'), ('pennsylvania', 'n'), ('association', 'n'), ('for', 'i'), ('retarded', 'j'), ('citizen', 'n')]"
      ]
     },
     "execution_count": 10,
     "metadata": {},
     "output_type": "execute_result"
    }
   ],
   "source": [
    "padded_lemmas[:10]"
   ]
  },
  {
   "cell_type": "code",
   "execution_count": 11,
   "metadata": {},
   "outputs": [
    {
     "data": {
      "text/plain": [
       "[(('retardation', 'n'), 283), (('the', 'a'), 265), (('of', 'i'), 213), (('health', 'n'), 128), (('and', 'c'), 125), (('in', 'i'), 90), (('mental', 'j'), 82), (('be', 'v'), 74), (('county', 'n'), 67), (('office', 'n'), 63)]"
      ]
     },
     "execution_count": 11,
     "metadata": {},
     "output_type": "execute_result"
    }
   ],
   "source": [
    "# Test function - 10 most common collocations with the adjective 'mental'\n",
    "\n",
    "find_cols('mental','j')[:10]"
   ]
  },
  {
   "cell_type": "markdown",
   "metadata": {},
   "source": [
    "To make these results more meaningful, they can be filtered in different ways. Here, I show two:\n",
    "1. filter results to keep only words with more semantic meaning (nouns, verbs, adjectives, adverbs)\n",
    "2. filter results to keep only collocations with Mutual Information > 3 and frequency > 10 (common thresholds)"
   ]
  },
  {
   "cell_type": "code",
   "execution_count": 12,
   "metadata": {},
   "outputs": [
    {
     "data": {
      "text/plain": [
       "[(('retardation', 'n'), 283), (('health', 'n'), 128), (('mental', 'j'), 82), (('be', 'v'), 74), (('county', 'n'), 67), (('office', 'n'), 63), (('allegheny', 'n'), 50), (('program', 'n'), 44), (('hospital', 'n'), 36), (('state', 'n'), 29)]"
      ]
     },
     "execution_count": 12,
     "metadata": {},
     "output_type": "execute_result"
    }
   ],
   "source": [
    "# Filter results by POS\n",
    "\n",
    "lexical = ['n','v','j','r']\n",
    "    \n",
    "[x for x in find_cols('mental','j') if x[0][1] in lexical][:10]"
   ]
  },
  {
   "cell_type": "markdown",
   "metadata": {},
   "source": [
    "COCA MI data is from a paid license. Please see [Dr Na-Rae Han](https://www.linguistics.pitt.edu/people/na-rae-han) for access information for Pitt students and faculty or the [COCA website](https://www.wordfrequency.info/purchase.asp) for purchase information."
   ]
  },
  {
   "cell_type": "code",
   "execution_count": 13,
   "metadata": {},
   "outputs": [
    {
     "data": {
      "text/html": [
       "<div>\n",
       "<style scoped>\n",
       "    .dataframe tbody tr th:only-of-type {\n",
       "        vertical-align: middle;\n",
       "    }\n",
       "\n",
       "    .dataframe tbody tr th {\n",
       "        vertical-align: top;\n",
       "    }\n",
       "\n",
       "    .dataframe thead th {\n",
       "        text-align: right;\n",
       "    }\n",
       "</style>\n",
       "<table border=\"1\" class=\"dataframe\">\n",
       "  <thead>\n",
       "    <tr style=\"text-align: right;\">\n",
       "      <th></th>\n",
       "      <th>freq</th>\n",
       "      <th>MI</th>\n",
       "      <th>collocation</th>\n",
       "      <th>tscore</th>\n",
       "      <th>word1</th>\n",
       "      <th>word2</th>\n",
       "    </tr>\n",
       "  </thead>\n",
       "  <tbody>\n",
       "    <tr>\n",
       "      <th>455</th>\n",
       "      <td>19432</td>\n",
       "      <td>7.01</td>\n",
       "      <td>((health, n), (mental, j))</td>\n",
       "      <td>139.26</td>\n",
       "      <td>(health, n)</td>\n",
       "      <td>(mental, j)</td>\n",
       "    </tr>\n",
       "    <tr>\n",
       "      <th>456</th>\n",
       "      <td>19431</td>\n",
       "      <td>7.01</td>\n",
       "      <td>((mental, j), (health, n))</td>\n",
       "      <td>139.25</td>\n",
       "      <td>(mental, j)</td>\n",
       "      <td>(health, n)</td>\n",
       "    </tr>\n",
       "    <tr>\n",
       "      <th>1623</th>\n",
       "      <td>7306</td>\n",
       "      <td>8.78</td>\n",
       "      <td>((illness, n), (mental, j))</td>\n",
       "      <td>85.45</td>\n",
       "      <td>(illness, n)</td>\n",
       "      <td>(mental, j)</td>\n",
       "    </tr>\n",
       "    <tr>\n",
       "      <th>1627</th>\n",
       "      <td>7304</td>\n",
       "      <td>8.78</td>\n",
       "      <td>((mental, j), (illness, n))</td>\n",
       "      <td>85.44</td>\n",
       "      <td>(mental, j)</td>\n",
       "      <td>(illness, n)</td>\n",
       "    </tr>\n",
       "    <tr>\n",
       "      <th>3409</th>\n",
       "      <td>4180</td>\n",
       "      <td>6.23</td>\n",
       "      <td>((physical, j), (mental, j))</td>\n",
       "      <td>64.54</td>\n",
       "      <td>(physical, j)</td>\n",
       "      <td>(mental, j)</td>\n",
       "    </tr>\n",
       "  </tbody>\n",
       "</table>\n",
       "</div>"
      ],
      "text/plain": [
       "       freq    MI                   collocation  tscore          word1  \\\n",
       "455   19432  7.01    ((health, n), (mental, j))  139.26    (health, n)   \n",
       "456   19431  7.01    ((mental, j), (health, n))  139.25    (mental, j)   \n",
       "1623   7306  8.78   ((illness, n), (mental, j))   85.45   (illness, n)   \n",
       "1627   7304  8.78   ((mental, j), (illness, n))   85.44    (mental, j)   \n",
       "3409   4180  6.23  ((physical, j), (mental, j))   64.54  (physical, j)   \n",
       "\n",
       "             word2  \n",
       "455    (mental, j)  \n",
       "456    (health, n)  \n",
       "1623   (mental, j)  \n",
       "1627  (illness, n)  \n",
       "3409   (mental, j)  "
      ]
     },
     "execution_count": 13,
     "metadata": {},
     "output_type": "execute_result"
    }
   ],
   "source": [
    "# Filter results by mutual information\n",
    "\n",
    "# Load and modify collocation dataframe\n",
    "col_df = joblib.load('../../../../COCA_data/COCA_2020_collocation_df.pkl')\n",
    "col_df = col_df.loc[col_df.MI >= 3].reset_index(drop=True)\n",
    "col_df['word1'] = col_df.collocation.apply(lambda x: x[0])\n",
    "col_df['word2'] = col_df.collocation.apply(lambda x: x[1])\n",
    "col_df.loc[(col_df.word1 == ('mental','j')) | (col_df.word2 == ('mental','j'))].head()"
   ]
  },
  {
   "cell_type": "code",
   "execution_count": 14,
   "metadata": {},
   "outputs": [],
   "source": [
    "# Create function to perform this search\n",
    "\n",
    "all_cols = set(col_df.collocation)\n",
    "\n",
    "def MI_cols(lemma,POS):\n",
    "    bob_cols = find_cols(lemma,POS)     \n",
    "    MI_cols = [x for x in bob_cols if ((lemma,POS),x[0]) in all_cols or (x[0],(lemma,POS)) in all_cols]\n",
    "    return MI_cols"
   ]
  },
  {
   "cell_type": "code",
   "execution_count": 15,
   "metadata": {},
   "outputs": [
    {
     "data": {
      "text/plain": [
       "[(('retardation', 'n'), 283), (('health', 'n'), 128), (('mental', 'j'), 82), (('hospital', 'n'), 36), (('service', 'n'), 18), (('institution', 'n'), 17), (('treatment', 'n'), 12), (('patient', 'n'), 11), (('illness', 'n'), 9), (('physical', 'j'), 8), (('condition', 'n'), 4), (('diagnosis', 'n'), 3), (('emotional', 'j'), 3), (('professional', 'n'), 3), (('evaluation', 'n'), 2), (('disorder', 'n'), 2), (('qualified', 'j'), 2), (('facility', 'n'), 2), (('serious', 'j'), 1), (('abnormality', 'n'), 1), (('deficiency', 'n'), 1), (('handicap', 'n'), 1), (('disability', 'n'), 1), (('stimulation', 'n'), 1), (('licensed', 'j'), 1), (('developmental', 'j'), 1), (('clinic', 'n'), 1), (('provider', 'n'), 1), (('well-being', 'n'), 1), (('deficient', 'j'), 1), (('suffer', 'v'), 1), (('stigma', 'n'), 1), (('ward', 'n'), 1), (('abuse', 'n'), 1), (('status', 'n'), 1)]"
      ]
     },
     "execution_count": 15,
     "metadata": {},
     "output_type": "execute_result"
    }
   ],
   "source": [
    "MI_cols('mental','j')"
   ]
  },
  {
   "cell_type": "markdown",
   "metadata": {},
   "source": [
    "[Back to top](#Bob-Nelkin-Collection---Lexical-analysis)"
   ]
  }
 ],
 "metadata": {
  "kernelspec": {
   "display_name": "Python 3",
   "language": "python",
   "name": "python3"
  },
  "language_info": {
   "codemirror_mode": {
    "name": "ipython",
    "version": 3
   },
   "file_extension": ".py",
   "mimetype": "text/x-python",
   "name": "python",
   "nbconvert_exporter": "python",
   "pygments_lexer": "ipython3",
   "version": "3.7.6"
  }
 },
 "nbformat": 4,
 "nbformat_minor": 4
}
