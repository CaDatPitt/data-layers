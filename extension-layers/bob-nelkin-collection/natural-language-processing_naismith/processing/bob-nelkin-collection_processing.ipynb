{
 "cells": [
  {
   "cell_type": "markdown",
   "metadata": {},
   "source": [
    "# Bob Nelkin Collection - Processing\n",
    "\n",
    "<br>\n",
    "\n",
    "**Notebook author:** Ben Naismith  \n",
    "**Last modified:** July 15, 2021\n",
    "\n",
    "<br>\n",
    "\n",
    "**Notebook contents:**\n",
    "1. [Initial setup](#1.-Initial-setup)\n",
    "2. [Text cleaning](#2.-Text-cleaning)\n",
    "3. [Tokenization](#3.-Tokenization)\n",
    "4. [POS tagging and lemmatization](#4.-POS-tagging-and-lemmatization)\n",
    "5. [Spelling correction](#5.-Spelling-correction)\n",
    "6. [Genre tagging](#6.-Genre-tagging)\n",
    "7. [Wrap-up](#7.-Wrap-up)"
   ]
  },
  {
   "cell_type": "markdown",
   "metadata": {},
   "source": [
    "## 1. Initial setup"
   ]
  },
  {
   "cell_type": "code",
   "execution_count": 1,
   "metadata": {},
   "outputs": [],
   "source": [
    "# Import necessary modules\n",
    "\n",
    "import pandas as pd\n",
    "import pprint\n",
    "from IPython.core.interactiveshell import InteractiveShell\n",
    "import joblib\n",
    "import re\n",
    "import nltk\n",
    "from nltk import pos_tag_sents\n",
    "from nltk.corpus import wordnet\n",
    "from nltk.stem import WordNetLemmatizer \n",
    "from nltk import FreqDist\n",
    "import shutil\n",
    "from CLAWSTag import Tagger\n",
    "import random\n",
    "from symspellpy import SymSpell\n",
    "from symspellpy import Verbosity\n",
    "import pkg_resources"
   ]
  },
  {
   "cell_type": "code",
   "execution_count": 2,
   "metadata": {},
   "outputs": [],
   "source": [
    "# Set preferred notebook format\n",
    "\n",
    "InteractiveShell.ast_node_interactivity = \"all\" # Show all output, not just last item\n",
    "pd.set_option('display.max_columns', 999) # Allow viewing of all columns"
   ]
  },
  {
   "cell_type": "code",
   "execution_count": 3,
   "metadata": {},
   "outputs": [
    {
     "data": {
      "text/html": [
       "<div>\n",
       "<style scoped>\n",
       "    .dataframe tbody tr th:only-of-type {\n",
       "        vertical-align: middle;\n",
       "    }\n",
       "\n",
       "    .dataframe tbody tr th {\n",
       "        vertical-align: top;\n",
       "    }\n",
       "\n",
       "    .dataframe thead th {\n",
       "        text-align: right;\n",
       "    }\n",
       "</style>\n",
       "<table border=\"1\" class=\"dataframe\">\n",
       "  <thead>\n",
       "    <tr style=\"text-align: right;\">\n",
       "      <th></th>\n",
       "      <th>id</th>\n",
       "      <th>title</th>\n",
       "      <th>display_date</th>\n",
       "      <th>abstract</th>\n",
       "      <th>host</th>\n",
       "      <th>series</th>\n",
       "      <th>container</th>\n",
       "      <th>owner</th>\n",
       "      <th>depositor</th>\n",
       "      <th>collection_id</th>\n",
       "      <th>text</th>\n",
       "      <th>language</th>\n",
       "    </tr>\n",
       "  </thead>\n",
       "  <tbody>\n",
       "    <tr>\n",
       "      <th>0</th>\n",
       "      <td>MSS_1002_B001_F11_I01</td>\n",
       "      <td>Recent Litigation Memo</td>\n",
       "      <td>July 11, 1975</td>\n",
       "      <td>A PARC internal memo that summarizes recent li...</td>\n",
       "      <td>Bob Nelkin Collection of ACC-PARC Records</td>\n",
       "      <td>I. Administrative Records 1953-1983</td>\n",
       "      <td>box 1, folder 11, Item 1</td>\n",
       "      <td>Heinz History Center</td>\n",
       "      <td>Detre Library &amp; Archives, Heinz History Center</td>\n",
       "      <td>collection.341</td>\n",
       "      <td>﻿V\\n\\nPennsylvania Association for Retarded Ci...</td>\n",
       "      <td>English</td>\n",
       "    </tr>\n",
       "    <tr>\n",
       "      <th>1</th>\n",
       "      <td>MSS_1002_B001_F12_I01</td>\n",
       "      <td>Letter from Peter Polloni to Bob Nelkin</td>\n",
       "      <td>March 11, 1975</td>\n",
       "      <td>A letter from Peter Polloni, executive directo...</td>\n",
       "      <td>Bob Nelkin Collection of ACC-PARC Records</td>\n",
       "      <td>I. Administrative Records 1953-1983</td>\n",
       "      <td>box 1, folder 12, Item 1</td>\n",
       "      <td>Heinz History Center</td>\n",
       "      <td>Detre Library &amp; Archives, Heinz History Center</td>\n",
       "      <td>collection.341</td>\n",
       "      <td>﻿Pennsylvania Association for Retarded Citizen...</td>\n",
       "      <td>English</td>\n",
       "    </tr>\n",
       "  </tbody>\n",
       "</table>\n",
       "</div>"
      ],
      "text/plain": [
       "                      id                                    title  \\\n",
       "0  MSS_1002_B001_F11_I01                   Recent Litigation Memo   \n",
       "1  MSS_1002_B001_F12_I01  Letter from Peter Polloni to Bob Nelkin   \n",
       "\n",
       "     display_date                                           abstract  \\\n",
       "0   July 11, 1975  A PARC internal memo that summarizes recent li...   \n",
       "1  March 11, 1975  A letter from Peter Polloni, executive directo...   \n",
       "\n",
       "                                        host  \\\n",
       "0  Bob Nelkin Collection of ACC-PARC Records   \n",
       "1  Bob Nelkin Collection of ACC-PARC Records   \n",
       "\n",
       "                                series                 container  \\\n",
       "0  I. Administrative Records 1953-1983  box 1, folder 11, Item 1   \n",
       "1  I. Administrative Records 1953-1983  box 1, folder 12, Item 1   \n",
       "\n",
       "                  owner                                       depositor  \\\n",
       "0  Heinz History Center  Detre Library & Archives, Heinz History Center   \n",
       "1  Heinz History Center  Detre Library & Archives, Heinz History Center   \n",
       "\n",
       "    collection_id                                               text language  \n",
       "0  collection.341  ﻿V\\n\\nPennsylvania Association for Retarded Ci...  English  \n",
       "1  collection.341  ﻿Pennsylvania Association for Retarded Citizen...  English  "
      ]
     },
     "execution_count": 3,
     "metadata": {},
     "output_type": "execute_result"
    }
   ],
   "source": [
    "# Read in pre-processed dataframe\n",
    "\n",
    "bob_df = joblib.load('../pre-processing/bob_df_pre-processed.pkl')\n",
    "bob_df.head(2)"
   ]
  },
  {
   "cell_type": "markdown",
   "metadata": {},
   "source": [
    "## 2. Text cleaning\n",
    "\n",
    "Prior to tokenizing the texts, I will remove whitespace and other formatting strings."
   ]
  },
  {
   "cell_type": "code",
   "execution_count": 4,
   "metadata": {},
   "outputs": [],
   "source": [
    "# Replace NaN with empty strings\n",
    "\n",
    "bob_df.text = bob_df.text.fillna('')"
   ]
  },
  {
   "cell_type": "code",
   "execution_count": 5,
   "metadata": {},
   "outputs": [],
   "source": [
    "# Create function to remove unwanted whitespace characters\n",
    "\n",
    "def clean_text(text):\n",
    "    clean_text = re.sub(r\"\\s+\", \" \", text) #Strip 1 or more white space characters using regex\n",
    "    clean_text = re.sub(r\"\\ufeff\", \" \", clean_text) #Remove \\ufeff string seen in many texts\n",
    "    clean_text = clean_text.strip() # remove trailing whitespace at start or end of string\n",
    "    return clean_text"
   ]
  },
  {
   "cell_type": "code",
   "execution_count": 6,
   "metadata": {},
   "outputs": [
    {
     "data": {
      "text/plain": [
       "'\\ufeffV\\n\\nPennsylvania Association for Retarded Citizens\\nr\\nt5CO NORTH SECOND STREET • HARRIS8URG, PA. 1 71C2\\nTEL: (717) 234-2621\\n: -J:\\nMEMO TO:\\nOfficers\\nPARC Residential Services Committee\\nAll Regional Resi'"
      ]
     },
     "execution_count": 6,
     "metadata": {},
     "output_type": "execute_result"
    },
    {
     "data": {
      "text/plain": [
       "'V Pennsylvania Association for Retarded Citizens r t5CO NORTH SECOND STREET • HARRIS8URG, PA. 1 71C2 TEL: (717) 234-2621 : -J: MEMO TO: Officers PARC Residential Services Committee All Regional Resi'"
      ]
     },
     "execution_count": 6,
     "metadata": {},
     "output_type": "execute_result"
    },
    {
     "data": {
      "text/plain": [
       "''"
      ]
     },
     "execution_count": 6,
     "metadata": {},
     "output_type": "execute_result"
    }
   ],
   "source": [
    "# Test function\n",
    "\n",
    "# Create examples\n",
    "foo = bob_df.text[0][:200]\n",
    "foo\n",
    "foo2 = ''\n",
    "\n",
    "# Apply function to examples\n",
    "clean_text(foo)\n",
    "clean_text(foo2)"
   ]
  },
  {
   "cell_type": "code",
   "execution_count": 7,
   "metadata": {},
   "outputs": [],
   "source": [
    "# Apply function to dataframe\n",
    "\n",
    "bob_df['toks'] = bob_df.text.apply(clean_text) # Will become the tokens column later"
   ]
  },
  {
   "cell_type": "markdown",
   "metadata": {},
   "source": [
    "## 3. Tokenization\n",
    "\n",
    "Tokenization using NLTK tools."
   ]
  },
  {
   "cell_type": "code",
   "execution_count": 8,
   "metadata": {},
   "outputs": [],
   "source": [
    "# Create tokens column based on cleaned text from previous section\n",
    "\n",
    "bob_df[\"toks\"] = bob_df.toks.apply(nltk.word_tokenize)"
   ]
  },
  {
   "cell_type": "code",
   "execution_count": 9,
   "metadata": {},
   "outputs": [],
   "source": [
    "# Add number of words column - different function needed so that punctuation is not counted as words\n",
    "\n",
    "def re_tokenize(text):\n",
    "    return re.findall(r\"[A-Za-z0-9_]+\", text.lower())\n",
    "\n",
    "bob_df['len'] = bob_df.text.apply(re_tokenize).apply(len)"
   ]
  },
  {
   "cell_type": "code",
   "execution_count": 10,
   "metadata": {},
   "outputs": [
    {
     "data": {
      "text/html": [
       "<div>\n",
       "<style scoped>\n",
       "    .dataframe tbody tr th:only-of-type {\n",
       "        vertical-align: middle;\n",
       "    }\n",
       "\n",
       "    .dataframe tbody tr th {\n",
       "        vertical-align: top;\n",
       "    }\n",
       "\n",
       "    .dataframe thead th {\n",
       "        text-align: right;\n",
       "    }\n",
       "</style>\n",
       "<table border=\"1\" class=\"dataframe\">\n",
       "  <thead>\n",
       "    <tr style=\"text-align: right;\">\n",
       "      <th></th>\n",
       "      <th>id</th>\n",
       "      <th>title</th>\n",
       "      <th>display_date</th>\n",
       "      <th>abstract</th>\n",
       "      <th>host</th>\n",
       "      <th>series</th>\n",
       "      <th>container</th>\n",
       "      <th>owner</th>\n",
       "      <th>depositor</th>\n",
       "      <th>collection_id</th>\n",
       "      <th>text</th>\n",
       "      <th>language</th>\n",
       "      <th>toks</th>\n",
       "      <th>len</th>\n",
       "    </tr>\n",
       "  </thead>\n",
       "  <tbody>\n",
       "    <tr>\n",
       "      <th>0</th>\n",
       "      <td>MSS_1002_B001_F11_I01</td>\n",
       "      <td>Recent Litigation Memo</td>\n",
       "      <td>July 11, 1975</td>\n",
       "      <td>A PARC internal memo that summarizes recent li...</td>\n",
       "      <td>Bob Nelkin Collection of ACC-PARC Records</td>\n",
       "      <td>I. Administrative Records 1953-1983</td>\n",
       "      <td>box 1, folder 11, Item 1</td>\n",
       "      <td>Heinz History Center</td>\n",
       "      <td>Detre Library &amp; Archives, Heinz History Center</td>\n",
       "      <td>collection.341</td>\n",
       "      <td>﻿V\\n\\nPennsylvania Association for Retarded Ci...</td>\n",
       "      <td>English</td>\n",
       "      <td>[V, Pennsylvania, Association, for, Retarded, ...</td>\n",
       "      <td>3042</td>\n",
       "    </tr>\n",
       "    <tr>\n",
       "      <th>1</th>\n",
       "      <td>MSS_1002_B001_F12_I01</td>\n",
       "      <td>Letter from Peter Polloni to Bob Nelkin</td>\n",
       "      <td>March 11, 1975</td>\n",
       "      <td>A letter from Peter Polloni, executive directo...</td>\n",
       "      <td>Bob Nelkin Collection of ACC-PARC Records</td>\n",
       "      <td>I. Administrative Records 1953-1983</td>\n",
       "      <td>box 1, folder 12, Item 1</td>\n",
       "      <td>Heinz History Center</td>\n",
       "      <td>Detre Library &amp; Archives, Heinz History Center</td>\n",
       "      <td>collection.341</td>\n",
       "      <td>﻿Pennsylvania Association for Retarded Citizen...</td>\n",
       "      <td>English</td>\n",
       "      <td>[Pennsylvania, Association, for, Retarded, Cit...</td>\n",
       "      <td>242</td>\n",
       "    </tr>\n",
       "  </tbody>\n",
       "</table>\n",
       "</div>"
      ],
      "text/plain": [
       "                      id                                    title  \\\n",
       "0  MSS_1002_B001_F11_I01                   Recent Litigation Memo   \n",
       "1  MSS_1002_B001_F12_I01  Letter from Peter Polloni to Bob Nelkin   \n",
       "\n",
       "     display_date                                           abstract  \\\n",
       "0   July 11, 1975  A PARC internal memo that summarizes recent li...   \n",
       "1  March 11, 1975  A letter from Peter Polloni, executive directo...   \n",
       "\n",
       "                                        host  \\\n",
       "0  Bob Nelkin Collection of ACC-PARC Records   \n",
       "1  Bob Nelkin Collection of ACC-PARC Records   \n",
       "\n",
       "                                series                 container  \\\n",
       "0  I. Administrative Records 1953-1983  box 1, folder 11, Item 1   \n",
       "1  I. Administrative Records 1953-1983  box 1, folder 12, Item 1   \n",
       "\n",
       "                  owner                                       depositor  \\\n",
       "0  Heinz History Center  Detre Library & Archives, Heinz History Center   \n",
       "1  Heinz History Center  Detre Library & Archives, Heinz History Center   \n",
       "\n",
       "    collection_id                                               text language  \\\n",
       "0  collection.341  ﻿V\\n\\nPennsylvania Association for Retarded Ci...  English   \n",
       "1  collection.341  ﻿Pennsylvania Association for Retarded Citizen...  English   \n",
       "\n",
       "                                                toks   len  \n",
       "0  [V, Pennsylvania, Association, for, Retarded, ...  3042  \n",
       "1  [Pennsylvania, Association, for, Retarded, Cit...   242  "
      ]
     },
     "execution_count": 10,
     "metadata": {},
     "output_type": "execute_result"
    }
   ],
   "source": [
    "bob_df.head(2)"
   ]
  },
  {
   "cell_type": "markdown",
   "metadata": {},
   "source": [
    "## 4. POS tagging and lemmatization"
   ]
  },
  {
   "cell_type": "markdown",
   "metadata": {},
   "source": [
    "#### NLTK\n",
    "\n",
    "Uses the [Penn Treebank tagset](https://www.ling.upenn.edu/courses/Fall_2003/ling001/penn_treebank_pos.html).\n",
    "The NLTK lemmatizer was selected due to its ease of use and public availability, though other bespoke lemmatizers would provide greater lemmatization accuracy."
   ]
  },
  {
   "cell_type": "code",
   "execution_count": 11,
   "metadata": {},
   "outputs": [],
   "source": [
    "# POS tag tokens - NLTK\n",
    "\n",
    "bob_df['POS_NLTK'] = pos_tag_sents(bob_df.toks.tolist())"
   ]
  },
  {
   "cell_type": "code",
   "execution_count": 12,
   "metadata": {},
   "outputs": [
    {
     "data": {
      "text/html": [
       "<div>\n",
       "<style scoped>\n",
       "    .dataframe tbody tr th:only-of-type {\n",
       "        vertical-align: middle;\n",
       "    }\n",
       "\n",
       "    .dataframe tbody tr th {\n",
       "        vertical-align: top;\n",
       "    }\n",
       "\n",
       "    .dataframe thead th {\n",
       "        text-align: right;\n",
       "    }\n",
       "</style>\n",
       "<table border=\"1\" class=\"dataframe\">\n",
       "  <thead>\n",
       "    <tr style=\"text-align: right;\">\n",
       "      <th></th>\n",
       "      <th>id</th>\n",
       "      <th>title</th>\n",
       "      <th>display_date</th>\n",
       "      <th>abstract</th>\n",
       "      <th>host</th>\n",
       "      <th>series</th>\n",
       "      <th>container</th>\n",
       "      <th>owner</th>\n",
       "      <th>depositor</th>\n",
       "      <th>collection_id</th>\n",
       "      <th>text</th>\n",
       "      <th>language</th>\n",
       "      <th>toks</th>\n",
       "      <th>len</th>\n",
       "      <th>POS_NLTK</th>\n",
       "    </tr>\n",
       "  </thead>\n",
       "  <tbody>\n",
       "    <tr>\n",
       "      <th>0</th>\n",
       "      <td>MSS_1002_B001_F11_I01</td>\n",
       "      <td>Recent Litigation Memo</td>\n",
       "      <td>July 11, 1975</td>\n",
       "      <td>A PARC internal memo that summarizes recent li...</td>\n",
       "      <td>Bob Nelkin Collection of ACC-PARC Records</td>\n",
       "      <td>I. Administrative Records 1953-1983</td>\n",
       "      <td>box 1, folder 11, Item 1</td>\n",
       "      <td>Heinz History Center</td>\n",
       "      <td>Detre Library &amp; Archives, Heinz History Center</td>\n",
       "      <td>collection.341</td>\n",
       "      <td>﻿V\\n\\nPennsylvania Association for Retarded Ci...</td>\n",
       "      <td>English</td>\n",
       "      <td>[V, Pennsylvania, Association, for, Retarded, ...</td>\n",
       "      <td>3042</td>\n",
       "      <td>[(V, NNP), (Pennsylvania, NNP), (Association, ...</td>\n",
       "    </tr>\n",
       "    <tr>\n",
       "      <th>1</th>\n",
       "      <td>MSS_1002_B001_F12_I01</td>\n",
       "      <td>Letter from Peter Polloni to Bob Nelkin</td>\n",
       "      <td>March 11, 1975</td>\n",
       "      <td>A letter from Peter Polloni, executive directo...</td>\n",
       "      <td>Bob Nelkin Collection of ACC-PARC Records</td>\n",
       "      <td>I. Administrative Records 1953-1983</td>\n",
       "      <td>box 1, folder 12, Item 1</td>\n",
       "      <td>Heinz History Center</td>\n",
       "      <td>Detre Library &amp; Archives, Heinz History Center</td>\n",
       "      <td>collection.341</td>\n",
       "      <td>﻿Pennsylvania Association for Retarded Citizen...</td>\n",
       "      <td>English</td>\n",
       "      <td>[Pennsylvania, Association, for, Retarded, Cit...</td>\n",
       "      <td>242</td>\n",
       "      <td>[(Pennsylvania, NNP), (Association, NNP), (for...</td>\n",
       "    </tr>\n",
       "  </tbody>\n",
       "</table>\n",
       "</div>"
      ],
      "text/plain": [
       "                      id                                    title  \\\n",
       "0  MSS_1002_B001_F11_I01                   Recent Litigation Memo   \n",
       "1  MSS_1002_B001_F12_I01  Letter from Peter Polloni to Bob Nelkin   \n",
       "\n",
       "     display_date                                           abstract  \\\n",
       "0   July 11, 1975  A PARC internal memo that summarizes recent li...   \n",
       "1  March 11, 1975  A letter from Peter Polloni, executive directo...   \n",
       "\n",
       "                                        host  \\\n",
       "0  Bob Nelkin Collection of ACC-PARC Records   \n",
       "1  Bob Nelkin Collection of ACC-PARC Records   \n",
       "\n",
       "                                series                 container  \\\n",
       "0  I. Administrative Records 1953-1983  box 1, folder 11, Item 1   \n",
       "1  I. Administrative Records 1953-1983  box 1, folder 12, Item 1   \n",
       "\n",
       "                  owner                                       depositor  \\\n",
       "0  Heinz History Center  Detre Library & Archives, Heinz History Center   \n",
       "1  Heinz History Center  Detre Library & Archives, Heinz History Center   \n",
       "\n",
       "    collection_id                                               text language  \\\n",
       "0  collection.341  ﻿V\\n\\nPennsylvania Association for Retarded Ci...  English   \n",
       "1  collection.341  ﻿Pennsylvania Association for Retarded Citizen...  English   \n",
       "\n",
       "                                                toks   len  \\\n",
       "0  [V, Pennsylvania, Association, for, Retarded, ...  3042   \n",
       "1  [Pennsylvania, Association, for, Retarded, Cit...   242   \n",
       "\n",
       "                                            POS_NLTK  \n",
       "0  [(V, NNP), (Pennsylvania, NNP), (Association, ...  \n",
       "1  [(Pennsylvania, NNP), (Association, NNP), (for...  "
      ]
     },
     "execution_count": 12,
     "metadata": {},
     "output_type": "execute_result"
    }
   ],
   "source": [
    "bob_df.head(2)"
   ]
  },
  {
   "cell_type": "code",
   "execution_count": 13,
   "metadata": {},
   "outputs": [],
   "source": [
    "# Lemmatize with POS tag\n",
    "\n",
    "# Define function for lemmatizing a word\n",
    "def get_wordnet_pos(word):\n",
    "    tag = nltk.pos_tag([word])[0][1][0].upper()\n",
    "    tag_dict = {\"J\": wordnet.ADJ,\n",
    "                \"N\": wordnet.NOUN,\n",
    "                \"V\": wordnet.VERB,\n",
    "                \"R\": wordnet.ADV}\n",
    "    return tag_dict.get(tag, wordnet.NOUN)\n",
    "\n",
    "# Initialize lemmatizer\n",
    "lemmatizer = WordNetLemmatizer()\n",
    "\n",
    "# Define function for lemmatizing a text\n",
    "def lemmatize_text(toks):\n",
    "    return [lemmatizer.lemmatize(w, get_wordnet_pos(w)) for w in toks]"
   ]
  },
  {
   "cell_type": "code",
   "execution_count": 14,
   "metadata": {},
   "outputs": [],
   "source": [
    "# Lemmatize texts\n",
    "\n",
    "bob_df['lemmas_NLTK'] = bob_df.toks.apply(lemmatize_text)"
   ]
  },
  {
   "cell_type": "code",
   "execution_count": 15,
   "metadata": {},
   "outputs": [],
   "source": [
    "# Combine toks, lemmas, POS into one column\n",
    "\n",
    "bob_df['tok_lem_POS_NLTK'] = bob_df[['toks','lemmas_NLTK','POS_NLTK']].apply(lambda x: tuple(zip(x[0],x[1],[y[1] for y in x[2]])), axis=1)\n",
    "bob_df['tok_lem_POS_NLTK'] = bob_df['tok_lem_POS_NLTK'].apply(list)\n",
    "\n",
    "del bob_df['toks']\n",
    "del bob_df['lemmas_NLTK']\n",
    "del bob_df['POS_NLTK']"
   ]
  },
  {
   "cell_type": "code",
   "execution_count": 16,
   "metadata": {},
   "outputs": [
    {
     "data": {
      "text/html": [
       "<div>\n",
       "<style scoped>\n",
       "    .dataframe tbody tr th:only-of-type {\n",
       "        vertical-align: middle;\n",
       "    }\n",
       "\n",
       "    .dataframe tbody tr th {\n",
       "        vertical-align: top;\n",
       "    }\n",
       "\n",
       "    .dataframe thead th {\n",
       "        text-align: right;\n",
       "    }\n",
       "</style>\n",
       "<table border=\"1\" class=\"dataframe\">\n",
       "  <thead>\n",
       "    <tr style=\"text-align: right;\">\n",
       "      <th></th>\n",
       "      <th>id</th>\n",
       "      <th>title</th>\n",
       "      <th>display_date</th>\n",
       "      <th>abstract</th>\n",
       "      <th>host</th>\n",
       "      <th>series</th>\n",
       "      <th>container</th>\n",
       "      <th>owner</th>\n",
       "      <th>depositor</th>\n",
       "      <th>collection_id</th>\n",
       "      <th>text</th>\n",
       "      <th>language</th>\n",
       "      <th>len</th>\n",
       "      <th>tok_lem_POS_NLTK</th>\n",
       "    </tr>\n",
       "  </thead>\n",
       "  <tbody>\n",
       "    <tr>\n",
       "      <th>0</th>\n",
       "      <td>MSS_1002_B001_F11_I01</td>\n",
       "      <td>Recent Litigation Memo</td>\n",
       "      <td>July 11, 1975</td>\n",
       "      <td>A PARC internal memo that summarizes recent li...</td>\n",
       "      <td>Bob Nelkin Collection of ACC-PARC Records</td>\n",
       "      <td>I. Administrative Records 1953-1983</td>\n",
       "      <td>box 1, folder 11, Item 1</td>\n",
       "      <td>Heinz History Center</td>\n",
       "      <td>Detre Library &amp; Archives, Heinz History Center</td>\n",
       "      <td>collection.341</td>\n",
       "      <td>﻿V\\n\\nPennsylvania Association for Retarded Ci...</td>\n",
       "      <td>English</td>\n",
       "      <td>3042</td>\n",
       "      <td>[(V, V, NNP), (Pennsylvania, Pennsylvania, NNP...</td>\n",
       "    </tr>\n",
       "    <tr>\n",
       "      <th>1</th>\n",
       "      <td>MSS_1002_B001_F12_I01</td>\n",
       "      <td>Letter from Peter Polloni to Bob Nelkin</td>\n",
       "      <td>March 11, 1975</td>\n",
       "      <td>A letter from Peter Polloni, executive directo...</td>\n",
       "      <td>Bob Nelkin Collection of ACC-PARC Records</td>\n",
       "      <td>I. Administrative Records 1953-1983</td>\n",
       "      <td>box 1, folder 12, Item 1</td>\n",
       "      <td>Heinz History Center</td>\n",
       "      <td>Detre Library &amp; Archives, Heinz History Center</td>\n",
       "      <td>collection.341</td>\n",
       "      <td>﻿Pennsylvania Association for Retarded Citizen...</td>\n",
       "      <td>English</td>\n",
       "      <td>242</td>\n",
       "      <td>[(Pennsylvania, Pennsylvania, NNP), (Associati...</td>\n",
       "    </tr>\n",
       "  </tbody>\n",
       "</table>\n",
       "</div>"
      ],
      "text/plain": [
       "                      id                                    title  \\\n",
       "0  MSS_1002_B001_F11_I01                   Recent Litigation Memo   \n",
       "1  MSS_1002_B001_F12_I01  Letter from Peter Polloni to Bob Nelkin   \n",
       "\n",
       "     display_date                                           abstract  \\\n",
       "0   July 11, 1975  A PARC internal memo that summarizes recent li...   \n",
       "1  March 11, 1975  A letter from Peter Polloni, executive directo...   \n",
       "\n",
       "                                        host  \\\n",
       "0  Bob Nelkin Collection of ACC-PARC Records   \n",
       "1  Bob Nelkin Collection of ACC-PARC Records   \n",
       "\n",
       "                                series                 container  \\\n",
       "0  I. Administrative Records 1953-1983  box 1, folder 11, Item 1   \n",
       "1  I. Administrative Records 1953-1983  box 1, folder 12, Item 1   \n",
       "\n",
       "                  owner                                       depositor  \\\n",
       "0  Heinz History Center  Detre Library & Archives, Heinz History Center   \n",
       "1  Heinz History Center  Detre Library & Archives, Heinz History Center   \n",
       "\n",
       "    collection_id                                               text language  \\\n",
       "0  collection.341  ﻿V\\n\\nPennsylvania Association for Retarded Ci...  English   \n",
       "1  collection.341  ﻿Pennsylvania Association for Retarded Citizen...  English   \n",
       "\n",
       "    len                                   tok_lem_POS_NLTK  \n",
       "0  3042  [(V, V, NNP), (Pennsylvania, Pennsylvania, NNP...  \n",
       "1   242  [(Pennsylvania, Pennsylvania, NNP), (Associati...  "
      ]
     },
     "execution_count": 16,
     "metadata": {},
     "output_type": "execute_result"
    }
   ],
   "source": [
    "bob_df.head(2)"
   ]
  },
  {
   "cell_type": "markdown",
   "metadata": {},
   "source": [
    "#### CLAWS7\n",
    "\n",
    "Uses the [CLAWS7 tagset](http://ucrel.lancs.ac.uk/claws7tags.html).\n",
    "\n",
    "This wrapper uses the free online tagger from the University of Lancaster. Each text must be in a separate txt file."
   ]
  },
  {
   "cell_type": "code",
   "execution_count": 17,
   "metadata": {},
   "outputs": [
    {
     "name": "stdout",
     "output_type": "stream",
     "text": [
      "Directory not copied. Error: [Errno 17] File exists: '../../../source-data/bob-nelkin-collection/CLAWS_tagged/'\n"
     ]
    }
   ],
   "source": [
    "# Copy ocr folder\n",
    "\n",
    "# Create function for copying directory\n",
    "def copyDirectory(src, dest):\n",
    "    try:\n",
    "        shutil.copytree(src, dest)\n",
    "    except shutil.Error as e:\n",
    "        print('Directory not copied. Error: %s' % e)\n",
    "    except OSError as e:\n",
    "        print('Directory not copied. Error: %s' % e)\n",
    "\n",
    "# Copies directory, but only if one doesn't already exist\n",
    "copyDirectory(\"../../../source-data/bob-nelkin-collection/ocr_new/\", \"../../../source-data/bob-nelkin-collection/CLAWS_tagged/\")"
   ]
  },
  {
   "cell_type": "code",
   "execution_count": 18,
   "metadata": {},
   "outputs": [],
   "source": [
    "# Change extensions from .asc to .txt - no need with ocr_new folder as already txt files\n",
    "\n",
    "#folder = '../../source-data/bob-nelkin-collection/CLAWS_tagged/'\n",
    "\n",
    "#for filename in glob.iglob(os.path.join(folder, '*.asc')):\n",
    "#    os.rename(filename, filename[:-4] + '.txt')"
   ]
  },
  {
   "cell_type": "code",
   "execution_count": 19,
   "metadata": {},
   "outputs": [
    {
     "name": "stdout",
     "output_type": "stream",
     "text": [
      "/Users/Ben/Documents/data-layers/source-data/bob-nelkin-collection/CLAWS_tagged\n"
     ]
    }
   ],
   "source": [
    "# Move into text folder\n",
    "\n",
    "%cd '../../../source-data/bob-nelkin-collection/CLAWS_tagged/'"
   ]
  },
  {
   "cell_type": "code",
   "execution_count": 20,
   "metadata": {},
   "outputs": [],
   "source": [
    "#%%capture\n",
    "\n",
    "# Tag texts (output suppressed)\n",
    "\n",
    "#Tagger.Postag('c7', 'horiz').start()\n",
    "\n",
    "# This takes a while, so no need to re-run every time"
   ]
  },
  {
   "cell_type": "code",
   "execution_count": 21,
   "metadata": {},
   "outputs": [
    {
     "data": {
      "application/javascript": [
       "\n",
       "        if (window._pyforest_update_imports_cell) { window._pyforest_update_imports_cell('import glob'); }\n",
       "    "
      ],
      "text/plain": [
       "<IPython.core.display.Javascript object>"
      ]
     },
     "metadata": {},
     "output_type": "display_data"
    }
   ],
   "source": [
    "# Remove untagged txt files\n",
    "\n",
    "to_remove = glob.glob('pitt*.txt', recursive=True)\n",
    "\n",
    "for file in to_remove:\n",
    "    os.remove(file)"
   ]
  },
  {
   "cell_type": "code",
   "execution_count": 22,
   "metadata": {},
   "outputs": [
    {
     "data": {
      "application/javascript": [
       "\n",
       "        if (window._pyforest_update_imports_cell) { window._pyforest_update_imports_cell('import glob'); }\n",
       "    "
      ],
      "text/plain": [
       "<IPython.core.display.Javascript object>"
      ]
     },
     "metadata": {},
     "output_type": "display_data"
    }
   ],
   "source": [
    "# Read in tagged CLAWS texts as one list\n",
    "\n",
    "CLAWS_texts = []\n",
    "\n",
    "for file in glob.glob(\"*.txt\"):\n",
    "    f = open(file, \"r\")\n",
    "    text = [file,f.read()]\n",
    "    CLAWS_texts.append(text)"
   ]
  },
  {
   "cell_type": "code",
   "execution_count": 23,
   "metadata": {},
   "outputs": [
    {
     "data": {
      "text/plain": [
       "['Tagged_pitt_MSS_1002_B004_F20_I08_PDF.txt',\n",
       " '\\nt_ZZ1 WEDNESDAY_NPD1 ,_, AfRIL_NP1 25_MC ,_, 1973_MC Association_NN1 Backs_VVZ \\nMcClellan_NP1 Bans_NN2 Use_VV0 Post-Gozette_JJ Harrlsburo_NP1 Burea_NP1 \\nHARRISBURGThe_NP1 association_NN1 of_IO State_NN1 Mental_JJ Hospital_NN1 \\nPhysicians_NN2 has_VHZ called_VVN for_IF the_AT reinstatement_NN1 of_IO \\nDr._NNB Janies_NP1 McClelland_NP1 as_CSA superintendent_NN1 of_IO the_AT \\nPolk_NP1 State_NN1 School_NN1 an_AT1 Hospital_NN1 Meanwhile_RR Welfare_NN1 \\nSecretary_NN1 Helen_NP1 Wohlgemuth_NP1 issued_VVD an_AT1 order_NN1 banning_VVG \\nthe_AT use_NN1 of_IO locked_JJ cages_NN2 or_CC pens_NN2 for_IF the_AT \\nincarceration_NN1 of_IO residents_NN2 at_II all_DB other_JJ state_NN1 \\ninstitution_NN1 under_II her_APPGE control_NN1 or_CC supervision_NN1 ._. \\nThese_DD2 institutions_NN2 house_VV0 some_DD 40.000_MC residents_NN2 The_AT \\nuse_NN1 of_IO five_MC feet_NN2 by_II fiv_NN1 feet_NN2 by_II five_MC feet_NN2 \\npens_NN2 at_II Polk_NP1 led_VVD to_II the_AT firing_NN1 last_MD week_NNT1 \\nof_IO Dr._NNB McClelland_NP1 ._. \\nMrs._NNB Wohlgemuth_NP1 said_VVD she_PPHS1 first_MD saw_VVD the_AT pens_NN2 \\nin_II use_NN1 at_II Polk_NP1 during_II a_AT1 surprise_NN1 visit_NN1 to_II \\nthe_AT Venango_NN1 County_NN1 institution_NN1 April_NPM1 14_MC The_AT \\nmental_JJ hospital_NN1 phjsi-cians_NN2 adopted_VVD a_AT1 resolution_NN1 \\nsupporting_VVG Dr._NNB McCelland_NP1 at_II a_AT1 meeting_NN1 here_RL ._. \\nThe_AT organization_NN1 asked_VVD for_IF a_AT1 complete_JJ impartial_JJ \\ninvestigation_NN1 of_IO the_AT case_NN1 ._. \\nTHE_AT RESOLUTION_NN1 ,_, sent_VVN to_II Gov_NN1 ._. \\nShapp_VV0 ,_, said_VVD the_AT charge_NN1 that_CST Dr._NNB McCelland_NP1 \\npermitted_VVD cruel_JJ ,_, degrading_VVG and_CC inhumane_JJ conditons_NN2 \\nat_II Polk_NP1 are_VBR defaming_VVG of_IO his_APPGE known_JJ character_NN1 ,_, \\nhis_APPGE personal_JJ and_CC professional_JJ integrity_NN1 ,_, his_PPGE \\nwell_RR documented_VVN actions_NN2 in_II his_APPGE love_NN1 and_CC care_NN1 \\nof_IO the_AT retarded_JJ patients_NN2 ,_, and_CC are_VBR in_II fact_NN1 \\nwithout_IW sub-s_NN2 rance_NN1 ._. \\nThe_AT resolutfoif*1_FO was_VBDZ auced_VVN by_II Dr._NNB Albert_NP1 G._NP1 \\nRoodc_NP1 of_IO the_AT Polk_NP1 staff_NN ._. \\nIt_PPH1 was_VBDZ passed_VVN unanimously_RR In_II her_APPGE directive_NN1 to_TO \\ntop_VVI welfare_NN1 department_NN1 o_ZZ1 f_ZZ1 f_ZZ1 i_ZZ1 c_ZZ1 i_ZZ1 a_AT1 \\nIs_VBZ ,_, Mrs._NNB Wohlgemuth_NP1 said_VVD she_PPHS1 did_VDD not_XX want_VVI \\nthe_AT pens_NN2 used_VVN in_II any_DD institutions_NN2 for_IF which_DDQ the_AT \\ndepartment_NN1 has_VHZ operational_JJ ,_, licensing_VVG ,_, approval_NN1 or_CC \\nsupervisory_JJ powers_NN2 i_MC1 TU_NN1 I_MC1 $_NN zwi_NN2 A_ZZ1 v_ZZ1 IS_VBZ \\nn_ZZ1 Wohlgemuth_NP1 Acte_NP1 Too_RG Hastily_RR at_II Pol_NP1 I_PPIS1 was_VBDZ \\ndisturbed_VVN by_II the_AT hasty_JJ \\n']"
      ]
     },
     "execution_count": 23,
     "metadata": {},
     "output_type": "execute_result"
    },
    {
     "data": {
      "text/plain": [
       "537"
      ]
     },
     "execution_count": 23,
     "metadata": {},
     "output_type": "execute_result"
    }
   ],
   "source": [
    "CLAWS_texts[3] # Example\n",
    "len(CLAWS_texts)"
   ]
  },
  {
   "cell_type": "code",
   "execution_count": 24,
   "metadata": {},
   "outputs": [
    {
     "name": "stdout",
     "output_type": "stream",
     "text": [
      "/Users/Ben/Documents/data-layers/extension-layers/bob-nelkin-collection/processing\n"
     ]
    }
   ],
   "source": [
    "# Move back to working directory\n",
    "\n",
    "%cd '../../../extension-layers/bob-nelkin-collection/processing'"
   ]
  },
  {
   "cell_type": "code",
   "execution_count": 25,
   "metadata": {},
   "outputs": [],
   "source": [
    "# Clean up CLAWS tagged texts\n",
    "\n",
    "# Shorten identifier for easier matching\n",
    "CLAWS_clean = [(x[0][12:-8],x[1]) for x in CLAWS_texts]\n",
    "\n",
    "# Remove new line characters, split on whitespace, and remove identifier at end\n",
    "CLAWS_clean = [(x[0],x[1].replace('\\n', '').split(' ')[:-2]) for x in CLAWS_clean]\n",
    "\n",
    "# Remove strings with no tags\n",
    "CLAWS_clean = [(x[0],[y for y in x[1] if '_' in y]) for x in CLAWS_clean]\n",
    "\n",
    "# Change tags into tuples\n",
    "CLAWS_clean = [(x[0],[tuple(y.split('_')) for y in x[1]]) for x in CLAWS_clean]"
   ]
  },
  {
   "cell_type": "code",
   "execution_count": 26,
   "metadata": {},
   "outputs": [
    {
     "data": {
      "text/plain": [
       "('MSS_1002_B004_F20_I08',\n",
       " [('t', 'ZZ1'),\n",
       "  ('WEDNESDAY', 'NPD1'),\n",
       "  (',', ','),\n",
       "  ('AfRIL', 'NP1'),\n",
       "  ('25', 'MC'),\n",
       "  (',', ','),\n",
       "  ('1973', 'MC'),\n",
       "  ('Association', 'NN1'),\n",
       "  ('Backs', 'VVZ'),\n",
       "  ('McClellan', 'NP1'),\n",
       "  ('Bans', 'NN2'),\n",
       "  ('Use', 'VV0'),\n",
       "  ('Post-Gozette', 'JJ'),\n",
       "  ('Harrlsburo', 'NP1'),\n",
       "  ('Burea', 'NP1'),\n",
       "  ('HARRISBURGThe', 'NP1'),\n",
       "  ('association', 'NN1'),\n",
       "  ('of', 'IO'),\n",
       "  ('State', 'NN1'),\n",
       "  ('Mental', 'JJ'),\n",
       "  ('Hospital', 'NN1'),\n",
       "  ('Physicians', 'NN2'),\n",
       "  ('has', 'VHZ'),\n",
       "  ('called', 'VVN'),\n",
       "  ('for', 'IF'),\n",
       "  ('the', 'AT'),\n",
       "  ('reinstatement', 'NN1'),\n",
       "  ('of', 'IO'),\n",
       "  ('Dr.', 'NNB'),\n",
       "  ('Janies', 'NP1'),\n",
       "  ('McClelland', 'NP1'),\n",
       "  ('as', 'CSA'),\n",
       "  ('superintendent', 'NN1'),\n",
       "  ('of', 'IO'),\n",
       "  ('the', 'AT'),\n",
       "  ('Polk', 'NP1'),\n",
       "  ('State', 'NN1'),\n",
       "  ('School', 'NN1'),\n",
       "  ('an', 'AT1'),\n",
       "  ('Hospital', 'NN1'),\n",
       "  ('Meanwhile', 'RR'),\n",
       "  ('Welfare', 'NN1'),\n",
       "  ('Secretary', 'NN1'),\n",
       "  ('Helen', 'NP1'),\n",
       "  ('Wohlgemuth', 'NP1'),\n",
       "  ('issued', 'VVD'),\n",
       "  ('an', 'AT1'),\n",
       "  ('order', 'NN1'),\n",
       "  ('banning', 'VVG'),\n",
       "  ('the', 'AT'),\n",
       "  ('use', 'NN1'),\n",
       "  ('of', 'IO'),\n",
       "  ('locked', 'JJ'),\n",
       "  ('cages', 'NN2'),\n",
       "  ('or', 'CC'),\n",
       "  ('pens', 'NN2'),\n",
       "  ('for', 'IF'),\n",
       "  ('the', 'AT'),\n",
       "  ('incarceration', 'NN1'),\n",
       "  ('of', 'IO'),\n",
       "  ('residents', 'NN2'),\n",
       "  ('at', 'II'),\n",
       "  ('all', 'DB'),\n",
       "  ('other', 'JJ'),\n",
       "  ('state', 'NN1'),\n",
       "  ('institution', 'NN1'),\n",
       "  ('under', 'II'),\n",
       "  ('her', 'APPGE'),\n",
       "  ('control', 'NN1'),\n",
       "  ('or', 'CC'),\n",
       "  ('supervision', 'NN1'),\n",
       "  ('.', '.'),\n",
       "  ('These', 'DD2'),\n",
       "  ('institutions', 'NN2'),\n",
       "  ('house', 'VV0'),\n",
       "  ('some', 'DD'),\n",
       "  ('40.000', 'MC'),\n",
       "  ('residents', 'NN2'),\n",
       "  ('The', 'AT'),\n",
       "  ('use', 'NN1'),\n",
       "  ('of', 'IO'),\n",
       "  ('five', 'MC'),\n",
       "  ('feet', 'NN2'),\n",
       "  ('by', 'II'),\n",
       "  ('fiv', 'NN1'),\n",
       "  ('feet', 'NN2'),\n",
       "  ('by', 'II'),\n",
       "  ('five', 'MC'),\n",
       "  ('feet', 'NN2'),\n",
       "  ('pens', 'NN2'),\n",
       "  ('at', 'II'),\n",
       "  ('Polk', 'NP1'),\n",
       "  ('led', 'VVD'),\n",
       "  ('to', 'II'),\n",
       "  ('the', 'AT'),\n",
       "  ('firing', 'NN1'),\n",
       "  ('last', 'MD'),\n",
       "  ('week', 'NNT1'),\n",
       "  ('of', 'IO'),\n",
       "  ('Dr.', 'NNB'),\n",
       "  ('McClelland', 'NP1'),\n",
       "  ('.', '.'),\n",
       "  ('Mrs.', 'NNB'),\n",
       "  ('Wohlgemuth', 'NP1'),\n",
       "  ('said', 'VVD'),\n",
       "  ('she', 'PPHS1'),\n",
       "  ('first', 'MD'),\n",
       "  ('saw', 'VVD'),\n",
       "  ('the', 'AT'),\n",
       "  ('pens', 'NN2'),\n",
       "  ('in', 'II'),\n",
       "  ('use', 'NN1'),\n",
       "  ('at', 'II'),\n",
       "  ('Polk', 'NP1'),\n",
       "  ('during', 'II'),\n",
       "  ('a', 'AT1'),\n",
       "  ('surprise', 'NN1'),\n",
       "  ('visit', 'NN1'),\n",
       "  ('to', 'II'),\n",
       "  ('the', 'AT'),\n",
       "  ('Venango', 'NN1'),\n",
       "  ('County', 'NN1'),\n",
       "  ('institution', 'NN1'),\n",
       "  ('April', 'NPM1'),\n",
       "  ('14', 'MC'),\n",
       "  ('The', 'AT'),\n",
       "  ('mental', 'JJ'),\n",
       "  ('hospital', 'NN1'),\n",
       "  ('phjsi-cians', 'NN2'),\n",
       "  ('adopted', 'VVD'),\n",
       "  ('a', 'AT1'),\n",
       "  ('resolution', 'NN1'),\n",
       "  ('supporting', 'VVG'),\n",
       "  ('Dr.', 'NNB'),\n",
       "  ('McCelland', 'NP1'),\n",
       "  ('at', 'II'),\n",
       "  ('a', 'AT1'),\n",
       "  ('meeting', 'NN1'),\n",
       "  ('here', 'RL'),\n",
       "  ('.', '.'),\n",
       "  ('The', 'AT'),\n",
       "  ('organization', 'NN1'),\n",
       "  ('asked', 'VVD'),\n",
       "  ('for', 'IF'),\n",
       "  ('a', 'AT1'),\n",
       "  ('complete', 'JJ'),\n",
       "  ('impartial', 'JJ'),\n",
       "  ('investigation', 'NN1'),\n",
       "  ('of', 'IO'),\n",
       "  ('the', 'AT'),\n",
       "  ('case', 'NN1'),\n",
       "  ('.', '.'),\n",
       "  ('THE', 'AT'),\n",
       "  ('RESOLUTION', 'NN1'),\n",
       "  (',', ','),\n",
       "  ('sent', 'VVN'),\n",
       "  ('to', 'II'),\n",
       "  ('Gov', 'NN1'),\n",
       "  ('.', '.'),\n",
       "  ('Shapp', 'VV0'),\n",
       "  (',', ','),\n",
       "  ('said', 'VVD'),\n",
       "  ('the', 'AT'),\n",
       "  ('charge', 'NN1'),\n",
       "  ('that', 'CST'),\n",
       "  ('Dr.', 'NNB'),\n",
       "  ('McCelland', 'NP1'),\n",
       "  ('permitted', 'VVD'),\n",
       "  ('cruel', 'JJ'),\n",
       "  (',', ','),\n",
       "  ('degrading', 'VVG'),\n",
       "  ('and', 'CC'),\n",
       "  ('inhumane', 'JJ'),\n",
       "  ('conditons', 'NN2'),\n",
       "  ('at', 'II'),\n",
       "  ('Polk', 'NP1'),\n",
       "  ('are', 'VBR'),\n",
       "  ('defaming', 'VVG'),\n",
       "  ('of', 'IO'),\n",
       "  ('his', 'APPGE'),\n",
       "  ('known', 'JJ'),\n",
       "  ('character', 'NN1'),\n",
       "  (',', ','),\n",
       "  ('his', 'APPGE'),\n",
       "  ('personal', 'JJ'),\n",
       "  ('and', 'CC'),\n",
       "  ('professional', 'JJ'),\n",
       "  ('integrity', 'NN1'),\n",
       "  (',', ','),\n",
       "  ('his', 'PPGE'),\n",
       "  ('well', 'RR'),\n",
       "  ('documented', 'VVN'),\n",
       "  ('actions', 'NN2'),\n",
       "  ('in', 'II'),\n",
       "  ('his', 'APPGE'),\n",
       "  ('love', 'NN1'),\n",
       "  ('and', 'CC'),\n",
       "  ('care', 'NN1'),\n",
       "  ('of', 'IO'),\n",
       "  ('the', 'AT'),\n",
       "  ('retarded', 'JJ'),\n",
       "  ('patients', 'NN2'),\n",
       "  (',', ','),\n",
       "  ('and', 'CC'),\n",
       "  ('are', 'VBR'),\n",
       "  ('in', 'II'),\n",
       "  ('fact', 'NN1'),\n",
       "  ('without', 'IW'),\n",
       "  ('sub-s', 'NN2'),\n",
       "  ('rance', 'NN1'),\n",
       "  ('.', '.'),\n",
       "  ('The', 'AT'),\n",
       "  ('resolutfoif*1', 'FO'),\n",
       "  ('was', 'VBDZ'),\n",
       "  ('auced', 'VVN'),\n",
       "  ('by', 'II'),\n",
       "  ('Dr.', 'NNB'),\n",
       "  ('Albert', 'NP1'),\n",
       "  ('G.', 'NP1'),\n",
       "  ('Roodc', 'NP1'),\n",
       "  ('of', 'IO'),\n",
       "  ('the', 'AT'),\n",
       "  ('Polk', 'NP1'),\n",
       "  ('staff', 'NN'),\n",
       "  ('.', '.'),\n",
       "  ('It', 'PPH1'),\n",
       "  ('was', 'VBDZ'),\n",
       "  ('passed', 'VVN'),\n",
       "  ('unanimously', 'RR'),\n",
       "  ('In', 'II'),\n",
       "  ('her', 'APPGE'),\n",
       "  ('directive', 'NN1'),\n",
       "  ('to', 'TO'),\n",
       "  ('top', 'VVI'),\n",
       "  ('welfare', 'NN1'),\n",
       "  ('department', 'NN1'),\n",
       "  ('o', 'ZZ1'),\n",
       "  ('f', 'ZZ1'),\n",
       "  ('f', 'ZZ1'),\n",
       "  ('i', 'ZZ1'),\n",
       "  ('c', 'ZZ1'),\n",
       "  ('i', 'ZZ1'),\n",
       "  ('a', 'AT1'),\n",
       "  ('Is', 'VBZ'),\n",
       "  (',', ','),\n",
       "  ('Mrs.', 'NNB'),\n",
       "  ('Wohlgemuth', 'NP1'),\n",
       "  ('said', 'VVD'),\n",
       "  ('she', 'PPHS1'),\n",
       "  ('did', 'VDD'),\n",
       "  ('not', 'XX'),\n",
       "  ('want', 'VVI'),\n",
       "  ('the', 'AT'),\n",
       "  ('pens', 'NN2'),\n",
       "  ('used', 'VVN'),\n",
       "  ('in', 'II'),\n",
       "  ('any', 'DD'),\n",
       "  ('institutions', 'NN2'),\n",
       "  ('for', 'IF'),\n",
       "  ('which', 'DDQ'),\n",
       "  ('the', 'AT'),\n",
       "  ('department', 'NN1'),\n",
       "  ('has', 'VHZ'),\n",
       "  ('operational', 'JJ'),\n",
       "  (',', ','),\n",
       "  ('licensing', 'VVG'),\n",
       "  (',', ','),\n",
       "  ('approval', 'NN1'),\n",
       "  ('or', 'CC'),\n",
       "  ('supervisory', 'JJ'),\n",
       "  ('powers', 'NN2'),\n",
       "  ('i', 'MC1'),\n",
       "  ('TU', 'NN1'),\n",
       "  ('I', 'MC1'),\n",
       "  ('$', 'NN'),\n",
       "  ('zwi', 'NN2'),\n",
       "  ('A', 'ZZ1'),\n",
       "  ('v', 'ZZ1'),\n",
       "  ('IS', 'VBZ'),\n",
       "  ('n', 'ZZ1'),\n",
       "  ('Wohlgemuth', 'NP1'),\n",
       "  ('Acte', 'NP1'),\n",
       "  ('Too', 'RG'),\n",
       "  ('Hastily', 'RR'),\n",
       "  ('at', 'II'),\n",
       "  ('Pol', 'NP1'),\n",
       "  ('I', 'PPIS1'),\n",
       "  ('was', 'VBDZ'),\n",
       "  ('disturbed', 'VVN'),\n",
       "  ('by', 'II'),\n",
       "  ('the', 'AT')])"
      ]
     },
     "execution_count": 26,
     "metadata": {},
     "output_type": "execute_result"
    }
   ],
   "source": [
    "# Check example output\n",
    "\n",
    "CLAWS_clean[3]"
   ]
  },
  {
   "cell_type": "code",
   "execution_count": 27,
   "metadata": {},
   "outputs": [
    {
     "data": {
      "text/html": [
       "<div>\n",
       "<style scoped>\n",
       "    .dataframe tbody tr th:only-of-type {\n",
       "        vertical-align: middle;\n",
       "    }\n",
       "\n",
       "    .dataframe tbody tr th {\n",
       "        vertical-align: top;\n",
       "    }\n",
       "\n",
       "    .dataframe thead th {\n",
       "        text-align: right;\n",
       "    }\n",
       "</style>\n",
       "<table border=\"1\" class=\"dataframe\">\n",
       "  <thead>\n",
       "    <tr style=\"text-align: right;\">\n",
       "      <th></th>\n",
       "      <th>id</th>\n",
       "      <th>title</th>\n",
       "      <th>display_date</th>\n",
       "      <th>abstract</th>\n",
       "      <th>host</th>\n",
       "      <th>series</th>\n",
       "      <th>container</th>\n",
       "      <th>owner</th>\n",
       "      <th>depositor</th>\n",
       "      <th>collection_id</th>\n",
       "      <th>text</th>\n",
       "      <th>language</th>\n",
       "      <th>len</th>\n",
       "      <th>tok_lem_POS_NLTK</th>\n",
       "      <th>tok_CLAWS</th>\n",
       "    </tr>\n",
       "  </thead>\n",
       "  <tbody>\n",
       "    <tr>\n",
       "      <th>0</th>\n",
       "      <td>MSS_1002_B001_F11_I01</td>\n",
       "      <td>Recent Litigation Memo</td>\n",
       "      <td>July 11, 1975</td>\n",
       "      <td>A PARC internal memo that summarizes recent li...</td>\n",
       "      <td>Bob Nelkin Collection of ACC-PARC Records</td>\n",
       "      <td>I. Administrative Records 1953-1983</td>\n",
       "      <td>box 1, folder 11, Item 1</td>\n",
       "      <td>Heinz History Center</td>\n",
       "      <td>Detre Library &amp; Archives, Heinz History Center</td>\n",
       "      <td>collection.341</td>\n",
       "      <td>﻿V\\n\\nPennsylvania Association for Retarded Ci...</td>\n",
       "      <td>English</td>\n",
       "      <td>3042</td>\n",
       "      <td>[(V, V, NNP), (Pennsylvania, Pennsylvania, NNP...</td>\n",
       "      <td>[(Pennsylvania, NP1), (Association, NN1), (for...</td>\n",
       "    </tr>\n",
       "  </tbody>\n",
       "</table>\n",
       "</div>"
      ],
      "text/plain": [
       "                      id                   title   display_date  \\\n",
       "0  MSS_1002_B001_F11_I01  Recent Litigation Memo  July 11, 1975   \n",
       "\n",
       "                                            abstract  \\\n",
       "0  A PARC internal memo that summarizes recent li...   \n",
       "\n",
       "                                        host  \\\n",
       "0  Bob Nelkin Collection of ACC-PARC Records   \n",
       "\n",
       "                                series                 container  \\\n",
       "0  I. Administrative Records 1953-1983  box 1, folder 11, Item 1   \n",
       "\n",
       "                  owner                                       depositor  \\\n",
       "0  Heinz History Center  Detre Library & Archives, Heinz History Center   \n",
       "\n",
       "    collection_id                                               text language  \\\n",
       "0  collection.341  ﻿V\\n\\nPennsylvania Association for Retarded Ci...  English   \n",
       "\n",
       "    len                                   tok_lem_POS_NLTK  \\\n",
       "0  3042  [(V, V, NNP), (Pennsylvania, Pennsylvania, NNP...   \n",
       "\n",
       "                                           tok_CLAWS  \n",
       "0  [(Pennsylvania, NP1), (Association, NN1), (for...  "
      ]
     },
     "execution_count": 27,
     "metadata": {},
     "output_type": "execute_result"
    }
   ],
   "source": [
    "# Create dict and add as column\n",
    "\n",
    "CLAWS_dict = dict(CLAWS_clean)\n",
    "bob_df['tok_CLAWS'] = bob_df.id.map(CLAWS_dict)\n",
    "bob_df.head(1)"
   ]
  },
  {
   "cell_type": "code",
   "execution_count": 28,
   "metadata": {},
   "outputs": [],
   "source": [
    "# Create lemma_CLAWS column using COCA data\n",
    "\n",
    "coca_freq_dict = joblib.load('../../../../COCA_data/COCA_2020_lemma_freq_dict.pkl')"
   ]
  },
  {
   "cell_type": "code",
   "execution_count": 29,
   "metadata": {},
   "outputs": [
    {
     "data": {
      "text/plain": [
       "[(('drag-and-drop', 'j'), 156), (('sinuously', 'r'), 62)]"
      ]
     },
     "execution_count": 29,
     "metadata": {},
     "output_type": "execute_result"
    }
   ],
   "source": [
    "# Sample from dictionary\n",
    "\n",
    "random.sample(coca_freq_dict.items(), 2)"
   ]
  },
  {
   "cell_type": "markdown",
   "metadata": {},
   "source": [
    "COCA data is from a paid license. Please see [Dr Na-Rae Han](https://www.linguistics.pitt.edu/people/na-rae-han) for access information for Pitt students and faculty or the [COCA website](https://www.wordfrequency.info/purchase.asp) for purchase information."
   ]
  },
  {
   "cell_type": "code",
   "execution_count": 30,
   "metadata": {},
   "outputs": [
    {
     "data": {
      "text/html": [
       "<div>\n",
       "<style scoped>\n",
       "    .dataframe tbody tr th:only-of-type {\n",
       "        vertical-align: middle;\n",
       "    }\n",
       "\n",
       "    .dataframe tbody tr th {\n",
       "        vertical-align: top;\n",
       "    }\n",
       "\n",
       "    .dataframe thead th {\n",
       "        text-align: right;\n",
       "    }\n",
       "</style>\n",
       "<table border=\"1\" class=\"dataframe\">\n",
       "  <thead>\n",
       "    <tr style=\"text-align: right;\">\n",
       "      <th></th>\n",
       "      <th>id</th>\n",
       "      <th>title</th>\n",
       "      <th>display_date</th>\n",
       "      <th>abstract</th>\n",
       "      <th>host</th>\n",
       "      <th>series</th>\n",
       "      <th>container</th>\n",
       "      <th>owner</th>\n",
       "      <th>depositor</th>\n",
       "      <th>collection_id</th>\n",
       "      <th>text</th>\n",
       "      <th>language</th>\n",
       "      <th>len</th>\n",
       "      <th>tok_lem_POS_NLTK</th>\n",
       "      <th>tok_CLAWS</th>\n",
       "    </tr>\n",
       "  </thead>\n",
       "  <tbody>\n",
       "    <tr>\n",
       "      <th>261</th>\n",
       "      <td>MSS_1002_B004_F17_I11</td>\n",
       "      <td>Letter from Mrs. E. Wilkinson to Helene Wohlge...</td>\n",
       "      <td>April 26, 1973</td>\n",
       "      <td>A letter from Mrs. E. Wilkinson thanking Secre...</td>\n",
       "      <td>Bob Nelkin Collection of ACC-PARC Records</td>\n",
       "      <td>II. State School and Hospital (SSH) and Interi...</td>\n",
       "      <td>box 4, Folder 17, Item 11</td>\n",
       "      <td>Heinz History Center</td>\n",
       "      <td>Detre Library &amp; Archives, Heinz History Center</td>\n",
       "      <td>collection.341</td>\n",
       "      <td>﻿i/</td>\n",
       "      <td>English</td>\n",
       "      <td>1</td>\n",
       "      <td>[(i/, i/, NN)]</td>\n",
       "      <td>[(i/, FU)]</td>\n",
       "    </tr>\n",
       "    <tr>\n",
       "      <th>289</th>\n",
       "      <td>MSS_1002_B004_F18_I15</td>\n",
       "      <td>Letter from Edward and Elizabeth M.</td>\n",
       "      <td>c. 1973</td>\n",
       "      <td>A letter from Edward and Elizabeth M., parents...</td>\n",
       "      <td>Bob Nelkin Collection of ACC-PARC Records</td>\n",
       "      <td>II. State School and Hospital (SSH) and Interi...</td>\n",
       "      <td>box 4, Folder 18, Item 15</td>\n",
       "      <td>Heinz History Center</td>\n",
       "      <td>Detre Library &amp; Archives, Heinz History Center</td>\n",
       "      <td>collection.341</td>\n",
       "      <td>﻿V</td>\n",
       "      <td>English</td>\n",
       "      <td>1</td>\n",
       "      <td>[(V, V, NN)]</td>\n",
       "      <td>[(V, ZZ1)]</td>\n",
       "    </tr>\n",
       "    <tr>\n",
       "      <th>292</th>\n",
       "      <td>MSS_1002_B004_F18_I18</td>\n",
       "      <td>Letter from George S. to Helene Wohlgemuth</td>\n",
       "      <td>May 16, 1973</td>\n",
       "      <td>A letter from George S., a parent of a Polk St...</td>\n",
       "      <td>Bob Nelkin Collection of ACC-PARC Records</td>\n",
       "      <td>II. State School and Hospital (SSH) and Interi...</td>\n",
       "      <td>box 4, Folder 18, Item 18</td>\n",
       "      <td>Heinz History Center</td>\n",
       "      <td>Detre Library &amp; Archives, Heinz History Center</td>\n",
       "      <td>collection.341</td>\n",
       "      <td>﻿i\\n\\nfay 16, 1&lt;?73-\\nI\\npAd Helene Wolyemudh ...</td>\n",
       "      <td>English</td>\n",
       "      <td>250</td>\n",
       "      <td>[(i, i, NN), (fay, fay, VBD), (16, 16, CD), (,...</td>\n",
       "      <td>[(fay, VV0)]</td>\n",
       "    </tr>\n",
       "    <tr>\n",
       "      <th>428</th>\n",
       "      <td>MSS_1002_B004_F22_I39</td>\n",
       "      <td>Letter from a \"Penn Citizen\" to Helene Wohlgemuth</td>\n",
       "      <td>April 21, 1973</td>\n",
       "      <td>An anonymous letter signed by a \"Penn Citizen\"...</td>\n",
       "      <td>Bob Nelkin Collection of ACC-PARC Records</td>\n",
       "      <td>II. State School and Hospital (SSH) and Interi...</td>\n",
       "      <td>box 4, Folder 22, Item 39</td>\n",
       "      <td>Heinz History Center</td>\n",
       "      <td>Detre Library &amp; Archives, Heinz History Center</td>\n",
       "      <td>collection.341</td>\n",
       "      <td>﻿\\n1/\\nZDcg-acXx\\n/Zx2 a\\ni^p-eiU/Xa t ^9\\t&gt;Dv...</td>\n",
       "      <td>English</td>\n",
       "      <td>192</td>\n",
       "      <td>[(1/, 1/, CD), (ZDcg-acXx, ZDcg-acXx, JJ), (/Z...</td>\n",
       "      <td>[(1, MC1)]</td>\n",
       "    </tr>\n",
       "  </tbody>\n",
       "</table>\n",
       "</div>"
      ],
      "text/plain": [
       "                        id                                              title  \\\n",
       "261  MSS_1002_B004_F17_I11  Letter from Mrs. E. Wilkinson to Helene Wohlge...   \n",
       "289  MSS_1002_B004_F18_I15                Letter from Edward and Elizabeth M.   \n",
       "292  MSS_1002_B004_F18_I18         Letter from George S. to Helene Wohlgemuth   \n",
       "428  MSS_1002_B004_F22_I39  Letter from a \"Penn Citizen\" to Helene Wohlgemuth   \n",
       "\n",
       "       display_date                                           abstract  \\\n",
       "261  April 26, 1973  A letter from Mrs. E. Wilkinson thanking Secre...   \n",
       "289         c. 1973  A letter from Edward and Elizabeth M., parents...   \n",
       "292    May 16, 1973  A letter from George S., a parent of a Polk St...   \n",
       "428  April 21, 1973  An anonymous letter signed by a \"Penn Citizen\"...   \n",
       "\n",
       "                                          host  \\\n",
       "261  Bob Nelkin Collection of ACC-PARC Records   \n",
       "289  Bob Nelkin Collection of ACC-PARC Records   \n",
       "292  Bob Nelkin Collection of ACC-PARC Records   \n",
       "428  Bob Nelkin Collection of ACC-PARC Records   \n",
       "\n",
       "                                                series  \\\n",
       "261  II. State School and Hospital (SSH) and Interi...   \n",
       "289  II. State School and Hospital (SSH) and Interi...   \n",
       "292  II. State School and Hospital (SSH) and Interi...   \n",
       "428  II. State School and Hospital (SSH) and Interi...   \n",
       "\n",
       "                     container                 owner  \\\n",
       "261  box 4, Folder 17, Item 11  Heinz History Center   \n",
       "289  box 4, Folder 18, Item 15  Heinz History Center   \n",
       "292  box 4, Folder 18, Item 18  Heinz History Center   \n",
       "428  box 4, Folder 22, Item 39  Heinz History Center   \n",
       "\n",
       "                                          depositor   collection_id  \\\n",
       "261  Detre Library & Archives, Heinz History Center  collection.341   \n",
       "289  Detre Library & Archives, Heinz History Center  collection.341   \n",
       "292  Detre Library & Archives, Heinz History Center  collection.341   \n",
       "428  Detre Library & Archives, Heinz History Center  collection.341   \n",
       "\n",
       "                                                  text language  len  \\\n",
       "261                                                ﻿i/  English    1   \n",
       "289                                                 ﻿V  English    1   \n",
       "292  ﻿i\\n\\nfay 16, 1<?73-\\nI\\npAd Helene Wolyemudh ...  English  250   \n",
       "428  ﻿\\n1/\\nZDcg-acXx\\n/Zx2 a\\ni^p-eiU/Xa t ^9\\t>Dv...  English  192   \n",
       "\n",
       "                                      tok_lem_POS_NLTK     tok_CLAWS  \n",
       "261                                     [(i/, i/, NN)]    [(i/, FU)]  \n",
       "289                                       [(V, V, NN)]    [(V, ZZ1)]  \n",
       "292  [(i, i, NN), (fay, fay, VBD), (16, 16, CD), (,...  [(fay, VV0)]  \n",
       "428  [(1/, 1/, CD), (ZDcg-acXx, ZDcg-acXx, JJ), (/Z...    [(1, MC1)]  "
      ]
     },
     "execution_count": 30,
     "metadata": {},
     "output_type": "execute_result"
    }
   ],
   "source": [
    "# Remove tagged text with only 1 token causing issues\n",
    "\n",
    "bob_df.loc[bob_df.tok_CLAWS.str.len()==1]\n",
    "\n",
    "bob_df.loc[351,'tok_CLAWS']=['']"
   ]
  },
  {
   "cell_type": "code",
   "execution_count": 31,
   "metadata": {},
   "outputs": [],
   "source": [
    "def get_short_POS(tok_CLAWS_list):\n",
    "    tok_CLAWS_list = [x for x in tok_CLAWS_list if len(x[1])!=0]\n",
    "    if len(tok_CLAWS_list) !=0:\n",
    "        short_POS = [(x[0],x[1][0].lower()) for x in tok_CLAWS_list]\n",
    "    else:\n",
    "        short_POS = []\n",
    "    return short_POS"
   ]
  },
  {
   "cell_type": "code",
   "execution_count": 32,
   "metadata": {},
   "outputs": [],
   "source": [
    "# Replace NaN values for the photos\n",
    "\n",
    "bob_df.tok_CLAWS = bob_df.tok_CLAWS.fillna('')"
   ]
  },
  {
   "cell_type": "code",
   "execution_count": 33,
   "metadata": {},
   "outputs": [],
   "source": [
    "# Keep only first letter of CLAWS POS tags\n",
    "\n",
    "bob_df.tok_CLAWS = bob_df.tok_CLAWS.apply(get_short_POS)"
   ]
  },
  {
   "cell_type": "code",
   "execution_count": 34,
   "metadata": {},
   "outputs": [
    {
     "data": {
      "text/plain": [
       "['a', 'c', 'd', 'e', 'i', 'j', 'm', 'n', 'p', 'r', 't', 'u', 'v', 'x']"
      ]
     },
     "execution_count": 34,
     "metadata": {},
     "output_type": "execute_result"
    }
   ],
   "source": [
    "# Check all COCA lemma dict POS\n",
    "\n",
    "COCA_POS = sorted(list(set([x[1] for x in coca_freq_dict.keys()])))\n",
    "COCA_POS"
   ]
  },
  {
   "cell_type": "code",
   "execution_count": 35,
   "metadata": {},
   "outputs": [],
   "source": [
    "# Remove puncuation from CLAWS texts\n",
    "\n",
    "bob_df.tok_CLAWS = bob_df.tok_CLAWS.apply(lambda row: [x for x in row if x[1] in COCA_POS])"
   ]
  },
  {
   "cell_type": "code",
   "execution_count": 36,
   "metadata": {},
   "outputs": [],
   "source": [
    "# Create CLAWS lemma column\n",
    "\n",
    "# First lower case all toks (as in the word_lemma dict)\n",
    "bob_df['lemmas_CLAWS'] = bob_df.tok_CLAWS.apply(lambda row: [(x[0].lower(),x[1]) for x in row])"
   ]
  },
  {
   "cell_type": "code",
   "execution_count": 37,
   "metadata": {},
   "outputs": [],
   "source": [
    "# Then map dict\n",
    "\n",
    "coca_word_lemma_dict = joblib.load('../../../../COCA_data/COCA_2020_word_lemma_dict.pkl')\n",
    "\n",
    "bob_df.lemmas_CLAWS = bob_df.lemmas_CLAWS.apply(\n",
    "    lambda row:[coca_word_lemma_dict[x] if x in coca_word_lemma_dict else x for x in row])"
   ]
  },
  {
   "cell_type": "code",
   "execution_count": 38,
   "metadata": {},
   "outputs": [],
   "source": [
    "# Combine toks, lemmas, POS into one column\n",
    "\n",
    "bob_df['tok_lem_POS_CLAWS'] = bob_df[['tok_CLAWS','lemmas_CLAWS']].apply(\n",
    "    lambda x: tuple(zip([y[0] for y in x[0]],[y[0] for y in x[1]],[y[1] for y in x[1]])), axis=1)\n",
    "bob_df['tok_lem_POS_CLAWS'] = bob_df['tok_lem_POS_CLAWS'].apply(list)\n",
    "\n",
    "del bob_df['tok_CLAWS']\n",
    "del bob_df['lemmas_CLAWS']"
   ]
  },
  {
   "cell_type": "code",
   "execution_count": 39,
   "metadata": {
    "scrolled": true
   },
   "outputs": [
    {
     "data": {
      "text/html": [
       "<div>\n",
       "<style scoped>\n",
       "    .dataframe tbody tr th:only-of-type {\n",
       "        vertical-align: middle;\n",
       "    }\n",
       "\n",
       "    .dataframe tbody tr th {\n",
       "        vertical-align: top;\n",
       "    }\n",
       "\n",
       "    .dataframe thead th {\n",
       "        text-align: right;\n",
       "    }\n",
       "</style>\n",
       "<table border=\"1\" class=\"dataframe\">\n",
       "  <thead>\n",
       "    <tr style=\"text-align: right;\">\n",
       "      <th></th>\n",
       "      <th>id</th>\n",
       "      <th>title</th>\n",
       "      <th>display_date</th>\n",
       "      <th>abstract</th>\n",
       "      <th>host</th>\n",
       "      <th>series</th>\n",
       "      <th>container</th>\n",
       "      <th>owner</th>\n",
       "      <th>depositor</th>\n",
       "      <th>collection_id</th>\n",
       "      <th>text</th>\n",
       "      <th>language</th>\n",
       "      <th>len</th>\n",
       "      <th>tok_lem_POS_NLTK</th>\n",
       "      <th>tok_lem_POS_CLAWS</th>\n",
       "    </tr>\n",
       "  </thead>\n",
       "  <tbody>\n",
       "    <tr>\n",
       "      <th>0</th>\n",
       "      <td>MSS_1002_B001_F11_I01</td>\n",
       "      <td>Recent Litigation Memo</td>\n",
       "      <td>July 11, 1975</td>\n",
       "      <td>A PARC internal memo that summarizes recent li...</td>\n",
       "      <td>Bob Nelkin Collection of ACC-PARC Records</td>\n",
       "      <td>I. Administrative Records 1953-1983</td>\n",
       "      <td>box 1, folder 11, Item 1</td>\n",
       "      <td>Heinz History Center</td>\n",
       "      <td>Detre Library &amp; Archives, Heinz History Center</td>\n",
       "      <td>collection.341</td>\n",
       "      <td>﻿V\\n\\nPennsylvania Association for Retarded Ci...</td>\n",
       "      <td>English</td>\n",
       "      <td>3042</td>\n",
       "      <td>[(V, V, NNP), (Pennsylvania, Pennsylvania, NNP...</td>\n",
       "      <td>[(Pennsylvania, pennsylvania, n), (Association...</td>\n",
       "    </tr>\n",
       "    <tr>\n",
       "      <th>1</th>\n",
       "      <td>MSS_1002_B001_F12_I01</td>\n",
       "      <td>Letter from Peter Polloni to Bob Nelkin</td>\n",
       "      <td>March 11, 1975</td>\n",
       "      <td>A letter from Peter Polloni, executive directo...</td>\n",
       "      <td>Bob Nelkin Collection of ACC-PARC Records</td>\n",
       "      <td>I. Administrative Records 1953-1983</td>\n",
       "      <td>box 1, folder 12, Item 1</td>\n",
       "      <td>Heinz History Center</td>\n",
       "      <td>Detre Library &amp; Archives, Heinz History Center</td>\n",
       "      <td>collection.341</td>\n",
       "      <td>﻿Pennsylvania Association for Retarded Citizen...</td>\n",
       "      <td>English</td>\n",
       "      <td>242</td>\n",
       "      <td>[(Pennsylvania, Pennsylvania, NNP), (Associati...</td>\n",
       "      <td>[(Pennsylvania, pennsylvania, n), (Association...</td>\n",
       "    </tr>\n",
       "    <tr>\n",
       "      <th>2</th>\n",
       "      <td>MSS_1002_B001_F13_I01</td>\n",
       "      <td>Letter to Frank Beal from Families and Friends...</td>\n",
       "      <td>August 19, 1976</td>\n",
       "      <td>A letter from Families and Friends of Southwes...</td>\n",
       "      <td>Bob Nelkin Collection of ACC-PARC Records</td>\n",
       "      <td>I. Administrative Records 1953-1983</td>\n",
       "      <td>box 1, folder 13, Item 1</td>\n",
       "      <td>Heinz History Center</td>\n",
       "      <td>Detre Library &amp; Archives, Heinz History Center</td>\n",
       "      <td>collection.341</td>\n",
       "      <td>﻿11\\nFAMILIES &amp; FRIENDS OF SOUTHWEST HABILITAT...</td>\n",
       "      <td>English</td>\n",
       "      <td>268</td>\n",
       "      <td>[(11, 11, CD), (FAMILIES, FAMILIES, NNP), (&amp;, ...</td>\n",
       "      <td>[(1, 1, m), (FAMILIES, family, n), (FRIENDS, f...</td>\n",
       "    </tr>\n",
       "    <tr>\n",
       "      <th>3</th>\n",
       "      <td>MSS_1002_B001_F13_I02</td>\n",
       "      <td>Letter from families of patients at Southwest ...</td>\n",
       "      <td>July 27, 1976</td>\n",
       "      <td>A letter requesting Bob Nelkin's advice on adv...</td>\n",
       "      <td>Bob Nelkin Collection of ACC-PARC Records</td>\n",
       "      <td>I. Administrative Records 1953-1983</td>\n",
       "      <td>box 1, folder 13, Item 2</td>\n",
       "      <td>Heinz History Center</td>\n",
       "      <td>Detre Library &amp; Archives, Heinz History Center</td>\n",
       "      <td>collection.341</td>\n",
       "      <td>﻿FAMILIES &amp; FRIENDS OF\\nSOUTHWEST HABILITATION...</td>\n",
       "      <td>English</td>\n",
       "      <td>320</td>\n",
       "      <td>[(FAMILIES, FAMILIES, NNP), (&amp;, &amp;, CC), (FRIEN...</td>\n",
       "      <td>[(FAMILIES, family, n), (FRIENDS, friend, n), ...</td>\n",
       "    </tr>\n",
       "    <tr>\n",
       "      <th>4</th>\n",
       "      <td>MSS_1002_B001_F16_I01</td>\n",
       "      <td>ACC-PARC Recent Benefits to Families Memo</td>\n",
       "      <td>March 28, 1977</td>\n",
       "      <td>Correspondence from Bob Nelkin to Joan Murdoch...</td>\n",
       "      <td>Bob Nelkin Collection of ACC-PARC Records</td>\n",
       "      <td>I. Administrative Records 1953-1983</td>\n",
       "      <td>box 1, folder 16, Item 1</td>\n",
       "      <td>Heinz History Center</td>\n",
       "      <td>Detre Library &amp; Archives, Heinz History Center</td>\n",
       "      <td>collection.341</td>\n",
       "      <td>C ommonwealth of Pennsylvania\\n\\nDepartment of...</td>\n",
       "      <td>English</td>\n",
       "      <td>6932</td>\n",
       "      <td>[(C, C, NNP), (ommonwealth, ommonwealth, NN), ...</td>\n",
       "      <td>[(C, c, n), (ommonwealth, ommonwealth, n), (of...</td>\n",
       "    </tr>\n",
       "  </tbody>\n",
       "</table>\n",
       "</div>"
      ],
      "text/plain": [
       "                      id                                              title  \\\n",
       "0  MSS_1002_B001_F11_I01                             Recent Litigation Memo   \n",
       "1  MSS_1002_B001_F12_I01            Letter from Peter Polloni to Bob Nelkin   \n",
       "2  MSS_1002_B001_F13_I01  Letter to Frank Beal from Families and Friends...   \n",
       "3  MSS_1002_B001_F13_I02  Letter from families of patients at Southwest ...   \n",
       "4  MSS_1002_B001_F16_I01          ACC-PARC Recent Benefits to Families Memo   \n",
       "\n",
       "      display_date                                           abstract  \\\n",
       "0    July 11, 1975  A PARC internal memo that summarizes recent li...   \n",
       "1   March 11, 1975  A letter from Peter Polloni, executive directo...   \n",
       "2  August 19, 1976  A letter from Families and Friends of Southwes...   \n",
       "3    July 27, 1976  A letter requesting Bob Nelkin's advice on adv...   \n",
       "4   March 28, 1977  Correspondence from Bob Nelkin to Joan Murdoch...   \n",
       "\n",
       "                                        host  \\\n",
       "0  Bob Nelkin Collection of ACC-PARC Records   \n",
       "1  Bob Nelkin Collection of ACC-PARC Records   \n",
       "2  Bob Nelkin Collection of ACC-PARC Records   \n",
       "3  Bob Nelkin Collection of ACC-PARC Records   \n",
       "4  Bob Nelkin Collection of ACC-PARC Records   \n",
       "\n",
       "                                series                 container  \\\n",
       "0  I. Administrative Records 1953-1983  box 1, folder 11, Item 1   \n",
       "1  I. Administrative Records 1953-1983  box 1, folder 12, Item 1   \n",
       "2  I. Administrative Records 1953-1983  box 1, folder 13, Item 1   \n",
       "3  I. Administrative Records 1953-1983  box 1, folder 13, Item 2   \n",
       "4  I. Administrative Records 1953-1983  box 1, folder 16, Item 1   \n",
       "\n",
       "                  owner                                       depositor  \\\n",
       "0  Heinz History Center  Detre Library & Archives, Heinz History Center   \n",
       "1  Heinz History Center  Detre Library & Archives, Heinz History Center   \n",
       "2  Heinz History Center  Detre Library & Archives, Heinz History Center   \n",
       "3  Heinz History Center  Detre Library & Archives, Heinz History Center   \n",
       "4  Heinz History Center  Detre Library & Archives, Heinz History Center   \n",
       "\n",
       "    collection_id                                               text language  \\\n",
       "0  collection.341  ﻿V\\n\\nPennsylvania Association for Retarded Ci...  English   \n",
       "1  collection.341  ﻿Pennsylvania Association for Retarded Citizen...  English   \n",
       "2  collection.341  ﻿11\\nFAMILIES & FRIENDS OF SOUTHWEST HABILITAT...  English   \n",
       "3  collection.341  ﻿FAMILIES & FRIENDS OF\\nSOUTHWEST HABILITATION...  English   \n",
       "4  collection.341  C ommonwealth of Pennsylvania\\n\\nDepartment of...  English   \n",
       "\n",
       "    len                                   tok_lem_POS_NLTK  \\\n",
       "0  3042  [(V, V, NNP), (Pennsylvania, Pennsylvania, NNP...   \n",
       "1   242  [(Pennsylvania, Pennsylvania, NNP), (Associati...   \n",
       "2   268  [(11, 11, CD), (FAMILIES, FAMILIES, NNP), (&, ...   \n",
       "3   320  [(FAMILIES, FAMILIES, NNP), (&, &, CC), (FRIEN...   \n",
       "4  6932  [(C, C, NNP), (ommonwealth, ommonwealth, NN), ...   \n",
       "\n",
       "                                   tok_lem_POS_CLAWS  \n",
       "0  [(Pennsylvania, pennsylvania, n), (Association...  \n",
       "1  [(Pennsylvania, pennsylvania, n), (Association...  \n",
       "2  [(1, 1, m), (FAMILIES, family, n), (FRIENDS, f...  \n",
       "3  [(FAMILIES, family, n), (FRIENDS, friend, n), ...  \n",
       "4  [(C, c, n), (ommonwealth, ommonwealth, n), (of...  "
      ]
     },
     "execution_count": 39,
     "metadata": {},
     "output_type": "execute_result"
    }
   ],
   "source": [
    "bob_df.head()"
   ]
  },
  {
   "cell_type": "markdown",
   "metadata": {},
   "source": [
    "## 5. Spelling correction\n",
    "\n",
    "Code adapted from https://github.com/ELI-Data-Mining-Group/PELIC-spelling"
   ]
  },
  {
   "cell_type": "markdown",
   "metadata": {},
   "source": [
    "### Building non_words_df\n",
    "In this section, we build a dataframe, `non_words_df`, which collects all of the non-words from the `bob_df`. The final dataframe has the following columns:\n",
    "- `non_word`: tuples with the non-words and their parts of speech\n",
    "- `sentence`: the complete sentence containing the non-word to provide context\n",
    "- `id`: the id of the text they come from"
   ]
  },
  {
   "cell_type": "code",
   "execution_count": 40,
   "metadata": {},
   "outputs": [
    {
     "data": {
      "text/html": [
       "<div>\n",
       "<style scoped>\n",
       "    .dataframe tbody tr th:only-of-type {\n",
       "        vertical-align: middle;\n",
       "    }\n",
       "\n",
       "    .dataframe tbody tr th {\n",
       "        vertical-align: top;\n",
       "    }\n",
       "\n",
       "    .dataframe thead th {\n",
       "        text-align: right;\n",
       "    }\n",
       "</style>\n",
       "<table border=\"1\" class=\"dataframe\">\n",
       "  <thead>\n",
       "    <tr style=\"text-align: right;\">\n",
       "      <th></th>\n",
       "      <th>text</th>\n",
       "      <th>tok_lem_POS_NLTK</th>\n",
       "    </tr>\n",
       "  </thead>\n",
       "  <tbody>\n",
       "    <tr>\n",
       "      <th>0</th>\n",
       "      <td>﻿V\\n\\nPennsylvania Association for Retarded Ci...</td>\n",
       "      <td>[(V, V, NNP), (Pennsylvania, Pennsylvania, NNP...</td>\n",
       "    </tr>\n",
       "    <tr>\n",
       "      <th>1</th>\n",
       "      <td>﻿Pennsylvania Association for Retarded Citizen...</td>\n",
       "      <td>[(Pennsylvania, Pennsylvania, NNP), (Associati...</td>\n",
       "    </tr>\n",
       "    <tr>\n",
       "      <th>2</th>\n",
       "      <td>﻿11\\nFAMILIES &amp; FRIENDS OF SOUTHWEST HABILITAT...</td>\n",
       "      <td>[(11, 11, CD), (FAMILIES, FAMILIES, NNP), (&amp;, ...</td>\n",
       "    </tr>\n",
       "    <tr>\n",
       "      <th>3</th>\n",
       "      <td>﻿FAMILIES &amp; FRIENDS OF\\nSOUTHWEST HABILITATION...</td>\n",
       "      <td>[(FAMILIES, FAMILIES, NNP), (&amp;, &amp;, CC), (FRIEN...</td>\n",
       "    </tr>\n",
       "    <tr>\n",
       "      <th>4</th>\n",
       "      <td>C ommonwealth of Pennsylvania\\n\\nDepartment of...</td>\n",
       "      <td>[(C, C, NNP), (ommonwealth, ommonwealth, NN), ...</td>\n",
       "    </tr>\n",
       "  </tbody>\n",
       "</table>\n",
       "</div>"
      ],
      "text/plain": [
       "                                                text  \\\n",
       "0  ﻿V\\n\\nPennsylvania Association for Retarded Ci...   \n",
       "1  ﻿Pennsylvania Association for Retarded Citizen...   \n",
       "2  ﻿11\\nFAMILIES & FRIENDS OF SOUTHWEST HABILITAT...   \n",
       "3  ﻿FAMILIES & FRIENDS OF\\nSOUTHWEST HABILITATION...   \n",
       "4  C ommonwealth of Pennsylvania\\n\\nDepartment of...   \n",
       "\n",
       "                                    tok_lem_POS_NLTK  \n",
       "0  [(V, V, NNP), (Pennsylvania, Pennsylvania, NNP...  \n",
       "1  [(Pennsylvania, Pennsylvania, NNP), (Associati...  \n",
       "2  [(11, 11, CD), (FAMILIES, FAMILIES, NNP), (&, ...  \n",
       "3  [(FAMILIES, FAMILIES, NNP), (&, &, CC), (FRIEN...  \n",
       "4  [(C, C, NNP), (ommonwealth, ommonwealth, NN), ...  "
      ]
     },
     "execution_count": 40,
     "metadata": {},
     "output_type": "execute_result"
    }
   ],
   "source": [
    "# Creating small dataframe to be used for finding non-words\n",
    "\n",
    "non_words = bob_df[['text','tok_lem_POS_NLTK']]\n",
    "non_words.head()"
   ]
  },
  {
   "cell_type": "markdown",
   "metadata": {},
   "source": [
    "**Note:** For spelling correction, it is necessary to decide what list of words will be used for determining if a word is real or not.\n",
    "\n",
    "Here, we use the [`SCOWL_condensed.txt`](https://github.com/ELI-Data-Mining-Group/PELIC-spelling/blob/master/SCOWL_condensed.txt) file which is a combination of wordlists available for download at http://wordlist.aspell.net/. We include items from all the dictionaries _except_ the abbreviations dictionary. For a detailed look at the compilation of this dictionary, please see the [SCOWL_wordlist](https://github.com/ELI-Data-Mining-Group/PELIC-spelling/blob/master/SCOWL_wordlist.ipynb) notebook."
   ]
  },
  {
   "cell_type": "code",
   "execution_count": 41,
   "metadata": {},
   "outputs": [
    {
     "name": "stdout",
     "output_type": "stream",
     "text": [
      "['gritrock', 'bahuts', 'petula', 'quinquagenaries', 'cumba']\n"
     ]
    },
    {
     "data": {
      "text/plain": [
       "565840"
      ]
     },
     "execution_count": 41,
     "metadata": {},
     "output_type": "execute_result"
    }
   ],
   "source": [
    "# Reading in SCOWL_condensed as a set as a lookup list for spelling (500k words)\n",
    "\n",
    "pelic = '/Users/Ben/Documents/ELI_Data_Mining/PELIC-spelling/'\n",
    "scowl = set(open(pelic+\"PELIC-SCOWL.txt\", \"r\").read().split('\\n'))\n",
    "scowl = set([x.lower() for x in scowl])\n",
    "print(random.sample(scowl,5))\n",
    "len(scowl)"
   ]
  },
  {
   "cell_type": "markdown",
   "metadata": {},
   "source": [
    "The following is a list of words which should be considered words but which were previously being labelled as non-words. These items have been manually added to this list based on output later in this notebook."
   ]
  },
  {
   "cell_type": "code",
   "execution_count": 42,
   "metadata": {},
   "outputs": [
    {
     "data": {
      "text/plain": [
       "67"
      ]
     },
     "execution_count": 42,
     "metadata": {},
     "output_type": "execute_result"
    },
    {
     "data": {
      "text/plain": [
       "['acc',\n",
       " 'assoc',\n",
       " 'assn',\n",
       " 'baumstein',\n",
       " 'bcc',\n",
       " 'bldg',\n",
       " 'blvd',\n",
       " 'cassileth',\n",
       " 'chamovitz',\n",
       " 'colautti',\n",
       " 'colombatto',\n",
       " 'columbatto',\n",
       " 'cornwells',\n",
       " 'countv',\n",
       " 'delmuth',\n",
       " 'dept',\n",
       " 'div',\n",
       " 'dr',\n",
       " 'drs',\n",
       " 'eg',\n",
       " 'embreeville',\n",
       " 'etc',\n",
       " 'ferleger',\n",
       " 'ft',\n",
       " 'gardenside',\n",
       " 'gilhool',\n",
       " 'gishbaugher',\n",
       " 'gov',\n",
       " 'handwashing',\n",
       " 'hockendoner',\n",
       " 'hosp',\n",
       " 'hrs',\n",
       " 'interferring',\n",
       " 'inservice',\n",
       " 'iq',\n",
       " 'jr',\n",
       " 'lt',\n",
       " 'mcclellands',\n",
       " 'mckees',\n",
       " 'meadowside',\n",
       " 'minetti',\n",
       " 'mulgrave',\n",
       " 'nelkin',\n",
       " 'northside',\n",
       " 'passavant',\n",
       " 'pennhurst',\n",
       " 'pgh',\n",
       " 'pl',\n",
       " 'polloni',\n",
       " 'pr',\n",
       " 'rd',\n",
       " 'reg',\n",
       " 'rusynyk',\n",
       " 'sec',\n",
       " 'sistik',\n",
       " 'southside',\n",
       " 'sr',\n",
       " 'supp',\n",
       " 'tv',\n",
       " 'underprogrammed',\n",
       " 'veedock',\n",
       " 'wettick',\n",
       " 'willowbrook',\n",
       " 'woglemuth',\n",
       " 'wohlegemuth',\n",
       " 'wolgemuth',\n",
       " 'woodhaven']"
      ]
     },
     "execution_count": 42,
     "metadata": {},
     "output_type": "execute_result"
    }
   ],
   "source": [
    "bob_df_spelling_supp = open(\"bob_df_spelling_supp.txt\", \"r\").read().split('\\n')\n",
    "len(bob_df_spelling_supp)\n",
    "bob_df_spelling_supp"
   ]
  },
  {
   "cell_type": "code",
   "execution_count": 43,
   "metadata": {},
   "outputs": [
    {
     "name": "stderr",
     "output_type": "stream",
     "text": [
      "/opt/anaconda3/lib/python3.7/site-packages/pandas/core/generic.py:5303: SettingWithCopyWarning: \n",
      "A value is trying to be set on a copy of a slice from a DataFrame.\n",
      "Try using .loc[row_indexer,col_indexer] = value instead\n",
      "\n",
      "See the caveats in the documentation: https://pandas.pydata.org/pandas-docs/stable/user_guide/indexing.html#returning-a-view-versus-a-copy\n",
      "  self[name] = value\n"
     ]
    }
   ],
   "source": [
    "# Lower case all toks\n",
    "\n",
    "non_words.tok_lem_POS_NLTK = non_words.tok_lem_POS_NLTK.apply(lambda row: [(x[0].lower(),x[1],x[2]) for x in row])"
   ]
  },
  {
   "cell_type": "code",
   "execution_count": 44,
   "metadata": {},
   "outputs": [],
   "source": [
    "# Function to find non-words\n",
    "\n",
    "def spell_check(tok_lem_POS_list):\n",
    "    word_list = scowl # Choose word_list here. Default is scowl described above.\n",
    "    not_in_word_list = []\n",
    "    for tok_lem_POS in tok_lem_POS_list:\n",
    "        if tok_lem_POS[0] not in word_list and tok_lem_POS[0] not in bob_df_spelling_supp:\n",
    "            not_in_word_list.append(tok_lem_POS)\n",
    "    return not_in_word_list"
   ]
  },
  {
   "cell_type": "code",
   "execution_count": 45,
   "metadata": {},
   "outputs": [
    {
     "name": "stderr",
     "output_type": "stream",
     "text": [
      "/opt/anaconda3/lib/python3.7/site-packages/ipykernel_launcher.py:3: SettingWithCopyWarning: \n",
      "A value is trying to be set on a copy of a slice from a DataFrame.\n",
      "Try using .loc[row_indexer,col_indexer] = value instead\n",
      "\n",
      "See the caveats in the documentation: https://pandas.pydata.org/pandas-docs/stable/user_guide/indexing.html#returning-a-view-versus-a-copy\n",
      "  This is separate from the ipykernel package so we can avoid doing imports until\n"
     ]
    },
    {
     "data": {
      "text/html": [
       "<div>\n",
       "<style scoped>\n",
       "    .dataframe tbody tr th:only-of-type {\n",
       "        vertical-align: middle;\n",
       "    }\n",
       "\n",
       "    .dataframe tbody tr th {\n",
       "        vertical-align: top;\n",
       "    }\n",
       "\n",
       "    .dataframe thead th {\n",
       "        text-align: right;\n",
       "    }\n",
       "</style>\n",
       "<table border=\"1\" class=\"dataframe\">\n",
       "  <thead>\n",
       "    <tr style=\"text-align: right;\">\n",
       "      <th></th>\n",
       "      <th>text</th>\n",
       "      <th>tok_lem_POS_NLTK</th>\n",
       "      <th>misspelled_words</th>\n",
       "    </tr>\n",
       "  </thead>\n",
       "  <tbody>\n",
       "    <tr>\n",
       "      <th>0</th>\n",
       "      <td>﻿V\\n\\nPennsylvania Association for Retarded Ci...</td>\n",
       "      <td>[(v, V, NNP), (pennsylvania, Pennsylvania, NNP...</td>\n",
       "      <td>[(t5co, t5CO, VBD), (•, •, NNP), (harris8urg, ...</td>\n",
       "    </tr>\n",
       "    <tr>\n",
       "      <th>1</th>\n",
       "      <td>﻿Pennsylvania Association for Retarded Citizen...</td>\n",
       "      <td>[(pennsylvania, Pennsylvania, NNP), (associati...</td>\n",
       "      <td>[(1500, 1500, CD), (•, •, NNP), (,, ,, ,), (pa...</td>\n",
       "    </tr>\n",
       "    <tr>\n",
       "      <th>2</th>\n",
       "      <td>﻿11\\nFAMILIES &amp; FRIENDS OF SOUTHWEST HABILITAT...</td>\n",
       "      <td>[(11, 11, CD), (families, FAMILIES, NNP), (&amp;, ...</td>\n",
       "      <td>[(11, 11, CD), (&amp;, &amp;, CC), (2517, 2517, CD), (...</td>\n",
       "    </tr>\n",
       "    <tr>\n",
       "      <th>3</th>\n",
       "      <td>﻿FAMILIES &amp; FRIENDS OF\\nSOUTHWEST HABILITATION...</td>\n",
       "      <td>[(families, FAMILIES, NNP), (&amp;, &amp;, CC), (frien...</td>\n",
       "      <td>[(&amp;, &amp;, CC), (2517, 2517, CD), (,, ,, ,), (pa....</td>\n",
       "    </tr>\n",
       "    <tr>\n",
       "      <th>4</th>\n",
       "      <td>C ommonwealth of Pennsylvania\\n\\nDepartment of...</td>\n",
       "      <td>[(c, C, NNP), (ommonwealth, ommonwealth, NN), ...</td>\n",
       "      <td>[(ommonwealth, ommonwealth, NN), (,, ,, ,), (,...</td>\n",
       "    </tr>\n",
       "  </tbody>\n",
       "</table>\n",
       "</div>"
      ],
      "text/plain": [
       "                                                text  \\\n",
       "0  ﻿V\\n\\nPennsylvania Association for Retarded Ci...   \n",
       "1  ﻿Pennsylvania Association for Retarded Citizen...   \n",
       "2  ﻿11\\nFAMILIES & FRIENDS OF SOUTHWEST HABILITAT...   \n",
       "3  ﻿FAMILIES & FRIENDS OF\\nSOUTHWEST HABILITATION...   \n",
       "4  C ommonwealth of Pennsylvania\\n\\nDepartment of...   \n",
       "\n",
       "                                    tok_lem_POS_NLTK  \\\n",
       "0  [(v, V, NNP), (pennsylvania, Pennsylvania, NNP...   \n",
       "1  [(pennsylvania, Pennsylvania, NNP), (associati...   \n",
       "2  [(11, 11, CD), (families, FAMILIES, NNP), (&, ...   \n",
       "3  [(families, FAMILIES, NNP), (&, &, CC), (frien...   \n",
       "4  [(c, C, NNP), (ommonwealth, ommonwealth, NN), ...   \n",
       "\n",
       "                                    misspelled_words  \n",
       "0  [(t5co, t5CO, VBD), (•, •, NNP), (harris8urg, ...  \n",
       "1  [(1500, 1500, CD), (•, •, NNP), (,, ,, ,), (pa...  \n",
       "2  [(11, 11, CD), (&, &, CC), (2517, 2517, CD), (...  \n",
       "3  [(&, &, CC), (2517, 2517, CD), (,, ,, ,), (pa....  \n",
       "4  [(ommonwealth, ommonwealth, NN), (,, ,, ,), (,...  "
      ]
     },
     "execution_count": 45,
     "metadata": {},
     "output_type": "execute_result"
    }
   ],
   "source": [
    "# Apply spell check function to find all misspelled-words. \n",
    "\n",
    "non_words['misspelled_words'] = non_words.tok_lem_POS_NLTK.apply(spell_check)\n",
    "non_words.head()"
   ]
  },
  {
   "cell_type": "markdown",
   "metadata": {},
   "source": [
    "#### Adding context to the dataframe\n",
    "Seeing the mistakes in the context of a sentence will allow for better manual checking if required."
   ]
  },
  {
   "cell_type": "code",
   "execution_count": 46,
   "metadata": {},
   "outputs": [
    {
     "name": "stderr",
     "output_type": "stream",
     "text": [
      "/opt/anaconda3/lib/python3.7/site-packages/ipykernel_launcher.py:3: SettingWithCopyWarning: \n",
      "A value is trying to be set on a copy of a slice from a DataFrame.\n",
      "Try using .loc[row_indexer,col_indexer] = value instead\n",
      "\n",
      "See the caveats in the documentation: https://pandas.pydata.org/pandas-docs/stable/user_guide/indexing.html#returning-a-view-versus-a-copy\n",
      "  This is separate from the ipykernel package so we can avoid doing imports until\n"
     ]
    }
   ],
   "source": [
    "# Sent-tokenizing the text\n",
    "\n",
    "non_words['sentence'] = non_words['text'].apply(lambda x: nltk.sent_tokenize(x))\n",
    "\n",
    "# And delete text column which is no longer needed\n",
    "\n",
    "del non_words['text']"
   ]
  },
  {
   "cell_type": "code",
   "execution_count": 47,
   "metadata": {},
   "outputs": [
    {
     "name": "stdout",
     "output_type": "stream",
     "text": [
      "2517\n",
      "['-c*', 'playpen-like', '287-0791', '——.-r———^^-^.y..', '6-^xtnv^', 'medical-coverage', 'staff-to-resident', 'on-the', '_-c', '-aot.chruse']\n"
     ]
    }
   ],
   "source": [
    "# Checking for hyphenated words tagged as misspellings because SCOWL doesn't contain hypenated words\n",
    "\n",
    "hyphenated = set([x[0] for x in [x for y in non_words.misspelled_words.to_list() for x in y] if '-' in x[0]])\n",
    "print(len(hyphenated))\n",
    "print(list(hyphenated)[:10])\n",
    "\n",
    "# These need to be removed from the non-words dataframe if composed of valid words"
   ]
  },
  {
   "cell_type": "code",
   "execution_count": 48,
   "metadata": {},
   "outputs": [
    {
     "data": {
      "text/plain": [
       "[['', \"'/\", ''],\n",
       " ['', \"'/vwwi\"],\n",
       " ['', \"'^\"],\n",
       " ['', \"'al\", '/'],\n",
       " ['', \"'astefl\"],\n",
       " ['', \"'ini\"],\n",
       " ['', \"'~\"],\n",
       " ['', \"'■\"],\n",
       " ['', '*'],\n",
       " ['', '*', '1'],\n",
       " ['', '***t'],\n",
       " ['', '**1^1'],\n",
       " ['', '*1'],\n",
       " ['', '*•'],\n",
       " ['', '.'],\n",
       " ['', '.', '.c'],\n",
       " ['', '.', '/a'],\n",
       " ['', '.', 'u', '—~'],\n",
       " ['', '..'],\n",
       " ['', '..4'],\n",
       " ['', '..ft'],\n",
       " ['', './'],\n",
       " ['', '.1'],\n",
       " ['', '._'],\n",
       " ['', '.a'],\n",
       " ['', '.ax'],\n",
       " ['', '.f'],\n",
       " ['', '.n'],\n",
       " ['', '.~'],\n",
       " ['', '.~~.', 'as'],\n",
       " ['', '.—'],\n",
       " ['', '.•••21'],\n",
       " ['', '.■*•'],\n",
       " ['', '/'],\n",
       " ['', '/', ''],\n",
       " ['', '/', 'zz/c/^'],\n",
       " ['', \"/.'./l\"],\n",
       " ['', '///institution'],\n",
       " ['', '/j/..'],\n",
       " ['', '/r'],\n",
       " ['', '/tv'],\n",
       " ['', '/•'],\n",
       " ['', '0'],\n",
       " ['', '0', ''],\n",
       " ['', '0352'],\n",
       " ['', '1'],\n",
       " ['', '1', ''],\n",
       " ['', '1.17'],\n",
       " ['', '1.42'],\n",
       " ['', '1.81'],\n",
       " ['', '10', ''],\n",
       " ['', '11', ''],\n",
       " ['', '12', ''],\n",
       " ['', '13', ''],\n",
       " ['', '14'],\n",
       " ['', '14', ''],\n",
       " ['', '15', ''],\n",
       " ['', '16', ''],\n",
       " ['', '17', ''],\n",
       " ['', '18', ''],\n",
       " ['', '19', ''],\n",
       " ['', '1977', '78'],\n",
       " ['', '1^11'],\n",
       " ['', '1l'],\n",
       " ['', '1—'],\n",
       " ['', '2'],\n",
       " ['', '2', ''],\n",
       " ['', '20', ''],\n",
       " ['', '21', ''],\n",
       " ['', '21st'],\n",
       " ['', '22', ''],\n",
       " ['', '23', ''],\n",
       " ['', '25', ''],\n",
       " ['', '29'],\n",
       " ['', '3'],\n",
       " ['', '3', ''],\n",
       " ['', '3', '^—'],\n",
       " ['', '3', 'v', '—.—'],\n",
       " ['', '3v'],\n",
       " ['', '4'],\n",
       " ['', '4', ''],\n",
       " ['', '4/a'],\n",
       " ['', '400'],\n",
       " ['', '45toi2'],\n",
       " ['', '47/'],\n",
       " ['', '4diiua.uu2'],\n",
       " ['', '5'],\n",
       " ['', '5', ''],\n",
       " ['', '5.'],\n",
       " ['', '5..', ''],\n",
       " ['', '6'],\n",
       " ['', '6', ''],\n",
       " ['', '6oo'],\n",
       " ['', '7'],\n",
       " ['', '7', ''],\n",
       " ['', '7', 't'],\n",
       " ['', '70'],\n",
       " ['', '777'],\n",
       " ['', '787', '1356'],\n",
       " ['', '787', '26od/36oo'],\n",
       " ['', '7t'],\n",
       " ['', '7—'],\n",
       " ['', '8', ''],\n",
       " ['', '9', ''],\n",
       " ['', '94'],\n",
       " ['', '\\\\', ''],\n",
       " ['', '\\\\t'],\n",
       " ['', '\\\\v'],\n",
       " ['', '^'],\n",
       " ['', '^', 'uaxj'],\n",
       " ['', '^/'],\n",
       " ['', '^c'],\n",
       " ['', '^cc^iy'],\n",
       " ['', '^cjadzal', 'a'],\n",
       " ['', '^cuoc'],\n",
       " ['', '^l'],\n",
       " ['', '^r//', 'xzcz'],\n",
       " ['', '^t—i'],\n",
       " ['', '^vvxia/'],\n",
       " ['', '^wr'],\n",
       " ['', '^x', ''],\n",
       " ['', '^xi'],\n",
       " ['', '_'],\n",
       " ['', '___', ''],\n",
       " ['', '_°__'],\n",
       " ['', 'a^azm^axuvxz^'],\n",
       " ['', 'a^vzce'],\n",
       " ['', 'a_y^', ''],\n",
       " ['', 'after/hearing'],\n",
       " ['', 'ajl4'],\n",
       " ['', 'aot.chruse'],\n",
       " ['', 'artos'],\n",
       " ['', 'az'],\n",
       " ['', 'c*'],\n",
       " ['', 'c^/e'],\n",
       " ['', 'caazav'],\n",
       " ['', 'ct/vh'],\n",
       " ['', 'cw'],\n",
       " ['', 'd^', ''],\n",
       " ['', 'dc'],\n",
       " ['', 'dd^'],\n",
       " ['', 'dv~'],\n",
       " ['', 'estern'],\n",
       " ['', \"f'£esf70\", 'i*'],\n",
       " ['', 'fas'],\n",
       " ['', 'fty'],\n",
       " ['', 'h.w.p.a.'],\n",
       " ['', 'i1', ''],\n",
       " ['', 'i9'],\n",
       " ['', 'idrs'],\n",
       " ['', 'iv^kz'],\n",
       " ['', 'j*/**'],\n",
       " ['', 'j.'],\n",
       " ['', 'j4'],\n",
       " ['', 'j^g', 'x'],\n",
       " ['', 'jwd'],\n",
       " ['', 'l.l'],\n",
       " ['', 'm—'],\n",
       " ['', 'n/'],\n",
       " ['', 'nwr^', ''],\n",
       " ['', \"o'\", 'i', ''],\n",
       " ['', 'po/o'],\n",
       " ['', 'r.'],\n",
       " ['', 'r/'],\n",
       " ['', 'r^tt7*'],\n",
       " ['', 'ry'],\n",
       " ['', \"s'vfu\", 'd'],\n",
       " ['', 'se1fand.allsoyou.donothave.toask..fwewash.hourhand.an'],\n",
       " ['', 'st'],\n",
       " ['', 't7'],\n",
       " ['', 't^'],\n",
       " ['', 'tary'],\n",
       " ['', 'tions'],\n",
       " ['', 'tn'],\n",
       " ['', 'tosay.about'],\n",
       " ['', 'toyc'],\n",
       " ['', 't|'],\n",
       " ['', 'uxif'],\n",
       " ['', \"v'\", ''],\n",
       " ['', 'v/7', ''],\n",
       " ['', 'vpi'],\n",
       " ['', 'vt'],\n",
       " ['', 'vta^xjvj'],\n",
       " ['', 'vu^t'],\n",
       " ['', 'wv'],\n",
       " ['', 'x..'],\n",
       " ['', 'xx^', 'zu', 'z'],\n",
       " ['', 'xxvv'],\n",
       " ['', 'xzq'],\n",
       " ['', 'y^x'],\n",
       " ['', 'yr'],\n",
       " ['', \"z'ta/\"],\n",
       " ['', 'z^', 'o'],\n",
       " ['', 'zc', 'tu'],\n",
       " ['', 'zizt.'],\n",
       " ['', 'zl_^i4_zv'],\n",
       " ['', '~'],\n",
       " ['', '~', ''],\n",
       " ['', '~', '———', '—v~~'],\n",
       " ['', '£'],\n",
       " ['', '£^a'],\n",
       " ['', '£u1'],\n",
       " ['', '£zu'],\n",
       " ['', '¥~'],\n",
       " ['', '—'],\n",
       " ['', '—a', 'wide'],\n",
       " ['', '—j'],\n",
       " ['', '—tt', 'ri'],\n",
       " ['', '•'],\n",
       " ['', '•.', 'm'],\n",
       " ['', '•■'],\n",
       " ['', '■'],\n",
       " ['', '■..■•'],\n",
       " ['', '■_*'],\n",
       " ['', '■■e'],\n",
       " [\"'\", ''],\n",
       " [\"'\", '*', '**'],\n",
       " [\"'\", '.t', '.1'],\n",
       " [\"'\", '/asi/o'],\n",
       " [\"'\", '/t'],\n",
       " [\"'\", '1'],\n",
       " [\"'\", '5f'],\n",
       " [\"'\", 'fr'],\n",
       " [\"'\", 'j'],\n",
       " [\"'\", 'jll^v'],\n",
       " [\"'\", 'l'],\n",
       " [\"'\", 'r'],\n",
       " [\"'\", 'white'],\n",
       " [\"'\", 'y^', ''],\n",
       " [\"'.\", ''],\n",
       " [\"'.\", 'cowhen'],\n",
       " [\"'.r\", ''],\n",
       " [\"'77'79\", '*'],\n",
       " [\"'7w\", '4'],\n",
       " [\"'^fr'7ct\", ''],\n",
       " [\"'cv^pj^\", 'jj^ca'],\n",
       " [\"'iikccb\", 'l'],\n",
       " [\"'irtzfa^.\", ''],\n",
       " [\"'ixd\", 'td'],\n",
       " [\"'t/\", ''],\n",
       " [\"'ti\", 'lfth'],\n",
       " [\"'tt^x\", 'r'],\n",
       " [\"'young\", 'berg'],\n",
       " [\"'•\", 'o'],\n",
       " [\"'■\", ''],\n",
       " [\"'■\", 'p'],\n",
       " ['*', ''],\n",
       " ['*', '.r*'],\n",
       " ['*', '••*'],\n",
       " ['*4t', '/'],\n",
       " ['*v', ''],\n",
       " ['*~—', '~—'],\n",
       " ['*■*', ''],\n",
       " ['.', ''],\n",
       " ['.', '.'],\n",
       " ['.', './/'],\n",
       " ['.', '.4..'],\n",
       " ['.', '.7'],\n",
       " ['.', '7.._'],\n",
       " ['.', '^', ''],\n",
       " ['.', '^zu'],\n",
       " ['.', 'a'],\n",
       " ['.', 'an'],\n",
       " ['.', 'at'],\n",
       " ['.', 'fetics/'],\n",
       " ['.', 'p'],\n",
       " ['.', 'r/f'],\n",
       " ['.', 'rtr', 'f'],\n",
       " ['.', 'uj.a~£.lu', '7'],\n",
       " ['.', 'v', ''],\n",
       " ['.', 'y', 'j'],\n",
       " ['.', '•'],\n",
       " ['.', '■'],\n",
       " [\".'\\\\s*\", ''],\n",
       " ['..', ''],\n",
       " ['..', '—v~ai'],\n",
       " ['..', '■'],\n",
       " ['..i', '*/*'],\n",
       " ['..~', ''],\n",
       " ['.147', ''],\n",
       " ['.1980', '81'],\n",
       " ['.5', 'envicea'],\n",
       " ['.^*evq^', 'ev^j^'],\n",
       " ['._', '.—kjf_'],\n",
       " ['.a', '.^'],\n",
       " ['.az..y', ''],\n",
       " ['.bizzythat', 'iju'],\n",
       " ['.dz', 'aiz'],\n",
       " ['.i', 't'],\n",
       " ['.iwentto.thevo', 'teckh', 'ffehool', 'itookat'],\n",
       " ['.long', 'plotted'],\n",
       " ['.nu.auh', 'ail'],\n",
       " ['.one', 'staff'],\n",
       " ['.p£.~', 'aw'],\n",
       " ['.t', '^', '^'],\n",
       " ['.tc', 'tt'],\n",
       " ['.u..', 'a'],\n",
       " ['.u.n.u_..', 'a'],\n",
       " ['.xn', 'fotation'],\n",
       " ['.z', ''],\n",
       " ['.~i', ''],\n",
       " ['.■•i', ''],\n",
       " ['/', ''],\n",
       " ['/', '/'],\n",
       " ['/', '/be', ''],\n",
       " ['/', '3'],\n",
       " ['/', '^'],\n",
       " ['/', 'fclh'],\n",
       " ['/', 'z^czu'],\n",
       " ['/*r', 'x'],\n",
       " ['/..e/c3', '4'],\n",
       " ['/2', '/zj'],\n",
       " ['/^', 'eitv/5*^'],\n",
       " ['/a/ft', '^r'],\n",
       " ['/a^oua', 'vz^'],\n",
       " ['/ci/a', 'y^/'],\n",
       " ['/m', '/p'],\n",
       " ['/o', 'cd'],\n",
       " ['/q^', 'zzt/^y'],\n",
       " ['/t', 'ov'],\n",
       " ['/w', ''],\n",
       " ['/y', 'yyaa^', 'zzy', '^'],\n",
       " ['/zh^', ''],\n",
       " ['/•*.', '*'],\n",
       " ['0', ''],\n",
       " ['0', '4'],\n",
       " ['0', '5'],\n",
       " ['01', '1'],\n",
       " ['04', '19'],\n",
       " ['04', '2'],\n",
       " ['04', '24'],\n",
       " ['04', '25', '77'],\n",
       " ['07', '16'],\n",
       " ['1', ''],\n",
       " ['1', '*'],\n",
       " ['1', '.'],\n",
       " ['1', '3'],\n",
       " ['1', '3', '76'],\n",
       " ['1', '5'],\n",
       " ['1', '79'],\n",
       " ['1', '800', '237', '7771'],\n",
       " ['1', '96'],\n",
       " ['1', '^1'],\n",
       " ['1', 'g'],\n",
       " ['1', 'tai'],\n",
       " ['1', 'tail'],\n",
       " ['10', '12'],\n",
       " ['10', '19', '73'],\n",
       " ['10', '66'],\n",
       " ['10', 'day'],\n",
       " ['100', 'hour'],\n",
       " ['1035', '36—'],\n",
       " ['11', '*'],\n",
       " ['11', '12'],\n",
       " ['11', '15'],\n",
       " ['11', '19', '73'],\n",
       " ['11', '28', '72'],\n",
       " ['11', '3'],\n",
       " ['11', 'year', 'old'],\n",
       " ['111', 'purpose'],\n",
       " ['1115x2', '130129e114'],\n",
       " ['113', '30'],\n",
       " ['117', '9'],\n",
       " ['11:00', '2:30'],\n",
       " ['11i', 'handicapped'],\n",
       " ['12', '12'],\n",
       " ['12', '67'],\n",
       " ['12', 'by', '12'],\n",
       " ['12', 'month'],\n",
       " ['12', 'year', 'old'],\n",
       " ['12', '®7'],\n",
       " ['13', ''],\n",
       " ['13', '1301'],\n",
       " ['13', '1304'],\n",
       " ['13', '1330'],\n",
       " ['13', '1371'],\n",
       " ['13', '1372'],\n",
       " ['13', '1375'],\n",
       " ['13', '1376'],\n",
       " ['13', '1382'],\n",
       " ['13', 'year', 'old'],\n",
       " ['130', '81', '0022'],\n",
       " ['1304', '1306'],\n",
       " ['139', 'h', '135'],\n",
       " ['13th', 'hour'],\n",
       " ['14', '20'],\n",
       " ['14', 'county'],\n",
       " ['14', 'year', 'old'],\n",
       " ['14/455', '0995'],\n",
       " ['15', 's', '142'],\n",
       " ['150', '175'],\n",
       " ['150', '51'],\n",
       " ['1532', '7'],\n",
       " ['16', '20'],\n",
       " ['160', '61'],\n",
       " ['17', '22'],\n",
       " ['17', '72'],\n",
       " ['17', 'year', 'old'],\n",
       " ['18', ''],\n",
       " ['18', '82'],\n",
       " ['18', 'year'],\n",
       " ['18', 'year', 'old'],\n",
       " ['1841', '42'],\n",
       " ['189', '190'],\n",
       " ['19', '1926'],\n",
       " ['19', '1926.'],\n",
       " ['191', '193'],\n",
       " ['1920', '1970'],\n",
       " ['1932', '72'],\n",
       " ['1966', '67'],\n",
       " ['1969', '1975'],\n",
       " ['1971', '72'],\n",
       " ['1972', '1973'],\n",
       " ['1972', '73'],\n",
       " ['1973', ''],\n",
       " ['1973', '1974'],\n",
       " ['1973', '74'],\n",
       " ['1973', '74—approximately'],\n",
       " ['1974', ''],\n",
       " ['1974', '1975'],\n",
       " ['1974', '1976'],\n",
       " ['1974', '75'],\n",
       " ['1974', '77'],\n",
       " ['1975', '1976'],\n",
       " ['1975', '1978'],\n",
       " ['1975', '75'],\n",
       " ['1975', '76'],\n",
       " ['1976', '1977'],\n",
       " ['1976', '77'],\n",
       " ['1977', '1978'],\n",
       " ['1977', '78'],\n",
       " ['1978', '1979'],\n",
       " ['1978', '79'],\n",
       " ['1979', '1980'],\n",
       " ['1979', '80'],\n",
       " ['1980', '1981'],\n",
       " ['1980', '81'],\n",
       " ['1981', '1982'],\n",
       " ['1981', '82'],\n",
       " ['1982', '83'],\n",
       " ['1983', '84'],\n",
       " ['1:30', '4:00'],\n",
       " ['2', ''],\n",
       " ['2', '0'],\n",
       " ['2', '1301295114:99'],\n",
       " ['2', '195898e109'],\n",
       " ['2', '22'],\n",
       " ['2', '23', '53j'],\n",
       " ['2', '37'],\n",
       " ['2', '43'],\n",
       " ['2', '45'],\n",
       " ['2', '54'],\n",
       " ['2', '6'],\n",
       " ['2', '62'],\n",
       " ['2', '64'],\n",
       " ['2', '65'],\n",
       " ['2', '67'],\n",
       " ['2', '69'],\n",
       " ['2', '7'],\n",
       " ['2', '71'],\n",
       " ['2', '72'],\n",
       " ['2', '74'],\n",
       " ['2', '77'],\n",
       " ['2', '78'],\n",
       " ['2', '78,9'],\n",
       " ['2', '82'],\n",
       " ['2', '84'],\n",
       " ['2', '88'],\n",
       " ['2', '89'],\n",
       " ['2', '92'],\n",
       " ['2', '93'],\n",
       " ['2', '________'],\n",
       " ['2', \"l'86283el09\"],\n",
       " ['2', 'year'],\n",
       " ['2,116', 'acre'],\n",
       " ['2/4ff/s', '/'],\n",
       " ['20', '23'],\n",
       " ['20', '30'],\n",
       " ['20', 'vear', 'old'],\n",
       " ['20', 'year'],\n",
       " ['2035', '69'],\n",
       " ['21', '25'],\n",
       " ['215', '563', '7878'],\n",
       " ['215', '567', '2828'],\n",
       " ['215', '735', '7200'],\n",
       " ['22', 'the'],\n",
       " ['221', '3302'],\n",
       " ['223', '0100'],\n",
       " ['225', '213s'],\n",
       " ['225', 'otoo'],\n",
       " ['22:29', '38'],\n",
       " ['22s', '213s'],\n",
       " ['23', '24'],\n",
       " ['23', '27'],\n",
       " ['231', 'j', '74'],\n",
       " ['233', '0893'],\n",
       " ['234', '2521'],\n",
       " ['234', '2621'],\n",
       " ['238', '1635'],\n",
       " ['238', '2816'],\n",
       " ['23b', '239'],\n",
       " ['24', '25'],\n",
       " ['24', 'hour'],\n",
       " ['24', 'n', '35'],\n",
       " ['243', '3400'],\n",
       " ['245', '46'],\n",
       " ['255', '0814'],\n",
       " ['26', '30'],\n",
       " ['26', 'k', '101'],\n",
       " ['26', 'k', '112'],\n",
       " ['26', 'k', '117'],\n",
       " ['261', '4961'],\n",
       " ['265', 's4o'],\n",
       " ['27', '30'],\n",
       " ['271', '7876'],\n",
       " ['276', '3868'],\n",
       " ['28', '29'],\n",
       " ['281', '1662'],\n",
       " ['287', '0791'],\n",
       " ['288', '89'],\n",
       " ['29', '40'],\n",
       " ['292', '1745'],\n",
       " ['2^s', ''],\n",
       " ['3', ''],\n",
       " ['3', '11'],\n",
       " ['3', '11:30'],\n",
       " ['3', '2'],\n",
       " ['3', '35'],\n",
       " ['3', '36'],\n",
       " ['3', '37'],\n",
       " ['3', '4'],\n",
       " ['3', '44'],\n",
       " ['3', '45'],\n",
       " ['3', '5', '75'],\n",
       " ['3', '54,55'],\n",
       " ['3', '9', '73'],\n",
       " ['3', 'f'],\n",
       " ['3', 'hour'],\n",
       " ['3', 'storv'],\n",
       " ['3,574', ''],\n",
       " ['309', '22'],\n",
       " ['31', '35'],\n",
       " ['322', '0784'],\n",
       " ['322', '600'],\n",
       " ['322', '6003'],\n",
       " ['322', '6008'],\n",
       " ['322', '6008.'],\n",
       " ['322', '600g'],\n",
       " ['322', '6gg'],\n",
       " ['323', '1330'],\n",
       " ['32—', 'i'],\n",
       " ['33', '37'],\n",
       " ['34', '44'],\n",
       " ['344', '6400'],\n",
       " ['347', '4583'],\n",
       " ['347', '4584'],\n",
       " ['35', 'b', '71'],\n",
       " ['35', 'b', '72'],\n",
       " ['35', 'b', '73'],\n",
       " ['35', 'd', '131'],\n",
       " ['35', 'd', '132'],\n",
       " ['35', 'd', '182'],\n",
       " ['351', '0222'],\n",
       " ['353', '7304'],\n",
       " ['355', '4456'],\n",
       " ['36', '40'],\n",
       " ['361', '6102'],\n",
       " ['362', '0352'],\n",
       " ['374', '2911'],\n",
       " ['38', '39'],\n",
       " ['39', '81'],\n",
       " ['391', '0187'],\n",
       " ['391', '3000'],\n",
       " ['4', ''],\n",
       " ['4', '/'],\n",
       " ['4', '03'],\n",
       " ['4', '031'],\n",
       " ['4', '5'],\n",
       " ['4', 'bed'],\n",
       " ['4', 'fc/'],\n",
       " ['4', 'point'],\n",
       " ['4', 'polkpo'],\n",
       " ['4', 'story'],\n",
       " ['4', 'w', ''],\n",
       " ['4', 'zjj'],\n",
       " ['4', '—'],\n",
       " ['40', ''],\n",
       " ['40', 'bed'],\n",
       " ['40', 'hour'],\n",
       " ['40', 'plus'],\n",
       " ['40,619,000', '^'],\n",
       " ['406', '07'],\n",
       " ['41', '45'],\n",
       " ['412', '471', '4603'],\n",
       " ['412,565', '5220'],\n",
       " ['412.565', '5220'],\n",
       " ['412/287', '3545'],\n",
       " ['432', '2386'],\n",
       " ['432', '3171'],\n",
       " ['432', '5823'],\n",
       " ['432', '8161'],\n",
       " ['432', '8961'],\n",
       " ['45', '49'],\n",
       " ['454', '1151'],\n",
       " ['454', 'am'],\n",
       " ['455', '1368'],\n",
       " ['456', '5345'],\n",
       " ['456', '6500'],\n",
       " ['46', '50'],\n",
       " ['462', '9900'],\n",
       " ['47', '50'],\n",
       " ['47', 'a', '98'],\n",
       " ['472', '7350'],\n",
       " ['486', '2643'],\n",
       " [\"4l'\", ''],\n",
       " ['4x', ''],\n",
       " ['4y', '€^'],\n",
       " ['5', ''],\n",
       " ['5', '16', '73•'],\n",
       " ['5', '200'],\n",
       " ['5', '21'],\n",
       " ['5', '400'],\n",
       " ['5', 'by', '3', 'foot'],\n",
       " ['5', 'by', '5'],\n",
       " ['5', 'dpw', '1050', '27', 'x'],\n",
       " ['5', 'foot'],\n",
       " ['5', 'month'],\n",
       " ['5', 'orfsut'],\n",
       " ['5', 'point'],\n",
       " ['5.', 'wcit._'],\n",
       " ['5/19', '21'],\n",
       " ['5/30/7', '1'],\n",
       " ['50', '75'],\n",
       " ['51', '55'],\n",
       " ['517', '1001'],\n",
       " ['521', '3075'],\n",
       " ['521', '9000'],\n",
       " ['528', '30'],\n",
       " ['532', '33'],\n",
       " ['55', '60'],\n",
       " ['55', 'year', 'old'],\n",
       " ['552', '0513'],\n",
       " ['555', '4456'],\n",
       " ['561', '4715'],\n",
       " ['561', '7655'],\n",
       " ['562', '0533'],\n",
       " ['565', '5144'],\n",
       " ['565', '5220'],\n",
       " ['58', 'year', 'old'],\n",
       " ['59', '60'],\n",
       " ['5^', 'v^'],\n",
       " ['6', ''],\n",
       " ['6', '10'],\n",
       " ['6', '11'],\n",
       " ['6', '9'],\n",
       " ['6', '^xtnv^'],\n",
       " ['6', 'xu'],\n",
       " ['60', '471'],\n",
       " ['61', '65'],\n",
       " ['61', 'year', 'oid'],\n",
       " ['624', '2315'],\n",
       " ['624', '6800'],\n",
       " ['644', '4631'],\n",
       " ['65', '67'],\n",
       " ['65', '7'],\n",
       " ['656', '6021'],\n",
       " ['66', '70'],\n",
       " ['662', '663'],\n",
       " ['664', '4504'],\n",
       " ['664', '9180'],\n",
       " ['667', '68'],\n",
       " ['677', '4224'],\n",
       " ['68', '156'],\n",
       " ['6^', ''],\n",
       " ['6i', ''],\n",
       " ['7', ''],\n",
       " ['7', '17'],\n",
       " ['7', '8'],\n",
       " ['7', '■'],\n",
       " ['7./p', ''],\n",
       " ['71', '42'],\n",
       " ['71', '71'],\n",
       " ['71', '75'],\n",
       " ['71', 'u2'],\n",
       " ['717', '787', '4592'],\n",
       " ['717', '787', '6987'],\n",
       " ['717/234', '2621'],\n",
       " ['717/234', '2t'],\n",
       " ['7171', '787', '2600/3600'],\n",
       " ['727', '8711'],\n",
       " ['73', ''],\n",
       " ['73', '102'],\n",
       " ['73', '118'],\n",
       " ['73', '1246'],\n",
       " ['73', '129jb'],\n",
       " ['73', '1512'],\n",
       " ['73', '162'],\n",
       " ['73', '71tp'],\n",
       " ['735', '7200'],\n",
       " ['735', '8409'],\n",
       " ['74', '1345'],\n",
       " ['74', '1661'],\n",
       " ['74', '2138'],\n",
       " ['74', '75'],\n",
       " ['741', '6600'],\n",
       " ['745', '0700'],\n",
       " ['75', '239'],\n",
       " ['75', '584a'],\n",
       " ['75', 'a'],\n",
       " ['7554', '^'],\n",
       " ['76', ''],\n",
       " ['76', '80'],\n",
       " ['76', 'year', 'old'],\n",
       " ['764', '69'],\n",
       " ['77', '73'],\n",
       " ['77', '78'],\n",
       " ['78', '79'],\n",
       " ['781', '0265'],\n",
       " ['787', ''],\n",
       " ['787', '2350'],\n",
       " ['787', '2600'],\n",
       " ['787', '2600/3600'],\n",
       " ['787', '3600'],\n",
       " ['787', '3700'],\n",
       " ['787', '4592'],\n",
       " ['787', '6398'],\n",
       " ['787', '6987'],\n",
       " ['787', '7682'],\n",
       " ['79', '1404'],\n",
       " ['79', '80'],\n",
       " ['7\\\\', ''],\n",
       " ['7^', ''],\n",
       " ['7t^', 'c^'],\n",
       " ['7vs6t', ''],\n",
       " ['8', '123'],\n",
       " ['8', '13'],\n",
       " ['8', '133'],\n",
       " ['8', '1495'],\n",
       " ['8', 'hour'],\n",
       " ['8', 'i495'],\n",
       " ['80', '81'],\n",
       " ['800', '932', '0784'],\n",
       " ['802', '04'],\n",
       " ['81', '2101'],\n",
       " ['81', '5a'],\n",
       " ['81', '82'],\n",
       " ['81', '85'],\n",
       " ['82', '83'],\n",
       " ['83', '84'],\n",
       " ['831', '8677'],\n",
       " ['835', '3982'],\n",
       " ['84', '85'],\n",
       " ['85', '86'],\n",
       " ['850', '59'],\n",
       " ['86', '87'],\n",
       " ['86', '90'],\n",
       " ['863', '7304'],\n",
       " ['863', '7350'],\n",
       " ['8f', '120', 'i'],\n",
       " ['8f', '1201'],\n",
       " ['9', 'year'],\n",
       " ['900', ''],\n",
       " ['917', '1001'],\n",
       " ['921', '926'],\n",
       " ['922', '5625'],\n",
       " ['941', '6213'],\n",
       " ['941', '9050'],\n",
       " ['967', '4147'],\n",
       " ['9:30', '37'],\n",
       " ['9^', ''],\n",
       " ['9a', '1'],\n",
       " ['9a', '2'],\n",
       " ['9b', '1'],\n",
       " ['9b', '2'],\n",
       " ['9c', '1'],\n",
       " ['9c', '2'],\n",
       " ['9d', '1'],\n",
       " ['9d', '2'],\n",
       " ['9e', '1'],\n",
       " ['9e', '2'],\n",
       " [':', ':3'],\n",
       " [':', 'r'],\n",
       " [':55', ''],\n",
       " [':s', ''],\n",
       " ['\\\\', ''],\n",
       " ['\\\\', 'v'],\n",
       " ['\\\\\\\\yx', 'y', 'v*'],\n",
       " ['\\\\_a', ''],\n",
       " ['\\\\i', ''],\n",
       " ['\\\\v', ''],\n",
       " ['\\\\vrvr', ''],\n",
       " ['\\\\x', 'l', ''],\n",
       " ['\\\\—', 'o'],\n",
       " ['^', ''],\n",
       " ['^', '/l—^xf/r'],\n",
       " ['^', 'a****^*i'],\n",
       " ['^', 'c^j', 'azv', 'ja^'],\n",
       " ['^', 'crcta9'],\n",
       " ['^', 'i'],\n",
       " ['^', 'njcd'],\n",
       " ['^', 'ro'],\n",
       " ['^', 't^a'],\n",
       " ['^.', ''],\n",
       " ['^/l^^', '^zo'],\n",
       " ['^2', 'cvnfi'],\n",
       " ['^4^7', ''],\n",
       " ['^^yua.j', 'e'],\n",
       " ['^^zvu', 'czl', 'zztztzf'],\n",
       " ['^aj2', 'aaa'],\n",
       " ['^c', 'i~.t'],\n",
       " ['^c', 's', ''],\n",
       " ['^c', 'v'],\n",
       " ['^caj', 'ls'],\n",
       " ['^crf', '^c—'],\n",
       " ['^cz', 'o', ''],\n",
       " ['^it', 'e'],\n",
       " ['^izic', 'izvh', 'c'],\n",
       " ['^j77=wc', ''],\n",
       " ['^jse', ''],\n",
       " ['^kt', 'fc'],\n",
       " ['^l', ''],\n",
       " ['^ohlqemuth', ''],\n",
       " [\"^ou'\", 'oj^^axxaq'],\n",
       " ['^oy', 'c'],\n",
       " ['^s', 'lflo'],\n",
       " ['^t', 'c'],\n",
       " ['^uxvc', 'x^'],\n",
       " ['^vcq.', 'tcxj'],\n",
       " ['^x', '/v'],\n",
       " ['^xaz', '^', 'va.'],\n",
       " ['^za', 'clt^c'],\n",
       " ['^£ppp', ''],\n",
       " ['_', ''],\n",
       " ['_', '.'],\n",
       " ['_', 'c'],\n",
       " ['_', 't'],\n",
       " ['_..', '..', ''],\n",
       " ['_/vj_^', 'vj'],\n",
       " ['_^', '€c'],\n",
       " ['__', ''],\n",
       " ['___..', 'xiidc', \"'\", ''],\n",
       " ['_l.', ''],\n",
       " ['a', '..'],\n",
       " ['a', '1134'],\n",
       " ['a', '2'],\n",
       " ['a', '2.u~b..'],\n",
       " ['a', '3'],\n",
       " ['a', 'hl6'],\n",
       " ['a', 'rf'],\n",
       " [\"a'th\", ''],\n",
       " ['a.', ''],\n",
       " ['a.1^', ''],\n",
       " ['a.m.', '12:30'],\n",
       " ['a.r.c.', 'allegheny'],\n",
       " ['a/', 'did'],\n",
       " ['a/4*', '/v'],\n",
       " ['a^t.', 'ca'],\n",
       " ['a^xim', 'ua', 'a', 've', 'ul'],\n",
       " ['a_', '—', '—', '—', '—v_'],\n",
       " ['aa', 'fc'],\n",
       " ['aa', 'o'],\n",
       " ['aaclaaa', ''],\n",
       " ['aa£', ''],\n",
       " ['abil', 'part', 'time'],\n",
       " ['ac', 'cidential'],\n",
       " ['acc', ''],\n",
       " ['acc', 'harc'],\n",
       " ['acc', 'parc'],\n",
       " ['acc', 'parc*s'],\n",
       " ['acci', ''],\n",
       " ['accredi', ''],\n",
       " ['acnzc', 'ya/c'],\n",
       " ['aco', 'parc'],\n",
       " ['activ', 'ities'],\n",
       " [\"ad'\", ''],\n",
       " ['adminis', ''],\n",
       " ['adminis', '_'],\n",
       " ['afl', 'c10'],\n",
       " ['afl', 'ci0'],\n",
       " ['afl', 'cio'],\n",
       " ['aggres', 'ive'],\n",
       " ['agres', 'sive'],\n",
       " ['ahti', \"h'stirtio\"],\n",
       " ['ajd^~', ''],\n",
       " ['alt', \"'\", ''],\n",
       " ['alterna', ''],\n",
       " ['andits', '.lotaf'],\n",
       " ['appro', 'priate'],\n",
       " ['approxi', 'mately'],\n",
       " ['apr.', 'may'],\n",
       " ['areas.', ''],\n",
       " ['argu', 'supporters'],\n",
       " ['arrangement', '*', ''],\n",
       " ['asjew', 'j*'],\n",
       " ['attornoy', 'at', 'law'],\n",
       " ['b^', ''],\n",
       " ['bajance.', ''],\n",
       " ['bay', '20ji973'],\n",
       " ['bay', '2o'],\n",
       " ['bl^u', 'est'],\n",
       " ['blamed.', ''],\n",
       " ['c', '.^'],\n",
       " ['c', '/j'],\n",
       " ['c', '7'],\n",
       " ['c', '71'],\n",
       " ['c', '7~'],\n",
       " ['c', '8'],\n",
       " ['c', '9'],\n",
       " ['c', 'cpl'],\n",
       " ['c', 'ls^zz', ''],\n",
       " ['c', 'xaac'],\n",
       " ['c.y', 'xd'],\n",
       " ['c/', ''],\n",
       " ['c/ca/', 'c'],\n",
       " ['c1', ''],\n",
       " ['c2', '130965e1'],\n",
       " ['c73', '205'],\n",
       " ['c^', '^'],\n",
       " ['c^', 'j'],\n",
       " [\"c^'t\", ''],\n",
       " [\"c^ippp'lc\", ''],\n",
       " ['c^rt', '5'],\n",
       " ['c^xt', ''],\n",
       " ['ca', '.e'],\n",
       " ['cafe', 'style'],\n",
       " ['cc', 'litiee'],\n",
       " ['cc', 'rrectt', 'd'],\n",
       " ['cctuuity', 'oririted'],\n",
       " ['cddjd', '^a'],\n",
       " ['cl', 'luc^/_'],\n",
       " ['cla', '1'],\n",
       " ['cla', '2'],\n",
       " ['cla', '4'],\n",
       " ['cla', '5'],\n",
       " ['cla', '6a'],\n",
       " ['cla', 'c', ''],\n",
       " ['cla', 'sponsored'],\n",
       " ['cn^', 'k'],\n",
       " ['cnoth', 'er'],\n",
       " ['co', 'educationa'],\n",
       " ['co', 'educationai'],\n",
       " ['co', 'opregarding'],\n",
       " ['co', 'orllmtion'],\n",
       " ['cod', 'ition'],\n",
       " ['coit', 'dwlth'],\n",
       " ['col', 'ombatto'],\n",
       " ['com', ''],\n",
       " ['consti', ''],\n",
       " ['coor', 'dinating'],\n",
       " [\"corporation's\", 'labor'],\n",
       " ['ct', ''],\n",
       " ['cw', '^t^'],\n",
       " ['cx', 'x^', 'n^f'],\n",
       " ['cx^xz', 'e', 'v', 'x'],\n",
       " ['cy', 's^'],\n",
       " ['d', '149'],\n",
       " [\"d'\", 'ilc'],\n",
       " [\"d'.x.\", 'n'],\n",
       " ['d2', ''],\n",
       " ['dd^', 't'],\n",
       " ['ddd', ''],\n",
       " ['de', 'czhzon'],\n",
       " ['de', 'ligently'],\n",
       " ['deinstitution', 'alization'],\n",
       " ['dental', 'eze'],\n",
       " ['descrip', ''],\n",
       " ['detre', ''],\n",
       " ['devr', 'z'],\n",
       " ['diff', '*'],\n",
       " ['dis', '|'],\n",
       " ['dissatis', ''],\n",
       " ['distri', ''],\n",
       " ['dj', 'b', 'ic'],\n",
       " ['dj', 'c', 't'],\n",
       " [\"dj'jpdd*\", \"'xs—£_\"],\n",
       " ['domi', 'jje'],\n",
       " ['dott', 'ie'],\n",
       " [\"dpt'\", ''],\n",
       " ['dptu^', 'i'],\n",
       " ['dzys', 'ta'],\n",
       " ['d£fc', ''],\n",
       " ['eaet', 'ienadly—diebeebedy', 'mentally', ''],\n",
       " ['ear—hi', 'mrsawohlgemnth'],\n",
       " ['ebuore', 'd'],\n",
       " ['ei', ''],\n",
       " ['eizv^', 'j'],\n",
       " ['em', 'breevillc'],\n",
       " ['ental4y', 'di'],\n",
       " ['eo^', '7~'],\n",
       " ['erie', 'itrs'],\n",
       " ['estab', 'lishment'],\n",
       " ['experts—', 'composed'],\n",
       " ['expose*', ''],\n",
       " ['f', \"'t^\"],\n",
       " ['f', 'cj'],\n",
       " [\"f'\", 'zz'],\n",
       " ['f1', ''],\n",
       " ['f9', 'j'],\n",
       " ['factoi', 's'],\n",
       " [\"fc'\", 'c', ''],\n",
       " ...]"
      ]
     },
     "execution_count": 48,
     "metadata": {},
     "output_type": "execute_result"
    }
   ],
   "source": [
    "# Hyphenated items whose components are not in scowl - possible misspellings or punctuation strings\n",
    "\n",
    "sorted([y for y in [x.split('-') for x in hyphenated] if y[0].lower() not in scowl or y[1].lower() not in scowl])"
   ]
  },
  {
   "cell_type": "markdown",
   "metadata": {},
   "source": [
    "After manual checking, all the hyphenated words are punctuation and can be removed from the non-words df. Because all hyphenated word are fine, we will just eliminate all words that are not purely composed of letters. This will have the effect of removing the following categories from the dataframe:\n",
    "- punctuation\n",
    "- hyphenated words (e.g. well-known)\n",
    "- contractions (e.g. 'll, 've)\n",
    "- years (e.g. 1950s)\n",
    "- ordinals (e.g. 1st, 2nd)"
   ]
  },
  {
   "cell_type": "code",
   "execution_count": 49,
   "metadata": {},
   "outputs": [
    {
     "name": "stderr",
     "output_type": "stream",
     "text": [
      "/opt/anaconda3/lib/python3.7/site-packages/pandas/core/generic.py:5303: SettingWithCopyWarning: \n",
      "A value is trying to be set on a copy of a slice from a DataFrame.\n",
      "Try using .loc[row_indexer,col_indexer] = value instead\n",
      "\n",
      "See the caveats in the documentation: https://pandas.pydata.org/pandas-docs/stable/user_guide/indexing.html#returning-a-view-versus-a-copy\n",
      "  self[name] = value\n"
     ]
    }
   ],
   "source": [
    "# Removing items that are not purely alpha\n",
    "\n",
    "non_words.misspelled_words = non_words.misspelled_words.apply(lambda row: [x for x in row if x[0].isalpha()])"
   ]
  },
  {
   "cell_type": "code",
   "execution_count": 50,
   "metadata": {},
   "outputs": [],
   "source": [
    "# Removing all words with length 1\n",
    "\n",
    "non_words.misspelled_words = non_words.misspelled_words.apply(lambda row: [x for x in row if len(x[0]) > 1])"
   ]
  },
  {
   "cell_type": "code",
   "execution_count": 51,
   "metadata": {},
   "outputs": [],
   "source": [
    "# Removing all words with special characters (non_ascii)\n",
    "# after checking, these are all foreign words with accents and other non-latin characters\n",
    "\n",
    "# Creating function to check\n",
    "def is_ascii(s):\n",
    "    return all(ord(c) < 128 for c in s)"
   ]
  },
  {
   "cell_type": "code",
   "execution_count": 52,
   "metadata": {},
   "outputs": [
    {
     "data": {
      "text/plain": [
       "[('yﬁly', 'yﬁly', 'NN'),\n",
       " ('ofﬂce', 'ofﬂce', 'NNS'),\n",
       " ('welﬂcuze', 'Welﬂcuze', 'NNP'),\n",
       " ('lllllaﬁ', 'Lllllaﬁ', 'NNP'),\n",
       " ('frrﬁ', 'frrﬁ', 'JJ'),\n",
       " ('supportedé', 'Supportedé', 'NNP'),\n",
       " ('iﬁcn', 'iﬁcn', 'NN'),\n",
       " ('iugétegnv', 'Iugétegnv', 'NNP'),\n",
       " ('mcﬁlelland', 'Mcﬁlelland', 'NNP'),\n",
       " ('ﬂy', 'ﬂy', 'NNP'),\n",
       " ('éeﬁeve', 'éeﬁeve', 'VBP'),\n",
       " ('ixﬁfngerjgv', 'ixﬁfngerjgv', 'NN'),\n",
       " ('ﬂy', 'ﬂy', 'NN'),\n",
       " ('ﬁmw', 'ﬁmw', 'NNP'),\n",
       " ('lcuué', 'lcuué', 'VBD'),\n",
       " ('aﬂutﬁouas', 'aﬂutﬁouas', 'VBP'),\n",
       " ('éeléeve', 'éeléeve', 'NNP'),\n",
       " ('péeaoecl', 'péeaoecl', 'NN'),\n",
       " ('iﬁ', 'Iﬁ', 'NNP'),\n",
       " ('ﬁacket', 'ﬁacket', 'NN')]"
      ]
     },
     "execution_count": 52,
     "metadata": {},
     "output_type": "execute_result"
    }
   ],
   "source": [
    "non_word_list = set([x for y in non_words.misspelled_words.to_list() for x in y])\n",
    "foreign_words = [x for x in non_word_list if is_ascii(x[0]) == False ]\n",
    "foreign_words[:20]"
   ]
  },
  {
   "cell_type": "code",
   "execution_count": 53,
   "metadata": {},
   "outputs": [],
   "source": [
    "# Removing foreign words\n",
    "\n",
    "non_words.misspelled_words = non_words.misspelled_words.apply(lambda row: [x for x in row if x not in foreign_words])"
   ]
  },
  {
   "cell_type": "code",
   "execution_count": 54,
   "metadata": {},
   "outputs": [
    {
     "name": "stdout",
     "output_type": "stream",
     "text": [
      "5063\n",
      "3566\n"
     ]
    }
   ],
   "source": [
    "# Checking affect of removal\n",
    "\n",
    "print(len([x for y in non_words.misspelled_words.to_list() for x in y]))\n",
    "print(len(set([x for y in non_words.misspelled_words.to_list() for x in y])))"
   ]
  },
  {
   "cell_type": "code",
   "execution_count": 55,
   "metadata": {},
   "outputs": [
    {
     "data": {
      "text/html": [
       "<div>\n",
       "<style scoped>\n",
       "    .dataframe tbody tr th:only-of-type {\n",
       "        vertical-align: middle;\n",
       "    }\n",
       "\n",
       "    .dataframe tbody tr th {\n",
       "        vertical-align: top;\n",
       "    }\n",
       "\n",
       "    .dataframe thead th {\n",
       "        text-align: right;\n",
       "    }\n",
       "</style>\n",
       "<table border=\"1\" class=\"dataframe\">\n",
       "  <thead>\n",
       "    <tr style=\"text-align: right;\">\n",
       "      <th></th>\n",
       "      <th>tok_lem_POS_NLTK</th>\n",
       "      <th>misspelled_words</th>\n",
       "      <th>sentence</th>\n",
       "    </tr>\n",
       "  </thead>\n",
       "  <tbody>\n",
       "    <tr>\n",
       "      <th>0</th>\n",
       "      <td>[(v, V, NNP), (pennsylvania, Pennsylvania, NNP...</td>\n",
       "      <td>[(dpw, DPW, NNP), (dpw, DPW, NNP), (dpw, DPW, ...</td>\n",
       "      <td>[﻿V\\n\\nPennsylvania Association for Retarded C...</td>\n",
       "    </tr>\n",
       "    <tr>\n",
       "      <th>1</th>\n",
       "      <td>[(pennsylvania, Pennsylvania, NNP), (associati...</td>\n",
       "      <td>[(ppp, PPP, NNP), (schmi, Schmi, NNP), (dt, dt...</td>\n",
       "      <td>[﻿Pennsylvania Association for Retarded Citize...</td>\n",
       "    </tr>\n",
       "    <tr>\n",
       "      <th>2</th>\n",
       "      <td>[(11, 11, CD), (families, FAMILIES, NNP), (&amp;, ...</td>\n",
       "      <td>[(fodi, Fodi, NNP)]</td>\n",
       "      <td>[﻿11\\nFAMILIES &amp; FRIENDS OF SOUTHWEST HABILITA...</td>\n",
       "    </tr>\n",
       "    <tr>\n",
       "      <th>3</th>\n",
       "      <td>[(families, FAMILIES, NNP), (&amp;, &amp;, CC), (frien...</td>\n",
       "      <td>[(tesident, tesident, NN), (fodi, Fodi, NNP), ...</td>\n",
       "      <td>[﻿FAMILIES &amp; FRIENDS OF\\nSOUTHWEST HABILITATIO...</td>\n",
       "    </tr>\n",
       "    <tr>\n",
       "      <th>4</th>\n",
       "      <td>[(c, C, NNP), (ommonwealth, ommonwealth, NN), ...</td>\n",
       "      <td>[(ommonwealth, ommonwealth, NN), (hmamssune, H...</td>\n",
       "      <td>[C ommonwealth of Pennsylvania\\n\\nDepartment o...</td>\n",
       "    </tr>\n",
       "  </tbody>\n",
       "</table>\n",
       "</div>"
      ],
      "text/plain": [
       "                                    tok_lem_POS_NLTK  \\\n",
       "0  [(v, V, NNP), (pennsylvania, Pennsylvania, NNP...   \n",
       "1  [(pennsylvania, Pennsylvania, NNP), (associati...   \n",
       "2  [(11, 11, CD), (families, FAMILIES, NNP), (&, ...   \n",
       "3  [(families, FAMILIES, NNP), (&, &, CC), (frien...   \n",
       "4  [(c, C, NNP), (ommonwealth, ommonwealth, NN), ...   \n",
       "\n",
       "                                    misspelled_words  \\\n",
       "0  [(dpw, DPW, NNP), (dpw, DPW, NNP), (dpw, DPW, ...   \n",
       "1  [(ppp, PPP, NNP), (schmi, Schmi, NNP), (dt, dt...   \n",
       "2                                [(fodi, Fodi, NNP)]   \n",
       "3  [(tesident, tesident, NN), (fodi, Fodi, NNP), ...   \n",
       "4  [(ommonwealth, ommonwealth, NN), (hmamssune, H...   \n",
       "\n",
       "                                            sentence  \n",
       "0  [﻿V\\n\\nPennsylvania Association for Retarded C...  \n",
       "1  [﻿Pennsylvania Association for Retarded Citize...  \n",
       "2  [﻿11\\nFAMILIES & FRIENDS OF SOUTHWEST HABILITA...  \n",
       "3  [﻿FAMILIES & FRIENDS OF\\nSOUTHWEST HABILITATIO...  \n",
       "4  [C ommonwealth of Pennsylvania\\n\\nDepartment o...  "
      ]
     },
     "execution_count": 55,
     "metadata": {},
     "output_type": "execute_result"
    }
   ],
   "source": [
    "non_words.head()"
   ]
  },
  {
   "cell_type": "markdown",
   "metadata": {},
   "source": [
    "Create new dataframe so that each misspelling token is a separate row."
   ]
  },
  {
   "cell_type": "code",
   "execution_count": 56,
   "metadata": {},
   "outputs": [],
   "source": [
    "# Removing rows with no misspellings\n",
    "\n",
    "non_words2 = non_words.loc[non_words.misspelled_words.str.len() > 0,:].copy()"
   ]
  },
  {
   "cell_type": "code",
   "execution_count": 57,
   "metadata": {},
   "outputs": [],
   "source": [
    "# Exploding the lists in misspelled words so that each misspelling gets its own row\n",
    "\n",
    "non_words2 = non_words2.explode('misspelled_words')"
   ]
  },
  {
   "cell_type": "code",
   "execution_count": 58,
   "metadata": {},
   "outputs": [],
   "source": [
    "# Keeping only the sentence containing the error (the first occurence of the error if repeated)\n",
    "\n",
    "non_words2['sentence'] = list(zip([x[0] for x in non_words2.misspelled_words], non_words2.sentence))\n",
    "non_words2['sentence'] = non_words2['sentence'].apply(\n",
    "    lambda row: [i for i in row[1] if row[0] in re_tokenize(i) or row[0]+\"n't\" in i.lower()])\n",
    "non_words2['sentence'] = [x[0] for x in non_words2['sentence']]\n",
    "non_words2 = non_words2.drop_duplicates(subset = ['misspelled_words','sentence'])"
   ]
  },
  {
   "cell_type": "code",
   "execution_count": 59,
   "metadata": {},
   "outputs": [
    {
     "data": {
      "text/html": [
       "<div>\n",
       "<style scoped>\n",
       "    .dataframe tbody tr th:only-of-type {\n",
       "        vertical-align: middle;\n",
       "    }\n",
       "\n",
       "    .dataframe tbody tr th {\n",
       "        vertical-align: top;\n",
       "    }\n",
       "\n",
       "    .dataframe thead th {\n",
       "        text-align: right;\n",
       "    }\n",
       "</style>\n",
       "<table border=\"1\" class=\"dataframe\">\n",
       "  <thead>\n",
       "    <tr style=\"text-align: right;\">\n",
       "      <th></th>\n",
       "      <th>index</th>\n",
       "      <th>tok_lem_POS_NLTK</th>\n",
       "      <th>misspelled_words</th>\n",
       "      <th>sentence</th>\n",
       "    </tr>\n",
       "  </thead>\n",
       "  <tbody>\n",
       "    <tr>\n",
       "      <th>0</th>\n",
       "      <td>0</td>\n",
       "      <td>[(v, V, NNP), (pennsylvania, Pennsylvania, NNP...</td>\n",
       "      <td>(dpw, DPW, NNP)</td>\n",
       "      <td>Downs v. Pennsylvania DPW: outlines the plan w...</td>\n",
       "    </tr>\n",
       "    <tr>\n",
       "      <th>1</th>\n",
       "      <td>0</td>\n",
       "      <td>[(v, V, NNP), (pennsylvania, Pennsylvania, NNP...</td>\n",
       "      <td>(bazelon, Bazelon, NNP)</td>\n",
       "      <td>cc:\\tGilhool\\nBazelon Haggerty Cohen\\nPolloni ...</td>\n",
       "    </tr>\n",
       "    <tr>\n",
       "      <th>2</th>\n",
       "      <td>0</td>\n",
       "      <td>[(v, V, NNP), (pennsylvania, Pennsylvania, NNP...</td>\n",
       "      <td>(nastav, Nastav, NNP)</td>\n",
       "      <td>cc:\\tGilhool\\nBazelon Haggerty Cohen\\nPolloni ...</td>\n",
       "    </tr>\n",
       "    <tr>\n",
       "      <th>3</th>\n",
       "      <td>0</td>\n",
       "      <td>[(v, V, NNP), (pennsylvania, Pennsylvania, NNP...</td>\n",
       "      <td>(lgmiutbvno, lgmiutbvNo, NN)</td>\n",
       "      <td>9674. ycg£hi&lt;H^v^_Wo.bl!lgmiutbvNo.</td>\n",
       "    </tr>\n",
       "    <tr>\n",
       "      <th>4</th>\n",
       "      <td>0</td>\n",
       "      <td>[(v, V, NNP), (pennsylvania, Pennsylvania, NNP...</td>\n",
       "      <td>(plaintitts, Plaintitts, NNP)</td>\n",
       "      <td>Plaintitts and Plaintiff-Intervenors represent...</td>\n",
       "    </tr>\n",
       "  </tbody>\n",
       "</table>\n",
       "</div>"
      ],
      "text/plain": [
       "   index                                   tok_lem_POS_NLTK  \\\n",
       "0      0  [(v, V, NNP), (pennsylvania, Pennsylvania, NNP...   \n",
       "1      0  [(v, V, NNP), (pennsylvania, Pennsylvania, NNP...   \n",
       "2      0  [(v, V, NNP), (pennsylvania, Pennsylvania, NNP...   \n",
       "3      0  [(v, V, NNP), (pennsylvania, Pennsylvania, NNP...   \n",
       "4      0  [(v, V, NNP), (pennsylvania, Pennsylvania, NNP...   \n",
       "\n",
       "                misspelled_words  \\\n",
       "0                (dpw, DPW, NNP)   \n",
       "1        (bazelon, Bazelon, NNP)   \n",
       "2          (nastav, Nastav, NNP)   \n",
       "3   (lgmiutbvno, lgmiutbvNo, NN)   \n",
       "4  (plaintitts, Plaintitts, NNP)   \n",
       "\n",
       "                                            sentence  \n",
       "0  Downs v. Pennsylvania DPW: outlines the plan w...  \n",
       "1  cc:\\tGilhool\\nBazelon Haggerty Cohen\\nPolloni ...  \n",
       "2  cc:\\tGilhool\\nBazelon Haggerty Cohen\\nPolloni ...  \n",
       "3                9674. ycg£hi<H^v^_Wo.bl!lgmiutbvNo.  \n",
       "4  Plaintitts and Plaintiff-Intervenors represent...  "
      ]
     },
     "execution_count": 59,
     "metadata": {},
     "output_type": "execute_result"
    }
   ],
   "source": [
    "# Keeping the id (which is no longer unique) as a separate column\n",
    "\n",
    "non_words2 = non_words2.reset_index(drop = False)\n",
    "non_words2.head()"
   ]
  },
  {
   "cell_type": "markdown",
   "metadata": {},
   "source": [
    "Adding a bigrams column, i.e. one token left and right of the misspelled word"
   ]
  },
  {
   "cell_type": "code",
   "execution_count": 60,
   "metadata": {},
   "outputs": [
    {
     "data": {
      "text/html": [
       "<div>\n",
       "<style scoped>\n",
       "    .dataframe tbody tr th:only-of-type {\n",
       "        vertical-align: middle;\n",
       "    }\n",
       "\n",
       "    .dataframe tbody tr th {\n",
       "        vertical-align: top;\n",
       "    }\n",
       "\n",
       "    .dataframe thead th {\n",
       "        text-align: right;\n",
       "    }\n",
       "</style>\n",
       "<table border=\"1\" class=\"dataframe\">\n",
       "  <thead>\n",
       "    <tr style=\"text-align: right;\">\n",
       "      <th></th>\n",
       "      <th>index</th>\n",
       "      <th>tok_lem_POS_NLTK</th>\n",
       "      <th>misspelled_words</th>\n",
       "      <th>sentence</th>\n",
       "      <th>enumerated</th>\n",
       "    </tr>\n",
       "  </thead>\n",
       "  <tbody>\n",
       "    <tr>\n",
       "      <th>0</th>\n",
       "      <td>0</td>\n",
       "      <td>[(v, V, NNP), (pennsylvania, Pennsylvania, NNP...</td>\n",
       "      <td>(dpw, DPW, NNP)</td>\n",
       "      <td>Downs v. Pennsylvania DPW: outlines the plan w...</td>\n",
       "      <td>[(0, downs), (1, v), (2, pennsylvania), (3, dp...</td>\n",
       "    </tr>\n",
       "    <tr>\n",
       "      <th>1</th>\n",
       "      <td>0</td>\n",
       "      <td>[(v, V, NNP), (pennsylvania, Pennsylvania, NNP...</td>\n",
       "      <td>(bazelon, Bazelon, NNP)</td>\n",
       "      <td>cc:\\tGilhool\\nBazelon Haggerty Cohen\\nPolloni ...</td>\n",
       "      <td>[(0, cc), (1, gilhool), (2, bazelon), (3, hagg...</td>\n",
       "    </tr>\n",
       "    <tr>\n",
       "      <th>2</th>\n",
       "      <td>0</td>\n",
       "      <td>[(v, V, NNP), (pennsylvania, Pennsylvania, NNP...</td>\n",
       "      <td>(nastav, Nastav, NNP)</td>\n",
       "      <td>cc:\\tGilhool\\nBazelon Haggerty Cohen\\nPolloni ...</td>\n",
       "      <td>[(0, cc), (1, gilhool), (2, bazelon), (3, hagg...</td>\n",
       "    </tr>\n",
       "    <tr>\n",
       "      <th>3</th>\n",
       "      <td>0</td>\n",
       "      <td>[(v, V, NNP), (pennsylvania, Pennsylvania, NNP...</td>\n",
       "      <td>(lgmiutbvno, lgmiutbvNo, NN)</td>\n",
       "      <td>9674. ycg£hi&lt;H^v^_Wo.bl!lgmiutbvNo.</td>\n",
       "      <td>[(0, 9674), (1, ycg), (2, hi), (3, h), (4, v),...</td>\n",
       "    </tr>\n",
       "    <tr>\n",
       "      <th>4</th>\n",
       "      <td>0</td>\n",
       "      <td>[(v, V, NNP), (pennsylvania, Pennsylvania, NNP...</td>\n",
       "      <td>(plaintitts, Plaintitts, NNP)</td>\n",
       "      <td>Plaintitts and Plaintiff-Intervenors represent...</td>\n",
       "      <td>[(0, plaintitts), (1, and), (2, plaintiff), (3...</td>\n",
       "    </tr>\n",
       "  </tbody>\n",
       "</table>\n",
       "</div>"
      ],
      "text/plain": [
       "   index                                   tok_lem_POS_NLTK  \\\n",
       "0      0  [(v, V, NNP), (pennsylvania, Pennsylvania, NNP...   \n",
       "1      0  [(v, V, NNP), (pennsylvania, Pennsylvania, NNP...   \n",
       "2      0  [(v, V, NNP), (pennsylvania, Pennsylvania, NNP...   \n",
       "3      0  [(v, V, NNP), (pennsylvania, Pennsylvania, NNP...   \n",
       "4      0  [(v, V, NNP), (pennsylvania, Pennsylvania, NNP...   \n",
       "\n",
       "                misspelled_words  \\\n",
       "0                (dpw, DPW, NNP)   \n",
       "1        (bazelon, Bazelon, NNP)   \n",
       "2          (nastav, Nastav, NNP)   \n",
       "3   (lgmiutbvno, lgmiutbvNo, NN)   \n",
       "4  (plaintitts, Plaintitts, NNP)   \n",
       "\n",
       "                                            sentence  \\\n",
       "0  Downs v. Pennsylvania DPW: outlines the plan w...   \n",
       "1  cc:\\tGilhool\\nBazelon Haggerty Cohen\\nPolloni ...   \n",
       "2  cc:\\tGilhool\\nBazelon Haggerty Cohen\\nPolloni ...   \n",
       "3                9674. ycg£hi<H^v^_Wo.bl!lgmiutbvNo.   \n",
       "4  Plaintitts and Plaintiff-Intervenors represent...   \n",
       "\n",
       "                                          enumerated  \n",
       "0  [(0, downs), (1, v), (2, pennsylvania), (3, dp...  \n",
       "1  [(0, cc), (1, gilhool), (2, bazelon), (3, hagg...  \n",
       "2  [(0, cc), (1, gilhool), (2, bazelon), (3, hagg...  \n",
       "3  [(0, 9674), (1, ycg), (2, hi), (3, h), (4, v),...  \n",
       "4  [(0, plaintitts), (1, and), (2, plaintiff), (3...  "
      ]
     },
     "execution_count": 60,
     "metadata": {},
     "output_type": "execute_result"
    }
   ],
   "source": [
    "# Creating a tokenized version of the sentence without punctuation and with the index for each token\n",
    "\n",
    "non_words2['enumerated'] = non_words2.sentence.apply(lambda x: re_tokenize(x)).apply(enumerate).apply(list)\n",
    "non_words2.head()"
   ]
  },
  {
   "cell_type": "code",
   "execution_count": 61,
   "metadata": {},
   "outputs": [],
   "source": [
    "# Creating a function to extract the bigrams (1 word either side of misspelling)\n",
    "\n",
    "def get_bigrams(misspelled_word, enumerated_list):\n",
    "    if len(enumerated_list) <2:\n",
    "        return []\n",
    "    for tup in enumerated_list:\n",
    "        if tup[1] == misspelled_word[0]:\n",
    "            if tup[0] == 0:\n",
    "                bigram = ' '.join([x[1] for x in (enumerated_list[tup[0]],enumerated_list[tup[0]+1])])\n",
    "                return [(bigram,2)]\n",
    "            if tup[0] == len(enumerated_list)-1:\n",
    "                bigram = ' '.join([x[1] for x in (enumerated_list[tup[0]-1],enumerated_list[tup[0]])])\n",
    "                return [(bigram,1)]\n",
    "            else:\n",
    "                bigram1 = ' '.join([x[1] for x in (enumerated_list[tup[0]-1],enumerated_list[tup[0]])])\n",
    "                bigram2 = ' '.join([x[1] for x in (enumerated_list[tup[0]],enumerated_list[tup[0]+1])])\n",
    "                return [(bigram1,1), (bigram2,2)]\n",
    "            \n",
    "# Notes:\n",
    "# '1' and '2' added as identifiers to show which word in bigram is the misspelling\n",
    "# Type 1 bigram = (word, misspelling), Type 2 bigram = (misspelling, word)"
   ]
  },
  {
   "cell_type": "code",
   "execution_count": 62,
   "metadata": {},
   "outputs": [],
   "source": [
    "# Applying getbigrams\n",
    "\n",
    "non_words2['bigrams'] = non_words2[['misspelled_words','enumerated']].apply(lambda x: get_bigrams(x[0],x[1]), axis=1)"
   ]
  },
  {
   "cell_type": "code",
   "execution_count": 63,
   "metadata": {},
   "outputs": [],
   "source": [
    "# Deleting the enumerated column as no longer necessary\n",
    "\n",
    "del non_words2['enumerated']"
   ]
  },
  {
   "cell_type": "code",
   "execution_count": 64,
   "metadata": {},
   "outputs": [],
   "source": [
    "# Renaming the 'misspelled_words' column as there is only one word in each row\n",
    "\n",
    "non_words2 = non_words2.rename(columns={\"misspelled_words\": \"misspelling\"})"
   ]
  },
  {
   "cell_type": "code",
   "execution_count": 65,
   "metadata": {},
   "outputs": [
    {
     "data": {
      "text/html": [
       "<div>\n",
       "<style scoped>\n",
       "    .dataframe tbody tr th:only-of-type {\n",
       "        vertical-align: middle;\n",
       "    }\n",
       "\n",
       "    .dataframe tbody tr th {\n",
       "        vertical-align: top;\n",
       "    }\n",
       "\n",
       "    .dataframe thead th {\n",
       "        text-align: right;\n",
       "    }\n",
       "</style>\n",
       "<table border=\"1\" class=\"dataframe\">\n",
       "  <thead>\n",
       "    <tr style=\"text-align: right;\">\n",
       "      <th></th>\n",
       "      <th>index</th>\n",
       "      <th>tok_lem_POS_NLTK</th>\n",
       "      <th>misspelling</th>\n",
       "      <th>sentence</th>\n",
       "      <th>bigrams</th>\n",
       "    </tr>\n",
       "  </thead>\n",
       "  <tbody>\n",
       "    <tr>\n",
       "      <th>0</th>\n",
       "      <td>0</td>\n",
       "      <td>[(v, V, NNP), (pennsylvania, Pennsylvania, NNP...</td>\n",
       "      <td>(dpw, DPW, NNP)</td>\n",
       "      <td>Downs v. Pennsylvania DPW: outlines the plan w...</td>\n",
       "      <td>[(pennsylvania dpw, 1), (dpw outlines, 2)]</td>\n",
       "    </tr>\n",
       "    <tr>\n",
       "      <th>1</th>\n",
       "      <td>0</td>\n",
       "      <td>[(v, V, NNP), (pennsylvania, Pennsylvania, NNP...</td>\n",
       "      <td>(bazelon, Bazelon, NNP)</td>\n",
       "      <td>cc:\\tGilhool\\nBazelon Haggerty Cohen\\nPolloni ...</td>\n",
       "      <td>[(gilhool bazelon, 1), (bazelon haggerty, 2)]</td>\n",
       "    </tr>\n",
       "    <tr>\n",
       "      <th>2</th>\n",
       "      <td>0</td>\n",
       "      <td>[(v, V, NNP), (pennsylvania, Pennsylvania, NNP...</td>\n",
       "      <td>(nastav, Nastav, NNP)</td>\n",
       "      <td>cc:\\tGilhool\\nBazelon Haggerty Cohen\\nPolloni ...</td>\n",
       "      <td>[(roth nastav, 1), (nastav v, 2)]</td>\n",
       "    </tr>\n",
       "    <tr>\n",
       "      <th>3</th>\n",
       "      <td>0</td>\n",
       "      <td>[(v, V, NNP), (pennsylvania, Pennsylvania, NNP...</td>\n",
       "      <td>(lgmiutbvno, lgmiutbvNo, NN)</td>\n",
       "      <td>9674. ycg£hi&lt;H^v^_Wo.bl!lgmiutbvNo.</td>\n",
       "      <td>[(bl lgmiutbvno, 1)]</td>\n",
       "    </tr>\n",
       "    <tr>\n",
       "      <th>4</th>\n",
       "      <td>0</td>\n",
       "      <td>[(v, V, NNP), (pennsylvania, Pennsylvania, NNP...</td>\n",
       "      <td>(plaintitts, Plaintitts, NNP)</td>\n",
       "      <td>Plaintitts and Plaintiff-Intervenors represent...</td>\n",
       "      <td>[(plaintitts and, 2)]</td>\n",
       "    </tr>\n",
       "  </tbody>\n",
       "</table>\n",
       "</div>"
      ],
      "text/plain": [
       "   index                                   tok_lem_POS_NLTK  \\\n",
       "0      0  [(v, V, NNP), (pennsylvania, Pennsylvania, NNP...   \n",
       "1      0  [(v, V, NNP), (pennsylvania, Pennsylvania, NNP...   \n",
       "2      0  [(v, V, NNP), (pennsylvania, Pennsylvania, NNP...   \n",
       "3      0  [(v, V, NNP), (pennsylvania, Pennsylvania, NNP...   \n",
       "4      0  [(v, V, NNP), (pennsylvania, Pennsylvania, NNP...   \n",
       "\n",
       "                     misspelling  \\\n",
       "0                (dpw, DPW, NNP)   \n",
       "1        (bazelon, Bazelon, NNP)   \n",
       "2          (nastav, Nastav, NNP)   \n",
       "3   (lgmiutbvno, lgmiutbvNo, NN)   \n",
       "4  (plaintitts, Plaintitts, NNP)   \n",
       "\n",
       "                                            sentence  \\\n",
       "0  Downs v. Pennsylvania DPW: outlines the plan w...   \n",
       "1  cc:\\tGilhool\\nBazelon Haggerty Cohen\\nPolloni ...   \n",
       "2  cc:\\tGilhool\\nBazelon Haggerty Cohen\\nPolloni ...   \n",
       "3                9674. ycg£hi<H^v^_Wo.bl!lgmiutbvNo.   \n",
       "4  Plaintitts and Plaintiff-Intervenors represent...   \n",
       "\n",
       "                                         bigrams  \n",
       "0     [(pennsylvania dpw, 1), (dpw outlines, 2)]  \n",
       "1  [(gilhool bazelon, 1), (bazelon haggerty, 2)]  \n",
       "2              [(roth nastav, 1), (nastav v, 2)]  \n",
       "3                           [(bl lgmiutbvno, 1)]  \n",
       "4                          [(plaintitts and, 2)]  "
      ]
     },
     "execution_count": 65,
     "metadata": {},
     "output_type": "execute_result"
    }
   ],
   "source": [
    "# Checking final non_words2 dataframe\n",
    "\n",
    "non_words2.head()"
   ]
  },
  {
   "cell_type": "code",
   "execution_count": 66,
   "metadata": {},
   "outputs": [
    {
     "data": {
      "text/plain": [
       "4141"
      ]
     },
     "execution_count": 66,
     "metadata": {},
     "output_type": "execute_result"
    },
    {
     "data": {
      "text/plain": [
       "3566"
      ]
     },
     "execution_count": 66,
     "metadata": {},
     "output_type": "execute_result"
    }
   ],
   "source": [
    "# Total number of non-words (tokens)\n",
    "len(non_words2)\n",
    "\n",
    "# Total number of non-words (types)\n",
    "non_words2.misspelling.nunique()"
   ]
  },
  {
   "cell_type": "markdown",
   "metadata": {},
   "source": [
    "#### Creating a dataframe of misspellings\n",
    "In the `non-words2` dataframe above, each row is an occurrence of a misspelling (i.e. _tokens_ ). We also want a dataframe where each row is a misspelling _type_ with frequency information attached."
   ]
  },
  {
   "cell_type": "code",
   "execution_count": 67,
   "metadata": {},
   "outputs": [],
   "source": [
    "# Gathering the total misspellings and bigrams\n",
    "\n",
    "total_unigram_misspell = [x for x in non_words2['misspelling']]\n",
    "total_bigram_misspell = [x[0] for y in non_words2['bigrams'] for x in y] #flattened list"
   ]
  },
  {
   "cell_type": "code",
   "execution_count": 68,
   "metadata": {},
   "outputs": [],
   "source": [
    "# Creating frequency dictionaries for unigrams and bigrams\n",
    "\n",
    "unigram_misspell_freq_dict = {}\n",
    "for word in total_unigram_misspell:\n",
    "    if word not in unigram_misspell_freq_dict:\n",
    "        unigram_misspell_freq_dict[word] = 1\n",
    "    else:\n",
    "        unigram_misspell_freq_dict[word] += 1\n",
    "        \n",
    "bigram_misspell_freq_dict = {}\n",
    "for bigram in total_bigram_misspell:\n",
    "    if bigram not in bigram_misspell_freq_dict:\n",
    "        bigram_misspell_freq_dict[bigram] = 1\n",
    "    else:\n",
    "        bigram_misspell_freq_dict[bigram] += 1"
   ]
  },
  {
   "cell_type": "code",
   "execution_count": 69,
   "metadata": {},
   "outputs": [
    {
     "name": "stdout",
     "output_type": "stream",
     "text": [
      "[('nutes', 'nutes', 'VBZ'), ('vpjl', 'VPJL', 'NNP'), ('defeffied', 'DEFEffiED', 'NNP'), ('erank', 'Erank', 'NNP'), ('yrnnsijlnania', 'yrnnsijlnania', 'RB')]\n",
      "['opment they', 'become entepreneurs', 'ris mfifafa', 'vg c', 'bttipely unrealistic']\n"
     ]
    }
   ],
   "source": [
    "# Checking dictionaries\n",
    "\n",
    "print(random.sample(list(unigram_misspell_freq_dict),5))\n",
    "print(random.sample(list(bigram_misspell_freq_dict),5))"
   ]
  },
  {
   "cell_type": "code",
   "execution_count": 70,
   "metadata": {},
   "outputs": [
    {
     "data": {
      "text/plain": [
       "3566"
      ]
     },
     "execution_count": 70,
     "metadata": {},
     "output_type": "execute_result"
    },
    {
     "data": {
      "text/plain": [
       "6748"
      ]
     },
     "execution_count": 70,
     "metadata": {},
     "output_type": "execute_result"
    }
   ],
   "source": [
    "# Remove duplicates\n",
    "\n",
    "final_unigram_misspellings = sorted(list(set(total_unigram_misspell)))\n",
    "final_bigram_misspellings = sorted(list(set(total_bigram_misspell)))\n",
    "len(final_unigram_misspellings)\n",
    "len(final_bigram_misspellings)"
   ]
  },
  {
   "cell_type": "code",
   "execution_count": 71,
   "metadata": {},
   "outputs": [],
   "source": [
    "# Constructing misspell_df\n",
    "\n",
    "misspell_df = pd.DataFrame(final_unigram_misspellings)"
   ]
  },
  {
   "cell_type": "code",
   "execution_count": 72,
   "metadata": {},
   "outputs": [],
   "source": [
    "# Renaming columns to match other DataFrames in this notebook\n",
    "\n",
    "misspell_df.rename(columns = {0: 'misspelling',1:'lemma',2:'POS'}, inplace = True)"
   ]
  },
  {
   "cell_type": "code",
   "execution_count": 73,
   "metadata": {},
   "outputs": [
    {
     "data": {
      "text/html": [
       "<div>\n",
       "<style scoped>\n",
       "    .dataframe tbody tr th:only-of-type {\n",
       "        vertical-align: middle;\n",
       "    }\n",
       "\n",
       "    .dataframe tbody tr th {\n",
       "        vertical-align: top;\n",
       "    }\n",
       "\n",
       "    .dataframe thead th {\n",
       "        text-align: right;\n",
       "    }\n",
       "</style>\n",
       "<table border=\"1\" class=\"dataframe\">\n",
       "  <thead>\n",
       "    <tr style=\"text-align: right;\">\n",
       "      <th></th>\n",
       "      <th>misspelling</th>\n",
       "      <th>lemma</th>\n",
       "      <th>POS</th>\n",
       "      <th>tok_lem_POS</th>\n",
       "    </tr>\n",
       "  </thead>\n",
       "  <tbody>\n",
       "    <tr>\n",
       "      <th>0</th>\n",
       "      <td>aa</td>\n",
       "      <td>AA</td>\n",
       "      <td>NNP</td>\n",
       "      <td>(aa, AA, NNP)</td>\n",
       "    </tr>\n",
       "    <tr>\n",
       "      <th>1</th>\n",
       "      <td>aa</td>\n",
       "      <td>aA</td>\n",
       "      <td>NN</td>\n",
       "      <td>(aa, aA, NN)</td>\n",
       "    </tr>\n",
       "    <tr>\n",
       "      <th>2</th>\n",
       "      <td>aa</td>\n",
       "      <td>aa</td>\n",
       "      <td>VBP</td>\n",
       "      <td>(aa, aa, VBP)</td>\n",
       "    </tr>\n",
       "    <tr>\n",
       "      <th>3</th>\n",
       "      <td>aaaoctatton</td>\n",
       "      <td>AAAoctatton</td>\n",
       "      <td>NNP</td>\n",
       "      <td>(aaaoctatton, AAAoctatton, NNP)</td>\n",
       "    </tr>\n",
       "    <tr>\n",
       "      <th>4</th>\n",
       "      <td>aae</td>\n",
       "      <td>aAe</td>\n",
       "      <td>RB</td>\n",
       "      <td>(aae, aAe, RB)</td>\n",
       "    </tr>\n",
       "  </tbody>\n",
       "</table>\n",
       "</div>"
      ],
      "text/plain": [
       "   misspelling        lemma  POS                      tok_lem_POS\n",
       "0           aa           AA  NNP                    (aa, AA, NNP)\n",
       "1           aa           aA   NN                     (aa, aA, NN)\n",
       "2           aa           aa  VBP                    (aa, aa, VBP)\n",
       "3  aaaoctatton  AAAoctatton  NNP  (aaaoctatton, AAAoctatton, NNP)\n",
       "4          aae          aAe   RB                   (aae, aAe, RB)"
      ]
     },
     "execution_count": 73,
     "metadata": {},
     "output_type": "execute_result"
    }
   ],
   "source": [
    "# Recreating tok_lem_POS column to match dictionary\n",
    "\n",
    "misspell_df['tok_lem_POS'] = list(zip(misspell_df.misspelling, misspell_df.lemma, misspell_df.POS))\n",
    "misspell_df.head()"
   ]
  },
  {
   "cell_type": "code",
   "execution_count": 74,
   "metadata": {},
   "outputs": [],
   "source": [
    "# Mapping dictionary to DataFrame\n",
    "\n",
    "misspell_df['freq'] = misspell_df['tok_lem_POS'].map(unigram_misspell_freq_dict)\n",
    "misspell_df = misspell_df.sort_values(by=['freq'], ascending=False)"
   ]
  },
  {
   "cell_type": "code",
   "execution_count": 75,
   "metadata": {},
   "outputs": [
    {
     "data": {
      "text/html": [
       "<div>\n",
       "<style scoped>\n",
       "    .dataframe tbody tr th:only-of-type {\n",
       "        vertical-align: middle;\n",
       "    }\n",
       "\n",
       "    .dataframe tbody tr th {\n",
       "        vertical-align: top;\n",
       "    }\n",
       "\n",
       "    .dataframe thead th {\n",
       "        text-align: right;\n",
       "    }\n",
       "</style>\n",
       "<table border=\"1\" class=\"dataframe\">\n",
       "  <thead>\n",
       "    <tr style=\"text-align: right;\">\n",
       "      <th></th>\n",
       "      <th>misspelling</th>\n",
       "      <th>tok_lem_POS</th>\n",
       "      <th>freq</th>\n",
       "    </tr>\n",
       "  </thead>\n",
       "  <tbody>\n",
       "    <tr>\n",
       "      <th>0</th>\n",
       "      <td>shapp</td>\n",
       "      <td>(shapp, Shapp, NNP)</td>\n",
       "      <td>73</td>\n",
       "    </tr>\n",
       "    <tr>\n",
       "      <th>1</th>\n",
       "      <td>dpw</td>\n",
       "      <td>(dpw, DPW, NNP)</td>\n",
       "      <td>58</td>\n",
       "    </tr>\n",
       "    <tr>\n",
       "      <th>2</th>\n",
       "      <td>wssh</td>\n",
       "      <td>(wssh, WSSH, NNP)</td>\n",
       "      <td>40</td>\n",
       "    </tr>\n",
       "    <tr>\n",
       "      <th>3</th>\n",
       "      <td>cla</td>\n",
       "      <td>(cla, CLA, NNP)</td>\n",
       "      <td>19</td>\n",
       "    </tr>\n",
       "    <tr>\n",
       "      <th>4</th>\n",
       "      <td>cp</td>\n",
       "      <td>(cp, cp, NN)</td>\n",
       "      <td>18</td>\n",
       "    </tr>\n",
       "    <tr>\n",
       "      <th>5</th>\n",
       "      <td>omr</td>\n",
       "      <td>(omr, OMR, NNP)</td>\n",
       "      <td>10</td>\n",
       "    </tr>\n",
       "    <tr>\n",
       "      <th>6</th>\n",
       "      <td>cca</td>\n",
       "      <td>(cca, CCA, NNP)</td>\n",
       "      <td>8</td>\n",
       "    </tr>\n",
       "    <tr>\n",
       "      <th>7</th>\n",
       "      <td>tdmt</td>\n",
       "      <td>(tdmt, TDMT, NNP)</td>\n",
       "      <td>8</td>\n",
       "    </tr>\n",
       "    <tr>\n",
       "      <th>8</th>\n",
       "      <td>torisky</td>\n",
       "      <td>(torisky, Torisky, NNP)</td>\n",
       "      <td>7</td>\n",
       "    </tr>\n",
       "    <tr>\n",
       "      <th>9</th>\n",
       "      <td>jcah</td>\n",
       "      <td>(jcah, JCAH, NNP)</td>\n",
       "      <td>7</td>\n",
       "    </tr>\n",
       "  </tbody>\n",
       "</table>\n",
       "</div>"
      ],
      "text/plain": [
       "  misspelling              tok_lem_POS  freq\n",
       "0       shapp      (shapp, Shapp, NNP)    73\n",
       "1         dpw          (dpw, DPW, NNP)    58\n",
       "2        wssh        (wssh, WSSH, NNP)    40\n",
       "3         cla          (cla, CLA, NNP)    19\n",
       "4          cp             (cp, cp, NN)    18\n",
       "5         omr          (omr, OMR, NNP)    10\n",
       "6         cca          (cca, CCA, NNP)     8\n",
       "7        tdmt        (tdmt, TDMT, NNP)     8\n",
       "8     torisky  (torisky, Torisky, NNP)     7\n",
       "9        jcah        (jcah, JCAH, NNP)     7"
      ]
     },
     "execution_count": 75,
     "metadata": {},
     "output_type": "execute_result"
    }
   ],
   "source": [
    "# Resetting index and deleting unnecessary columns\n",
    "\n",
    "misspell_df = misspell_df.reset_index(drop = True)\n",
    "del misspell_df['lemma']\n",
    "del misspell_df['POS']\n",
    "\n",
    "misspell_df.head(10)"
   ]
  },
  {
   "cell_type": "markdown",
   "metadata": {},
   "source": [
    "#### bob_df_spelling_supp\n",
    "The following is the basis for the 'bob_df_spelling_supp' list used earlier. Here, errors with a frequency over 1 were manually checked, and if determined to be a real word, were added to the bob_df_spelling_supp. There were originally 418 items which met this criteria."
   ]
  },
  {
   "cell_type": "code",
   "execution_count": 76,
   "metadata": {},
   "outputs": [
    {
     "data": {
      "text/plain": [
       "208"
      ]
     },
     "execution_count": 76,
     "metadata": {},
     "output_type": "execute_result"
    },
    {
     "data": {
      "text/html": [
       "<div>\n",
       "<style scoped>\n",
       "    .dataframe tbody tr th:only-of-type {\n",
       "        vertical-align: middle;\n",
       "    }\n",
       "\n",
       "    .dataframe tbody tr th {\n",
       "        vertical-align: top;\n",
       "    }\n",
       "\n",
       "    .dataframe thead th {\n",
       "        text-align: right;\n",
       "    }\n",
       "</style>\n",
       "<table border=\"1\" class=\"dataframe\">\n",
       "  <thead>\n",
       "    <tr style=\"text-align: right;\">\n",
       "      <th></th>\n",
       "      <th>misspelling</th>\n",
       "      <th>tok_lem_POS</th>\n",
       "      <th>freq</th>\n",
       "    </tr>\n",
       "  </thead>\n",
       "  <tbody>\n",
       "    <tr>\n",
       "      <th>0</th>\n",
       "      <td>shapp</td>\n",
       "      <td>(shapp, Shapp, NNP)</td>\n",
       "      <td>73</td>\n",
       "    </tr>\n",
       "    <tr>\n",
       "      <th>1</th>\n",
       "      <td>dpw</td>\n",
       "      <td>(dpw, DPW, NNP)</td>\n",
       "      <td>58</td>\n",
       "    </tr>\n",
       "    <tr>\n",
       "      <th>2</th>\n",
       "      <td>wssh</td>\n",
       "      <td>(wssh, WSSH, NNP)</td>\n",
       "      <td>40</td>\n",
       "    </tr>\n",
       "    <tr>\n",
       "      <th>3</th>\n",
       "      <td>cla</td>\n",
       "      <td>(cla, CLA, NNP)</td>\n",
       "      <td>19</td>\n",
       "    </tr>\n",
       "    <tr>\n",
       "      <th>4</th>\n",
       "      <td>cp</td>\n",
       "      <td>(cp, cp, NN)</td>\n",
       "      <td>18</td>\n",
       "    </tr>\n",
       "  </tbody>\n",
       "</table>\n",
       "</div>"
      ],
      "text/plain": [
       "  misspelling          tok_lem_POS  freq\n",
       "0       shapp  (shapp, Shapp, NNP)    73\n",
       "1         dpw      (dpw, DPW, NNP)    58\n",
       "2        wssh    (wssh, WSSH, NNP)    40\n",
       "3         cla      (cla, CLA, NNP)    19\n",
       "4          cp         (cp, cp, NN)    18"
      ]
     },
     "execution_count": 76,
     "metadata": {},
     "output_type": "execute_result"
    }
   ],
   "source": [
    "len(misspell_df.loc[misspell_df.freq > 1])\n",
    "misspell_df.loc[misspell_df.freq > 1].head()"
   ]
  },
  {
   "cell_type": "code",
   "execution_count": 77,
   "metadata": {},
   "outputs": [],
   "source": [
    "%%capture\n",
    "\n",
    "# Creating a text file of the bob_df_spelling_supp to check manually\n",
    "\n",
    "off_list_to_check = misspell_df.loc[misspell_df.freq > 1].misspelling\n",
    "with open('off_list', 'w') as f:\n",
    "    for item in off_list_to_check:\n",
    "        f.write(\"%s\\n\" % item)"
   ]
  },
  {
   "cell_type": "markdown",
   "metadata": {},
   "source": [
    "### Applying spelling correction\n",
    "\n",
    "In some ways SymSpell is not ideal as full sentence context is not considered, only general frequencies. However, other well-known spellcheckers (hunspell, pyspell, etc.) use the same strategy - frequency based criteria for suggestions, without considering immediate cotext. As such, we have followed this common practice, but it is important to remember that accuracy of corrected tokens will not be 100% and must be taken into consideration.\n",
    "\n",
    "As a compromise and to consider context, spelling corrections based on bigrams is first implemented. If no suggestions are available, spelling corrections based on unigrams are implemented."
   ]
  },
  {
   "cell_type": "code",
   "execution_count": 78,
   "metadata": {},
   "outputs": [
    {
     "data": {
      "text/plain": [
       "True"
      ]
     },
     "execution_count": 78,
     "metadata": {},
     "output_type": "execute_result"
    },
    {
     "name": "stdout",
     "output_type": "stream",
     "text": [
      "because, 1, 271323986\n"
     ]
    }
   ],
   "source": [
    "# Testing spelling suggestions with 'becuase'\n",
    "\n",
    "sym_spell = SymSpell(max_dictionary_edit_distance=2, prefix_length=7)\n",
    "dictionary_path = pkg_resources.resource_filename(\n",
    "    \"symspellpy\", \"frequency_dictionary_en_82_765.txt\")\n",
    "# term_index is the column of the term and count_index is the column of the term frequency\n",
    "sym_spell.load_dictionary(dictionary_path, term_index=0, count_index=1)\n",
    "\n",
    "input_term = \"becuase\"\n",
    "suggestions = sym_spell.lookup(input_term, Verbosity.CLOSEST, max_edit_distance=2, #Edit distance can be adjusted\n",
    "                               transfer_casing=True, #Optional argument set to ignore case\n",
    "                              include_unknown=True) #Return same word if unknown\n",
    "for suggestion in suggestions:\n",
    "    print(suggestion)  "
   ]
  },
  {
   "cell_type": "code",
   "execution_count": 79,
   "metadata": {},
   "outputs": [],
   "source": [
    "# Creating function for finding unigram suggestions\n",
    "\n",
    "def get_unigram_suggestions(word):\n",
    "    if len(word) >= 4:\n",
    "        suggestions = sym_spell.lookup(word, Verbosity.CLOSEST,max_edit_distance=2, transfer_casing=True)\n",
    "    else:\n",
    "        suggestions = sym_spell.lookup(word, Verbosity.CLOSEST,max_edit_distance=1, transfer_casing=True)\n",
    "    return [str(x).split(',') for x in suggestions]"
   ]
  },
  {
   "cell_type": "code",
   "execution_count": 80,
   "metadata": {},
   "outputs": [
    {
     "data": {
      "text/plain": [
       "[['because', ' 1', ' 271323986']]"
      ]
     },
     "execution_count": 80,
     "metadata": {},
     "output_type": "execute_result"
    }
   ],
   "source": [
    "# Testing function\n",
    "\n",
    "get_unigram_suggestions('becuase')"
   ]
  },
  {
   "cell_type": "markdown",
   "metadata": {},
   "source": [
    "**Note**: The function has a variable edit distance: words of length 4 or more get edit distance of 2, shorter words get edit distance of 1. These preferences can be adjusted in the function if desired."
   ]
  },
  {
   "cell_type": "code",
   "execution_count": 81,
   "metadata": {},
   "outputs": [
    {
     "name": "stdout",
     "output_type": "stream",
     "text": [
      "because of, 1, 3481714\n"
     ]
    }
   ],
   "source": [
    "# Testing spelling suggestions with 'becuase of'\n",
    "\n",
    "max_edit_distance_dictionary = 2\n",
    "prefix_length = 7\n",
    "sym_spell = SymSpell(max_edit_distance_dictionary, prefix_length)\n",
    "bigram_path = pkg_resources.resource_filename(\"symspellpy\", \"frequency_bigramdictionary_en_243_342.txt\")\n",
    "if not sym_spell.load_dictionary(dictionary_path, term_index=0, count_index=1):\n",
    "    print(\"Dictionary file not found\")\n",
    "if not sym_spell.load_bigram_dictionary(bigram_path, term_index=0, count_index=2):\n",
    "    print(\"Bigram dictionary file not found\")\n",
    "input_term = 'becuase of'\n",
    "max_edit_distance_lookup = 2\n",
    "suggestions = sym_spell.lookup_compound(input_term, max_edit_distance_lookup)\n",
    "for suggestion in suggestions:\n",
    "    print(suggestion) "
   ]
  },
  {
   "cell_type": "code",
   "execution_count": 82,
   "metadata": {},
   "outputs": [],
   "source": [
    "# Creating function for finding bigram suggestions\n",
    "\n",
    "def get_bigram_suggestions(bigram):\n",
    "    suggestions = sym_spell.lookup_compound(bigram, max_edit_distance_lookup)\n",
    "    for suggestion in suggestions:\n",
    "        return [str(x).split(',') for x in suggestions] "
   ]
  },
  {
   "cell_type": "code",
   "execution_count": 83,
   "metadata": {},
   "outputs": [
    {
     "data": {
      "text/plain": [
       "[['work hard', ' 2', ' 53229']]"
      ]
     },
     "execution_count": 83,
     "metadata": {},
     "output_type": "execute_result"
    }
   ],
   "source": [
    "# Testing function\n",
    "\n",
    "get_bigram_suggestions('worq harg')"
   ]
  },
  {
   "cell_type": "code",
   "execution_count": 84,
   "metadata": {},
   "outputs": [],
   "source": [
    "# Returing to non_words2 dataframe and applying functions to create new column\n",
    "\n",
    "# Creating unigram suggestions column\n",
    "\n",
    "non_words2['unigram_suggestions'] =  non_words2['misspelling'].apply(\n",
    "    lambda x: get_unigram_suggestions(x[0]))"
   ]
  },
  {
   "cell_type": "code",
   "execution_count": 85,
   "metadata": {},
   "outputs": [],
   "source": [
    "# Turning into tuples for easier processing\n",
    "\n",
    "non_words2.unigram_suggestions = non_words2.unigram_suggestions.apply(\n",
    "    lambda row: [tuple(x) for x in row])"
   ]
  },
  {
   "cell_type": "code",
   "execution_count": 86,
   "metadata": {},
   "outputs": [],
   "source": [
    "# Creating bigram suggestions column\n",
    "\n",
    "non_words2['bigram_suggestions'] =  non_words2['bigrams'].apply(\n",
    "    lambda row: [(get_bigram_suggestions(x[0]),x[1]) for x in row])"
   ]
  },
  {
   "cell_type": "code",
   "execution_count": 87,
   "metadata": {},
   "outputs": [],
   "source": [
    "# Flattening and turning into tuples for easier processing\n",
    "\n",
    "non_words2['bigram_suggestions'] = non_words2.bigram_suggestions.apply(\n",
    "    lambda row: [(tuple([i for j in x[0] for i in j]),x[1]) for x in row])"
   ]
  },
  {
   "cell_type": "code",
   "execution_count": 88,
   "metadata": {},
   "outputs": [
    {
     "data": {
      "text/plain": [
       "762"
      ]
     },
     "execution_count": 88,
     "metadata": {},
     "output_type": "execute_result"
    },
    {
     "data": {
      "text/plain": [
       "38"
      ]
     },
     "execution_count": 88,
     "metadata": {},
     "output_type": "execute_result"
    },
    {
     "data": {
      "text/plain": [
       "6"
      ]
     },
     "execution_count": 88,
     "metadata": {},
     "output_type": "execute_result"
    }
   ],
   "source": [
    "# Checking how many items without suggestions\n",
    "\n",
    "len(non_words2.loc[(non_words2.unigram_suggestions.str.len() == 0),:])\n",
    "len(non_words2.loc[(non_words2.bigram_suggestions.str.len() == 0),:])\n",
    "len(non_words2.loc[(non_words2.bigram_suggestions.str.len() == 0) & (non_words2.unigram_suggestions.str.len() == 0),:])"
   ]
  },
  {
   "cell_type": "markdown",
   "metadata": {},
   "source": [
    "Items with no suggestions - these will be left in their original form though manual corrections could be applied if desired.  \n",
    "Next, we create a new column with just the most likely correction (based on frequency). Bigram suggestions are given preference before unigram suggestions. If there is no suggestion, the original word is returned."
   ]
  },
  {
   "cell_type": "code",
   "execution_count": 89,
   "metadata": {},
   "outputs": [],
   "source": [
    "# Create new column with just the most likely correction (based on frequency)\n",
    "\n",
    "def sort_unigram_tuple(tup):  \n",
    "    tup.sort(key = lambda x: x[2], reverse=True)  \n",
    "    return tup    "
   ]
  },
  {
   "cell_type": "code",
   "execution_count": 90,
   "metadata": {},
   "outputs": [
    {
     "data": {
      "application/javascript": [
       "\n",
       "        if (window._pyforest_update_imports_cell) { window._pyforest_update_imports_cell('import numpy as np\\nimport glob'); }\n",
       "    "
      ],
      "text/plain": [
       "<IPython.core.display.Javascript object>"
      ]
     },
     "metadata": {},
     "output_type": "display_data"
    },
    {
     "data": {
      "application/javascript": [
       "\n",
       "        if (window._pyforest_update_imports_cell) { window._pyforest_update_imports_cell('import numpy as np\\nimport glob'); }\n",
       "    "
      ],
      "text/plain": [
       "<IPython.core.display.Javascript object>"
      ]
     },
     "metadata": {},
     "output_type": "display_data"
    },
    {
     "data": {
      "application/javascript": [
       "\n",
       "        if (window._pyforest_update_imports_cell) { window._pyforest_update_imports_cell('import numpy as np\\nimport glob'); }\n",
       "    "
      ],
      "text/plain": [
       "<IPython.core.display.Javascript object>"
      ]
     },
     "metadata": {},
     "output_type": "display_data"
    },
    {
     "data": {
      "application/javascript": [
       "\n",
       "        if (window._pyforest_update_imports_cell) { window._pyforest_update_imports_cell('import numpy as np\\nimport glob'); }\n",
       "    "
      ],
      "text/plain": [
       "<IPython.core.display.Javascript object>"
      ]
     },
     "metadata": {},
     "output_type": "display_data"
    },
    {
     "data": {
      "application/javascript": [
       "\n",
       "        if (window._pyforest_update_imports_cell) { window._pyforest_update_imports_cell('import numpy as np\\nimport glob'); }\n",
       "    "
      ],
      "text/plain": [
       "<IPython.core.display.Javascript object>"
      ]
     },
     "metadata": {},
     "output_type": "display_data"
    },
    {
     "data": {
      "application/javascript": [
       "\n",
       "        if (window._pyforest_update_imports_cell) { window._pyforest_update_imports_cell('import numpy as np\\nimport glob'); }\n",
       "    "
      ],
      "text/plain": [
       "<IPython.core.display.Javascript object>"
      ]
     },
     "metadata": {},
     "output_type": "display_data"
    },
    {
     "data": {
      "application/javascript": [
       "\n",
       "        if (window._pyforest_update_imports_cell) { window._pyforest_update_imports_cell('import numpy as np\\nimport glob'); }\n",
       "    "
      ],
      "text/plain": [
       "<IPython.core.display.Javascript object>"
      ]
     },
     "metadata": {},
     "output_type": "display_data"
    },
    {
     "data": {
      "application/javascript": [
       "\n",
       "        if (window._pyforest_update_imports_cell) { window._pyforest_update_imports_cell('import numpy as np\\nimport glob'); }\n",
       "    "
      ],
      "text/plain": [
       "<IPython.core.display.Javascript object>"
      ]
     },
     "metadata": {},
     "output_type": "display_data"
    },
    {
     "data": {
      "application/javascript": [
       "\n",
       "        if (window._pyforest_update_imports_cell) { window._pyforest_update_imports_cell('import numpy as np\\nimport glob'); }\n",
       "    "
      ],
      "text/plain": [
       "<IPython.core.display.Javascript object>"
      ]
     },
     "metadata": {},
     "output_type": "display_data"
    },
    {
     "data": {
      "application/javascript": [
       "\n",
       "        if (window._pyforest_update_imports_cell) { window._pyforest_update_imports_cell('import numpy as np\\nimport glob'); }\n",
       "    "
      ],
      "text/plain": [
       "<IPython.core.display.Javascript object>"
      ]
     },
     "metadata": {},
     "output_type": "display_data"
    },
    {
     "data": {
      "application/javascript": [
       "\n",
       "        if (window._pyforest_update_imports_cell) { window._pyforest_update_imports_cell('import numpy as np\\nimport glob'); }\n",
       "    "
      ],
      "text/plain": [
       "<IPython.core.display.Javascript object>"
      ]
     },
     "metadata": {},
     "output_type": "display_data"
    },
    {
     "data": {
      "application/javascript": [
       "\n",
       "        if (window._pyforest_update_imports_cell) { window._pyforest_update_imports_cell('import numpy as np\\nimport glob'); }\n",
       "    "
      ],
      "text/plain": [
       "<IPython.core.display.Javascript object>"
      ]
     },
     "metadata": {},
     "output_type": "display_data"
    },
    {
     "data": {
      "application/javascript": [
       "\n",
       "        if (window._pyforest_update_imports_cell) { window._pyforest_update_imports_cell('import numpy as np\\nimport glob'); }\n",
       "    "
      ],
      "text/plain": [
       "<IPython.core.display.Javascript object>"
      ]
     },
     "metadata": {},
     "output_type": "display_data"
    },
    {
     "data": {
      "application/javascript": [
       "\n",
       "        if (window._pyforest_update_imports_cell) { window._pyforest_update_imports_cell('import numpy as np\\nimport glob'); }\n",
       "    "
      ],
      "text/plain": [
       "<IPython.core.display.Javascript object>"
      ]
     },
     "metadata": {},
     "output_type": "display_data"
    },
    {
     "data": {
      "application/javascript": [
       "\n",
       "        if (window._pyforest_update_imports_cell) { window._pyforest_update_imports_cell('import numpy as np\\nimport glob'); }\n",
       "    "
      ],
      "text/plain": [
       "<IPython.core.display.Javascript object>"
      ]
     },
     "metadata": {},
     "output_type": "display_data"
    },
    {
     "data": {
      "application/javascript": [
       "\n",
       "        if (window._pyforest_update_imports_cell) { window._pyforest_update_imports_cell('import numpy as np\\nimport glob'); }\n",
       "    "
      ],
      "text/plain": [
       "<IPython.core.display.Javascript object>"
      ]
     },
     "metadata": {},
     "output_type": "display_data"
    },
    {
     "data": {
      "application/javascript": [
       "\n",
       "        if (window._pyforest_update_imports_cell) { window._pyforest_update_imports_cell('import numpy as np\\nimport glob'); }\n",
       "    "
      ],
      "text/plain": [
       "<IPython.core.display.Javascript object>"
      ]
     },
     "metadata": {},
     "output_type": "display_data"
    },
    {
     "data": {
      "application/javascript": [
       "\n",
       "        if (window._pyforest_update_imports_cell) { window._pyforest_update_imports_cell('import numpy as np\\nimport glob'); }\n",
       "    "
      ],
      "text/plain": [
       "<IPython.core.display.Javascript object>"
      ]
     },
     "metadata": {},
     "output_type": "display_data"
    },
    {
     "data": {
      "application/javascript": [
       "\n",
       "        if (window._pyforest_update_imports_cell) { window._pyforest_update_imports_cell('import numpy as np\\nimport glob'); }\n",
       "    "
      ],
      "text/plain": [
       "<IPython.core.display.Javascript object>"
      ]
     },
     "metadata": {},
     "output_type": "display_data"
    },
    {
     "data": {
      "application/javascript": [
       "\n",
       "        if (window._pyforest_update_imports_cell) { window._pyforest_update_imports_cell('import numpy as np\\nimport glob'); }\n",
       "    "
      ],
      "text/plain": [
       "<IPython.core.display.Javascript object>"
      ]
     },
     "metadata": {},
     "output_type": "display_data"
    },
    {
     "data": {
      "application/javascript": [
       "\n",
       "        if (window._pyforest_update_imports_cell) { window._pyforest_update_imports_cell('import numpy as np\\nimport glob'); }\n",
       "    "
      ],
      "text/plain": [
       "<IPython.core.display.Javascript object>"
      ]
     },
     "metadata": {},
     "output_type": "display_data"
    },
    {
     "data": {
      "application/javascript": [
       "\n",
       "        if (window._pyforest_update_imports_cell) { window._pyforest_update_imports_cell('import numpy as np\\nimport glob'); }\n",
       "    "
      ],
      "text/plain": [
       "<IPython.core.display.Javascript object>"
      ]
     },
     "metadata": {},
     "output_type": "display_data"
    },
    {
     "data": {
      "application/javascript": [
       "\n",
       "        if (window._pyforest_update_imports_cell) { window._pyforest_update_imports_cell('import numpy as np\\nimport glob'); }\n",
       "    "
      ],
      "text/plain": [
       "<IPython.core.display.Javascript object>"
      ]
     },
     "metadata": {},
     "output_type": "display_data"
    },
    {
     "data": {
      "application/javascript": [
       "\n",
       "        if (window._pyforest_update_imports_cell) { window._pyforest_update_imports_cell('import numpy as np\\nimport glob'); }\n",
       "    "
      ],
      "text/plain": [
       "<IPython.core.display.Javascript object>"
      ]
     },
     "metadata": {},
     "output_type": "display_data"
    },
    {
     "data": {
      "application/javascript": [
       "\n",
       "        if (window._pyforest_update_imports_cell) { window._pyforest_update_imports_cell('import numpy as np\\nimport glob'); }\n",
       "    "
      ],
      "text/plain": [
       "<IPython.core.display.Javascript object>"
      ]
     },
     "metadata": {},
     "output_type": "display_data"
    },
    {
     "data": {
      "application/javascript": [
       "\n",
       "        if (window._pyforest_update_imports_cell) { window._pyforest_update_imports_cell('import numpy as np\\nimport glob'); }\n",
       "    "
      ],
      "text/plain": [
       "<IPython.core.display.Javascript object>"
      ]
     },
     "metadata": {},
     "output_type": "display_data"
    },
    {
     "data": {
      "application/javascript": [
       "\n",
       "        if (window._pyforest_update_imports_cell) { window._pyforest_update_imports_cell('import numpy as np\\nimport glob'); }\n",
       "    "
      ],
      "text/plain": [
       "<IPython.core.display.Javascript object>"
      ]
     },
     "metadata": {},
     "output_type": "display_data"
    },
    {
     "data": {
      "application/javascript": [
       "\n",
       "        if (window._pyforest_update_imports_cell) { window._pyforest_update_imports_cell('import numpy as np\\nimport glob'); }\n",
       "    "
      ],
      "text/plain": [
       "<IPython.core.display.Javascript object>"
      ]
     },
     "metadata": {},
     "output_type": "display_data"
    },
    {
     "data": {
      "application/javascript": [
       "\n",
       "        if (window._pyforest_update_imports_cell) { window._pyforest_update_imports_cell('import numpy as np\\nimport glob'); }\n",
       "    "
      ],
      "text/plain": [
       "<IPython.core.display.Javascript object>"
      ]
     },
     "metadata": {},
     "output_type": "display_data"
    },
    {
     "data": {
      "application/javascript": [
       "\n",
       "        if (window._pyforest_update_imports_cell) { window._pyforest_update_imports_cell('import numpy as np\\nimport glob'); }\n",
       "    "
      ],
      "text/plain": [
       "<IPython.core.display.Javascript object>"
      ]
     },
     "metadata": {},
     "output_type": "display_data"
    },
    {
     "data": {
      "application/javascript": [
       "\n",
       "        if (window._pyforest_update_imports_cell) { window._pyforest_update_imports_cell('import numpy as np\\nimport glob'); }\n",
       "    "
      ],
      "text/plain": [
       "<IPython.core.display.Javascript object>"
      ]
     },
     "metadata": {},
     "output_type": "display_data"
    },
    {
     "data": {
      "application/javascript": [
       "\n",
       "        if (window._pyforest_update_imports_cell) { window._pyforest_update_imports_cell('import numpy as np\\nimport glob'); }\n",
       "    "
      ],
      "text/plain": [
       "<IPython.core.display.Javascript object>"
      ]
     },
     "metadata": {},
     "output_type": "display_data"
    },
    {
     "data": {
      "application/javascript": [
       "\n",
       "        if (window._pyforest_update_imports_cell) { window._pyforest_update_imports_cell('import numpy as np\\nimport glob'); }\n",
       "    "
      ],
      "text/plain": [
       "<IPython.core.display.Javascript object>"
      ]
     },
     "metadata": {},
     "output_type": "display_data"
    },
    {
     "data": {
      "application/javascript": [
       "\n",
       "        if (window._pyforest_update_imports_cell) { window._pyforest_update_imports_cell('import numpy as np\\nimport glob'); }\n",
       "    "
      ],
      "text/plain": [
       "<IPython.core.display.Javascript object>"
      ]
     },
     "metadata": {},
     "output_type": "display_data"
    },
    {
     "data": {
      "application/javascript": [
       "\n",
       "        if (window._pyforest_update_imports_cell) { window._pyforest_update_imports_cell('import numpy as np\\nimport glob'); }\n",
       "    "
      ],
      "text/plain": [
       "<IPython.core.display.Javascript object>"
      ]
     },
     "metadata": {},
     "output_type": "display_data"
    },
    {
     "data": {
      "application/javascript": [
       "\n",
       "        if (window._pyforest_update_imports_cell) { window._pyforest_update_imports_cell('import numpy as np\\nimport glob'); }\n",
       "    "
      ],
      "text/plain": [
       "<IPython.core.display.Javascript object>"
      ]
     },
     "metadata": {},
     "output_type": "display_data"
    },
    {
     "data": {
      "application/javascript": [
       "\n",
       "        if (window._pyforest_update_imports_cell) { window._pyforest_update_imports_cell('import numpy as np\\nimport glob'); }\n",
       "    "
      ],
      "text/plain": [
       "<IPython.core.display.Javascript object>"
      ]
     },
     "metadata": {},
     "output_type": "display_data"
    },
    {
     "data": {
      "application/javascript": [
       "\n",
       "        if (window._pyforest_update_imports_cell) { window._pyforest_update_imports_cell('import numpy as np\\nimport glob'); }\n",
       "    "
      ],
      "text/plain": [
       "<IPython.core.display.Javascript object>"
      ]
     },
     "metadata": {},
     "output_type": "display_data"
    },
    {
     "data": {
      "application/javascript": [
       "\n",
       "        if (window._pyforest_update_imports_cell) { window._pyforest_update_imports_cell('import numpy as np\\nimport glob'); }\n",
       "    "
      ],
      "text/plain": [
       "<IPython.core.display.Javascript object>"
      ]
     },
     "metadata": {},
     "output_type": "display_data"
    },
    {
     "data": {
      "application/javascript": [
       "\n",
       "        if (window._pyforest_update_imports_cell) { window._pyforest_update_imports_cell('import numpy as np\\nimport glob'); }\n",
       "    "
      ],
      "text/plain": [
       "<IPython.core.display.Javascript object>"
      ]
     },
     "metadata": {},
     "output_type": "display_data"
    },
    {
     "data": {
      "application/javascript": [
       "\n",
       "        if (window._pyforest_update_imports_cell) { window._pyforest_update_imports_cell('import numpy as np\\nimport glob'); }\n",
       "    "
      ],
      "text/plain": [
       "<IPython.core.display.Javascript object>"
      ]
     },
     "metadata": {},
     "output_type": "display_data"
    },
    {
     "data": {
      "application/javascript": [
       "\n",
       "        if (window._pyforest_update_imports_cell) { window._pyforest_update_imports_cell('import numpy as np\\nimport glob'); }\n",
       "    "
      ],
      "text/plain": [
       "<IPython.core.display.Javascript object>"
      ]
     },
     "metadata": {},
     "output_type": "display_data"
    },
    {
     "data": {
      "application/javascript": [
       "\n",
       "        if (window._pyforest_update_imports_cell) { window._pyforest_update_imports_cell('import numpy as np\\nimport glob'); }\n",
       "    "
      ],
      "text/plain": [
       "<IPython.core.display.Javascript object>"
      ]
     },
     "metadata": {},
     "output_type": "display_data"
    },
    {
     "data": {
      "application/javascript": [
       "\n",
       "        if (window._pyforest_update_imports_cell) { window._pyforest_update_imports_cell('import numpy as np\\nimport glob'); }\n",
       "    "
      ],
      "text/plain": [
       "<IPython.core.display.Javascript object>"
      ]
     },
     "metadata": {},
     "output_type": "display_data"
    },
    {
     "data": {
      "application/javascript": [
       "\n",
       "        if (window._pyforest_update_imports_cell) { window._pyforest_update_imports_cell('import numpy as np\\nimport glob'); }\n",
       "    "
      ],
      "text/plain": [
       "<IPython.core.display.Javascript object>"
      ]
     },
     "metadata": {},
     "output_type": "display_data"
    },
    {
     "data": {
      "application/javascript": [
       "\n",
       "        if (window._pyforest_update_imports_cell) { window._pyforest_update_imports_cell('import numpy as np\\nimport glob'); }\n",
       "    "
      ],
      "text/plain": [
       "<IPython.core.display.Javascript object>"
      ]
     },
     "metadata": {},
     "output_type": "display_data"
    },
    {
     "data": {
      "application/javascript": [
       "\n",
       "        if (window._pyforest_update_imports_cell) { window._pyforest_update_imports_cell('import numpy as np\\nimport glob'); }\n",
       "    "
      ],
      "text/plain": [
       "<IPython.core.display.Javascript object>"
      ]
     },
     "metadata": {},
     "output_type": "display_data"
    },
    {
     "data": {
      "application/javascript": [
       "\n",
       "        if (window._pyforest_update_imports_cell) { window._pyforest_update_imports_cell('import numpy as np\\nimport glob'); }\n",
       "    "
      ],
      "text/plain": [
       "<IPython.core.display.Javascript object>"
      ]
     },
     "metadata": {},
     "output_type": "display_data"
    },
    {
     "data": {
      "application/javascript": [
       "\n",
       "        if (window._pyforest_update_imports_cell) { window._pyforest_update_imports_cell('import numpy as np\\nimport glob'); }\n",
       "    "
      ],
      "text/plain": [
       "<IPython.core.display.Javascript object>"
      ]
     },
     "metadata": {},
     "output_type": "display_data"
    },
    {
     "data": {
      "application/javascript": [
       "\n",
       "        if (window._pyforest_update_imports_cell) { window._pyforest_update_imports_cell('import numpy as np\\nimport glob'); }\n",
       "    "
      ],
      "text/plain": [
       "<IPython.core.display.Javascript object>"
      ]
     },
     "metadata": {},
     "output_type": "display_data"
    },
    {
     "data": {
      "application/javascript": [
       "\n",
       "        if (window._pyforest_update_imports_cell) { window._pyforest_update_imports_cell('import numpy as np\\nimport glob'); }\n",
       "    "
      ],
      "text/plain": [
       "<IPython.core.display.Javascript object>"
      ]
     },
     "metadata": {},
     "output_type": "display_data"
    },
    {
     "data": {
      "application/javascript": [
       "\n",
       "        if (window._pyforest_update_imports_cell) { window._pyforest_update_imports_cell('import numpy as np\\nimport glob'); }\n",
       "    "
      ],
      "text/plain": [
       "<IPython.core.display.Javascript object>"
      ]
     },
     "metadata": {},
     "output_type": "display_data"
    },
    {
     "data": {
      "application/javascript": [
       "\n",
       "        if (window._pyforest_update_imports_cell) { window._pyforest_update_imports_cell('import numpy as np\\nimport glob'); }\n",
       "    "
      ],
      "text/plain": [
       "<IPython.core.display.Javascript object>"
      ]
     },
     "metadata": {},
     "output_type": "display_data"
    },
    {
     "data": {
      "application/javascript": [
       "\n",
       "        if (window._pyforest_update_imports_cell) { window._pyforest_update_imports_cell('import numpy as np\\nimport glob'); }\n",
       "    "
      ],
      "text/plain": [
       "<IPython.core.display.Javascript object>"
      ]
     },
     "metadata": {},
     "output_type": "display_data"
    },
    {
     "data": {
      "application/javascript": [
       "\n",
       "        if (window._pyforest_update_imports_cell) { window._pyforest_update_imports_cell('import numpy as np\\nimport glob'); }\n",
       "    "
      ],
      "text/plain": [
       "<IPython.core.display.Javascript object>"
      ]
     },
     "metadata": {},
     "output_type": "display_data"
    },
    {
     "data": {
      "application/javascript": [
       "\n",
       "        if (window._pyforest_update_imports_cell) { window._pyforest_update_imports_cell('import numpy as np\\nimport glob'); }\n",
       "    "
      ],
      "text/plain": [
       "<IPython.core.display.Javascript object>"
      ]
     },
     "metadata": {},
     "output_type": "display_data"
    },
    {
     "data": {
      "application/javascript": [
       "\n",
       "        if (window._pyforest_update_imports_cell) { window._pyforest_update_imports_cell('import numpy as np\\nimport glob'); }\n",
       "    "
      ],
      "text/plain": [
       "<IPython.core.display.Javascript object>"
      ]
     },
     "metadata": {},
     "output_type": "display_data"
    },
    {
     "data": {
      "application/javascript": [
       "\n",
       "        if (window._pyforest_update_imports_cell) { window._pyforest_update_imports_cell('import numpy as np\\nimport glob'); }\n",
       "    "
      ],
      "text/plain": [
       "<IPython.core.display.Javascript object>"
      ]
     },
     "metadata": {},
     "output_type": "display_data"
    },
    {
     "data": {
      "application/javascript": [
       "\n",
       "        if (window._pyforest_update_imports_cell) { window._pyforest_update_imports_cell('import numpy as np\\nimport glob'); }\n",
       "    "
      ],
      "text/plain": [
       "<IPython.core.display.Javascript object>"
      ]
     },
     "metadata": {},
     "output_type": "display_data"
    },
    {
     "data": {
      "application/javascript": [
       "\n",
       "        if (window._pyforest_update_imports_cell) { window._pyforest_update_imports_cell('import numpy as np\\nimport glob'); }\n",
       "    "
      ],
      "text/plain": [
       "<IPython.core.display.Javascript object>"
      ]
     },
     "metadata": {},
     "output_type": "display_data"
    },
    {
     "data": {
      "application/javascript": [
       "\n",
       "        if (window._pyforest_update_imports_cell) { window._pyforest_update_imports_cell('import numpy as np\\nimport glob'); }\n",
       "    "
      ],
      "text/plain": [
       "<IPython.core.display.Javascript object>"
      ]
     },
     "metadata": {},
     "output_type": "display_data"
    },
    {
     "data": {
      "application/javascript": [
       "\n",
       "        if (window._pyforest_update_imports_cell) { window._pyforest_update_imports_cell('import numpy as np\\nimport glob'); }\n",
       "    "
      ],
      "text/plain": [
       "<IPython.core.display.Javascript object>"
      ]
     },
     "metadata": {},
     "output_type": "display_data"
    },
    {
     "data": {
      "application/javascript": [
       "\n",
       "        if (window._pyforest_update_imports_cell) { window._pyforest_update_imports_cell('import numpy as np\\nimport glob'); }\n",
       "    "
      ],
      "text/plain": [
       "<IPython.core.display.Javascript object>"
      ]
     },
     "metadata": {},
     "output_type": "display_data"
    },
    {
     "data": {
      "application/javascript": [
       "\n",
       "        if (window._pyforest_update_imports_cell) { window._pyforest_update_imports_cell('import numpy as np\\nimport glob'); }\n",
       "    "
      ],
      "text/plain": [
       "<IPython.core.display.Javascript object>"
      ]
     },
     "metadata": {},
     "output_type": "display_data"
    },
    {
     "data": {
      "application/javascript": [
       "\n",
       "        if (window._pyforest_update_imports_cell) { window._pyforest_update_imports_cell('import numpy as np\\nimport glob'); }\n",
       "    "
      ],
      "text/plain": [
       "<IPython.core.display.Javascript object>"
      ]
     },
     "metadata": {},
     "output_type": "display_data"
    },
    {
     "data": {
      "application/javascript": [
       "\n",
       "        if (window._pyforest_update_imports_cell) { window._pyforest_update_imports_cell('import numpy as np\\nimport glob'); }\n",
       "    "
      ],
      "text/plain": [
       "<IPython.core.display.Javascript object>"
      ]
     },
     "metadata": {},
     "output_type": "display_data"
    },
    {
     "data": {
      "application/javascript": [
       "\n",
       "        if (window._pyforest_update_imports_cell) { window._pyforest_update_imports_cell('import numpy as np\\nimport glob'); }\n",
       "    "
      ],
      "text/plain": [
       "<IPython.core.display.Javascript object>"
      ]
     },
     "metadata": {},
     "output_type": "display_data"
    },
    {
     "data": {
      "application/javascript": [
       "\n",
       "        if (window._pyforest_update_imports_cell) { window._pyforest_update_imports_cell('import numpy as np\\nimport glob'); }\n",
       "    "
      ],
      "text/plain": [
       "<IPython.core.display.Javascript object>"
      ]
     },
     "metadata": {},
     "output_type": "display_data"
    },
    {
     "data": {
      "application/javascript": [
       "\n",
       "        if (window._pyforest_update_imports_cell) { window._pyforest_update_imports_cell('import numpy as np\\nimport glob'); }\n",
       "    "
      ],
      "text/plain": [
       "<IPython.core.display.Javascript object>"
      ]
     },
     "metadata": {},
     "output_type": "display_data"
    },
    {
     "data": {
      "application/javascript": [
       "\n",
       "        if (window._pyforest_update_imports_cell) { window._pyforest_update_imports_cell('import numpy as np\\nimport glob'); }\n",
       "    "
      ],
      "text/plain": [
       "<IPython.core.display.Javascript object>"
      ]
     },
     "metadata": {},
     "output_type": "display_data"
    },
    {
     "data": {
      "application/javascript": [
       "\n",
       "        if (window._pyforest_update_imports_cell) { window._pyforest_update_imports_cell('import numpy as np\\nimport glob'); }\n",
       "    "
      ],
      "text/plain": [
       "<IPython.core.display.Javascript object>"
      ]
     },
     "metadata": {},
     "output_type": "display_data"
    },
    {
     "data": {
      "application/javascript": [
       "\n",
       "        if (window._pyforest_update_imports_cell) { window._pyforest_update_imports_cell('import numpy as np\\nimport glob'); }\n",
       "    "
      ],
      "text/plain": [
       "<IPython.core.display.Javascript object>"
      ]
     },
     "metadata": {},
     "output_type": "display_data"
    },
    {
     "data": {
      "application/javascript": [
       "\n",
       "        if (window._pyforest_update_imports_cell) { window._pyforest_update_imports_cell('import numpy as np\\nimport glob'); }\n",
       "    "
      ],
      "text/plain": [
       "<IPython.core.display.Javascript object>"
      ]
     },
     "metadata": {},
     "output_type": "display_data"
    },
    {
     "data": {
      "application/javascript": [
       "\n",
       "        if (window._pyforest_update_imports_cell) { window._pyforest_update_imports_cell('import numpy as np\\nimport glob'); }\n",
       "    "
      ],
      "text/plain": [
       "<IPython.core.display.Javascript object>"
      ]
     },
     "metadata": {},
     "output_type": "display_data"
    },
    {
     "data": {
      "application/javascript": [
       "\n",
       "        if (window._pyforest_update_imports_cell) { window._pyforest_update_imports_cell('import numpy as np\\nimport glob'); }\n",
       "    "
      ],
      "text/plain": [
       "<IPython.core.display.Javascript object>"
      ]
     },
     "metadata": {},
     "output_type": "display_data"
    },
    {
     "data": {
      "application/javascript": [
       "\n",
       "        if (window._pyforest_update_imports_cell) { window._pyforest_update_imports_cell('import numpy as np\\nimport glob'); }\n",
       "    "
      ],
      "text/plain": [
       "<IPython.core.display.Javascript object>"
      ]
     },
     "metadata": {},
     "output_type": "display_data"
    },
    {
     "data": {
      "application/javascript": [
       "\n",
       "        if (window._pyforest_update_imports_cell) { window._pyforest_update_imports_cell('import numpy as np\\nimport glob'); }\n",
       "    "
      ],
      "text/plain": [
       "<IPython.core.display.Javascript object>"
      ]
     },
     "metadata": {},
     "output_type": "display_data"
    },
    {
     "data": {
      "application/javascript": [
       "\n",
       "        if (window._pyforest_update_imports_cell) { window._pyforest_update_imports_cell('import numpy as np\\nimport glob'); }\n",
       "    "
      ],
      "text/plain": [
       "<IPython.core.display.Javascript object>"
      ]
     },
     "metadata": {},
     "output_type": "display_data"
    },
    {
     "data": {
      "application/javascript": [
       "\n",
       "        if (window._pyforest_update_imports_cell) { window._pyforest_update_imports_cell('import numpy as np\\nimport glob'); }\n",
       "    "
      ],
      "text/plain": [
       "<IPython.core.display.Javascript object>"
      ]
     },
     "metadata": {},
     "output_type": "display_data"
    },
    {
     "data": {
      "application/javascript": [
       "\n",
       "        if (window._pyforest_update_imports_cell) { window._pyforest_update_imports_cell('import numpy as np\\nimport glob'); }\n",
       "    "
      ],
      "text/plain": [
       "<IPython.core.display.Javascript object>"
      ]
     },
     "metadata": {},
     "output_type": "display_data"
    },
    {
     "data": {
      "application/javascript": [
       "\n",
       "        if (window._pyforest_update_imports_cell) { window._pyforest_update_imports_cell('import numpy as np\\nimport glob'); }\n",
       "    "
      ],
      "text/plain": [
       "<IPython.core.display.Javascript object>"
      ]
     },
     "metadata": {},
     "output_type": "display_data"
    },
    {
     "data": {
      "application/javascript": [
       "\n",
       "        if (window._pyforest_update_imports_cell) { window._pyforest_update_imports_cell('import numpy as np\\nimport glob'); }\n",
       "    "
      ],
      "text/plain": [
       "<IPython.core.display.Javascript object>"
      ]
     },
     "metadata": {},
     "output_type": "display_data"
    },
    {
     "data": {
      "application/javascript": [
       "\n",
       "        if (window._pyforest_update_imports_cell) { window._pyforest_update_imports_cell('import numpy as np\\nimport glob'); }\n",
       "    "
      ],
      "text/plain": [
       "<IPython.core.display.Javascript object>"
      ]
     },
     "metadata": {},
     "output_type": "display_data"
    },
    {
     "data": {
      "application/javascript": [
       "\n",
       "        if (window._pyforest_update_imports_cell) { window._pyforest_update_imports_cell('import numpy as np\\nimport glob'); }\n",
       "    "
      ],
      "text/plain": [
       "<IPython.core.display.Javascript object>"
      ]
     },
     "metadata": {},
     "output_type": "display_data"
    },
    {
     "data": {
      "application/javascript": [
       "\n",
       "        if (window._pyforest_update_imports_cell) { window._pyforest_update_imports_cell('import numpy as np\\nimport glob'); }\n",
       "    "
      ],
      "text/plain": [
       "<IPython.core.display.Javascript object>"
      ]
     },
     "metadata": {},
     "output_type": "display_data"
    },
    {
     "data": {
      "application/javascript": [
       "\n",
       "        if (window._pyforest_update_imports_cell) { window._pyforest_update_imports_cell('import numpy as np\\nimport glob'); }\n",
       "    "
      ],
      "text/plain": [
       "<IPython.core.display.Javascript object>"
      ]
     },
     "metadata": {},
     "output_type": "display_data"
    },
    {
     "data": {
      "application/javascript": [
       "\n",
       "        if (window._pyforest_update_imports_cell) { window._pyforest_update_imports_cell('import numpy as np\\nimport glob'); }\n",
       "    "
      ],
      "text/plain": [
       "<IPython.core.display.Javascript object>"
      ]
     },
     "metadata": {},
     "output_type": "display_data"
    },
    {
     "data": {
      "application/javascript": [
       "\n",
       "        if (window._pyforest_update_imports_cell) { window._pyforest_update_imports_cell('import numpy as np\\nimport glob'); }\n",
       "    "
      ],
      "text/plain": [
       "<IPython.core.display.Javascript object>"
      ]
     },
     "metadata": {},
     "output_type": "display_data"
    },
    {
     "data": {
      "application/javascript": [
       "\n",
       "        if (window._pyforest_update_imports_cell) { window._pyforest_update_imports_cell('import numpy as np\\nimport glob'); }\n",
       "    "
      ],
      "text/plain": [
       "<IPython.core.display.Javascript object>"
      ]
     },
     "metadata": {},
     "output_type": "display_data"
    },
    {
     "data": {
      "application/javascript": [
       "\n",
       "        if (window._pyforest_update_imports_cell) { window._pyforest_update_imports_cell('import numpy as np\\nimport glob'); }\n",
       "    "
      ],
      "text/plain": [
       "<IPython.core.display.Javascript object>"
      ]
     },
     "metadata": {},
     "output_type": "display_data"
    },
    {
     "data": {
      "application/javascript": [
       "\n",
       "        if (window._pyforest_update_imports_cell) { window._pyforest_update_imports_cell('import numpy as np\\nimport glob'); }\n",
       "    "
      ],
      "text/plain": [
       "<IPython.core.display.Javascript object>"
      ]
     },
     "metadata": {},
     "output_type": "display_data"
    },
    {
     "data": {
      "application/javascript": [
       "\n",
       "        if (window._pyforest_update_imports_cell) { window._pyforest_update_imports_cell('import numpy as np\\nimport glob'); }\n",
       "    "
      ],
      "text/plain": [
       "<IPython.core.display.Javascript object>"
      ]
     },
     "metadata": {},
     "output_type": "display_data"
    },
    {
     "data": {
      "application/javascript": [
       "\n",
       "        if (window._pyforest_update_imports_cell) { window._pyforest_update_imports_cell('import numpy as np\\nimport glob'); }\n",
       "    "
      ],
      "text/plain": [
       "<IPython.core.display.Javascript object>"
      ]
     },
     "metadata": {},
     "output_type": "display_data"
    },
    {
     "data": {
      "application/javascript": [
       "\n",
       "        if (window._pyforest_update_imports_cell) { window._pyforest_update_imports_cell('import numpy as np\\nimport glob'); }\n",
       "    "
      ],
      "text/plain": [
       "<IPython.core.display.Javascript object>"
      ]
     },
     "metadata": {},
     "output_type": "display_data"
    },
    {
     "data": {
      "application/javascript": [
       "\n",
       "        if (window._pyforest_update_imports_cell) { window._pyforest_update_imports_cell('import numpy as np\\nimport glob'); }\n",
       "    "
      ],
      "text/plain": [
       "<IPython.core.display.Javascript object>"
      ]
     },
     "metadata": {},
     "output_type": "display_data"
    },
    {
     "data": {
      "application/javascript": [
       "\n",
       "        if (window._pyforest_update_imports_cell) { window._pyforest_update_imports_cell('import numpy as np\\nimport glob'); }\n",
       "    "
      ],
      "text/plain": [
       "<IPython.core.display.Javascript object>"
      ]
     },
     "metadata": {},
     "output_type": "display_data"
    },
    {
     "data": {
      "application/javascript": [
       "\n",
       "        if (window._pyforest_update_imports_cell) { window._pyforest_update_imports_cell('import numpy as np\\nimport glob'); }\n",
       "    "
      ],
      "text/plain": [
       "<IPython.core.display.Javascript object>"
      ]
     },
     "metadata": {},
     "output_type": "display_data"
    },
    {
     "data": {
      "application/javascript": [
       "\n",
       "        if (window._pyforest_update_imports_cell) { window._pyforest_update_imports_cell('import numpy as np\\nimport glob'); }\n",
       "    "
      ],
      "text/plain": [
       "<IPython.core.display.Javascript object>"
      ]
     },
     "metadata": {},
     "output_type": "display_data"
    },
    {
     "data": {
      "application/javascript": [
       "\n",
       "        if (window._pyforest_update_imports_cell) { window._pyforest_update_imports_cell('import numpy as np\\nimport glob'); }\n",
       "    "
      ],
      "text/plain": [
       "<IPython.core.display.Javascript object>"
      ]
     },
     "metadata": {},
     "output_type": "display_data"
    },
    {
     "data": {
      "application/javascript": [
       "\n",
       "        if (window._pyforest_update_imports_cell) { window._pyforest_update_imports_cell('import numpy as np\\nimport glob'); }\n",
       "    "
      ],
      "text/plain": [
       "<IPython.core.display.Javascript object>"
      ]
     },
     "metadata": {},
     "output_type": "display_data"
    },
    {
     "data": {
      "application/javascript": [
       "\n",
       "        if (window._pyforest_update_imports_cell) { window._pyforest_update_imports_cell('import numpy as np\\nimport glob'); }\n",
       "    "
      ],
      "text/plain": [
       "<IPython.core.display.Javascript object>"
      ]
     },
     "metadata": {},
     "output_type": "display_data"
    },
    {
     "data": {
      "application/javascript": [
       "\n",
       "        if (window._pyforest_update_imports_cell) { window._pyforest_update_imports_cell('import numpy as np\\nimport glob'); }\n",
       "    "
      ],
      "text/plain": [
       "<IPython.core.display.Javascript object>"
      ]
     },
     "metadata": {},
     "output_type": "display_data"
    },
    {
     "data": {
      "application/javascript": [
       "\n",
       "        if (window._pyforest_update_imports_cell) { window._pyforest_update_imports_cell('import numpy as np\\nimport glob'); }\n",
       "    "
      ],
      "text/plain": [
       "<IPython.core.display.Javascript object>"
      ]
     },
     "metadata": {},
     "output_type": "display_data"
    },
    {
     "data": {
      "application/javascript": [
       "\n",
       "        if (window._pyforest_update_imports_cell) { window._pyforest_update_imports_cell('import numpy as np\\nimport glob'); }\n",
       "    "
      ],
      "text/plain": [
       "<IPython.core.display.Javascript object>"
      ]
     },
     "metadata": {},
     "output_type": "display_data"
    },
    {
     "data": {
      "application/javascript": [
       "\n",
       "        if (window._pyforest_update_imports_cell) { window._pyforest_update_imports_cell('import numpy as np\\nimport glob'); }\n",
       "    "
      ],
      "text/plain": [
       "<IPython.core.display.Javascript object>"
      ]
     },
     "metadata": {},
     "output_type": "display_data"
    },
    {
     "data": {
      "application/javascript": [
       "\n",
       "        if (window._pyforest_update_imports_cell) { window._pyforest_update_imports_cell('import numpy as np\\nimport glob'); }\n",
       "    "
      ],
      "text/plain": [
       "<IPython.core.display.Javascript object>"
      ]
     },
     "metadata": {},
     "output_type": "display_data"
    },
    {
     "data": {
      "application/javascript": [
       "\n",
       "        if (window._pyforest_update_imports_cell) { window._pyforest_update_imports_cell('import numpy as np\\nimport glob'); }\n",
       "    "
      ],
      "text/plain": [
       "<IPython.core.display.Javascript object>"
      ]
     },
     "metadata": {},
     "output_type": "display_data"
    },
    {
     "data": {
      "application/javascript": [
       "\n",
       "        if (window._pyforest_update_imports_cell) { window._pyforest_update_imports_cell('import numpy as np\\nimport glob'); }\n",
       "    "
      ],
      "text/plain": [
       "<IPython.core.display.Javascript object>"
      ]
     },
     "metadata": {},
     "output_type": "display_data"
    },
    {
     "data": {
      "application/javascript": [
       "\n",
       "        if (window._pyforest_update_imports_cell) { window._pyforest_update_imports_cell('import numpy as np\\nimport glob'); }\n",
       "    "
      ],
      "text/plain": [
       "<IPython.core.display.Javascript object>"
      ]
     },
     "metadata": {},
     "output_type": "display_data"
    },
    {
     "data": {
      "application/javascript": [
       "\n",
       "        if (window._pyforest_update_imports_cell) { window._pyforest_update_imports_cell('import numpy as np\\nimport glob'); }\n",
       "    "
      ],
      "text/plain": [
       "<IPython.core.display.Javascript object>"
      ]
     },
     "metadata": {},
     "output_type": "display_data"
    },
    {
     "data": {
      "application/javascript": [
       "\n",
       "        if (window._pyforest_update_imports_cell) { window._pyforest_update_imports_cell('import numpy as np\\nimport glob'); }\n",
       "    "
      ],
      "text/plain": [
       "<IPython.core.display.Javascript object>"
      ]
     },
     "metadata": {},
     "output_type": "display_data"
    },
    {
     "data": {
      "application/javascript": [
       "\n",
       "        if (window._pyforest_update_imports_cell) { window._pyforest_update_imports_cell('import numpy as np\\nimport glob'); }\n",
       "    "
      ],
      "text/plain": [
       "<IPython.core.display.Javascript object>"
      ]
     },
     "metadata": {},
     "output_type": "display_data"
    },
    {
     "data": {
      "application/javascript": [
       "\n",
       "        if (window._pyforest_update_imports_cell) { window._pyforest_update_imports_cell('import numpy as np\\nimport glob'); }\n",
       "    "
      ],
      "text/plain": [
       "<IPython.core.display.Javascript object>"
      ]
     },
     "metadata": {},
     "output_type": "display_data"
    },
    {
     "data": {
      "application/javascript": [
       "\n",
       "        if (window._pyforest_update_imports_cell) { window._pyforest_update_imports_cell('import numpy as np\\nimport glob'); }\n",
       "    "
      ],
      "text/plain": [
       "<IPython.core.display.Javascript object>"
      ]
     },
     "metadata": {},
     "output_type": "display_data"
    },
    {
     "data": {
      "application/javascript": [
       "\n",
       "        if (window._pyforest_update_imports_cell) { window._pyforest_update_imports_cell('import numpy as np\\nimport glob'); }\n",
       "    "
      ],
      "text/plain": [
       "<IPython.core.display.Javascript object>"
      ]
     },
     "metadata": {},
     "output_type": "display_data"
    },
    {
     "data": {
      "application/javascript": [
       "\n",
       "        if (window._pyforest_update_imports_cell) { window._pyforest_update_imports_cell('import numpy as np\\nimport glob'); }\n",
       "    "
      ],
      "text/plain": [
       "<IPython.core.display.Javascript object>"
      ]
     },
     "metadata": {},
     "output_type": "display_data"
    },
    {
     "data": {
      "application/javascript": [
       "\n",
       "        if (window._pyforest_update_imports_cell) { window._pyforest_update_imports_cell('import numpy as np\\nimport glob'); }\n",
       "    "
      ],
      "text/plain": [
       "<IPython.core.display.Javascript object>"
      ]
     },
     "metadata": {},
     "output_type": "display_data"
    },
    {
     "data": {
      "application/javascript": [
       "\n",
       "        if (window._pyforest_update_imports_cell) { window._pyforest_update_imports_cell('import numpy as np\\nimport glob'); }\n",
       "    "
      ],
      "text/plain": [
       "<IPython.core.display.Javascript object>"
      ]
     },
     "metadata": {},
     "output_type": "display_data"
    },
    {
     "data": {
      "application/javascript": [
       "\n",
       "        if (window._pyforest_update_imports_cell) { window._pyforest_update_imports_cell('import numpy as np\\nimport glob'); }\n",
       "    "
      ],
      "text/plain": [
       "<IPython.core.display.Javascript object>"
      ]
     },
     "metadata": {},
     "output_type": "display_data"
    },
    {
     "data": {
      "application/javascript": [
       "\n",
       "        if (window._pyforest_update_imports_cell) { window._pyforest_update_imports_cell('import numpy as np\\nimport glob'); }\n",
       "    "
      ],
      "text/plain": [
       "<IPython.core.display.Javascript object>"
      ]
     },
     "metadata": {},
     "output_type": "display_data"
    },
    {
     "data": {
      "application/javascript": [
       "\n",
       "        if (window._pyforest_update_imports_cell) { window._pyforest_update_imports_cell('import numpy as np\\nimport glob'); }\n",
       "    "
      ],
      "text/plain": [
       "<IPython.core.display.Javascript object>"
      ]
     },
     "metadata": {},
     "output_type": "display_data"
    },
    {
     "data": {
      "application/javascript": [
       "\n",
       "        if (window._pyforest_update_imports_cell) { window._pyforest_update_imports_cell('import numpy as np\\nimport glob'); }\n",
       "    "
      ],
      "text/plain": [
       "<IPython.core.display.Javascript object>"
      ]
     },
     "metadata": {},
     "output_type": "display_data"
    },
    {
     "data": {
      "application/javascript": [
       "\n",
       "        if (window._pyforest_update_imports_cell) { window._pyforest_update_imports_cell('import numpy as np\\nimport glob'); }\n",
       "    "
      ],
      "text/plain": [
       "<IPython.core.display.Javascript object>"
      ]
     },
     "metadata": {},
     "output_type": "display_data"
    },
    {
     "data": {
      "application/javascript": [
       "\n",
       "        if (window._pyforest_update_imports_cell) { window._pyforest_update_imports_cell('import numpy as np\\nimport glob'); }\n",
       "    "
      ],
      "text/plain": [
       "<IPython.core.display.Javascript object>"
      ]
     },
     "metadata": {},
     "output_type": "display_data"
    },
    {
     "data": {
      "application/javascript": [
       "\n",
       "        if (window._pyforest_update_imports_cell) { window._pyforest_update_imports_cell('import numpy as np\\nimport glob'); }\n",
       "    "
      ],
      "text/plain": [
       "<IPython.core.display.Javascript object>"
      ]
     },
     "metadata": {},
     "output_type": "display_data"
    },
    {
     "data": {
      "application/javascript": [
       "\n",
       "        if (window._pyforest_update_imports_cell) { window._pyforest_update_imports_cell('import numpy as np\\nimport glob'); }\n",
       "    "
      ],
      "text/plain": [
       "<IPython.core.display.Javascript object>"
      ]
     },
     "metadata": {},
     "output_type": "display_data"
    },
    {
     "data": {
      "application/javascript": [
       "\n",
       "        if (window._pyforest_update_imports_cell) { window._pyforest_update_imports_cell('import numpy as np\\nimport glob'); }\n",
       "    "
      ],
      "text/plain": [
       "<IPython.core.display.Javascript object>"
      ]
     },
     "metadata": {},
     "output_type": "display_data"
    },
    {
     "data": {
      "application/javascript": [
       "\n",
       "        if (window._pyforest_update_imports_cell) { window._pyforest_update_imports_cell('import numpy as np\\nimport glob'); }\n",
       "    "
      ],
      "text/plain": [
       "<IPython.core.display.Javascript object>"
      ]
     },
     "metadata": {},
     "output_type": "display_data"
    },
    {
     "data": {
      "application/javascript": [
       "\n",
       "        if (window._pyforest_update_imports_cell) { window._pyforest_update_imports_cell('import numpy as np\\nimport glob'); }\n",
       "    "
      ],
      "text/plain": [
       "<IPython.core.display.Javascript object>"
      ]
     },
     "metadata": {},
     "output_type": "display_data"
    },
    {
     "data": {
      "application/javascript": [
       "\n",
       "        if (window._pyforest_update_imports_cell) { window._pyforest_update_imports_cell('import numpy as np\\nimport glob'); }\n",
       "    "
      ],
      "text/plain": [
       "<IPython.core.display.Javascript object>"
      ]
     },
     "metadata": {},
     "output_type": "display_data"
    },
    {
     "data": {
      "application/javascript": [
       "\n",
       "        if (window._pyforest_update_imports_cell) { window._pyforest_update_imports_cell('import numpy as np\\nimport glob'); }\n",
       "    "
      ],
      "text/plain": [
       "<IPython.core.display.Javascript object>"
      ]
     },
     "metadata": {},
     "output_type": "display_data"
    },
    {
     "data": {
      "application/javascript": [
       "\n",
       "        if (window._pyforest_update_imports_cell) { window._pyforest_update_imports_cell('import numpy as np\\nimport glob'); }\n",
       "    "
      ],
      "text/plain": [
       "<IPython.core.display.Javascript object>"
      ]
     },
     "metadata": {},
     "output_type": "display_data"
    },
    {
     "data": {
      "application/javascript": [
       "\n",
       "        if (window._pyforest_update_imports_cell) { window._pyforest_update_imports_cell('import numpy as np\\nimport glob'); }\n",
       "    "
      ],
      "text/plain": [
       "<IPython.core.display.Javascript object>"
      ]
     },
     "metadata": {},
     "output_type": "display_data"
    },
    {
     "data": {
      "application/javascript": [
       "\n",
       "        if (window._pyforest_update_imports_cell) { window._pyforest_update_imports_cell('import numpy as np\\nimport glob'); }\n",
       "    "
      ],
      "text/plain": [
       "<IPython.core.display.Javascript object>"
      ]
     },
     "metadata": {},
     "output_type": "display_data"
    },
    {
     "data": {
      "application/javascript": [
       "\n",
       "        if (window._pyforest_update_imports_cell) { window._pyforest_update_imports_cell('import numpy as np\\nimport glob'); }\n",
       "    "
      ],
      "text/plain": [
       "<IPython.core.display.Javascript object>"
      ]
     },
     "metadata": {},
     "output_type": "display_data"
    },
    {
     "data": {
      "application/javascript": [
       "\n",
       "        if (window._pyforest_update_imports_cell) { window._pyforest_update_imports_cell('import numpy as np\\nimport glob'); }\n",
       "    "
      ],
      "text/plain": [
       "<IPython.core.display.Javascript object>"
      ]
     },
     "metadata": {},
     "output_type": "display_data"
    },
    {
     "data": {
      "application/javascript": [
       "\n",
       "        if (window._pyforest_update_imports_cell) { window._pyforest_update_imports_cell('import numpy as np\\nimport glob'); }\n",
       "    "
      ],
      "text/plain": [
       "<IPython.core.display.Javascript object>"
      ]
     },
     "metadata": {},
     "output_type": "display_data"
    },
    {
     "data": {
      "application/javascript": [
       "\n",
       "        if (window._pyforest_update_imports_cell) { window._pyforest_update_imports_cell('import numpy as np\\nimport glob'); }\n",
       "    "
      ],
      "text/plain": [
       "<IPython.core.display.Javascript object>"
      ]
     },
     "metadata": {},
     "output_type": "display_data"
    },
    {
     "data": {
      "application/javascript": [
       "\n",
       "        if (window._pyforest_update_imports_cell) { window._pyforest_update_imports_cell('import numpy as np\\nimport glob'); }\n",
       "    "
      ],
      "text/plain": [
       "<IPython.core.display.Javascript object>"
      ]
     },
     "metadata": {},
     "output_type": "display_data"
    },
    {
     "data": {
      "application/javascript": [
       "\n",
       "        if (window._pyforest_update_imports_cell) { window._pyforest_update_imports_cell('import numpy as np\\nimport glob'); }\n",
       "    "
      ],
      "text/plain": [
       "<IPython.core.display.Javascript object>"
      ]
     },
     "metadata": {},
     "output_type": "display_data"
    },
    {
     "data": {
      "application/javascript": [
       "\n",
       "        if (window._pyforest_update_imports_cell) { window._pyforest_update_imports_cell('import numpy as np\\nimport glob'); }\n",
       "    "
      ],
      "text/plain": [
       "<IPython.core.display.Javascript object>"
      ]
     },
     "metadata": {},
     "output_type": "display_data"
    },
    {
     "data": {
      "application/javascript": [
       "\n",
       "        if (window._pyforest_update_imports_cell) { window._pyforest_update_imports_cell('import numpy as np\\nimport glob'); }\n",
       "    "
      ],
      "text/plain": [
       "<IPython.core.display.Javascript object>"
      ]
     },
     "metadata": {},
     "output_type": "display_data"
    },
    {
     "data": {
      "application/javascript": [
       "\n",
       "        if (window._pyforest_update_imports_cell) { window._pyforest_update_imports_cell('import numpy as np\\nimport glob'); }\n",
       "    "
      ],
      "text/plain": [
       "<IPython.core.display.Javascript object>"
      ]
     },
     "metadata": {},
     "output_type": "display_data"
    },
    {
     "data": {
      "application/javascript": [
       "\n",
       "        if (window._pyforest_update_imports_cell) { window._pyforest_update_imports_cell('import numpy as np\\nimport glob'); }\n",
       "    "
      ],
      "text/plain": [
       "<IPython.core.display.Javascript object>"
      ]
     },
     "metadata": {},
     "output_type": "display_data"
    },
    {
     "data": {
      "application/javascript": [
       "\n",
       "        if (window._pyforest_update_imports_cell) { window._pyforest_update_imports_cell('import numpy as np\\nimport glob'); }\n",
       "    "
      ],
      "text/plain": [
       "<IPython.core.display.Javascript object>"
      ]
     },
     "metadata": {},
     "output_type": "display_data"
    },
    {
     "data": {
      "application/javascript": [
       "\n",
       "        if (window._pyforest_update_imports_cell) { window._pyforest_update_imports_cell('import numpy as np\\nimport glob'); }\n",
       "    "
      ],
      "text/plain": [
       "<IPython.core.display.Javascript object>"
      ]
     },
     "metadata": {},
     "output_type": "display_data"
    },
    {
     "data": {
      "application/javascript": [
       "\n",
       "        if (window._pyforest_update_imports_cell) { window._pyforest_update_imports_cell('import numpy as np\\nimport glob'); }\n",
       "    "
      ],
      "text/plain": [
       "<IPython.core.display.Javascript object>"
      ]
     },
     "metadata": {},
     "output_type": "display_data"
    },
    {
     "data": {
      "application/javascript": [
       "\n",
       "        if (window._pyforest_update_imports_cell) { window._pyforest_update_imports_cell('import numpy as np\\nimport glob'); }\n",
       "    "
      ],
      "text/plain": [
       "<IPython.core.display.Javascript object>"
      ]
     },
     "metadata": {},
     "output_type": "display_data"
    },
    {
     "data": {
      "application/javascript": [
       "\n",
       "        if (window._pyforest_update_imports_cell) { window._pyforest_update_imports_cell('import numpy as np\\nimport glob'); }\n",
       "    "
      ],
      "text/plain": [
       "<IPython.core.display.Javascript object>"
      ]
     },
     "metadata": {},
     "output_type": "display_data"
    },
    {
     "data": {
      "application/javascript": [
       "\n",
       "        if (window._pyforest_update_imports_cell) { window._pyforest_update_imports_cell('import numpy as np\\nimport glob'); }\n",
       "    "
      ],
      "text/plain": [
       "<IPython.core.display.Javascript object>"
      ]
     },
     "metadata": {},
     "output_type": "display_data"
    },
    {
     "data": {
      "application/javascript": [
       "\n",
       "        if (window._pyforest_update_imports_cell) { window._pyforest_update_imports_cell('import numpy as np\\nimport glob'); }\n",
       "    "
      ],
      "text/plain": [
       "<IPython.core.display.Javascript object>"
      ]
     },
     "metadata": {},
     "output_type": "display_data"
    },
    {
     "data": {
      "application/javascript": [
       "\n",
       "        if (window._pyforest_update_imports_cell) { window._pyforest_update_imports_cell('import numpy as np\\nimport glob'); }\n",
       "    "
      ],
      "text/plain": [
       "<IPython.core.display.Javascript object>"
      ]
     },
     "metadata": {},
     "output_type": "display_data"
    },
    {
     "data": {
      "application/javascript": [
       "\n",
       "        if (window._pyforest_update_imports_cell) { window._pyforest_update_imports_cell('import numpy as np\\nimport glob'); }\n",
       "    "
      ],
      "text/plain": [
       "<IPython.core.display.Javascript object>"
      ]
     },
     "metadata": {},
     "output_type": "display_data"
    },
    {
     "data": {
      "application/javascript": [
       "\n",
       "        if (window._pyforest_update_imports_cell) { window._pyforest_update_imports_cell('import numpy as np\\nimport glob'); }\n",
       "    "
      ],
      "text/plain": [
       "<IPython.core.display.Javascript object>"
      ]
     },
     "metadata": {},
     "output_type": "display_data"
    },
    {
     "data": {
      "application/javascript": [
       "\n",
       "        if (window._pyforest_update_imports_cell) { window._pyforest_update_imports_cell('import numpy as np\\nimport glob'); }\n",
       "    "
      ],
      "text/plain": [
       "<IPython.core.display.Javascript object>"
      ]
     },
     "metadata": {},
     "output_type": "display_data"
    },
    {
     "data": {
      "application/javascript": [
       "\n",
       "        if (window._pyforest_update_imports_cell) { window._pyforest_update_imports_cell('import numpy as np\\nimport glob'); }\n",
       "    "
      ],
      "text/plain": [
       "<IPython.core.display.Javascript object>"
      ]
     },
     "metadata": {},
     "output_type": "display_data"
    },
    {
     "data": {
      "application/javascript": [
       "\n",
       "        if (window._pyforest_update_imports_cell) { window._pyforest_update_imports_cell('import numpy as np\\nimport glob'); }\n",
       "    "
      ],
      "text/plain": [
       "<IPython.core.display.Javascript object>"
      ]
     },
     "metadata": {},
     "output_type": "display_data"
    },
    {
     "data": {
      "application/javascript": [
       "\n",
       "        if (window._pyforest_update_imports_cell) { window._pyforest_update_imports_cell('import numpy as np\\nimport glob'); }\n",
       "    "
      ],
      "text/plain": [
       "<IPython.core.display.Javascript object>"
      ]
     },
     "metadata": {},
     "output_type": "display_data"
    },
    {
     "data": {
      "application/javascript": [
       "\n",
       "        if (window._pyforest_update_imports_cell) { window._pyforest_update_imports_cell('import numpy as np\\nimport glob'); }\n",
       "    "
      ],
      "text/plain": [
       "<IPython.core.display.Javascript object>"
      ]
     },
     "metadata": {},
     "output_type": "display_data"
    },
    {
     "data": {
      "application/javascript": [
       "\n",
       "        if (window._pyforest_update_imports_cell) { window._pyforest_update_imports_cell('import numpy as np\\nimport glob'); }\n",
       "    "
      ],
      "text/plain": [
       "<IPython.core.display.Javascript object>"
      ]
     },
     "metadata": {},
     "output_type": "display_data"
    },
    {
     "data": {
      "application/javascript": [
       "\n",
       "        if (window._pyforest_update_imports_cell) { window._pyforest_update_imports_cell('import numpy as np\\nimport glob'); }\n",
       "    "
      ],
      "text/plain": [
       "<IPython.core.display.Javascript object>"
      ]
     },
     "metadata": {},
     "output_type": "display_data"
    },
    {
     "data": {
      "application/javascript": [
       "\n",
       "        if (window._pyforest_update_imports_cell) { window._pyforest_update_imports_cell('import numpy as np\\nimport glob'); }\n",
       "    "
      ],
      "text/plain": [
       "<IPython.core.display.Javascript object>"
      ]
     },
     "metadata": {},
     "output_type": "display_data"
    },
    {
     "data": {
      "application/javascript": [
       "\n",
       "        if (window._pyforest_update_imports_cell) { window._pyforest_update_imports_cell('import numpy as np\\nimport glob'); }\n",
       "    "
      ],
      "text/plain": [
       "<IPython.core.display.Javascript object>"
      ]
     },
     "metadata": {},
     "output_type": "display_data"
    },
    {
     "data": {
      "application/javascript": [
       "\n",
       "        if (window._pyforest_update_imports_cell) { window._pyforest_update_imports_cell('import numpy as np\\nimport glob'); }\n",
       "    "
      ],
      "text/plain": [
       "<IPython.core.display.Javascript object>"
      ]
     },
     "metadata": {},
     "output_type": "display_data"
    },
    {
     "data": {
      "application/javascript": [
       "\n",
       "        if (window._pyforest_update_imports_cell) { window._pyforest_update_imports_cell('import numpy as np\\nimport glob'); }\n",
       "    "
      ],
      "text/plain": [
       "<IPython.core.display.Javascript object>"
      ]
     },
     "metadata": {},
     "output_type": "display_data"
    },
    {
     "data": {
      "application/javascript": [
       "\n",
       "        if (window._pyforest_update_imports_cell) { window._pyforest_update_imports_cell('import numpy as np\\nimport glob'); }\n",
       "    "
      ],
      "text/plain": [
       "<IPython.core.display.Javascript object>"
      ]
     },
     "metadata": {},
     "output_type": "display_data"
    },
    {
     "data": {
      "application/javascript": [
       "\n",
       "        if (window._pyforest_update_imports_cell) { window._pyforest_update_imports_cell('import numpy as np\\nimport glob'); }\n",
       "    "
      ],
      "text/plain": [
       "<IPython.core.display.Javascript object>"
      ]
     },
     "metadata": {},
     "output_type": "display_data"
    },
    {
     "data": {
      "application/javascript": [
       "\n",
       "        if (window._pyforest_update_imports_cell) { window._pyforest_update_imports_cell('import numpy as np\\nimport glob'); }\n",
       "    "
      ],
      "text/plain": [
       "<IPython.core.display.Javascript object>"
      ]
     },
     "metadata": {},
     "output_type": "display_data"
    },
    {
     "data": {
      "application/javascript": [
       "\n",
       "        if (window._pyforest_update_imports_cell) { window._pyforest_update_imports_cell('import numpy as np\\nimport glob'); }\n",
       "    "
      ],
      "text/plain": [
       "<IPython.core.display.Javascript object>"
      ]
     },
     "metadata": {},
     "output_type": "display_data"
    },
    {
     "data": {
      "application/javascript": [
       "\n",
       "        if (window._pyforest_update_imports_cell) { window._pyforest_update_imports_cell('import numpy as np\\nimport glob'); }\n",
       "    "
      ],
      "text/plain": [
       "<IPython.core.display.Javascript object>"
      ]
     },
     "metadata": {},
     "output_type": "display_data"
    },
    {
     "data": {
      "application/javascript": [
       "\n",
       "        if (window._pyforest_update_imports_cell) { window._pyforest_update_imports_cell('import numpy as np\\nimport glob'); }\n",
       "    "
      ],
      "text/plain": [
       "<IPython.core.display.Javascript object>"
      ]
     },
     "metadata": {},
     "output_type": "display_data"
    },
    {
     "data": {
      "application/javascript": [
       "\n",
       "        if (window._pyforest_update_imports_cell) { window._pyforest_update_imports_cell('import numpy as np\\nimport glob'); }\n",
       "    "
      ],
      "text/plain": [
       "<IPython.core.display.Javascript object>"
      ]
     },
     "metadata": {},
     "output_type": "display_data"
    },
    {
     "data": {
      "application/javascript": [
       "\n",
       "        if (window._pyforest_update_imports_cell) { window._pyforest_update_imports_cell('import numpy as np\\nimport glob'); }\n",
       "    "
      ],
      "text/plain": [
       "<IPython.core.display.Javascript object>"
      ]
     },
     "metadata": {},
     "output_type": "display_data"
    },
    {
     "data": {
      "application/javascript": [
       "\n",
       "        if (window._pyforest_update_imports_cell) { window._pyforest_update_imports_cell('import numpy as np\\nimport glob'); }\n",
       "    "
      ],
      "text/plain": [
       "<IPython.core.display.Javascript object>"
      ]
     },
     "metadata": {},
     "output_type": "display_data"
    },
    {
     "data": {
      "application/javascript": [
       "\n",
       "        if (window._pyforest_update_imports_cell) { window._pyforest_update_imports_cell('import numpy as np\\nimport glob'); }\n",
       "    "
      ],
      "text/plain": [
       "<IPython.core.display.Javascript object>"
      ]
     },
     "metadata": {},
     "output_type": "display_data"
    },
    {
     "data": {
      "application/javascript": [
       "\n",
       "        if (window._pyforest_update_imports_cell) { window._pyforest_update_imports_cell('import numpy as np\\nimport glob'); }\n",
       "    "
      ],
      "text/plain": [
       "<IPython.core.display.Javascript object>"
      ]
     },
     "metadata": {},
     "output_type": "display_data"
    },
    {
     "data": {
      "application/javascript": [
       "\n",
       "        if (window._pyforest_update_imports_cell) { window._pyforest_update_imports_cell('import numpy as np\\nimport glob'); }\n",
       "    "
      ],
      "text/plain": [
       "<IPython.core.display.Javascript object>"
      ]
     },
     "metadata": {},
     "output_type": "display_data"
    },
    {
     "data": {
      "application/javascript": [
       "\n",
       "        if (window._pyforest_update_imports_cell) { window._pyforest_update_imports_cell('import numpy as np\\nimport glob'); }\n",
       "    "
      ],
      "text/plain": [
       "<IPython.core.display.Javascript object>"
      ]
     },
     "metadata": {},
     "output_type": "display_data"
    },
    {
     "data": {
      "application/javascript": [
       "\n",
       "        if (window._pyforest_update_imports_cell) { window._pyforest_update_imports_cell('import numpy as np\\nimport glob'); }\n",
       "    "
      ],
      "text/plain": [
       "<IPython.core.display.Javascript object>"
      ]
     },
     "metadata": {},
     "output_type": "display_data"
    },
    {
     "data": {
      "application/javascript": [
       "\n",
       "        if (window._pyforest_update_imports_cell) { window._pyforest_update_imports_cell('import numpy as np\\nimport glob'); }\n",
       "    "
      ],
      "text/plain": [
       "<IPython.core.display.Javascript object>"
      ]
     },
     "metadata": {},
     "output_type": "display_data"
    },
    {
     "data": {
      "application/javascript": [
       "\n",
       "        if (window._pyforest_update_imports_cell) { window._pyforest_update_imports_cell('import numpy as np\\nimport glob'); }\n",
       "    "
      ],
      "text/plain": [
       "<IPython.core.display.Javascript object>"
      ]
     },
     "metadata": {},
     "output_type": "display_data"
    },
    {
     "data": {
      "application/javascript": [
       "\n",
       "        if (window._pyforest_update_imports_cell) { window._pyforest_update_imports_cell('import numpy as np\\nimport glob'); }\n",
       "    "
      ],
      "text/plain": [
       "<IPython.core.display.Javascript object>"
      ]
     },
     "metadata": {},
     "output_type": "display_data"
    },
    {
     "data": {
      "application/javascript": [
       "\n",
       "        if (window._pyforest_update_imports_cell) { window._pyforest_update_imports_cell('import numpy as np\\nimport glob'); }\n",
       "    "
      ],
      "text/plain": [
       "<IPython.core.display.Javascript object>"
      ]
     },
     "metadata": {},
     "output_type": "display_data"
    },
    {
     "data": {
      "application/javascript": [
       "\n",
       "        if (window._pyforest_update_imports_cell) { window._pyforest_update_imports_cell('import numpy as np\\nimport glob'); }\n",
       "    "
      ],
      "text/plain": [
       "<IPython.core.display.Javascript object>"
      ]
     },
     "metadata": {},
     "output_type": "display_data"
    },
    {
     "data": {
      "application/javascript": [
       "\n",
       "        if (window._pyforest_update_imports_cell) { window._pyforest_update_imports_cell('import numpy as np\\nimport glob'); }\n",
       "    "
      ],
      "text/plain": [
       "<IPython.core.display.Javascript object>"
      ]
     },
     "metadata": {},
     "output_type": "display_data"
    },
    {
     "data": {
      "application/javascript": [
       "\n",
       "        if (window._pyforest_update_imports_cell) { window._pyforest_update_imports_cell('import numpy as np\\nimport glob'); }\n",
       "    "
      ],
      "text/plain": [
       "<IPython.core.display.Javascript object>"
      ]
     },
     "metadata": {},
     "output_type": "display_data"
    },
    {
     "data": {
      "application/javascript": [
       "\n",
       "        if (window._pyforest_update_imports_cell) { window._pyforest_update_imports_cell('import numpy as np\\nimport glob'); }\n",
       "    "
      ],
      "text/plain": [
       "<IPython.core.display.Javascript object>"
      ]
     },
     "metadata": {},
     "output_type": "display_data"
    },
    {
     "data": {
      "application/javascript": [
       "\n",
       "        if (window._pyforest_update_imports_cell) { window._pyforest_update_imports_cell('import numpy as np\\nimport glob'); }\n",
       "    "
      ],
      "text/plain": [
       "<IPython.core.display.Javascript object>"
      ]
     },
     "metadata": {},
     "output_type": "display_data"
    },
    {
     "data": {
      "application/javascript": [
       "\n",
       "        if (window._pyforest_update_imports_cell) { window._pyforest_update_imports_cell('import numpy as np\\nimport glob'); }\n",
       "    "
      ],
      "text/plain": [
       "<IPython.core.display.Javascript object>"
      ]
     },
     "metadata": {},
     "output_type": "display_data"
    },
    {
     "data": {
      "application/javascript": [
       "\n",
       "        if (window._pyforest_update_imports_cell) { window._pyforest_update_imports_cell('import numpy as np\\nimport glob'); }\n",
       "    "
      ],
      "text/plain": [
       "<IPython.core.display.Javascript object>"
      ]
     },
     "metadata": {},
     "output_type": "display_data"
    },
    {
     "data": {
      "application/javascript": [
       "\n",
       "        if (window._pyforest_update_imports_cell) { window._pyforest_update_imports_cell('import numpy as np\\nimport glob'); }\n",
       "    "
      ],
      "text/plain": [
       "<IPython.core.display.Javascript object>"
      ]
     },
     "metadata": {},
     "output_type": "display_data"
    },
    {
     "data": {
      "application/javascript": [
       "\n",
       "        if (window._pyforest_update_imports_cell) { window._pyforest_update_imports_cell('import numpy as np\\nimport glob'); }\n",
       "    "
      ],
      "text/plain": [
       "<IPython.core.display.Javascript object>"
      ]
     },
     "metadata": {},
     "output_type": "display_data"
    },
    {
     "data": {
      "application/javascript": [
       "\n",
       "        if (window._pyforest_update_imports_cell) { window._pyforest_update_imports_cell('import numpy as np\\nimport glob'); }\n",
       "    "
      ],
      "text/plain": [
       "<IPython.core.display.Javascript object>"
      ]
     },
     "metadata": {},
     "output_type": "display_data"
    },
    {
     "data": {
      "application/javascript": [
       "\n",
       "        if (window._pyforest_update_imports_cell) { window._pyforest_update_imports_cell('import numpy as np\\nimport glob'); }\n",
       "    "
      ],
      "text/plain": [
       "<IPython.core.display.Javascript object>"
      ]
     },
     "metadata": {},
     "output_type": "display_data"
    },
    {
     "data": {
      "application/javascript": [
       "\n",
       "        if (window._pyforest_update_imports_cell) { window._pyforest_update_imports_cell('import numpy as np\\nimport glob'); }\n",
       "    "
      ],
      "text/plain": [
       "<IPython.core.display.Javascript object>"
      ]
     },
     "metadata": {},
     "output_type": "display_data"
    },
    {
     "data": {
      "application/javascript": [
       "\n",
       "        if (window._pyforest_update_imports_cell) { window._pyforest_update_imports_cell('import numpy as np\\nimport glob'); }\n",
       "    "
      ],
      "text/plain": [
       "<IPython.core.display.Javascript object>"
      ]
     },
     "metadata": {},
     "output_type": "display_data"
    },
    {
     "data": {
      "application/javascript": [
       "\n",
       "        if (window._pyforest_update_imports_cell) { window._pyforest_update_imports_cell('import numpy as np\\nimport glob'); }\n",
       "    "
      ],
      "text/plain": [
       "<IPython.core.display.Javascript object>"
      ]
     },
     "metadata": {},
     "output_type": "display_data"
    },
    {
     "data": {
      "application/javascript": [
       "\n",
       "        if (window._pyforest_update_imports_cell) { window._pyforest_update_imports_cell('import numpy as np\\nimport glob'); }\n",
       "    "
      ],
      "text/plain": [
       "<IPython.core.display.Javascript object>"
      ]
     },
     "metadata": {},
     "output_type": "display_data"
    },
    {
     "data": {
      "application/javascript": [
       "\n",
       "        if (window._pyforest_update_imports_cell) { window._pyforest_update_imports_cell('import numpy as np\\nimport glob'); }\n",
       "    "
      ],
      "text/plain": [
       "<IPython.core.display.Javascript object>"
      ]
     },
     "metadata": {},
     "output_type": "display_data"
    },
    {
     "data": {
      "application/javascript": [
       "\n",
       "        if (window._pyforest_update_imports_cell) { window._pyforest_update_imports_cell('import numpy as np\\nimport glob'); }\n",
       "    "
      ],
      "text/plain": [
       "<IPython.core.display.Javascript object>"
      ]
     },
     "metadata": {},
     "output_type": "display_data"
    },
    {
     "data": {
      "application/javascript": [
       "\n",
       "        if (window._pyforest_update_imports_cell) { window._pyforest_update_imports_cell('import numpy as np\\nimport glob'); }\n",
       "    "
      ],
      "text/plain": [
       "<IPython.core.display.Javascript object>"
      ]
     },
     "metadata": {},
     "output_type": "display_data"
    },
    {
     "data": {
      "application/javascript": [
       "\n",
       "        if (window._pyforest_update_imports_cell) { window._pyforest_update_imports_cell('import numpy as np\\nimport glob'); }\n",
       "    "
      ],
      "text/plain": [
       "<IPython.core.display.Javascript object>"
      ]
     },
     "metadata": {},
     "output_type": "display_data"
    },
    {
     "data": {
      "application/javascript": [
       "\n",
       "        if (window._pyforest_update_imports_cell) { window._pyforest_update_imports_cell('import numpy as np\\nimport glob'); }\n",
       "    "
      ],
      "text/plain": [
       "<IPython.core.display.Javascript object>"
      ]
     },
     "metadata": {},
     "output_type": "display_data"
    },
    {
     "data": {
      "application/javascript": [
       "\n",
       "        if (window._pyforest_update_imports_cell) { window._pyforest_update_imports_cell('import numpy as np\\nimport glob'); }\n",
       "    "
      ],
      "text/plain": [
       "<IPython.core.display.Javascript object>"
      ]
     },
     "metadata": {},
     "output_type": "display_data"
    },
    {
     "data": {
      "application/javascript": [
       "\n",
       "        if (window._pyforest_update_imports_cell) { window._pyforest_update_imports_cell('import numpy as np\\nimport glob'); }\n",
       "    "
      ],
      "text/plain": [
       "<IPython.core.display.Javascript object>"
      ]
     },
     "metadata": {},
     "output_type": "display_data"
    },
    {
     "data": {
      "application/javascript": [
       "\n",
       "        if (window._pyforest_update_imports_cell) { window._pyforest_update_imports_cell('import numpy as np\\nimport glob'); }\n",
       "    "
      ],
      "text/plain": [
       "<IPython.core.display.Javascript object>"
      ]
     },
     "metadata": {},
     "output_type": "display_data"
    },
    {
     "data": {
      "application/javascript": [
       "\n",
       "        if (window._pyforest_update_imports_cell) { window._pyforest_update_imports_cell('import numpy as np\\nimport glob'); }\n",
       "    "
      ],
      "text/plain": [
       "<IPython.core.display.Javascript object>"
      ]
     },
     "metadata": {},
     "output_type": "display_data"
    },
    {
     "data": {
      "application/javascript": [
       "\n",
       "        if (window._pyforest_update_imports_cell) { window._pyforest_update_imports_cell('import numpy as np\\nimport glob'); }\n",
       "    "
      ],
      "text/plain": [
       "<IPython.core.display.Javascript object>"
      ]
     },
     "metadata": {},
     "output_type": "display_data"
    },
    {
     "data": {
      "application/javascript": [
       "\n",
       "        if (window._pyforest_update_imports_cell) { window._pyforest_update_imports_cell('import numpy as np\\nimport glob'); }\n",
       "    "
      ],
      "text/plain": [
       "<IPython.core.display.Javascript object>"
      ]
     },
     "metadata": {},
     "output_type": "display_data"
    },
    {
     "data": {
      "application/javascript": [
       "\n",
       "        if (window._pyforest_update_imports_cell) { window._pyforest_update_imports_cell('import numpy as np\\nimport glob'); }\n",
       "    "
      ],
      "text/plain": [
       "<IPython.core.display.Javascript object>"
      ]
     },
     "metadata": {},
     "output_type": "display_data"
    },
    {
     "data": {
      "application/javascript": [
       "\n",
       "        if (window._pyforest_update_imports_cell) { window._pyforest_update_imports_cell('import numpy as np\\nimport glob'); }\n",
       "    "
      ],
      "text/plain": [
       "<IPython.core.display.Javascript object>"
      ]
     },
     "metadata": {},
     "output_type": "display_data"
    },
    {
     "data": {
      "application/javascript": [
       "\n",
       "        if (window._pyforest_update_imports_cell) { window._pyforest_update_imports_cell('import numpy as np\\nimport glob'); }\n",
       "    "
      ],
      "text/plain": [
       "<IPython.core.display.Javascript object>"
      ]
     },
     "metadata": {},
     "output_type": "display_data"
    },
    {
     "data": {
      "application/javascript": [
       "\n",
       "        if (window._pyforest_update_imports_cell) { window._pyforest_update_imports_cell('import numpy as np\\nimport glob'); }\n",
       "    "
      ],
      "text/plain": [
       "<IPython.core.display.Javascript object>"
      ]
     },
     "metadata": {},
     "output_type": "display_data"
    },
    {
     "data": {
      "application/javascript": [
       "\n",
       "        if (window._pyforest_update_imports_cell) { window._pyforest_update_imports_cell('import numpy as np\\nimport glob'); }\n",
       "    "
      ],
      "text/plain": [
       "<IPython.core.display.Javascript object>"
      ]
     },
     "metadata": {},
     "output_type": "display_data"
    },
    {
     "data": {
      "application/javascript": [
       "\n",
       "        if (window._pyforest_update_imports_cell) { window._pyforest_update_imports_cell('import numpy as np\\nimport glob'); }\n",
       "    "
      ],
      "text/plain": [
       "<IPython.core.display.Javascript object>"
      ]
     },
     "metadata": {},
     "output_type": "display_data"
    },
    {
     "data": {
      "application/javascript": [
       "\n",
       "        if (window._pyforest_update_imports_cell) { window._pyforest_update_imports_cell('import numpy as np\\nimport glob'); }\n",
       "    "
      ],
      "text/plain": [
       "<IPython.core.display.Javascript object>"
      ]
     },
     "metadata": {},
     "output_type": "display_data"
    },
    {
     "data": {
      "application/javascript": [
       "\n",
       "        if (window._pyforest_update_imports_cell) { window._pyforest_update_imports_cell('import numpy as np\\nimport glob'); }\n",
       "    "
      ],
      "text/plain": [
       "<IPython.core.display.Javascript object>"
      ]
     },
     "metadata": {},
     "output_type": "display_data"
    },
    {
     "data": {
      "application/javascript": [
       "\n",
       "        if (window._pyforest_update_imports_cell) { window._pyforest_update_imports_cell('import numpy as np\\nimport glob'); }\n",
       "    "
      ],
      "text/plain": [
       "<IPython.core.display.Javascript object>"
      ]
     },
     "metadata": {},
     "output_type": "display_data"
    },
    {
     "data": {
      "application/javascript": [
       "\n",
       "        if (window._pyforest_update_imports_cell) { window._pyforest_update_imports_cell('import numpy as np\\nimport glob'); }\n",
       "    "
      ],
      "text/plain": [
       "<IPython.core.display.Javascript object>"
      ]
     },
     "metadata": {},
     "output_type": "display_data"
    },
    {
     "data": {
      "application/javascript": [
       "\n",
       "        if (window._pyforest_update_imports_cell) { window._pyforest_update_imports_cell('import numpy as np\\nimport glob'); }\n",
       "    "
      ],
      "text/plain": [
       "<IPython.core.display.Javascript object>"
      ]
     },
     "metadata": {},
     "output_type": "display_data"
    },
    {
     "data": {
      "application/javascript": [
       "\n",
       "        if (window._pyforest_update_imports_cell) { window._pyforest_update_imports_cell('import numpy as np\\nimport glob'); }\n",
       "    "
      ],
      "text/plain": [
       "<IPython.core.display.Javascript object>"
      ]
     },
     "metadata": {},
     "output_type": "display_data"
    },
    {
     "data": {
      "application/javascript": [
       "\n",
       "        if (window._pyforest_update_imports_cell) { window._pyforest_update_imports_cell('import numpy as np\\nimport glob'); }\n",
       "    "
      ],
      "text/plain": [
       "<IPython.core.display.Javascript object>"
      ]
     },
     "metadata": {},
     "output_type": "display_data"
    },
    {
     "data": {
      "application/javascript": [
       "\n",
       "        if (window._pyforest_update_imports_cell) { window._pyforest_update_imports_cell('import numpy as np\\nimport glob'); }\n",
       "    "
      ],
      "text/plain": [
       "<IPython.core.display.Javascript object>"
      ]
     },
     "metadata": {},
     "output_type": "display_data"
    },
    {
     "data": {
      "application/javascript": [
       "\n",
       "        if (window._pyforest_update_imports_cell) { window._pyforest_update_imports_cell('import numpy as np\\nimport glob'); }\n",
       "    "
      ],
      "text/plain": [
       "<IPython.core.display.Javascript object>"
      ]
     },
     "metadata": {},
     "output_type": "display_data"
    },
    {
     "data": {
      "application/javascript": [
       "\n",
       "        if (window._pyforest_update_imports_cell) { window._pyforest_update_imports_cell('import numpy as np\\nimport glob'); }\n",
       "    "
      ],
      "text/plain": [
       "<IPython.core.display.Javascript object>"
      ]
     },
     "metadata": {},
     "output_type": "display_data"
    },
    {
     "data": {
      "application/javascript": [
       "\n",
       "        if (window._pyforest_update_imports_cell) { window._pyforest_update_imports_cell('import numpy as np\\nimport glob'); }\n",
       "    "
      ],
      "text/plain": [
       "<IPython.core.display.Javascript object>"
      ]
     },
     "metadata": {},
     "output_type": "display_data"
    },
    {
     "data": {
      "application/javascript": [
       "\n",
       "        if (window._pyforest_update_imports_cell) { window._pyforest_update_imports_cell('import numpy as np\\nimport glob'); }\n",
       "    "
      ],
      "text/plain": [
       "<IPython.core.display.Javascript object>"
      ]
     },
     "metadata": {},
     "output_type": "display_data"
    },
    {
     "data": {
      "application/javascript": [
       "\n",
       "        if (window._pyforest_update_imports_cell) { window._pyforest_update_imports_cell('import numpy as np\\nimport glob'); }\n",
       "    "
      ],
      "text/plain": [
       "<IPython.core.display.Javascript object>"
      ]
     },
     "metadata": {},
     "output_type": "display_data"
    },
    {
     "data": {
      "application/javascript": [
       "\n",
       "        if (window._pyforest_update_imports_cell) { window._pyforest_update_imports_cell('import numpy as np\\nimport glob'); }\n",
       "    "
      ],
      "text/plain": [
       "<IPython.core.display.Javascript object>"
      ]
     },
     "metadata": {},
     "output_type": "display_data"
    },
    {
     "data": {
      "application/javascript": [
       "\n",
       "        if (window._pyforest_update_imports_cell) { window._pyforest_update_imports_cell('import numpy as np\\nimport glob'); }\n",
       "    "
      ],
      "text/plain": [
       "<IPython.core.display.Javascript object>"
      ]
     },
     "metadata": {},
     "output_type": "display_data"
    },
    {
     "data": {
      "application/javascript": [
       "\n",
       "        if (window._pyforest_update_imports_cell) { window._pyforest_update_imports_cell('import numpy as np\\nimport glob'); }\n",
       "    "
      ],
      "text/plain": [
       "<IPython.core.display.Javascript object>"
      ]
     },
     "metadata": {},
     "output_type": "display_data"
    },
    {
     "data": {
      "application/javascript": [
       "\n",
       "        if (window._pyforest_update_imports_cell) { window._pyforest_update_imports_cell('import numpy as np\\nimport glob'); }\n",
       "    "
      ],
      "text/plain": [
       "<IPython.core.display.Javascript object>"
      ]
     },
     "metadata": {},
     "output_type": "display_data"
    },
    {
     "data": {
      "application/javascript": [
       "\n",
       "        if (window._pyforest_update_imports_cell) { window._pyforest_update_imports_cell('import numpy as np\\nimport glob'); }\n",
       "    "
      ],
      "text/plain": [
       "<IPython.core.display.Javascript object>"
      ]
     },
     "metadata": {},
     "output_type": "display_data"
    },
    {
     "data": {
      "application/javascript": [
       "\n",
       "        if (window._pyforest_update_imports_cell) { window._pyforest_update_imports_cell('import numpy as np\\nimport glob'); }\n",
       "    "
      ],
      "text/plain": [
       "<IPython.core.display.Javascript object>"
      ]
     },
     "metadata": {},
     "output_type": "display_data"
    },
    {
     "data": {
      "application/javascript": [
       "\n",
       "        if (window._pyforest_update_imports_cell) { window._pyforest_update_imports_cell('import numpy as np\\nimport glob'); }\n",
       "    "
      ],
      "text/plain": [
       "<IPython.core.display.Javascript object>"
      ]
     },
     "metadata": {},
     "output_type": "display_data"
    },
    {
     "data": {
      "application/javascript": [
       "\n",
       "        if (window._pyforest_update_imports_cell) { window._pyforest_update_imports_cell('import numpy as np\\nimport glob'); }\n",
       "    "
      ],
      "text/plain": [
       "<IPython.core.display.Javascript object>"
      ]
     },
     "metadata": {},
     "output_type": "display_data"
    },
    {
     "data": {
      "application/javascript": [
       "\n",
       "        if (window._pyforest_update_imports_cell) { window._pyforest_update_imports_cell('import numpy as np\\nimport glob'); }\n",
       "    "
      ],
      "text/plain": [
       "<IPython.core.display.Javascript object>"
      ]
     },
     "metadata": {},
     "output_type": "display_data"
    },
    {
     "data": {
      "application/javascript": [
       "\n",
       "        if (window._pyforest_update_imports_cell) { window._pyforest_update_imports_cell('import numpy as np\\nimport glob'); }\n",
       "    "
      ],
      "text/plain": [
       "<IPython.core.display.Javascript object>"
      ]
     },
     "metadata": {},
     "output_type": "display_data"
    },
    {
     "data": {
      "application/javascript": [
       "\n",
       "        if (window._pyforest_update_imports_cell) { window._pyforest_update_imports_cell('import numpy as np\\nimport glob'); }\n",
       "    "
      ],
      "text/plain": [
       "<IPython.core.display.Javascript object>"
      ]
     },
     "metadata": {},
     "output_type": "display_data"
    },
    {
     "data": {
      "application/javascript": [
       "\n",
       "        if (window._pyforest_update_imports_cell) { window._pyforest_update_imports_cell('import numpy as np\\nimport glob'); }\n",
       "    "
      ],
      "text/plain": [
       "<IPython.core.display.Javascript object>"
      ]
     },
     "metadata": {},
     "output_type": "display_data"
    },
    {
     "data": {
      "application/javascript": [
       "\n",
       "        if (window._pyforest_update_imports_cell) { window._pyforest_update_imports_cell('import numpy as np\\nimport glob'); }\n",
       "    "
      ],
      "text/plain": [
       "<IPython.core.display.Javascript object>"
      ]
     },
     "metadata": {},
     "output_type": "display_data"
    },
    {
     "data": {
      "application/javascript": [
       "\n",
       "        if (window._pyforest_update_imports_cell) { window._pyforest_update_imports_cell('import numpy as np\\nimport glob'); }\n",
       "    "
      ],
      "text/plain": [
       "<IPython.core.display.Javascript object>"
      ]
     },
     "metadata": {},
     "output_type": "display_data"
    },
    {
     "data": {
      "application/javascript": [
       "\n",
       "        if (window._pyforest_update_imports_cell) { window._pyforest_update_imports_cell('import numpy as np\\nimport glob'); }\n",
       "    "
      ],
      "text/plain": [
       "<IPython.core.display.Javascript object>"
      ]
     },
     "metadata": {},
     "output_type": "display_data"
    },
    {
     "data": {
      "application/javascript": [
       "\n",
       "        if (window._pyforest_update_imports_cell) { window._pyforest_update_imports_cell('import numpy as np\\nimport glob'); }\n",
       "    "
      ],
      "text/plain": [
       "<IPython.core.display.Javascript object>"
      ]
     },
     "metadata": {},
     "output_type": "display_data"
    },
    {
     "data": {
      "application/javascript": [
       "\n",
       "        if (window._pyforest_update_imports_cell) { window._pyforest_update_imports_cell('import numpy as np\\nimport glob'); }\n",
       "    "
      ],
      "text/plain": [
       "<IPython.core.display.Javascript object>"
      ]
     },
     "metadata": {},
     "output_type": "display_data"
    },
    {
     "data": {
      "application/javascript": [
       "\n",
       "        if (window._pyforest_update_imports_cell) { window._pyforest_update_imports_cell('import numpy as np\\nimport glob'); }\n",
       "    "
      ],
      "text/plain": [
       "<IPython.core.display.Javascript object>"
      ]
     },
     "metadata": {},
     "output_type": "display_data"
    },
    {
     "data": {
      "application/javascript": [
       "\n",
       "        if (window._pyforest_update_imports_cell) { window._pyforest_update_imports_cell('import numpy as np\\nimport glob'); }\n",
       "    "
      ],
      "text/plain": [
       "<IPython.core.display.Javascript object>"
      ]
     },
     "metadata": {},
     "output_type": "display_data"
    },
    {
     "data": {
      "application/javascript": [
       "\n",
       "        if (window._pyforest_update_imports_cell) { window._pyforest_update_imports_cell('import numpy as np\\nimport glob'); }\n",
       "    "
      ],
      "text/plain": [
       "<IPython.core.display.Javascript object>"
      ]
     },
     "metadata": {},
     "output_type": "display_data"
    },
    {
     "data": {
      "application/javascript": [
       "\n",
       "        if (window._pyforest_update_imports_cell) { window._pyforest_update_imports_cell('import numpy as np\\nimport glob'); }\n",
       "    "
      ],
      "text/plain": [
       "<IPython.core.display.Javascript object>"
      ]
     },
     "metadata": {},
     "output_type": "display_data"
    },
    {
     "data": {
      "application/javascript": [
       "\n",
       "        if (window._pyforest_update_imports_cell) { window._pyforest_update_imports_cell('import numpy as np\\nimport glob'); }\n",
       "    "
      ],
      "text/plain": [
       "<IPython.core.display.Javascript object>"
      ]
     },
     "metadata": {},
     "output_type": "display_data"
    },
    {
     "data": {
      "application/javascript": [
       "\n",
       "        if (window._pyforest_update_imports_cell) { window._pyforest_update_imports_cell('import numpy as np\\nimport glob'); }\n",
       "    "
      ],
      "text/plain": [
       "<IPython.core.display.Javascript object>"
      ]
     },
     "metadata": {},
     "output_type": "display_data"
    },
    {
     "data": {
      "application/javascript": [
       "\n",
       "        if (window._pyforest_update_imports_cell) { window._pyforest_update_imports_cell('import numpy as np\\nimport glob'); }\n",
       "    "
      ],
      "text/plain": [
       "<IPython.core.display.Javascript object>"
      ]
     },
     "metadata": {},
     "output_type": "display_data"
    },
    {
     "data": {
      "application/javascript": [
       "\n",
       "        if (window._pyforest_update_imports_cell) { window._pyforest_update_imports_cell('import numpy as np\\nimport glob'); }\n",
       "    "
      ],
      "text/plain": [
       "<IPython.core.display.Javascript object>"
      ]
     },
     "metadata": {},
     "output_type": "display_data"
    },
    {
     "data": {
      "application/javascript": [
       "\n",
       "        if (window._pyforest_update_imports_cell) { window._pyforest_update_imports_cell('import numpy as np\\nimport glob'); }\n",
       "    "
      ],
      "text/plain": [
       "<IPython.core.display.Javascript object>"
      ]
     },
     "metadata": {},
     "output_type": "display_data"
    },
    {
     "data": {
      "application/javascript": [
       "\n",
       "        if (window._pyforest_update_imports_cell) { window._pyforest_update_imports_cell('import numpy as np\\nimport glob'); }\n",
       "    "
      ],
      "text/plain": [
       "<IPython.core.display.Javascript object>"
      ]
     },
     "metadata": {},
     "output_type": "display_data"
    },
    {
     "data": {
      "application/javascript": [
       "\n",
       "        if (window._pyforest_update_imports_cell) { window._pyforest_update_imports_cell('import numpy as np\\nimport glob'); }\n",
       "    "
      ],
      "text/plain": [
       "<IPython.core.display.Javascript object>"
      ]
     },
     "metadata": {},
     "output_type": "display_data"
    },
    {
     "data": {
      "application/javascript": [
       "\n",
       "        if (window._pyforest_update_imports_cell) { window._pyforest_update_imports_cell('import numpy as np\\nimport glob'); }\n",
       "    "
      ],
      "text/plain": [
       "<IPython.core.display.Javascript object>"
      ]
     },
     "metadata": {},
     "output_type": "display_data"
    },
    {
     "data": {
      "application/javascript": [
       "\n",
       "        if (window._pyforest_update_imports_cell) { window._pyforest_update_imports_cell('import numpy as np\\nimport glob'); }\n",
       "    "
      ],
      "text/plain": [
       "<IPython.core.display.Javascript object>"
      ]
     },
     "metadata": {},
     "output_type": "display_data"
    },
    {
     "data": {
      "application/javascript": [
       "\n",
       "        if (window._pyforest_update_imports_cell) { window._pyforest_update_imports_cell('import numpy as np\\nimport glob'); }\n",
       "    "
      ],
      "text/plain": [
       "<IPython.core.display.Javascript object>"
      ]
     },
     "metadata": {},
     "output_type": "display_data"
    },
    {
     "data": {
      "application/javascript": [
       "\n",
       "        if (window._pyforest_update_imports_cell) { window._pyforest_update_imports_cell('import numpy as np\\nimport glob'); }\n",
       "    "
      ],
      "text/plain": [
       "<IPython.core.display.Javascript object>"
      ]
     },
     "metadata": {},
     "output_type": "display_data"
    },
    {
     "data": {
      "application/javascript": [
       "\n",
       "        if (window._pyforest_update_imports_cell) { window._pyforest_update_imports_cell('import numpy as np\\nimport glob'); }\n",
       "    "
      ],
      "text/plain": [
       "<IPython.core.display.Javascript object>"
      ]
     },
     "metadata": {},
     "output_type": "display_data"
    },
    {
     "data": {
      "application/javascript": [
       "\n",
       "        if (window._pyforest_update_imports_cell) { window._pyforest_update_imports_cell('import numpy as np\\nimport glob'); }\n",
       "    "
      ],
      "text/plain": [
       "<IPython.core.display.Javascript object>"
      ]
     },
     "metadata": {},
     "output_type": "display_data"
    },
    {
     "data": {
      "application/javascript": [
       "\n",
       "        if (window._pyforest_update_imports_cell) { window._pyforest_update_imports_cell('import numpy as np\\nimport glob'); }\n",
       "    "
      ],
      "text/plain": [
       "<IPython.core.display.Javascript object>"
      ]
     },
     "metadata": {},
     "output_type": "display_data"
    },
    {
     "data": {
      "application/javascript": [
       "\n",
       "        if (window._pyforest_update_imports_cell) { window._pyforest_update_imports_cell('import numpy as np\\nimport glob'); }\n",
       "    "
      ],
      "text/plain": [
       "<IPython.core.display.Javascript object>"
      ]
     },
     "metadata": {},
     "output_type": "display_data"
    },
    {
     "data": {
      "application/javascript": [
       "\n",
       "        if (window._pyforest_update_imports_cell) { window._pyforest_update_imports_cell('import numpy as np\\nimport glob'); }\n",
       "    "
      ],
      "text/plain": [
       "<IPython.core.display.Javascript object>"
      ]
     },
     "metadata": {},
     "output_type": "display_data"
    },
    {
     "data": {
      "application/javascript": [
       "\n",
       "        if (window._pyforest_update_imports_cell) { window._pyforest_update_imports_cell('import numpy as np\\nimport glob'); }\n",
       "    "
      ],
      "text/plain": [
       "<IPython.core.display.Javascript object>"
      ]
     },
     "metadata": {},
     "output_type": "display_data"
    },
    {
     "data": {
      "application/javascript": [
       "\n",
       "        if (window._pyforest_update_imports_cell) { window._pyforest_update_imports_cell('import numpy as np\\nimport glob'); }\n",
       "    "
      ],
      "text/plain": [
       "<IPython.core.display.Javascript object>"
      ]
     },
     "metadata": {},
     "output_type": "display_data"
    },
    {
     "data": {
      "application/javascript": [
       "\n",
       "        if (window._pyforest_update_imports_cell) { window._pyforest_update_imports_cell('import numpy as np\\nimport glob'); }\n",
       "    "
      ],
      "text/plain": [
       "<IPython.core.display.Javascript object>"
      ]
     },
     "metadata": {},
     "output_type": "display_data"
    },
    {
     "data": {
      "application/javascript": [
       "\n",
       "        if (window._pyforest_update_imports_cell) { window._pyforest_update_imports_cell('import numpy as np\\nimport glob'); }\n",
       "    "
      ],
      "text/plain": [
       "<IPython.core.display.Javascript object>"
      ]
     },
     "metadata": {},
     "output_type": "display_data"
    },
    {
     "data": {
      "application/javascript": [
       "\n",
       "        if (window._pyforest_update_imports_cell) { window._pyforest_update_imports_cell('import numpy as np\\nimport glob'); }\n",
       "    "
      ],
      "text/plain": [
       "<IPython.core.display.Javascript object>"
      ]
     },
     "metadata": {},
     "output_type": "display_data"
    },
    {
     "data": {
      "application/javascript": [
       "\n",
       "        if (window._pyforest_update_imports_cell) { window._pyforest_update_imports_cell('import numpy as np\\nimport glob'); }\n",
       "    "
      ],
      "text/plain": [
       "<IPython.core.display.Javascript object>"
      ]
     },
     "metadata": {},
     "output_type": "display_data"
    },
    {
     "data": {
      "application/javascript": [
       "\n",
       "        if (window._pyforest_update_imports_cell) { window._pyforest_update_imports_cell('import numpy as np\\nimport glob'); }\n",
       "    "
      ],
      "text/plain": [
       "<IPython.core.display.Javascript object>"
      ]
     },
     "metadata": {},
     "output_type": "display_data"
    },
    {
     "data": {
      "application/javascript": [
       "\n",
       "        if (window._pyforest_update_imports_cell) { window._pyforest_update_imports_cell('import numpy as np\\nimport glob'); }\n",
       "    "
      ],
      "text/plain": [
       "<IPython.core.display.Javascript object>"
      ]
     },
     "metadata": {},
     "output_type": "display_data"
    },
    {
     "data": {
      "application/javascript": [
       "\n",
       "        if (window._pyforest_update_imports_cell) { window._pyforest_update_imports_cell('import numpy as np\\nimport glob'); }\n",
       "    "
      ],
      "text/plain": [
       "<IPython.core.display.Javascript object>"
      ]
     },
     "metadata": {},
     "output_type": "display_data"
    },
    {
     "data": {
      "application/javascript": [
       "\n",
       "        if (window._pyforest_update_imports_cell) { window._pyforest_update_imports_cell('import numpy as np\\nimport glob'); }\n",
       "    "
      ],
      "text/plain": [
       "<IPython.core.display.Javascript object>"
      ]
     },
     "metadata": {},
     "output_type": "display_data"
    },
    {
     "data": {
      "application/javascript": [
       "\n",
       "        if (window._pyforest_update_imports_cell) { window._pyforest_update_imports_cell('import numpy as np\\nimport glob'); }\n",
       "    "
      ],
      "text/plain": [
       "<IPython.core.display.Javascript object>"
      ]
     },
     "metadata": {},
     "output_type": "display_data"
    },
    {
     "data": {
      "application/javascript": [
       "\n",
       "        if (window._pyforest_update_imports_cell) { window._pyforest_update_imports_cell('import numpy as np\\nimport glob'); }\n",
       "    "
      ],
      "text/plain": [
       "<IPython.core.display.Javascript object>"
      ]
     },
     "metadata": {},
     "output_type": "display_data"
    },
    {
     "data": {
      "application/javascript": [
       "\n",
       "        if (window._pyforest_update_imports_cell) { window._pyforest_update_imports_cell('import numpy as np\\nimport glob'); }\n",
       "    "
      ],
      "text/plain": [
       "<IPython.core.display.Javascript object>"
      ]
     },
     "metadata": {},
     "output_type": "display_data"
    },
    {
     "data": {
      "application/javascript": [
       "\n",
       "        if (window._pyforest_update_imports_cell) { window._pyforest_update_imports_cell('import numpy as np\\nimport glob'); }\n",
       "    "
      ],
      "text/plain": [
       "<IPython.core.display.Javascript object>"
      ]
     },
     "metadata": {},
     "output_type": "display_data"
    },
    {
     "data": {
      "application/javascript": [
       "\n",
       "        if (window._pyforest_update_imports_cell) { window._pyforest_update_imports_cell('import numpy as np\\nimport glob'); }\n",
       "    "
      ],
      "text/plain": [
       "<IPython.core.display.Javascript object>"
      ]
     },
     "metadata": {},
     "output_type": "display_data"
    },
    {
     "data": {
      "application/javascript": [
       "\n",
       "        if (window._pyforest_update_imports_cell) { window._pyforest_update_imports_cell('import numpy as np\\nimport glob'); }\n",
       "    "
      ],
      "text/plain": [
       "<IPython.core.display.Javascript object>"
      ]
     },
     "metadata": {},
     "output_type": "display_data"
    },
    {
     "data": {
      "application/javascript": [
       "\n",
       "        if (window._pyforest_update_imports_cell) { window._pyforest_update_imports_cell('import numpy as np\\nimport glob'); }\n",
       "    "
      ],
      "text/plain": [
       "<IPython.core.display.Javascript object>"
      ]
     },
     "metadata": {},
     "output_type": "display_data"
    },
    {
     "data": {
      "application/javascript": [
       "\n",
       "        if (window._pyforest_update_imports_cell) { window._pyforest_update_imports_cell('import numpy as np\\nimport glob'); }\n",
       "    "
      ],
      "text/plain": [
       "<IPython.core.display.Javascript object>"
      ]
     },
     "metadata": {},
     "output_type": "display_data"
    },
    {
     "data": {
      "application/javascript": [
       "\n",
       "        if (window._pyforest_update_imports_cell) { window._pyforest_update_imports_cell('import numpy as np\\nimport glob'); }\n",
       "    "
      ],
      "text/plain": [
       "<IPython.core.display.Javascript object>"
      ]
     },
     "metadata": {},
     "output_type": "display_data"
    },
    {
     "data": {
      "application/javascript": [
       "\n",
       "        if (window._pyforest_update_imports_cell) { window._pyforest_update_imports_cell('import numpy as np\\nimport glob'); }\n",
       "    "
      ],
      "text/plain": [
       "<IPython.core.display.Javascript object>"
      ]
     },
     "metadata": {},
     "output_type": "display_data"
    },
    {
     "data": {
      "application/javascript": [
       "\n",
       "        if (window._pyforest_update_imports_cell) { window._pyforest_update_imports_cell('import numpy as np\\nimport glob'); }\n",
       "    "
      ],
      "text/plain": [
       "<IPython.core.display.Javascript object>"
      ]
     },
     "metadata": {},
     "output_type": "display_data"
    },
    {
     "data": {
      "application/javascript": [
       "\n",
       "        if (window._pyforest_update_imports_cell) { window._pyforest_update_imports_cell('import numpy as np\\nimport glob'); }\n",
       "    "
      ],
      "text/plain": [
       "<IPython.core.display.Javascript object>"
      ]
     },
     "metadata": {},
     "output_type": "display_data"
    },
    {
     "data": {
      "application/javascript": [
       "\n",
       "        if (window._pyforest_update_imports_cell) { window._pyforest_update_imports_cell('import numpy as np\\nimport glob'); }\n",
       "    "
      ],
      "text/plain": [
       "<IPython.core.display.Javascript object>"
      ]
     },
     "metadata": {},
     "output_type": "display_data"
    },
    {
     "data": {
      "application/javascript": [
       "\n",
       "        if (window._pyforest_update_imports_cell) { window._pyforest_update_imports_cell('import numpy as np\\nimport glob'); }\n",
       "    "
      ],
      "text/plain": [
       "<IPython.core.display.Javascript object>"
      ]
     },
     "metadata": {},
     "output_type": "display_data"
    },
    {
     "data": {
      "application/javascript": [
       "\n",
       "        if (window._pyforest_update_imports_cell) { window._pyforest_update_imports_cell('import numpy as np\\nimport glob'); }\n",
       "    "
      ],
      "text/plain": [
       "<IPython.core.display.Javascript object>"
      ]
     },
     "metadata": {},
     "output_type": "display_data"
    },
    {
     "data": {
      "application/javascript": [
       "\n",
       "        if (window._pyforest_update_imports_cell) { window._pyforest_update_imports_cell('import numpy as np\\nimport glob'); }\n",
       "    "
      ],
      "text/plain": [
       "<IPython.core.display.Javascript object>"
      ]
     },
     "metadata": {},
     "output_type": "display_data"
    },
    {
     "data": {
      "application/javascript": [
       "\n",
       "        if (window._pyforest_update_imports_cell) { window._pyforest_update_imports_cell('import numpy as np\\nimport glob'); }\n",
       "    "
      ],
      "text/plain": [
       "<IPython.core.display.Javascript object>"
      ]
     },
     "metadata": {},
     "output_type": "display_data"
    },
    {
     "data": {
      "application/javascript": [
       "\n",
       "        if (window._pyforest_update_imports_cell) { window._pyforest_update_imports_cell('import numpy as np\\nimport glob'); }\n",
       "    "
      ],
      "text/plain": [
       "<IPython.core.display.Javascript object>"
      ]
     },
     "metadata": {},
     "output_type": "display_data"
    },
    {
     "data": {
      "application/javascript": [
       "\n",
       "        if (window._pyforest_update_imports_cell) { window._pyforest_update_imports_cell('import numpy as np\\nimport glob'); }\n",
       "    "
      ],
      "text/plain": [
       "<IPython.core.display.Javascript object>"
      ]
     },
     "metadata": {},
     "output_type": "display_data"
    },
    {
     "data": {
      "application/javascript": [
       "\n",
       "        if (window._pyforest_update_imports_cell) { window._pyforest_update_imports_cell('import numpy as np\\nimport glob'); }\n",
       "    "
      ],
      "text/plain": [
       "<IPython.core.display.Javascript object>"
      ]
     },
     "metadata": {},
     "output_type": "display_data"
    },
    {
     "data": {
      "application/javascript": [
       "\n",
       "        if (window._pyforest_update_imports_cell) { window._pyforest_update_imports_cell('import numpy as np\\nimport glob'); }\n",
       "    "
      ],
      "text/plain": [
       "<IPython.core.display.Javascript object>"
      ]
     },
     "metadata": {},
     "output_type": "display_data"
    },
    {
     "data": {
      "application/javascript": [
       "\n",
       "        if (window._pyforest_update_imports_cell) { window._pyforest_update_imports_cell('import numpy as np\\nimport glob'); }\n",
       "    "
      ],
      "text/plain": [
       "<IPython.core.display.Javascript object>"
      ]
     },
     "metadata": {},
     "output_type": "display_data"
    },
    {
     "data": {
      "application/javascript": [
       "\n",
       "        if (window._pyforest_update_imports_cell) { window._pyforest_update_imports_cell('import numpy as np\\nimport glob'); }\n",
       "    "
      ],
      "text/plain": [
       "<IPython.core.display.Javascript object>"
      ]
     },
     "metadata": {},
     "output_type": "display_data"
    },
    {
     "data": {
      "application/javascript": [
       "\n",
       "        if (window._pyforest_update_imports_cell) { window._pyforest_update_imports_cell('import numpy as np\\nimport glob'); }\n",
       "    "
      ],
      "text/plain": [
       "<IPython.core.display.Javascript object>"
      ]
     },
     "metadata": {},
     "output_type": "display_data"
    },
    {
     "data": {
      "application/javascript": [
       "\n",
       "        if (window._pyforest_update_imports_cell) { window._pyforest_update_imports_cell('import numpy as np\\nimport glob'); }\n",
       "    "
      ],
      "text/plain": [
       "<IPython.core.display.Javascript object>"
      ]
     },
     "metadata": {},
     "output_type": "display_data"
    },
    {
     "data": {
      "application/javascript": [
       "\n",
       "        if (window._pyforest_update_imports_cell) { window._pyforest_update_imports_cell('import numpy as np\\nimport glob'); }\n",
       "    "
      ],
      "text/plain": [
       "<IPython.core.display.Javascript object>"
      ]
     },
     "metadata": {},
     "output_type": "display_data"
    },
    {
     "data": {
      "application/javascript": [
       "\n",
       "        if (window._pyforest_update_imports_cell) { window._pyforest_update_imports_cell('import numpy as np\\nimport glob'); }\n",
       "    "
      ],
      "text/plain": [
       "<IPython.core.display.Javascript object>"
      ]
     },
     "metadata": {},
     "output_type": "display_data"
    },
    {
     "data": {
      "application/javascript": [
       "\n",
       "        if (window._pyforest_update_imports_cell) { window._pyforest_update_imports_cell('import numpy as np\\nimport glob'); }\n",
       "    "
      ],
      "text/plain": [
       "<IPython.core.display.Javascript object>"
      ]
     },
     "metadata": {},
     "output_type": "display_data"
    },
    {
     "data": {
      "application/javascript": [
       "\n",
       "        if (window._pyforest_update_imports_cell) { window._pyforest_update_imports_cell('import numpy as np\\nimport glob'); }\n",
       "    "
      ],
      "text/plain": [
       "<IPython.core.display.Javascript object>"
      ]
     },
     "metadata": {},
     "output_type": "display_data"
    },
    {
     "data": {
      "application/javascript": [
       "\n",
       "        if (window._pyforest_update_imports_cell) { window._pyforest_update_imports_cell('import numpy as np\\nimport glob'); }\n",
       "    "
      ],
      "text/plain": [
       "<IPython.core.display.Javascript object>"
      ]
     },
     "metadata": {},
     "output_type": "display_data"
    },
    {
     "data": {
      "application/javascript": [
       "\n",
       "        if (window._pyforest_update_imports_cell) { window._pyforest_update_imports_cell('import numpy as np\\nimport glob'); }\n",
       "    "
      ],
      "text/plain": [
       "<IPython.core.display.Javascript object>"
      ]
     },
     "metadata": {},
     "output_type": "display_data"
    },
    {
     "data": {
      "application/javascript": [
       "\n",
       "        if (window._pyforest_update_imports_cell) { window._pyforest_update_imports_cell('import numpy as np\\nimport glob'); }\n",
       "    "
      ],
      "text/plain": [
       "<IPython.core.display.Javascript object>"
      ]
     },
     "metadata": {},
     "output_type": "display_data"
    },
    {
     "data": {
      "application/javascript": [
       "\n",
       "        if (window._pyforest_update_imports_cell) { window._pyforest_update_imports_cell('import numpy as np\\nimport glob'); }\n",
       "    "
      ],
      "text/plain": [
       "<IPython.core.display.Javascript object>"
      ]
     },
     "metadata": {},
     "output_type": "display_data"
    },
    {
     "data": {
      "application/javascript": [
       "\n",
       "        if (window._pyforest_update_imports_cell) { window._pyforest_update_imports_cell('import numpy as np\\nimport glob'); }\n",
       "    "
      ],
      "text/plain": [
       "<IPython.core.display.Javascript object>"
      ]
     },
     "metadata": {},
     "output_type": "display_data"
    },
    {
     "data": {
      "application/javascript": [
       "\n",
       "        if (window._pyforest_update_imports_cell) { window._pyforest_update_imports_cell('import numpy as np\\nimport glob'); }\n",
       "    "
      ],
      "text/plain": [
       "<IPython.core.display.Javascript object>"
      ]
     },
     "metadata": {},
     "output_type": "display_data"
    },
    {
     "data": {
      "application/javascript": [
       "\n",
       "        if (window._pyforest_update_imports_cell) { window._pyforest_update_imports_cell('import numpy as np\\nimport glob'); }\n",
       "    "
      ],
      "text/plain": [
       "<IPython.core.display.Javascript object>"
      ]
     },
     "metadata": {},
     "output_type": "display_data"
    },
    {
     "data": {
      "application/javascript": [
       "\n",
       "        if (window._pyforest_update_imports_cell) { window._pyforest_update_imports_cell('import numpy as np\\nimport glob'); }\n",
       "    "
      ],
      "text/plain": [
       "<IPython.core.display.Javascript object>"
      ]
     },
     "metadata": {},
     "output_type": "display_data"
    },
    {
     "data": {
      "application/javascript": [
       "\n",
       "        if (window._pyforest_update_imports_cell) { window._pyforest_update_imports_cell('import numpy as np\\nimport glob'); }\n",
       "    "
      ],
      "text/plain": [
       "<IPython.core.display.Javascript object>"
      ]
     },
     "metadata": {},
     "output_type": "display_data"
    },
    {
     "data": {
      "application/javascript": [
       "\n",
       "        if (window._pyforest_update_imports_cell) { window._pyforest_update_imports_cell('import numpy as np\\nimport glob'); }\n",
       "    "
      ],
      "text/plain": [
       "<IPython.core.display.Javascript object>"
      ]
     },
     "metadata": {},
     "output_type": "display_data"
    },
    {
     "data": {
      "application/javascript": [
       "\n",
       "        if (window._pyforest_update_imports_cell) { window._pyforest_update_imports_cell('import numpy as np\\nimport glob'); }\n",
       "    "
      ],
      "text/plain": [
       "<IPython.core.display.Javascript object>"
      ]
     },
     "metadata": {},
     "output_type": "display_data"
    },
    {
     "data": {
      "application/javascript": [
       "\n",
       "        if (window._pyforest_update_imports_cell) { window._pyforest_update_imports_cell('import numpy as np\\nimport glob'); }\n",
       "    "
      ],
      "text/plain": [
       "<IPython.core.display.Javascript object>"
      ]
     },
     "metadata": {},
     "output_type": "display_data"
    },
    {
     "data": {
      "application/javascript": [
       "\n",
       "        if (window._pyforest_update_imports_cell) { window._pyforest_update_imports_cell('import numpy as np\\nimport glob'); }\n",
       "    "
      ],
      "text/plain": [
       "<IPython.core.display.Javascript object>"
      ]
     },
     "metadata": {},
     "output_type": "display_data"
    },
    {
     "data": {
      "application/javascript": [
       "\n",
       "        if (window._pyforest_update_imports_cell) { window._pyforest_update_imports_cell('import numpy as np\\nimport glob'); }\n",
       "    "
      ],
      "text/plain": [
       "<IPython.core.display.Javascript object>"
      ]
     },
     "metadata": {},
     "output_type": "display_data"
    },
    {
     "data": {
      "application/javascript": [
       "\n",
       "        if (window._pyforest_update_imports_cell) { window._pyforest_update_imports_cell('import numpy as np\\nimport glob'); }\n",
       "    "
      ],
      "text/plain": [
       "<IPython.core.display.Javascript object>"
      ]
     },
     "metadata": {},
     "output_type": "display_data"
    },
    {
     "data": {
      "application/javascript": [
       "\n",
       "        if (window._pyforest_update_imports_cell) { window._pyforest_update_imports_cell('import numpy as np\\nimport glob'); }\n",
       "    "
      ],
      "text/plain": [
       "<IPython.core.display.Javascript object>"
      ]
     },
     "metadata": {},
     "output_type": "display_data"
    },
    {
     "data": {
      "application/javascript": [
       "\n",
       "        if (window._pyforest_update_imports_cell) { window._pyforest_update_imports_cell('import numpy as np\\nimport glob'); }\n",
       "    "
      ],
      "text/plain": [
       "<IPython.core.display.Javascript object>"
      ]
     },
     "metadata": {},
     "output_type": "display_data"
    },
    {
     "data": {
      "application/javascript": [
       "\n",
       "        if (window._pyforest_update_imports_cell) { window._pyforest_update_imports_cell('import numpy as np\\nimport glob'); }\n",
       "    "
      ],
      "text/plain": [
       "<IPython.core.display.Javascript object>"
      ]
     },
     "metadata": {},
     "output_type": "display_data"
    },
    {
     "data": {
      "application/javascript": [
       "\n",
       "        if (window._pyforest_update_imports_cell) { window._pyforest_update_imports_cell('import numpy as np\\nimport glob'); }\n",
       "    "
      ],
      "text/plain": [
       "<IPython.core.display.Javascript object>"
      ]
     },
     "metadata": {},
     "output_type": "display_data"
    },
    {
     "data": {
      "application/javascript": [
       "\n",
       "        if (window._pyforest_update_imports_cell) { window._pyforest_update_imports_cell('import numpy as np\\nimport glob'); }\n",
       "    "
      ],
      "text/plain": [
       "<IPython.core.display.Javascript object>"
      ]
     },
     "metadata": {},
     "output_type": "display_data"
    },
    {
     "data": {
      "application/javascript": [
       "\n",
       "        if (window._pyforest_update_imports_cell) { window._pyforest_update_imports_cell('import numpy as np\\nimport glob'); }\n",
       "    "
      ],
      "text/plain": [
       "<IPython.core.display.Javascript object>"
      ]
     },
     "metadata": {},
     "output_type": "display_data"
    },
    {
     "data": {
      "application/javascript": [
       "\n",
       "        if (window._pyforest_update_imports_cell) { window._pyforest_update_imports_cell('import numpy as np\\nimport glob'); }\n",
       "    "
      ],
      "text/plain": [
       "<IPython.core.display.Javascript object>"
      ]
     },
     "metadata": {},
     "output_type": "display_data"
    },
    {
     "data": {
      "application/javascript": [
       "\n",
       "        if (window._pyforest_update_imports_cell) { window._pyforest_update_imports_cell('import numpy as np\\nimport glob'); }\n",
       "    "
      ],
      "text/plain": [
       "<IPython.core.display.Javascript object>"
      ]
     },
     "metadata": {},
     "output_type": "display_data"
    },
    {
     "data": {
      "application/javascript": [
       "\n",
       "        if (window._pyforest_update_imports_cell) { window._pyforest_update_imports_cell('import numpy as np\\nimport glob'); }\n",
       "    "
      ],
      "text/plain": [
       "<IPython.core.display.Javascript object>"
      ]
     },
     "metadata": {},
     "output_type": "display_data"
    },
    {
     "data": {
      "application/javascript": [
       "\n",
       "        if (window._pyforest_update_imports_cell) { window._pyforest_update_imports_cell('import numpy as np\\nimport glob'); }\n",
       "    "
      ],
      "text/plain": [
       "<IPython.core.display.Javascript object>"
      ]
     },
     "metadata": {},
     "output_type": "display_data"
    },
    {
     "data": {
      "application/javascript": [
       "\n",
       "        if (window._pyforest_update_imports_cell) { window._pyforest_update_imports_cell('import numpy as np\\nimport glob'); }\n",
       "    "
      ],
      "text/plain": [
       "<IPython.core.display.Javascript object>"
      ]
     },
     "metadata": {},
     "output_type": "display_data"
    },
    {
     "data": {
      "application/javascript": [
       "\n",
       "        if (window._pyforest_update_imports_cell) { window._pyforest_update_imports_cell('import numpy as np\\nimport glob'); }\n",
       "    "
      ],
      "text/plain": [
       "<IPython.core.display.Javascript object>"
      ]
     },
     "metadata": {},
     "output_type": "display_data"
    },
    {
     "data": {
      "application/javascript": [
       "\n",
       "        if (window._pyforest_update_imports_cell) { window._pyforest_update_imports_cell('import numpy as np\\nimport glob'); }\n",
       "    "
      ],
      "text/plain": [
       "<IPython.core.display.Javascript object>"
      ]
     },
     "metadata": {},
     "output_type": "display_data"
    },
    {
     "data": {
      "application/javascript": [
       "\n",
       "        if (window._pyforest_update_imports_cell) { window._pyforest_update_imports_cell('import numpy as np\\nimport glob'); }\n",
       "    "
      ],
      "text/plain": [
       "<IPython.core.display.Javascript object>"
      ]
     },
     "metadata": {},
     "output_type": "display_data"
    },
    {
     "data": {
      "application/javascript": [
       "\n",
       "        if (window._pyforest_update_imports_cell) { window._pyforest_update_imports_cell('import numpy as np\\nimport glob'); }\n",
       "    "
      ],
      "text/plain": [
       "<IPython.core.display.Javascript object>"
      ]
     },
     "metadata": {},
     "output_type": "display_data"
    },
    {
     "data": {
      "application/javascript": [
       "\n",
       "        if (window._pyforest_update_imports_cell) { window._pyforest_update_imports_cell('import numpy as np\\nimport glob'); }\n",
       "    "
      ],
      "text/plain": [
       "<IPython.core.display.Javascript object>"
      ]
     },
     "metadata": {},
     "output_type": "display_data"
    },
    {
     "data": {
      "application/javascript": [
       "\n",
       "        if (window._pyforest_update_imports_cell) { window._pyforest_update_imports_cell('import numpy as np\\nimport glob'); }\n",
       "    "
      ],
      "text/plain": [
       "<IPython.core.display.Javascript object>"
      ]
     },
     "metadata": {},
     "output_type": "display_data"
    },
    {
     "data": {
      "application/javascript": [
       "\n",
       "        if (window._pyforest_update_imports_cell) { window._pyforest_update_imports_cell('import numpy as np\\nimport glob'); }\n",
       "    "
      ],
      "text/plain": [
       "<IPython.core.display.Javascript object>"
      ]
     },
     "metadata": {},
     "output_type": "display_data"
    },
    {
     "data": {
      "application/javascript": [
       "\n",
       "        if (window._pyforest_update_imports_cell) { window._pyforest_update_imports_cell('import numpy as np\\nimport glob'); }\n",
       "    "
      ],
      "text/plain": [
       "<IPython.core.display.Javascript object>"
      ]
     },
     "metadata": {},
     "output_type": "display_data"
    },
    {
     "data": {
      "application/javascript": [
       "\n",
       "        if (window._pyforest_update_imports_cell) { window._pyforest_update_imports_cell('import numpy as np\\nimport glob'); }\n",
       "    "
      ],
      "text/plain": [
       "<IPython.core.display.Javascript object>"
      ]
     },
     "metadata": {},
     "output_type": "display_data"
    },
    {
     "data": {
      "application/javascript": [
       "\n",
       "        if (window._pyforest_update_imports_cell) { window._pyforest_update_imports_cell('import numpy as np\\nimport glob'); }\n",
       "    "
      ],
      "text/plain": [
       "<IPython.core.display.Javascript object>"
      ]
     },
     "metadata": {},
     "output_type": "display_data"
    },
    {
     "data": {
      "application/javascript": [
       "\n",
       "        if (window._pyforest_update_imports_cell) { window._pyforest_update_imports_cell('import numpy as np\\nimport glob'); }\n",
       "    "
      ],
      "text/plain": [
       "<IPython.core.display.Javascript object>"
      ]
     },
     "metadata": {},
     "output_type": "display_data"
    },
    {
     "data": {
      "application/javascript": [
       "\n",
       "        if (window._pyforest_update_imports_cell) { window._pyforest_update_imports_cell('import numpy as np\\nimport glob'); }\n",
       "    "
      ],
      "text/plain": [
       "<IPython.core.display.Javascript object>"
      ]
     },
     "metadata": {},
     "output_type": "display_data"
    },
    {
     "data": {
      "application/javascript": [
       "\n",
       "        if (window._pyforest_update_imports_cell) { window._pyforest_update_imports_cell('import numpy as np\\nimport glob'); }\n",
       "    "
      ],
      "text/plain": [
       "<IPython.core.display.Javascript object>"
      ]
     },
     "metadata": {},
     "output_type": "display_data"
    },
    {
     "data": {
      "application/javascript": [
       "\n",
       "        if (window._pyforest_update_imports_cell) { window._pyforest_update_imports_cell('import numpy as np\\nimport glob'); }\n",
       "    "
      ],
      "text/plain": [
       "<IPython.core.display.Javascript object>"
      ]
     },
     "metadata": {},
     "output_type": "display_data"
    },
    {
     "data": {
      "application/javascript": [
       "\n",
       "        if (window._pyforest_update_imports_cell) { window._pyforest_update_imports_cell('import numpy as np\\nimport glob'); }\n",
       "    "
      ],
      "text/plain": [
       "<IPython.core.display.Javascript object>"
      ]
     },
     "metadata": {},
     "output_type": "display_data"
    },
    {
     "data": {
      "application/javascript": [
       "\n",
       "        if (window._pyforest_update_imports_cell) { window._pyforest_update_imports_cell('import numpy as np\\nimport glob'); }\n",
       "    "
      ],
      "text/plain": [
       "<IPython.core.display.Javascript object>"
      ]
     },
     "metadata": {},
     "output_type": "display_data"
    },
    {
     "data": {
      "application/javascript": [
       "\n",
       "        if (window._pyforest_update_imports_cell) { window._pyforest_update_imports_cell('import numpy as np\\nimport glob'); }\n",
       "    "
      ],
      "text/plain": [
       "<IPython.core.display.Javascript object>"
      ]
     },
     "metadata": {},
     "output_type": "display_data"
    },
    {
     "data": {
      "application/javascript": [
       "\n",
       "        if (window._pyforest_update_imports_cell) { window._pyforest_update_imports_cell('import numpy as np\\nimport glob'); }\n",
       "    "
      ],
      "text/plain": [
       "<IPython.core.display.Javascript object>"
      ]
     },
     "metadata": {},
     "output_type": "display_data"
    },
    {
     "data": {
      "application/javascript": [
       "\n",
       "        if (window._pyforest_update_imports_cell) { window._pyforest_update_imports_cell('import numpy as np\\nimport glob'); }\n",
       "    "
      ],
      "text/plain": [
       "<IPython.core.display.Javascript object>"
      ]
     },
     "metadata": {},
     "output_type": "display_data"
    },
    {
     "data": {
      "application/javascript": [
       "\n",
       "        if (window._pyforest_update_imports_cell) { window._pyforest_update_imports_cell('import numpy as np\\nimport glob'); }\n",
       "    "
      ],
      "text/plain": [
       "<IPython.core.display.Javascript object>"
      ]
     },
     "metadata": {},
     "output_type": "display_data"
    },
    {
     "data": {
      "application/javascript": [
       "\n",
       "        if (window._pyforest_update_imports_cell) { window._pyforest_update_imports_cell('import numpy as np\\nimport glob'); }\n",
       "    "
      ],
      "text/plain": [
       "<IPython.core.display.Javascript object>"
      ]
     },
     "metadata": {},
     "output_type": "display_data"
    },
    {
     "data": {
      "application/javascript": [
       "\n",
       "        if (window._pyforest_update_imports_cell) { window._pyforest_update_imports_cell('import numpy as np\\nimport glob'); }\n",
       "    "
      ],
      "text/plain": [
       "<IPython.core.display.Javascript object>"
      ]
     },
     "metadata": {},
     "output_type": "display_data"
    },
    {
     "data": {
      "application/javascript": [
       "\n",
       "        if (window._pyforest_update_imports_cell) { window._pyforest_update_imports_cell('import numpy as np\\nimport glob'); }\n",
       "    "
      ],
      "text/plain": [
       "<IPython.core.display.Javascript object>"
      ]
     },
     "metadata": {},
     "output_type": "display_data"
    },
    {
     "data": {
      "application/javascript": [
       "\n",
       "        if (window._pyforest_update_imports_cell) { window._pyforest_update_imports_cell('import numpy as np\\nimport glob'); }\n",
       "    "
      ],
      "text/plain": [
       "<IPython.core.display.Javascript object>"
      ]
     },
     "metadata": {},
     "output_type": "display_data"
    },
    {
     "data": {
      "application/javascript": [
       "\n",
       "        if (window._pyforest_update_imports_cell) { window._pyforest_update_imports_cell('import numpy as np\\nimport glob'); }\n",
       "    "
      ],
      "text/plain": [
       "<IPython.core.display.Javascript object>"
      ]
     },
     "metadata": {},
     "output_type": "display_data"
    },
    {
     "data": {
      "application/javascript": [
       "\n",
       "        if (window._pyforest_update_imports_cell) { window._pyforest_update_imports_cell('import numpy as np\\nimport glob'); }\n",
       "    "
      ],
      "text/plain": [
       "<IPython.core.display.Javascript object>"
      ]
     },
     "metadata": {},
     "output_type": "display_data"
    },
    {
     "data": {
      "application/javascript": [
       "\n",
       "        if (window._pyforest_update_imports_cell) { window._pyforest_update_imports_cell('import numpy as np\\nimport glob'); }\n",
       "    "
      ],
      "text/plain": [
       "<IPython.core.display.Javascript object>"
      ]
     },
     "metadata": {},
     "output_type": "display_data"
    },
    {
     "data": {
      "application/javascript": [
       "\n",
       "        if (window._pyforest_update_imports_cell) { window._pyforest_update_imports_cell('import numpy as np\\nimport glob'); }\n",
       "    "
      ],
      "text/plain": [
       "<IPython.core.display.Javascript object>"
      ]
     },
     "metadata": {},
     "output_type": "display_data"
    },
    {
     "data": {
      "application/javascript": [
       "\n",
       "        if (window._pyforest_update_imports_cell) { window._pyforest_update_imports_cell('import numpy as np\\nimport glob'); }\n",
       "    "
      ],
      "text/plain": [
       "<IPython.core.display.Javascript object>"
      ]
     },
     "metadata": {},
     "output_type": "display_data"
    },
    {
     "data": {
      "application/javascript": [
       "\n",
       "        if (window._pyforest_update_imports_cell) { window._pyforest_update_imports_cell('import numpy as np\\nimport glob'); }\n",
       "    "
      ],
      "text/plain": [
       "<IPython.core.display.Javascript object>"
      ]
     },
     "metadata": {},
     "output_type": "display_data"
    },
    {
     "data": {
      "application/javascript": [
       "\n",
       "        if (window._pyforest_update_imports_cell) { window._pyforest_update_imports_cell('import numpy as np\\nimport glob'); }\n",
       "    "
      ],
      "text/plain": [
       "<IPython.core.display.Javascript object>"
      ]
     },
     "metadata": {},
     "output_type": "display_data"
    },
    {
     "data": {
      "application/javascript": [
       "\n",
       "        if (window._pyforest_update_imports_cell) { window._pyforest_update_imports_cell('import numpy as np\\nimport glob'); }\n",
       "    "
      ],
      "text/plain": [
       "<IPython.core.display.Javascript object>"
      ]
     },
     "metadata": {},
     "output_type": "display_data"
    },
    {
     "data": {
      "application/javascript": [
       "\n",
       "        if (window._pyforest_update_imports_cell) { window._pyforest_update_imports_cell('import numpy as np\\nimport glob'); }\n",
       "    "
      ],
      "text/plain": [
       "<IPython.core.display.Javascript object>"
      ]
     },
     "metadata": {},
     "output_type": "display_data"
    },
    {
     "data": {
      "application/javascript": [
       "\n",
       "        if (window._pyforest_update_imports_cell) { window._pyforest_update_imports_cell('import numpy as np\\nimport glob'); }\n",
       "    "
      ],
      "text/plain": [
       "<IPython.core.display.Javascript object>"
      ]
     },
     "metadata": {},
     "output_type": "display_data"
    },
    {
     "data": {
      "application/javascript": [
       "\n",
       "        if (window._pyforest_update_imports_cell) { window._pyforest_update_imports_cell('import numpy as np\\nimport glob'); }\n",
       "    "
      ],
      "text/plain": [
       "<IPython.core.display.Javascript object>"
      ]
     },
     "metadata": {},
     "output_type": "display_data"
    },
    {
     "data": {
      "application/javascript": [
       "\n",
       "        if (window._pyforest_update_imports_cell) { window._pyforest_update_imports_cell('import numpy as np\\nimport glob'); }\n",
       "    "
      ],
      "text/plain": [
       "<IPython.core.display.Javascript object>"
      ]
     },
     "metadata": {},
     "output_type": "display_data"
    },
    {
     "data": {
      "application/javascript": [
       "\n",
       "        if (window._pyforest_update_imports_cell) { window._pyforest_update_imports_cell('import numpy as np\\nimport glob'); }\n",
       "    "
      ],
      "text/plain": [
       "<IPython.core.display.Javascript object>"
      ]
     },
     "metadata": {},
     "output_type": "display_data"
    },
    {
     "data": {
      "application/javascript": [
       "\n",
       "        if (window._pyforest_update_imports_cell) { window._pyforest_update_imports_cell('import numpy as np\\nimport glob'); }\n",
       "    "
      ],
      "text/plain": [
       "<IPython.core.display.Javascript object>"
      ]
     },
     "metadata": {},
     "output_type": "display_data"
    },
    {
     "data": {
      "application/javascript": [
       "\n",
       "        if (window._pyforest_update_imports_cell) { window._pyforest_update_imports_cell('import numpy as np\\nimport glob'); }\n",
       "    "
      ],
      "text/plain": [
       "<IPython.core.display.Javascript object>"
      ]
     },
     "metadata": {},
     "output_type": "display_data"
    },
    {
     "data": {
      "application/javascript": [
       "\n",
       "        if (window._pyforest_update_imports_cell) { window._pyforest_update_imports_cell('import numpy as np\\nimport glob'); }\n",
       "    "
      ],
      "text/plain": [
       "<IPython.core.display.Javascript object>"
      ]
     },
     "metadata": {},
     "output_type": "display_data"
    },
    {
     "data": {
      "application/javascript": [
       "\n",
       "        if (window._pyforest_update_imports_cell) { window._pyforest_update_imports_cell('import numpy as np\\nimport glob'); }\n",
       "    "
      ],
      "text/plain": [
       "<IPython.core.display.Javascript object>"
      ]
     },
     "metadata": {},
     "output_type": "display_data"
    },
    {
     "data": {
      "application/javascript": [
       "\n",
       "        if (window._pyforest_update_imports_cell) { window._pyforest_update_imports_cell('import numpy as np\\nimport glob'); }\n",
       "    "
      ],
      "text/plain": [
       "<IPython.core.display.Javascript object>"
      ]
     },
     "metadata": {},
     "output_type": "display_data"
    },
    {
     "data": {
      "application/javascript": [
       "\n",
       "        if (window._pyforest_update_imports_cell) { window._pyforest_update_imports_cell('import numpy as np\\nimport glob'); }\n",
       "    "
      ],
      "text/plain": [
       "<IPython.core.display.Javascript object>"
      ]
     },
     "metadata": {},
     "output_type": "display_data"
    },
    {
     "data": {
      "application/javascript": [
       "\n",
       "        if (window._pyforest_update_imports_cell) { window._pyforest_update_imports_cell('import numpy as np\\nimport glob'); }\n",
       "    "
      ],
      "text/plain": [
       "<IPython.core.display.Javascript object>"
      ]
     },
     "metadata": {},
     "output_type": "display_data"
    },
    {
     "data": {
      "application/javascript": [
       "\n",
       "        if (window._pyforest_update_imports_cell) { window._pyforest_update_imports_cell('import numpy as np\\nimport glob'); }\n",
       "    "
      ],
      "text/plain": [
       "<IPython.core.display.Javascript object>"
      ]
     },
     "metadata": {},
     "output_type": "display_data"
    },
    {
     "data": {
      "application/javascript": [
       "\n",
       "        if (window._pyforest_update_imports_cell) { window._pyforest_update_imports_cell('import numpy as np\\nimport glob'); }\n",
       "    "
      ],
      "text/plain": [
       "<IPython.core.display.Javascript object>"
      ]
     },
     "metadata": {},
     "output_type": "display_data"
    },
    {
     "data": {
      "application/javascript": [
       "\n",
       "        if (window._pyforest_update_imports_cell) { window._pyforest_update_imports_cell('import numpy as np\\nimport glob'); }\n",
       "    "
      ],
      "text/plain": [
       "<IPython.core.display.Javascript object>"
      ]
     },
     "metadata": {},
     "output_type": "display_data"
    },
    {
     "data": {
      "application/javascript": [
       "\n",
       "        if (window._pyforest_update_imports_cell) { window._pyforest_update_imports_cell('import numpy as np\\nimport glob'); }\n",
       "    "
      ],
      "text/plain": [
       "<IPython.core.display.Javascript object>"
      ]
     },
     "metadata": {},
     "output_type": "display_data"
    },
    {
     "data": {
      "application/javascript": [
       "\n",
       "        if (window._pyforest_update_imports_cell) { window._pyforest_update_imports_cell('import numpy as np\\nimport glob'); }\n",
       "    "
      ],
      "text/plain": [
       "<IPython.core.display.Javascript object>"
      ]
     },
     "metadata": {},
     "output_type": "display_data"
    },
    {
     "data": {
      "application/javascript": [
       "\n",
       "        if (window._pyforest_update_imports_cell) { window._pyforest_update_imports_cell('import numpy as np\\nimport glob'); }\n",
       "    "
      ],
      "text/plain": [
       "<IPython.core.display.Javascript object>"
      ]
     },
     "metadata": {},
     "output_type": "display_data"
    },
    {
     "data": {
      "application/javascript": [
       "\n",
       "        if (window._pyforest_update_imports_cell) { window._pyforest_update_imports_cell('import numpy as np\\nimport glob'); }\n",
       "    "
      ],
      "text/plain": [
       "<IPython.core.display.Javascript object>"
      ]
     },
     "metadata": {},
     "output_type": "display_data"
    },
    {
     "data": {
      "application/javascript": [
       "\n",
       "        if (window._pyforest_update_imports_cell) { window._pyforest_update_imports_cell('import numpy as np\\nimport glob'); }\n",
       "    "
      ],
      "text/plain": [
       "<IPython.core.display.Javascript object>"
      ]
     },
     "metadata": {},
     "output_type": "display_data"
    },
    {
     "data": {
      "application/javascript": [
       "\n",
       "        if (window._pyforest_update_imports_cell) { window._pyforest_update_imports_cell('import numpy as np\\nimport glob'); }\n",
       "    "
      ],
      "text/plain": [
       "<IPython.core.display.Javascript object>"
      ]
     },
     "metadata": {},
     "output_type": "display_data"
    },
    {
     "data": {
      "application/javascript": [
       "\n",
       "        if (window._pyforest_update_imports_cell) { window._pyforest_update_imports_cell('import numpy as np\\nimport glob'); }\n",
       "    "
      ],
      "text/plain": [
       "<IPython.core.display.Javascript object>"
      ]
     },
     "metadata": {},
     "output_type": "display_data"
    },
    {
     "data": {
      "application/javascript": [
       "\n",
       "        if (window._pyforest_update_imports_cell) { window._pyforest_update_imports_cell('import numpy as np\\nimport glob'); }\n",
       "    "
      ],
      "text/plain": [
       "<IPython.core.display.Javascript object>"
      ]
     },
     "metadata": {},
     "output_type": "display_data"
    },
    {
     "data": {
      "application/javascript": [
       "\n",
       "        if (window._pyforest_update_imports_cell) { window._pyforest_update_imports_cell('import numpy as np\\nimport glob'); }\n",
       "    "
      ],
      "text/plain": [
       "<IPython.core.display.Javascript object>"
      ]
     },
     "metadata": {},
     "output_type": "display_data"
    },
    {
     "data": {
      "application/javascript": [
       "\n",
       "        if (window._pyforest_update_imports_cell) { window._pyforest_update_imports_cell('import numpy as np\\nimport glob'); }\n",
       "    "
      ],
      "text/plain": [
       "<IPython.core.display.Javascript object>"
      ]
     },
     "metadata": {},
     "output_type": "display_data"
    },
    {
     "data": {
      "application/javascript": [
       "\n",
       "        if (window._pyforest_update_imports_cell) { window._pyforest_update_imports_cell('import numpy as np\\nimport glob'); }\n",
       "    "
      ],
      "text/plain": [
       "<IPython.core.display.Javascript object>"
      ]
     },
     "metadata": {},
     "output_type": "display_data"
    },
    {
     "data": {
      "application/javascript": [
       "\n",
       "        if (window._pyforest_update_imports_cell) { window._pyforest_update_imports_cell('import numpy as np\\nimport glob'); }\n",
       "    "
      ],
      "text/plain": [
       "<IPython.core.display.Javascript object>"
      ]
     },
     "metadata": {},
     "output_type": "display_data"
    },
    {
     "data": {
      "application/javascript": [
       "\n",
       "        if (window._pyforest_update_imports_cell) { window._pyforest_update_imports_cell('import numpy as np\\nimport glob'); }\n",
       "    "
      ],
      "text/plain": [
       "<IPython.core.display.Javascript object>"
      ]
     },
     "metadata": {},
     "output_type": "display_data"
    },
    {
     "data": {
      "application/javascript": [
       "\n",
       "        if (window._pyforest_update_imports_cell) { window._pyforest_update_imports_cell('import numpy as np\\nimport glob'); }\n",
       "    "
      ],
      "text/plain": [
       "<IPython.core.display.Javascript object>"
      ]
     },
     "metadata": {},
     "output_type": "display_data"
    },
    {
     "data": {
      "application/javascript": [
       "\n",
       "        if (window._pyforest_update_imports_cell) { window._pyforest_update_imports_cell('import numpy as np\\nimport glob'); }\n",
       "    "
      ],
      "text/plain": [
       "<IPython.core.display.Javascript object>"
      ]
     },
     "metadata": {},
     "output_type": "display_data"
    },
    {
     "data": {
      "application/javascript": [
       "\n",
       "        if (window._pyforest_update_imports_cell) { window._pyforest_update_imports_cell('import numpy as np\\nimport glob'); }\n",
       "    "
      ],
      "text/plain": [
       "<IPython.core.display.Javascript object>"
      ]
     },
     "metadata": {},
     "output_type": "display_data"
    },
    {
     "data": {
      "application/javascript": [
       "\n",
       "        if (window._pyforest_update_imports_cell) { window._pyforest_update_imports_cell('import numpy as np\\nimport glob'); }\n",
       "    "
      ],
      "text/plain": [
       "<IPython.core.display.Javascript object>"
      ]
     },
     "metadata": {},
     "output_type": "display_data"
    },
    {
     "data": {
      "application/javascript": [
       "\n",
       "        if (window._pyforest_update_imports_cell) { window._pyforest_update_imports_cell('import numpy as np\\nimport glob'); }\n",
       "    "
      ],
      "text/plain": [
       "<IPython.core.display.Javascript object>"
      ]
     },
     "metadata": {},
     "output_type": "display_data"
    },
    {
     "data": {
      "application/javascript": [
       "\n",
       "        if (window._pyforest_update_imports_cell) { window._pyforest_update_imports_cell('import numpy as np\\nimport glob'); }\n",
       "    "
      ],
      "text/plain": [
       "<IPython.core.display.Javascript object>"
      ]
     },
     "metadata": {},
     "output_type": "display_data"
    },
    {
     "data": {
      "application/javascript": [
       "\n",
       "        if (window._pyforest_update_imports_cell) { window._pyforest_update_imports_cell('import numpy as np\\nimport glob'); }\n",
       "    "
      ],
      "text/plain": [
       "<IPython.core.display.Javascript object>"
      ]
     },
     "metadata": {},
     "output_type": "display_data"
    },
    {
     "data": {
      "application/javascript": [
       "\n",
       "        if (window._pyforest_update_imports_cell) { window._pyforest_update_imports_cell('import numpy as np\\nimport glob'); }\n",
       "    "
      ],
      "text/plain": [
       "<IPython.core.display.Javascript object>"
      ]
     },
     "metadata": {},
     "output_type": "display_data"
    },
    {
     "data": {
      "application/javascript": [
       "\n",
       "        if (window._pyforest_update_imports_cell) { window._pyforest_update_imports_cell('import numpy as np\\nimport glob'); }\n",
       "    "
      ],
      "text/plain": [
       "<IPython.core.display.Javascript object>"
      ]
     },
     "metadata": {},
     "output_type": "display_data"
    },
    {
     "data": {
      "application/javascript": [
       "\n",
       "        if (window._pyforest_update_imports_cell) { window._pyforest_update_imports_cell('import numpy as np\\nimport glob'); }\n",
       "    "
      ],
      "text/plain": [
       "<IPython.core.display.Javascript object>"
      ]
     },
     "metadata": {},
     "output_type": "display_data"
    },
    {
     "data": {
      "application/javascript": [
       "\n",
       "        if (window._pyforest_update_imports_cell) { window._pyforest_update_imports_cell('import numpy as np\\nimport glob'); }\n",
       "    "
      ],
      "text/plain": [
       "<IPython.core.display.Javascript object>"
      ]
     },
     "metadata": {},
     "output_type": "display_data"
    },
    {
     "data": {
      "application/javascript": [
       "\n",
       "        if (window._pyforest_update_imports_cell) { window._pyforest_update_imports_cell('import numpy as np\\nimport glob'); }\n",
       "    "
      ],
      "text/plain": [
       "<IPython.core.display.Javascript object>"
      ]
     },
     "metadata": {},
     "output_type": "display_data"
    },
    {
     "data": {
      "application/javascript": [
       "\n",
       "        if (window._pyforest_update_imports_cell) { window._pyforest_update_imports_cell('import numpy as np\\nimport glob'); }\n",
       "    "
      ],
      "text/plain": [
       "<IPython.core.display.Javascript object>"
      ]
     },
     "metadata": {},
     "output_type": "display_data"
    },
    {
     "data": {
      "application/javascript": [
       "\n",
       "        if (window._pyforest_update_imports_cell) { window._pyforest_update_imports_cell('import numpy as np\\nimport glob'); }\n",
       "    "
      ],
      "text/plain": [
       "<IPython.core.display.Javascript object>"
      ]
     },
     "metadata": {},
     "output_type": "display_data"
    },
    {
     "data": {
      "application/javascript": [
       "\n",
       "        if (window._pyforest_update_imports_cell) { window._pyforest_update_imports_cell('import numpy as np\\nimport glob'); }\n",
       "    "
      ],
      "text/plain": [
       "<IPython.core.display.Javascript object>"
      ]
     },
     "metadata": {},
     "output_type": "display_data"
    },
    {
     "data": {
      "application/javascript": [
       "\n",
       "        if (window._pyforest_update_imports_cell) { window._pyforest_update_imports_cell('import numpy as np\\nimport glob'); }\n",
       "    "
      ],
      "text/plain": [
       "<IPython.core.display.Javascript object>"
      ]
     },
     "metadata": {},
     "output_type": "display_data"
    },
    {
     "data": {
      "application/javascript": [
       "\n",
       "        if (window._pyforest_update_imports_cell) { window._pyforest_update_imports_cell('import numpy as np\\nimport glob'); }\n",
       "    "
      ],
      "text/plain": [
       "<IPython.core.display.Javascript object>"
      ]
     },
     "metadata": {},
     "output_type": "display_data"
    },
    {
     "data": {
      "application/javascript": [
       "\n",
       "        if (window._pyforest_update_imports_cell) { window._pyforest_update_imports_cell('import numpy as np\\nimport glob'); }\n",
       "    "
      ],
      "text/plain": [
       "<IPython.core.display.Javascript object>"
      ]
     },
     "metadata": {},
     "output_type": "display_data"
    },
    {
     "data": {
      "application/javascript": [
       "\n",
       "        if (window._pyforest_update_imports_cell) { window._pyforest_update_imports_cell('import numpy as np\\nimport glob'); }\n",
       "    "
      ],
      "text/plain": [
       "<IPython.core.display.Javascript object>"
      ]
     },
     "metadata": {},
     "output_type": "display_data"
    },
    {
     "data": {
      "application/javascript": [
       "\n",
       "        if (window._pyforest_update_imports_cell) { window._pyforest_update_imports_cell('import numpy as np\\nimport glob'); }\n",
       "    "
      ],
      "text/plain": [
       "<IPython.core.display.Javascript object>"
      ]
     },
     "metadata": {},
     "output_type": "display_data"
    },
    {
     "data": {
      "application/javascript": [
       "\n",
       "        if (window._pyforest_update_imports_cell) { window._pyforest_update_imports_cell('import numpy as np\\nimport glob'); }\n",
       "    "
      ],
      "text/plain": [
       "<IPython.core.display.Javascript object>"
      ]
     },
     "metadata": {},
     "output_type": "display_data"
    },
    {
     "data": {
      "application/javascript": [
       "\n",
       "        if (window._pyforest_update_imports_cell) { window._pyforest_update_imports_cell('import numpy as np\\nimport glob'); }\n",
       "    "
      ],
      "text/plain": [
       "<IPython.core.display.Javascript object>"
      ]
     },
     "metadata": {},
     "output_type": "display_data"
    },
    {
     "data": {
      "application/javascript": [
       "\n",
       "        if (window._pyforest_update_imports_cell) { window._pyforest_update_imports_cell('import numpy as np\\nimport glob'); }\n",
       "    "
      ],
      "text/plain": [
       "<IPython.core.display.Javascript object>"
      ]
     },
     "metadata": {},
     "output_type": "display_data"
    },
    {
     "data": {
      "application/javascript": [
       "\n",
       "        if (window._pyforest_update_imports_cell) { window._pyforest_update_imports_cell('import numpy as np\\nimport glob'); }\n",
       "    "
      ],
      "text/plain": [
       "<IPython.core.display.Javascript object>"
      ]
     },
     "metadata": {},
     "output_type": "display_data"
    },
    {
     "data": {
      "application/javascript": [
       "\n",
       "        if (window._pyforest_update_imports_cell) { window._pyforest_update_imports_cell('import numpy as np\\nimport glob'); }\n",
       "    "
      ],
      "text/plain": [
       "<IPython.core.display.Javascript object>"
      ]
     },
     "metadata": {},
     "output_type": "display_data"
    },
    {
     "data": {
      "application/javascript": [
       "\n",
       "        if (window._pyforest_update_imports_cell) { window._pyforest_update_imports_cell('import numpy as np\\nimport glob'); }\n",
       "    "
      ],
      "text/plain": [
       "<IPython.core.display.Javascript object>"
      ]
     },
     "metadata": {},
     "output_type": "display_data"
    },
    {
     "data": {
      "application/javascript": [
       "\n",
       "        if (window._pyforest_update_imports_cell) { window._pyforest_update_imports_cell('import numpy as np\\nimport glob'); }\n",
       "    "
      ],
      "text/plain": [
       "<IPython.core.display.Javascript object>"
      ]
     },
     "metadata": {},
     "output_type": "display_data"
    },
    {
     "data": {
      "application/javascript": [
       "\n",
       "        if (window._pyforest_update_imports_cell) { window._pyforest_update_imports_cell('import numpy as np\\nimport glob'); }\n",
       "    "
      ],
      "text/plain": [
       "<IPython.core.display.Javascript object>"
      ]
     },
     "metadata": {},
     "output_type": "display_data"
    },
    {
     "data": {
      "application/javascript": [
       "\n",
       "        if (window._pyforest_update_imports_cell) { window._pyforest_update_imports_cell('import numpy as np\\nimport glob'); }\n",
       "    "
      ],
      "text/plain": [
       "<IPython.core.display.Javascript object>"
      ]
     },
     "metadata": {},
     "output_type": "display_data"
    },
    {
     "data": {
      "application/javascript": [
       "\n",
       "        if (window._pyforest_update_imports_cell) { window._pyforest_update_imports_cell('import numpy as np\\nimport glob'); }\n",
       "    "
      ],
      "text/plain": [
       "<IPython.core.display.Javascript object>"
      ]
     },
     "metadata": {},
     "output_type": "display_data"
    },
    {
     "data": {
      "application/javascript": [
       "\n",
       "        if (window._pyforest_update_imports_cell) { window._pyforest_update_imports_cell('import numpy as np\\nimport glob'); }\n",
       "    "
      ],
      "text/plain": [
       "<IPython.core.display.Javascript object>"
      ]
     },
     "metadata": {},
     "output_type": "display_data"
    },
    {
     "data": {
      "application/javascript": [
       "\n",
       "        if (window._pyforest_update_imports_cell) { window._pyforest_update_imports_cell('import numpy as np\\nimport glob'); }\n",
       "    "
      ],
      "text/plain": [
       "<IPython.core.display.Javascript object>"
      ]
     },
     "metadata": {},
     "output_type": "display_data"
    },
    {
     "data": {
      "application/javascript": [
       "\n",
       "        if (window._pyforest_update_imports_cell) { window._pyforest_update_imports_cell('import numpy as np\\nimport glob'); }\n",
       "    "
      ],
      "text/plain": [
       "<IPython.core.display.Javascript object>"
      ]
     },
     "metadata": {},
     "output_type": "display_data"
    },
    {
     "data": {
      "application/javascript": [
       "\n",
       "        if (window._pyforest_update_imports_cell) { window._pyforest_update_imports_cell('import numpy as np\\nimport glob'); }\n",
       "    "
      ],
      "text/plain": [
       "<IPython.core.display.Javascript object>"
      ]
     },
     "metadata": {},
     "output_type": "display_data"
    },
    {
     "data": {
      "application/javascript": [
       "\n",
       "        if (window._pyforest_update_imports_cell) { window._pyforest_update_imports_cell('import numpy as np\\nimport glob'); }\n",
       "    "
      ],
      "text/plain": [
       "<IPython.core.display.Javascript object>"
      ]
     },
     "metadata": {},
     "output_type": "display_data"
    },
    {
     "data": {
      "application/javascript": [
       "\n",
       "        if (window._pyforest_update_imports_cell) { window._pyforest_update_imports_cell('import numpy as np\\nimport glob'); }\n",
       "    "
      ],
      "text/plain": [
       "<IPython.core.display.Javascript object>"
      ]
     },
     "metadata": {},
     "output_type": "display_data"
    },
    {
     "data": {
      "application/javascript": [
       "\n",
       "        if (window._pyforest_update_imports_cell) { window._pyforest_update_imports_cell('import numpy as np\\nimport glob'); }\n",
       "    "
      ],
      "text/plain": [
       "<IPython.core.display.Javascript object>"
      ]
     },
     "metadata": {},
     "output_type": "display_data"
    },
    {
     "data": {
      "application/javascript": [
       "\n",
       "        if (window._pyforest_update_imports_cell) { window._pyforest_update_imports_cell('import numpy as np\\nimport glob'); }\n",
       "    "
      ],
      "text/plain": [
       "<IPython.core.display.Javascript object>"
      ]
     },
     "metadata": {},
     "output_type": "display_data"
    },
    {
     "data": {
      "application/javascript": [
       "\n",
       "        if (window._pyforest_update_imports_cell) { window._pyforest_update_imports_cell('import numpy as np\\nimport glob'); }\n",
       "    "
      ],
      "text/plain": [
       "<IPython.core.display.Javascript object>"
      ]
     },
     "metadata": {},
     "output_type": "display_data"
    },
    {
     "data": {
      "application/javascript": [
       "\n",
       "        if (window._pyforest_update_imports_cell) { window._pyforest_update_imports_cell('import numpy as np\\nimport glob'); }\n",
       "    "
      ],
      "text/plain": [
       "<IPython.core.display.Javascript object>"
      ]
     },
     "metadata": {},
     "output_type": "display_data"
    },
    {
     "data": {
      "application/javascript": [
       "\n",
       "        if (window._pyforest_update_imports_cell) { window._pyforest_update_imports_cell('import numpy as np\\nimport glob'); }\n",
       "    "
      ],
      "text/plain": [
       "<IPython.core.display.Javascript object>"
      ]
     },
     "metadata": {},
     "output_type": "display_data"
    },
    {
     "data": {
      "application/javascript": [
       "\n",
       "        if (window._pyforest_update_imports_cell) { window._pyforest_update_imports_cell('import numpy as np\\nimport glob'); }\n",
       "    "
      ],
      "text/plain": [
       "<IPython.core.display.Javascript object>"
      ]
     },
     "metadata": {},
     "output_type": "display_data"
    },
    {
     "data": {
      "application/javascript": [
       "\n",
       "        if (window._pyforest_update_imports_cell) { window._pyforest_update_imports_cell('import numpy as np\\nimport glob'); }\n",
       "    "
      ],
      "text/plain": [
       "<IPython.core.display.Javascript object>"
      ]
     },
     "metadata": {},
     "output_type": "display_data"
    },
    {
     "data": {
      "application/javascript": [
       "\n",
       "        if (window._pyforest_update_imports_cell) { window._pyforest_update_imports_cell('import numpy as np\\nimport glob'); }\n",
       "    "
      ],
      "text/plain": [
       "<IPython.core.display.Javascript object>"
      ]
     },
     "metadata": {},
     "output_type": "display_data"
    },
    {
     "data": {
      "application/javascript": [
       "\n",
       "        if (window._pyforest_update_imports_cell) { window._pyforest_update_imports_cell('import numpy as np\\nimport glob'); }\n",
       "    "
      ],
      "text/plain": [
       "<IPython.core.display.Javascript object>"
      ]
     },
     "metadata": {},
     "output_type": "display_data"
    },
    {
     "data": {
      "application/javascript": [
       "\n",
       "        if (window._pyforest_update_imports_cell) { window._pyforest_update_imports_cell('import numpy as np\\nimport glob'); }\n",
       "    "
      ],
      "text/plain": [
       "<IPython.core.display.Javascript object>"
      ]
     },
     "metadata": {},
     "output_type": "display_data"
    },
    {
     "data": {
      "application/javascript": [
       "\n",
       "        if (window._pyforest_update_imports_cell) { window._pyforest_update_imports_cell('import numpy as np\\nimport glob'); }\n",
       "    "
      ],
      "text/plain": [
       "<IPython.core.display.Javascript object>"
      ]
     },
     "metadata": {},
     "output_type": "display_data"
    },
    {
     "data": {
      "application/javascript": [
       "\n",
       "        if (window._pyforest_update_imports_cell) { window._pyforest_update_imports_cell('import numpy as np\\nimport glob'); }\n",
       "    "
      ],
      "text/plain": [
       "<IPython.core.display.Javascript object>"
      ]
     },
     "metadata": {},
     "output_type": "display_data"
    },
    {
     "data": {
      "application/javascript": [
       "\n",
       "        if (window._pyforest_update_imports_cell) { window._pyforest_update_imports_cell('import numpy as np\\nimport glob'); }\n",
       "    "
      ],
      "text/plain": [
       "<IPython.core.display.Javascript object>"
      ]
     },
     "metadata": {},
     "output_type": "display_data"
    },
    {
     "data": {
      "application/javascript": [
       "\n",
       "        if (window._pyforest_update_imports_cell) { window._pyforest_update_imports_cell('import numpy as np\\nimport glob'); }\n",
       "    "
      ],
      "text/plain": [
       "<IPython.core.display.Javascript object>"
      ]
     },
     "metadata": {},
     "output_type": "display_data"
    },
    {
     "data": {
      "application/javascript": [
       "\n",
       "        if (window._pyforest_update_imports_cell) { window._pyforest_update_imports_cell('import numpy as np\\nimport glob'); }\n",
       "    "
      ],
      "text/plain": [
       "<IPython.core.display.Javascript object>"
      ]
     },
     "metadata": {},
     "output_type": "display_data"
    },
    {
     "data": {
      "application/javascript": [
       "\n",
       "        if (window._pyforest_update_imports_cell) { window._pyforest_update_imports_cell('import numpy as np\\nimport glob'); }\n",
       "    "
      ],
      "text/plain": [
       "<IPython.core.display.Javascript object>"
      ]
     },
     "metadata": {},
     "output_type": "display_data"
    },
    {
     "data": {
      "application/javascript": [
       "\n",
       "        if (window._pyforest_update_imports_cell) { window._pyforest_update_imports_cell('import numpy as np\\nimport glob'); }\n",
       "    "
      ],
      "text/plain": [
       "<IPython.core.display.Javascript object>"
      ]
     },
     "metadata": {},
     "output_type": "display_data"
    },
    {
     "data": {
      "application/javascript": [
       "\n",
       "        if (window._pyforest_update_imports_cell) { window._pyforest_update_imports_cell('import numpy as np\\nimport glob'); }\n",
       "    "
      ],
      "text/plain": [
       "<IPython.core.display.Javascript object>"
      ]
     },
     "metadata": {},
     "output_type": "display_data"
    },
    {
     "data": {
      "application/javascript": [
       "\n",
       "        if (window._pyforest_update_imports_cell) { window._pyforest_update_imports_cell('import numpy as np\\nimport glob'); }\n",
       "    "
      ],
      "text/plain": [
       "<IPython.core.display.Javascript object>"
      ]
     },
     "metadata": {},
     "output_type": "display_data"
    },
    {
     "data": {
      "application/javascript": [
       "\n",
       "        if (window._pyforest_update_imports_cell) { window._pyforest_update_imports_cell('import numpy as np\\nimport glob'); }\n",
       "    "
      ],
      "text/plain": [
       "<IPython.core.display.Javascript object>"
      ]
     },
     "metadata": {},
     "output_type": "display_data"
    },
    {
     "data": {
      "application/javascript": [
       "\n",
       "        if (window._pyforest_update_imports_cell) { window._pyforest_update_imports_cell('import numpy as np\\nimport glob'); }\n",
       "    "
      ],
      "text/plain": [
       "<IPython.core.display.Javascript object>"
      ]
     },
     "metadata": {},
     "output_type": "display_data"
    },
    {
     "data": {
      "application/javascript": [
       "\n",
       "        if (window._pyforest_update_imports_cell) { window._pyforest_update_imports_cell('import numpy as np\\nimport glob'); }\n",
       "    "
      ],
      "text/plain": [
       "<IPython.core.display.Javascript object>"
      ]
     },
     "metadata": {},
     "output_type": "display_data"
    },
    {
     "data": {
      "application/javascript": [
       "\n",
       "        if (window._pyforest_update_imports_cell) { window._pyforest_update_imports_cell('import numpy as np\\nimport glob'); }\n",
       "    "
      ],
      "text/plain": [
       "<IPython.core.display.Javascript object>"
      ]
     },
     "metadata": {},
     "output_type": "display_data"
    },
    {
     "data": {
      "application/javascript": [
       "\n",
       "        if (window._pyforest_update_imports_cell) { window._pyforest_update_imports_cell('import numpy as np\\nimport glob'); }\n",
       "    "
      ],
      "text/plain": [
       "<IPython.core.display.Javascript object>"
      ]
     },
     "metadata": {},
     "output_type": "display_data"
    },
    {
     "data": {
      "application/javascript": [
       "\n",
       "        if (window._pyforest_update_imports_cell) { window._pyforest_update_imports_cell('import numpy as np\\nimport glob'); }\n",
       "    "
      ],
      "text/plain": [
       "<IPython.core.display.Javascript object>"
      ]
     },
     "metadata": {},
     "output_type": "display_data"
    },
    {
     "data": {
      "application/javascript": [
       "\n",
       "        if (window._pyforest_update_imports_cell) { window._pyforest_update_imports_cell('import numpy as np\\nimport glob'); }\n",
       "    "
      ],
      "text/plain": [
       "<IPython.core.display.Javascript object>"
      ]
     },
     "metadata": {},
     "output_type": "display_data"
    },
    {
     "data": {
      "application/javascript": [
       "\n",
       "        if (window._pyforest_update_imports_cell) { window._pyforest_update_imports_cell('import numpy as np\\nimport glob'); }\n",
       "    "
      ],
      "text/plain": [
       "<IPython.core.display.Javascript object>"
      ]
     },
     "metadata": {},
     "output_type": "display_data"
    },
    {
     "data": {
      "application/javascript": [
       "\n",
       "        if (window._pyforest_update_imports_cell) { window._pyforest_update_imports_cell('import numpy as np\\nimport glob'); }\n",
       "    "
      ],
      "text/plain": [
       "<IPython.core.display.Javascript object>"
      ]
     },
     "metadata": {},
     "output_type": "display_data"
    },
    {
     "data": {
      "application/javascript": [
       "\n",
       "        if (window._pyforest_update_imports_cell) { window._pyforest_update_imports_cell('import numpy as np\\nimport glob'); }\n",
       "    "
      ],
      "text/plain": [
       "<IPython.core.display.Javascript object>"
      ]
     },
     "metadata": {},
     "output_type": "display_data"
    },
    {
     "data": {
      "application/javascript": [
       "\n",
       "        if (window._pyforest_update_imports_cell) { window._pyforest_update_imports_cell('import numpy as np\\nimport glob'); }\n",
       "    "
      ],
      "text/plain": [
       "<IPython.core.display.Javascript object>"
      ]
     },
     "metadata": {},
     "output_type": "display_data"
    },
    {
     "data": {
      "application/javascript": [
       "\n",
       "        if (window._pyforest_update_imports_cell) { window._pyforest_update_imports_cell('import numpy as np\\nimport glob'); }\n",
       "    "
      ],
      "text/plain": [
       "<IPython.core.display.Javascript object>"
      ]
     },
     "metadata": {},
     "output_type": "display_data"
    },
    {
     "data": {
      "application/javascript": [
       "\n",
       "        if (window._pyforest_update_imports_cell) { window._pyforest_update_imports_cell('import numpy as np\\nimport glob'); }\n",
       "    "
      ],
      "text/plain": [
       "<IPython.core.display.Javascript object>"
      ]
     },
     "metadata": {},
     "output_type": "display_data"
    },
    {
     "data": {
      "application/javascript": [
       "\n",
       "        if (window._pyforest_update_imports_cell) { window._pyforest_update_imports_cell('import numpy as np\\nimport glob'); }\n",
       "    "
      ],
      "text/plain": [
       "<IPython.core.display.Javascript object>"
      ]
     },
     "metadata": {},
     "output_type": "display_data"
    },
    {
     "data": {
      "application/javascript": [
       "\n",
       "        if (window._pyforest_update_imports_cell) { window._pyforest_update_imports_cell('import numpy as np\\nimport glob'); }\n",
       "    "
      ],
      "text/plain": [
       "<IPython.core.display.Javascript object>"
      ]
     },
     "metadata": {},
     "output_type": "display_data"
    },
    {
     "data": {
      "application/javascript": [
       "\n",
       "        if (window._pyforest_update_imports_cell) { window._pyforest_update_imports_cell('import numpy as np\\nimport glob'); }\n",
       "    "
      ],
      "text/plain": [
       "<IPython.core.display.Javascript object>"
      ]
     },
     "metadata": {},
     "output_type": "display_data"
    },
    {
     "data": {
      "application/javascript": [
       "\n",
       "        if (window._pyforest_update_imports_cell) { window._pyforest_update_imports_cell('import numpy as np\\nimport glob'); }\n",
       "    "
      ],
      "text/plain": [
       "<IPython.core.display.Javascript object>"
      ]
     },
     "metadata": {},
     "output_type": "display_data"
    },
    {
     "data": {
      "application/javascript": [
       "\n",
       "        if (window._pyforest_update_imports_cell) { window._pyforest_update_imports_cell('import numpy as np\\nimport glob'); }\n",
       "    "
      ],
      "text/plain": [
       "<IPython.core.display.Javascript object>"
      ]
     },
     "metadata": {},
     "output_type": "display_data"
    },
    {
     "data": {
      "application/javascript": [
       "\n",
       "        if (window._pyforest_update_imports_cell) { window._pyforest_update_imports_cell('import numpy as np\\nimport glob'); }\n",
       "    "
      ],
      "text/plain": [
       "<IPython.core.display.Javascript object>"
      ]
     },
     "metadata": {},
     "output_type": "display_data"
    },
    {
     "data": {
      "application/javascript": [
       "\n",
       "        if (window._pyforest_update_imports_cell) { window._pyforest_update_imports_cell('import numpy as np\\nimport glob'); }\n",
       "    "
      ],
      "text/plain": [
       "<IPython.core.display.Javascript object>"
      ]
     },
     "metadata": {},
     "output_type": "display_data"
    },
    {
     "data": {
      "application/javascript": [
       "\n",
       "        if (window._pyforest_update_imports_cell) { window._pyforest_update_imports_cell('import numpy as np\\nimport glob'); }\n",
       "    "
      ],
      "text/plain": [
       "<IPython.core.display.Javascript object>"
      ]
     },
     "metadata": {},
     "output_type": "display_data"
    },
    {
     "data": {
      "application/javascript": [
       "\n",
       "        if (window._pyforest_update_imports_cell) { window._pyforest_update_imports_cell('import numpy as np\\nimport glob'); }\n",
       "    "
      ],
      "text/plain": [
       "<IPython.core.display.Javascript object>"
      ]
     },
     "metadata": {},
     "output_type": "display_data"
    },
    {
     "data": {
      "application/javascript": [
       "\n",
       "        if (window._pyforest_update_imports_cell) { window._pyforest_update_imports_cell('import numpy as np\\nimport glob'); }\n",
       "    "
      ],
      "text/plain": [
       "<IPython.core.display.Javascript object>"
      ]
     },
     "metadata": {},
     "output_type": "display_data"
    },
    {
     "data": {
      "application/javascript": [
       "\n",
       "        if (window._pyforest_update_imports_cell) { window._pyforest_update_imports_cell('import numpy as np\\nimport glob'); }\n",
       "    "
      ],
      "text/plain": [
       "<IPython.core.display.Javascript object>"
      ]
     },
     "metadata": {},
     "output_type": "display_data"
    },
    {
     "data": {
      "application/javascript": [
       "\n",
       "        if (window._pyforest_update_imports_cell) { window._pyforest_update_imports_cell('import numpy as np\\nimport glob'); }\n",
       "    "
      ],
      "text/plain": [
       "<IPython.core.display.Javascript object>"
      ]
     },
     "metadata": {},
     "output_type": "display_data"
    },
    {
     "data": {
      "application/javascript": [
       "\n",
       "        if (window._pyforest_update_imports_cell) { window._pyforest_update_imports_cell('import numpy as np\\nimport glob'); }\n",
       "    "
      ],
      "text/plain": [
       "<IPython.core.display.Javascript object>"
      ]
     },
     "metadata": {},
     "output_type": "display_data"
    },
    {
     "data": {
      "application/javascript": [
       "\n",
       "        if (window._pyforest_update_imports_cell) { window._pyforest_update_imports_cell('import numpy as np\\nimport glob'); }\n",
       "    "
      ],
      "text/plain": [
       "<IPython.core.display.Javascript object>"
      ]
     },
     "metadata": {},
     "output_type": "display_data"
    },
    {
     "data": {
      "application/javascript": [
       "\n",
       "        if (window._pyforest_update_imports_cell) { window._pyforest_update_imports_cell('import numpy as np\\nimport glob'); }\n",
       "    "
      ],
      "text/plain": [
       "<IPython.core.display.Javascript object>"
      ]
     },
     "metadata": {},
     "output_type": "display_data"
    },
    {
     "data": {
      "application/javascript": [
       "\n",
       "        if (window._pyforest_update_imports_cell) { window._pyforest_update_imports_cell('import numpy as np\\nimport glob'); }\n",
       "    "
      ],
      "text/plain": [
       "<IPython.core.display.Javascript object>"
      ]
     },
     "metadata": {},
     "output_type": "display_data"
    },
    {
     "data": {
      "application/javascript": [
       "\n",
       "        if (window._pyforest_update_imports_cell) { window._pyforest_update_imports_cell('import numpy as np\\nimport glob'); }\n",
       "    "
      ],
      "text/plain": [
       "<IPython.core.display.Javascript object>"
      ]
     },
     "metadata": {},
     "output_type": "display_data"
    },
    {
     "data": {
      "application/javascript": [
       "\n",
       "        if (window._pyforest_update_imports_cell) { window._pyforest_update_imports_cell('import numpy as np\\nimport glob'); }\n",
       "    "
      ],
      "text/plain": [
       "<IPython.core.display.Javascript object>"
      ]
     },
     "metadata": {},
     "output_type": "display_data"
    },
    {
     "data": {
      "application/javascript": [
       "\n",
       "        if (window._pyforest_update_imports_cell) { window._pyforest_update_imports_cell('import numpy as np\\nimport glob'); }\n",
       "    "
      ],
      "text/plain": [
       "<IPython.core.display.Javascript object>"
      ]
     },
     "metadata": {},
     "output_type": "display_data"
    },
    {
     "data": {
      "application/javascript": [
       "\n",
       "        if (window._pyforest_update_imports_cell) { window._pyforest_update_imports_cell('import numpy as np\\nimport glob'); }\n",
       "    "
      ],
      "text/plain": [
       "<IPython.core.display.Javascript object>"
      ]
     },
     "metadata": {},
     "output_type": "display_data"
    },
    {
     "data": {
      "application/javascript": [
       "\n",
       "        if (window._pyforest_update_imports_cell) { window._pyforest_update_imports_cell('import numpy as np\\nimport glob'); }\n",
       "    "
      ],
      "text/plain": [
       "<IPython.core.display.Javascript object>"
      ]
     },
     "metadata": {},
     "output_type": "display_data"
    },
    {
     "data": {
      "application/javascript": [
       "\n",
       "        if (window._pyforest_update_imports_cell) { window._pyforest_update_imports_cell('import numpy as np\\nimport glob'); }\n",
       "    "
      ],
      "text/plain": [
       "<IPython.core.display.Javascript object>"
      ]
     },
     "metadata": {},
     "output_type": "display_data"
    },
    {
     "data": {
      "application/javascript": [
       "\n",
       "        if (window._pyforest_update_imports_cell) { window._pyforest_update_imports_cell('import numpy as np\\nimport glob'); }\n",
       "    "
      ],
      "text/plain": [
       "<IPython.core.display.Javascript object>"
      ]
     },
     "metadata": {},
     "output_type": "display_data"
    },
    {
     "data": {
      "application/javascript": [
       "\n",
       "        if (window._pyforest_update_imports_cell) { window._pyforest_update_imports_cell('import numpy as np\\nimport glob'); }\n",
       "    "
      ],
      "text/plain": [
       "<IPython.core.display.Javascript object>"
      ]
     },
     "metadata": {},
     "output_type": "display_data"
    },
    {
     "data": {
      "application/javascript": [
       "\n",
       "        if (window._pyforest_update_imports_cell) { window._pyforest_update_imports_cell('import numpy as np\\nimport glob'); }\n",
       "    "
      ],
      "text/plain": [
       "<IPython.core.display.Javascript object>"
      ]
     },
     "metadata": {},
     "output_type": "display_data"
    },
    {
     "data": {
      "application/javascript": [
       "\n",
       "        if (window._pyforest_update_imports_cell) { window._pyforest_update_imports_cell('import numpy as np\\nimport glob'); }\n",
       "    "
      ],
      "text/plain": [
       "<IPython.core.display.Javascript object>"
      ]
     },
     "metadata": {},
     "output_type": "display_data"
    },
    {
     "data": {
      "application/javascript": [
       "\n",
       "        if (window._pyforest_update_imports_cell) { window._pyforest_update_imports_cell('import numpy as np\\nimport glob'); }\n",
       "    "
      ],
      "text/plain": [
       "<IPython.core.display.Javascript object>"
      ]
     },
     "metadata": {},
     "output_type": "display_data"
    },
    {
     "data": {
      "application/javascript": [
       "\n",
       "        if (window._pyforest_update_imports_cell) { window._pyforest_update_imports_cell('import numpy as np\\nimport glob'); }\n",
       "    "
      ],
      "text/plain": [
       "<IPython.core.display.Javascript object>"
      ]
     },
     "metadata": {},
     "output_type": "display_data"
    },
    {
     "data": {
      "application/javascript": [
       "\n",
       "        if (window._pyforest_update_imports_cell) { window._pyforest_update_imports_cell('import numpy as np\\nimport glob'); }\n",
       "    "
      ],
      "text/plain": [
       "<IPython.core.display.Javascript object>"
      ]
     },
     "metadata": {},
     "output_type": "display_data"
    },
    {
     "data": {
      "application/javascript": [
       "\n",
       "        if (window._pyforest_update_imports_cell) { window._pyforest_update_imports_cell('import numpy as np\\nimport glob'); }\n",
       "    "
      ],
      "text/plain": [
       "<IPython.core.display.Javascript object>"
      ]
     },
     "metadata": {},
     "output_type": "display_data"
    },
    {
     "data": {
      "application/javascript": [
       "\n",
       "        if (window._pyforest_update_imports_cell) { window._pyforest_update_imports_cell('import numpy as np\\nimport glob'); }\n",
       "    "
      ],
      "text/plain": [
       "<IPython.core.display.Javascript object>"
      ]
     },
     "metadata": {},
     "output_type": "display_data"
    },
    {
     "data": {
      "application/javascript": [
       "\n",
       "        if (window._pyforest_update_imports_cell) { window._pyforest_update_imports_cell('import numpy as np\\nimport glob'); }\n",
       "    "
      ],
      "text/plain": [
       "<IPython.core.display.Javascript object>"
      ]
     },
     "metadata": {},
     "output_type": "display_data"
    },
    {
     "data": {
      "application/javascript": [
       "\n",
       "        if (window._pyforest_update_imports_cell) { window._pyforest_update_imports_cell('import numpy as np\\nimport glob'); }\n",
       "    "
      ],
      "text/plain": [
       "<IPython.core.display.Javascript object>"
      ]
     },
     "metadata": {},
     "output_type": "display_data"
    },
    {
     "data": {
      "application/javascript": [
       "\n",
       "        if (window._pyforest_update_imports_cell) { window._pyforest_update_imports_cell('import numpy as np\\nimport glob'); }\n",
       "    "
      ],
      "text/plain": [
       "<IPython.core.display.Javascript object>"
      ]
     },
     "metadata": {},
     "output_type": "display_data"
    },
    {
     "data": {
      "application/javascript": [
       "\n",
       "        if (window._pyforest_update_imports_cell) { window._pyforest_update_imports_cell('import numpy as np\\nimport glob'); }\n",
       "    "
      ],
      "text/plain": [
       "<IPython.core.display.Javascript object>"
      ]
     },
     "metadata": {},
     "output_type": "display_data"
    },
    {
     "data": {
      "application/javascript": [
       "\n",
       "        if (window._pyforest_update_imports_cell) { window._pyforest_update_imports_cell('import numpy as np\\nimport glob'); }\n",
       "    "
      ],
      "text/plain": [
       "<IPython.core.display.Javascript object>"
      ]
     },
     "metadata": {},
     "output_type": "display_data"
    },
    {
     "data": {
      "application/javascript": [
       "\n",
       "        if (window._pyforest_update_imports_cell) { window._pyforest_update_imports_cell('import numpy as np\\nimport glob'); }\n",
       "    "
      ],
      "text/plain": [
       "<IPython.core.display.Javascript object>"
      ]
     },
     "metadata": {},
     "output_type": "display_data"
    },
    {
     "data": {
      "application/javascript": [
       "\n",
       "        if (window._pyforest_update_imports_cell) { window._pyforest_update_imports_cell('import numpy as np\\nimport glob'); }\n",
       "    "
      ],
      "text/plain": [
       "<IPython.core.display.Javascript object>"
      ]
     },
     "metadata": {},
     "output_type": "display_data"
    },
    {
     "data": {
      "application/javascript": [
       "\n",
       "        if (window._pyforest_update_imports_cell) { window._pyforest_update_imports_cell('import numpy as np\\nimport glob'); }\n",
       "    "
      ],
      "text/plain": [
       "<IPython.core.display.Javascript object>"
      ]
     },
     "metadata": {},
     "output_type": "display_data"
    },
    {
     "data": {
      "application/javascript": [
       "\n",
       "        if (window._pyforest_update_imports_cell) { window._pyforest_update_imports_cell('import numpy as np\\nimport glob'); }\n",
       "    "
      ],
      "text/plain": [
       "<IPython.core.display.Javascript object>"
      ]
     },
     "metadata": {},
     "output_type": "display_data"
    },
    {
     "data": {
      "application/javascript": [
       "\n",
       "        if (window._pyforest_update_imports_cell) { window._pyforest_update_imports_cell('import numpy as np\\nimport glob'); }\n",
       "    "
      ],
      "text/plain": [
       "<IPython.core.display.Javascript object>"
      ]
     },
     "metadata": {},
     "output_type": "display_data"
    },
    {
     "data": {
      "application/javascript": [
       "\n",
       "        if (window._pyforest_update_imports_cell) { window._pyforest_update_imports_cell('import numpy as np\\nimport glob'); }\n",
       "    "
      ],
      "text/plain": [
       "<IPython.core.display.Javascript object>"
      ]
     },
     "metadata": {},
     "output_type": "display_data"
    },
    {
     "data": {
      "application/javascript": [
       "\n",
       "        if (window._pyforest_update_imports_cell) { window._pyforest_update_imports_cell('import numpy as np\\nimport glob'); }\n",
       "    "
      ],
      "text/plain": [
       "<IPython.core.display.Javascript object>"
      ]
     },
     "metadata": {},
     "output_type": "display_data"
    },
    {
     "data": {
      "application/javascript": [
       "\n",
       "        if (window._pyforest_update_imports_cell) { window._pyforest_update_imports_cell('import numpy as np\\nimport glob'); }\n",
       "    "
      ],
      "text/plain": [
       "<IPython.core.display.Javascript object>"
      ]
     },
     "metadata": {},
     "output_type": "display_data"
    },
    {
     "data": {
      "application/javascript": [
       "\n",
       "        if (window._pyforest_update_imports_cell) { window._pyforest_update_imports_cell('import numpy as np\\nimport glob'); }\n",
       "    "
      ],
      "text/plain": [
       "<IPython.core.display.Javascript object>"
      ]
     },
     "metadata": {},
     "output_type": "display_data"
    },
    {
     "data": {
      "application/javascript": [
       "\n",
       "        if (window._pyforest_update_imports_cell) { window._pyforest_update_imports_cell('import numpy as np\\nimport glob'); }\n",
       "    "
      ],
      "text/plain": [
       "<IPython.core.display.Javascript object>"
      ]
     },
     "metadata": {},
     "output_type": "display_data"
    },
    {
     "data": {
      "application/javascript": [
       "\n",
       "        if (window._pyforest_update_imports_cell) { window._pyforest_update_imports_cell('import numpy as np\\nimport glob'); }\n",
       "    "
      ],
      "text/plain": [
       "<IPython.core.display.Javascript object>"
      ]
     },
     "metadata": {},
     "output_type": "display_data"
    },
    {
     "data": {
      "application/javascript": [
       "\n",
       "        if (window._pyforest_update_imports_cell) { window._pyforest_update_imports_cell('import numpy as np\\nimport glob'); }\n",
       "    "
      ],
      "text/plain": [
       "<IPython.core.display.Javascript object>"
      ]
     },
     "metadata": {},
     "output_type": "display_data"
    },
    {
     "data": {
      "application/javascript": [
       "\n",
       "        if (window._pyforest_update_imports_cell) { window._pyforest_update_imports_cell('import numpy as np\\nimport glob'); }\n",
       "    "
      ],
      "text/plain": [
       "<IPython.core.display.Javascript object>"
      ]
     },
     "metadata": {},
     "output_type": "display_data"
    },
    {
     "data": {
      "application/javascript": [
       "\n",
       "        if (window._pyforest_update_imports_cell) { window._pyforest_update_imports_cell('import numpy as np\\nimport glob'); }\n",
       "    "
      ],
      "text/plain": [
       "<IPython.core.display.Javascript object>"
      ]
     },
     "metadata": {},
     "output_type": "display_data"
    },
    {
     "data": {
      "application/javascript": [
       "\n",
       "        if (window._pyforest_update_imports_cell) { window._pyforest_update_imports_cell('import numpy as np\\nimport glob'); }\n",
       "    "
      ],
      "text/plain": [
       "<IPython.core.display.Javascript object>"
      ]
     },
     "metadata": {},
     "output_type": "display_data"
    },
    {
     "data": {
      "application/javascript": [
       "\n",
       "        if (window._pyforest_update_imports_cell) { window._pyforest_update_imports_cell('import numpy as np\\nimport glob'); }\n",
       "    "
      ],
      "text/plain": [
       "<IPython.core.display.Javascript object>"
      ]
     },
     "metadata": {},
     "output_type": "display_data"
    },
    {
     "data": {
      "application/javascript": [
       "\n",
       "        if (window._pyforest_update_imports_cell) { window._pyforest_update_imports_cell('import numpy as np\\nimport glob'); }\n",
       "    "
      ],
      "text/plain": [
       "<IPython.core.display.Javascript object>"
      ]
     },
     "metadata": {},
     "output_type": "display_data"
    },
    {
     "data": {
      "application/javascript": [
       "\n",
       "        if (window._pyforest_update_imports_cell) { window._pyforest_update_imports_cell('import numpy as np\\nimport glob'); }\n",
       "    "
      ],
      "text/plain": [
       "<IPython.core.display.Javascript object>"
      ]
     },
     "metadata": {},
     "output_type": "display_data"
    },
    {
     "data": {
      "application/javascript": [
       "\n",
       "        if (window._pyforest_update_imports_cell) { window._pyforest_update_imports_cell('import numpy as np\\nimport glob'); }\n",
       "    "
      ],
      "text/plain": [
       "<IPython.core.display.Javascript object>"
      ]
     },
     "metadata": {},
     "output_type": "display_data"
    },
    {
     "data": {
      "application/javascript": [
       "\n",
       "        if (window._pyforest_update_imports_cell) { window._pyforest_update_imports_cell('import numpy as np\\nimport glob'); }\n",
       "    "
      ],
      "text/plain": [
       "<IPython.core.display.Javascript object>"
      ]
     },
     "metadata": {},
     "output_type": "display_data"
    },
    {
     "data": {
      "application/javascript": [
       "\n",
       "        if (window._pyforest_update_imports_cell) { window._pyforest_update_imports_cell('import numpy as np\\nimport glob'); }\n",
       "    "
      ],
      "text/plain": [
       "<IPython.core.display.Javascript object>"
      ]
     },
     "metadata": {},
     "output_type": "display_data"
    },
    {
     "data": {
      "application/javascript": [
       "\n",
       "        if (window._pyforest_update_imports_cell) { window._pyforest_update_imports_cell('import numpy as np\\nimport glob'); }\n",
       "    "
      ],
      "text/plain": [
       "<IPython.core.display.Javascript object>"
      ]
     },
     "metadata": {},
     "output_type": "display_data"
    },
    {
     "data": {
      "application/javascript": [
       "\n",
       "        if (window._pyforest_update_imports_cell) { window._pyforest_update_imports_cell('import numpy as np\\nimport glob'); }\n",
       "    "
      ],
      "text/plain": [
       "<IPython.core.display.Javascript object>"
      ]
     },
     "metadata": {},
     "output_type": "display_data"
    },
    {
     "data": {
      "application/javascript": [
       "\n",
       "        if (window._pyforest_update_imports_cell) { window._pyforest_update_imports_cell('import numpy as np\\nimport glob'); }\n",
       "    "
      ],
      "text/plain": [
       "<IPython.core.display.Javascript object>"
      ]
     },
     "metadata": {},
     "output_type": "display_data"
    },
    {
     "data": {
      "application/javascript": [
       "\n",
       "        if (window._pyforest_update_imports_cell) { window._pyforest_update_imports_cell('import numpy as np\\nimport glob'); }\n",
       "    "
      ],
      "text/plain": [
       "<IPython.core.display.Javascript object>"
      ]
     },
     "metadata": {},
     "output_type": "display_data"
    },
    {
     "data": {
      "application/javascript": [
       "\n",
       "        if (window._pyforest_update_imports_cell) { window._pyforest_update_imports_cell('import numpy as np\\nimport glob'); }\n",
       "    "
      ],
      "text/plain": [
       "<IPython.core.display.Javascript object>"
      ]
     },
     "metadata": {},
     "output_type": "display_data"
    },
    {
     "data": {
      "application/javascript": [
       "\n",
       "        if (window._pyforest_update_imports_cell) { window._pyforest_update_imports_cell('import numpy as np\\nimport glob'); }\n",
       "    "
      ],
      "text/plain": [
       "<IPython.core.display.Javascript object>"
      ]
     },
     "metadata": {},
     "output_type": "display_data"
    },
    {
     "data": {
      "application/javascript": [
       "\n",
       "        if (window._pyforest_update_imports_cell) { window._pyforest_update_imports_cell('import numpy as np\\nimport glob'); }\n",
       "    "
      ],
      "text/plain": [
       "<IPython.core.display.Javascript object>"
      ]
     },
     "metadata": {},
     "output_type": "display_data"
    },
    {
     "data": {
      "application/javascript": [
       "\n",
       "        if (window._pyforest_update_imports_cell) { window._pyforest_update_imports_cell('import numpy as np\\nimport glob'); }\n",
       "    "
      ],
      "text/plain": [
       "<IPython.core.display.Javascript object>"
      ]
     },
     "metadata": {},
     "output_type": "display_data"
    },
    {
     "data": {
      "application/javascript": [
       "\n",
       "        if (window._pyforest_update_imports_cell) { window._pyforest_update_imports_cell('import numpy as np\\nimport glob'); }\n",
       "    "
      ],
      "text/plain": [
       "<IPython.core.display.Javascript object>"
      ]
     },
     "metadata": {},
     "output_type": "display_data"
    },
    {
     "data": {
      "application/javascript": [
       "\n",
       "        if (window._pyforest_update_imports_cell) { window._pyforest_update_imports_cell('import numpy as np\\nimport glob'); }\n",
       "    "
      ],
      "text/plain": [
       "<IPython.core.display.Javascript object>"
      ]
     },
     "metadata": {},
     "output_type": "display_data"
    },
    {
     "data": {
      "application/javascript": [
       "\n",
       "        if (window._pyforest_update_imports_cell) { window._pyforest_update_imports_cell('import numpy as np\\nimport glob'); }\n",
       "    "
      ],
      "text/plain": [
       "<IPython.core.display.Javascript object>"
      ]
     },
     "metadata": {},
     "output_type": "display_data"
    },
    {
     "data": {
      "application/javascript": [
       "\n",
       "        if (window._pyforest_update_imports_cell) { window._pyforest_update_imports_cell('import numpy as np\\nimport glob'); }\n",
       "    "
      ],
      "text/plain": [
       "<IPython.core.display.Javascript object>"
      ]
     },
     "metadata": {},
     "output_type": "display_data"
    },
    {
     "data": {
      "application/javascript": [
       "\n",
       "        if (window._pyforest_update_imports_cell) { window._pyforest_update_imports_cell('import numpy as np\\nimport glob'); }\n",
       "    "
      ],
      "text/plain": [
       "<IPython.core.display.Javascript object>"
      ]
     },
     "metadata": {},
     "output_type": "display_data"
    },
    {
     "data": {
      "application/javascript": [
       "\n",
       "        if (window._pyforest_update_imports_cell) { window._pyforest_update_imports_cell('import numpy as np\\nimport glob'); }\n",
       "    "
      ],
      "text/plain": [
       "<IPython.core.display.Javascript object>"
      ]
     },
     "metadata": {},
     "output_type": "display_data"
    },
    {
     "data": {
      "application/javascript": [
       "\n",
       "        if (window._pyforest_update_imports_cell) { window._pyforest_update_imports_cell('import numpy as np\\nimport glob'); }\n",
       "    "
      ],
      "text/plain": [
       "<IPython.core.display.Javascript object>"
      ]
     },
     "metadata": {},
     "output_type": "display_data"
    },
    {
     "data": {
      "application/javascript": [
       "\n",
       "        if (window._pyforest_update_imports_cell) { window._pyforest_update_imports_cell('import numpy as np\\nimport glob'); }\n",
       "    "
      ],
      "text/plain": [
       "<IPython.core.display.Javascript object>"
      ]
     },
     "metadata": {},
     "output_type": "display_data"
    },
    {
     "data": {
      "application/javascript": [
       "\n",
       "        if (window._pyforest_update_imports_cell) { window._pyforest_update_imports_cell('import numpy as np\\nimport glob'); }\n",
       "    "
      ],
      "text/plain": [
       "<IPython.core.display.Javascript object>"
      ]
     },
     "metadata": {},
     "output_type": "display_data"
    },
    {
     "data": {
      "application/javascript": [
       "\n",
       "        if (window._pyforest_update_imports_cell) { window._pyforest_update_imports_cell('import numpy as np\\nimport glob'); }\n",
       "    "
      ],
      "text/plain": [
       "<IPython.core.display.Javascript object>"
      ]
     },
     "metadata": {},
     "output_type": "display_data"
    },
    {
     "data": {
      "application/javascript": [
       "\n",
       "        if (window._pyforest_update_imports_cell) { window._pyforest_update_imports_cell('import numpy as np\\nimport glob'); }\n",
       "    "
      ],
      "text/plain": [
       "<IPython.core.display.Javascript object>"
      ]
     },
     "metadata": {},
     "output_type": "display_data"
    },
    {
     "data": {
      "application/javascript": [
       "\n",
       "        if (window._pyforest_update_imports_cell) { window._pyforest_update_imports_cell('import numpy as np\\nimport glob'); }\n",
       "    "
      ],
      "text/plain": [
       "<IPython.core.display.Javascript object>"
      ]
     },
     "metadata": {},
     "output_type": "display_data"
    },
    {
     "data": {
      "application/javascript": [
       "\n",
       "        if (window._pyforest_update_imports_cell) { window._pyforest_update_imports_cell('import numpy as np\\nimport glob'); }\n",
       "    "
      ],
      "text/plain": [
       "<IPython.core.display.Javascript object>"
      ]
     },
     "metadata": {},
     "output_type": "display_data"
    },
    {
     "data": {
      "application/javascript": [
       "\n",
       "        if (window._pyforest_update_imports_cell) { window._pyforest_update_imports_cell('import numpy as np\\nimport glob'); }\n",
       "    "
      ],
      "text/plain": [
       "<IPython.core.display.Javascript object>"
      ]
     },
     "metadata": {},
     "output_type": "display_data"
    },
    {
     "data": {
      "application/javascript": [
       "\n",
       "        if (window._pyforest_update_imports_cell) { window._pyforest_update_imports_cell('import numpy as np\\nimport glob'); }\n",
       "    "
      ],
      "text/plain": [
       "<IPython.core.display.Javascript object>"
      ]
     },
     "metadata": {},
     "output_type": "display_data"
    },
    {
     "data": {
      "application/javascript": [
       "\n",
       "        if (window._pyforest_update_imports_cell) { window._pyforest_update_imports_cell('import numpy as np\\nimport glob'); }\n",
       "    "
      ],
      "text/plain": [
       "<IPython.core.display.Javascript object>"
      ]
     },
     "metadata": {},
     "output_type": "display_data"
    },
    {
     "data": {
      "application/javascript": [
       "\n",
       "        if (window._pyforest_update_imports_cell) { window._pyforest_update_imports_cell('import numpy as np\\nimport glob'); }\n",
       "    "
      ],
      "text/plain": [
       "<IPython.core.display.Javascript object>"
      ]
     },
     "metadata": {},
     "output_type": "display_data"
    },
    {
     "data": {
      "application/javascript": [
       "\n",
       "        if (window._pyforest_update_imports_cell) { window._pyforest_update_imports_cell('import numpy as np\\nimport glob'); }\n",
       "    "
      ],
      "text/plain": [
       "<IPython.core.display.Javascript object>"
      ]
     },
     "metadata": {},
     "output_type": "display_data"
    },
    {
     "data": {
      "application/javascript": [
       "\n",
       "        if (window._pyforest_update_imports_cell) { window._pyforest_update_imports_cell('import numpy as np\\nimport glob'); }\n",
       "    "
      ],
      "text/plain": [
       "<IPython.core.display.Javascript object>"
      ]
     },
     "metadata": {},
     "output_type": "display_data"
    },
    {
     "data": {
      "application/javascript": [
       "\n",
       "        if (window._pyforest_update_imports_cell) { window._pyforest_update_imports_cell('import numpy as np\\nimport glob'); }\n",
       "    "
      ],
      "text/plain": [
       "<IPython.core.display.Javascript object>"
      ]
     },
     "metadata": {},
     "output_type": "display_data"
    },
    {
     "data": {
      "application/javascript": [
       "\n",
       "        if (window._pyforest_update_imports_cell) { window._pyforest_update_imports_cell('import numpy as np\\nimport glob'); }\n",
       "    "
      ],
      "text/plain": [
       "<IPython.core.display.Javascript object>"
      ]
     },
     "metadata": {},
     "output_type": "display_data"
    },
    {
     "data": {
      "application/javascript": [
       "\n",
       "        if (window._pyforest_update_imports_cell) { window._pyforest_update_imports_cell('import numpy as np\\nimport glob'); }\n",
       "    "
      ],
      "text/plain": [
       "<IPython.core.display.Javascript object>"
      ]
     },
     "metadata": {},
     "output_type": "display_data"
    },
    {
     "data": {
      "application/javascript": [
       "\n",
       "        if (window._pyforest_update_imports_cell) { window._pyforest_update_imports_cell('import numpy as np\\nimport glob'); }\n",
       "    "
      ],
      "text/plain": [
       "<IPython.core.display.Javascript object>"
      ]
     },
     "metadata": {},
     "output_type": "display_data"
    },
    {
     "data": {
      "application/javascript": [
       "\n",
       "        if (window._pyforest_update_imports_cell) { window._pyforest_update_imports_cell('import numpy as np\\nimport glob'); }\n",
       "    "
      ],
      "text/plain": [
       "<IPython.core.display.Javascript object>"
      ]
     },
     "metadata": {},
     "output_type": "display_data"
    },
    {
     "data": {
      "application/javascript": [
       "\n",
       "        if (window._pyforest_update_imports_cell) { window._pyforest_update_imports_cell('import numpy as np\\nimport glob'); }\n",
       "    "
      ],
      "text/plain": [
       "<IPython.core.display.Javascript object>"
      ]
     },
     "metadata": {},
     "output_type": "display_data"
    },
    {
     "data": {
      "application/javascript": [
       "\n",
       "        if (window._pyforest_update_imports_cell) { window._pyforest_update_imports_cell('import numpy as np\\nimport glob'); }\n",
       "    "
      ],
      "text/plain": [
       "<IPython.core.display.Javascript object>"
      ]
     },
     "metadata": {},
     "output_type": "display_data"
    },
    {
     "data": {
      "application/javascript": [
       "\n",
       "        if (window._pyforest_update_imports_cell) { window._pyforest_update_imports_cell('import numpy as np\\nimport glob'); }\n",
       "    "
      ],
      "text/plain": [
       "<IPython.core.display.Javascript object>"
      ]
     },
     "metadata": {},
     "output_type": "display_data"
    },
    {
     "data": {
      "application/javascript": [
       "\n",
       "        if (window._pyforest_update_imports_cell) { window._pyforest_update_imports_cell('import numpy as np\\nimport glob'); }\n",
       "    "
      ],
      "text/plain": [
       "<IPython.core.display.Javascript object>"
      ]
     },
     "metadata": {},
     "output_type": "display_data"
    },
    {
     "data": {
      "application/javascript": [
       "\n",
       "        if (window._pyforest_update_imports_cell) { window._pyforest_update_imports_cell('import numpy as np\\nimport glob'); }\n",
       "    "
      ],
      "text/plain": [
       "<IPython.core.display.Javascript object>"
      ]
     },
     "metadata": {},
     "output_type": "display_data"
    },
    {
     "data": {
      "application/javascript": [
       "\n",
       "        if (window._pyforest_update_imports_cell) { window._pyforest_update_imports_cell('import numpy as np\\nimport glob'); }\n",
       "    "
      ],
      "text/plain": [
       "<IPython.core.display.Javascript object>"
      ]
     },
     "metadata": {},
     "output_type": "display_data"
    },
    {
     "data": {
      "application/javascript": [
       "\n",
       "        if (window._pyforest_update_imports_cell) { window._pyforest_update_imports_cell('import numpy as np\\nimport glob'); }\n",
       "    "
      ],
      "text/plain": [
       "<IPython.core.display.Javascript object>"
      ]
     },
     "metadata": {},
     "output_type": "display_data"
    },
    {
     "data": {
      "application/javascript": [
       "\n",
       "        if (window._pyforest_update_imports_cell) { window._pyforest_update_imports_cell('import numpy as np\\nimport glob'); }\n",
       "    "
      ],
      "text/plain": [
       "<IPython.core.display.Javascript object>"
      ]
     },
     "metadata": {},
     "output_type": "display_data"
    },
    {
     "data": {
      "application/javascript": [
       "\n",
       "        if (window._pyforest_update_imports_cell) { window._pyforest_update_imports_cell('import numpy as np\\nimport glob'); }\n",
       "    "
      ],
      "text/plain": [
       "<IPython.core.display.Javascript object>"
      ]
     },
     "metadata": {},
     "output_type": "display_data"
    },
    {
     "data": {
      "application/javascript": [
       "\n",
       "        if (window._pyforest_update_imports_cell) { window._pyforest_update_imports_cell('import numpy as np\\nimport glob'); }\n",
       "    "
      ],
      "text/plain": [
       "<IPython.core.display.Javascript object>"
      ]
     },
     "metadata": {},
     "output_type": "display_data"
    },
    {
     "data": {
      "application/javascript": [
       "\n",
       "        if (window._pyforest_update_imports_cell) { window._pyforest_update_imports_cell('import numpy as np\\nimport glob'); }\n",
       "    "
      ],
      "text/plain": [
       "<IPython.core.display.Javascript object>"
      ]
     },
     "metadata": {},
     "output_type": "display_data"
    },
    {
     "data": {
      "application/javascript": [
       "\n",
       "        if (window._pyforest_update_imports_cell) { window._pyforest_update_imports_cell('import numpy as np\\nimport glob'); }\n",
       "    "
      ],
      "text/plain": [
       "<IPython.core.display.Javascript object>"
      ]
     },
     "metadata": {},
     "output_type": "display_data"
    },
    {
     "data": {
      "application/javascript": [
       "\n",
       "        if (window._pyforest_update_imports_cell) { window._pyforest_update_imports_cell('import numpy as np\\nimport glob'); }\n",
       "    "
      ],
      "text/plain": [
       "<IPython.core.display.Javascript object>"
      ]
     },
     "metadata": {},
     "output_type": "display_data"
    },
    {
     "data": {
      "application/javascript": [
       "\n",
       "        if (window._pyforest_update_imports_cell) { window._pyforest_update_imports_cell('import numpy as np\\nimport glob'); }\n",
       "    "
      ],
      "text/plain": [
       "<IPython.core.display.Javascript object>"
      ]
     },
     "metadata": {},
     "output_type": "display_data"
    },
    {
     "data": {
      "application/javascript": [
       "\n",
       "        if (window._pyforest_update_imports_cell) { window._pyforest_update_imports_cell('import numpy as np\\nimport glob'); }\n",
       "    "
      ],
      "text/plain": [
       "<IPython.core.display.Javascript object>"
      ]
     },
     "metadata": {},
     "output_type": "display_data"
    },
    {
     "data": {
      "application/javascript": [
       "\n",
       "        if (window._pyforest_update_imports_cell) { window._pyforest_update_imports_cell('import numpy as np\\nimport glob'); }\n",
       "    "
      ],
      "text/plain": [
       "<IPython.core.display.Javascript object>"
      ]
     },
     "metadata": {},
     "output_type": "display_data"
    },
    {
     "data": {
      "application/javascript": [
       "\n",
       "        if (window._pyforest_update_imports_cell) { window._pyforest_update_imports_cell('import numpy as np\\nimport glob'); }\n",
       "    "
      ],
      "text/plain": [
       "<IPython.core.display.Javascript object>"
      ]
     },
     "metadata": {},
     "output_type": "display_data"
    },
    {
     "data": {
      "application/javascript": [
       "\n",
       "        if (window._pyforest_update_imports_cell) { window._pyforest_update_imports_cell('import numpy as np\\nimport glob'); }\n",
       "    "
      ],
      "text/plain": [
       "<IPython.core.display.Javascript object>"
      ]
     },
     "metadata": {},
     "output_type": "display_data"
    },
    {
     "data": {
      "application/javascript": [
       "\n",
       "        if (window._pyforest_update_imports_cell) { window._pyforest_update_imports_cell('import numpy as np\\nimport glob'); }\n",
       "    "
      ],
      "text/plain": [
       "<IPython.core.display.Javascript object>"
      ]
     },
     "metadata": {},
     "output_type": "display_data"
    },
    {
     "data": {
      "application/javascript": [
       "\n",
       "        if (window._pyforest_update_imports_cell) { window._pyforest_update_imports_cell('import numpy as np\\nimport glob'); }\n",
       "    "
      ],
      "text/plain": [
       "<IPython.core.display.Javascript object>"
      ]
     },
     "metadata": {},
     "output_type": "display_data"
    },
    {
     "data": {
      "application/javascript": [
       "\n",
       "        if (window._pyforest_update_imports_cell) { window._pyforest_update_imports_cell('import numpy as np\\nimport glob'); }\n",
       "    "
      ],
      "text/plain": [
       "<IPython.core.display.Javascript object>"
      ]
     },
     "metadata": {},
     "output_type": "display_data"
    },
    {
     "data": {
      "application/javascript": [
       "\n",
       "        if (window._pyforest_update_imports_cell) { window._pyforest_update_imports_cell('import numpy as np\\nimport glob'); }\n",
       "    "
      ],
      "text/plain": [
       "<IPython.core.display.Javascript object>"
      ]
     },
     "metadata": {},
     "output_type": "display_data"
    },
    {
     "data": {
      "application/javascript": [
       "\n",
       "        if (window._pyforest_update_imports_cell) { window._pyforest_update_imports_cell('import numpy as np\\nimport glob'); }\n",
       "    "
      ],
      "text/plain": [
       "<IPython.core.display.Javascript object>"
      ]
     },
     "metadata": {},
     "output_type": "display_data"
    },
    {
     "data": {
      "application/javascript": [
       "\n",
       "        if (window._pyforest_update_imports_cell) { window._pyforest_update_imports_cell('import numpy as np\\nimport glob'); }\n",
       "    "
      ],
      "text/plain": [
       "<IPython.core.display.Javascript object>"
      ]
     },
     "metadata": {},
     "output_type": "display_data"
    },
    {
     "data": {
      "application/javascript": [
       "\n",
       "        if (window._pyforest_update_imports_cell) { window._pyforest_update_imports_cell('import numpy as np\\nimport glob'); }\n",
       "    "
      ],
      "text/plain": [
       "<IPython.core.display.Javascript object>"
      ]
     },
     "metadata": {},
     "output_type": "display_data"
    },
    {
     "data": {
      "application/javascript": [
       "\n",
       "        if (window._pyforest_update_imports_cell) { window._pyforest_update_imports_cell('import numpy as np\\nimport glob'); }\n",
       "    "
      ],
      "text/plain": [
       "<IPython.core.display.Javascript object>"
      ]
     },
     "metadata": {},
     "output_type": "display_data"
    },
    {
     "data": {
      "application/javascript": [
       "\n",
       "        if (window._pyforest_update_imports_cell) { window._pyforest_update_imports_cell('import numpy as np\\nimport glob'); }\n",
       "    "
      ],
      "text/plain": [
       "<IPython.core.display.Javascript object>"
      ]
     },
     "metadata": {},
     "output_type": "display_data"
    },
    {
     "data": {
      "application/javascript": [
       "\n",
       "        if (window._pyforest_update_imports_cell) { window._pyforest_update_imports_cell('import numpy as np\\nimport glob'); }\n",
       "    "
      ],
      "text/plain": [
       "<IPython.core.display.Javascript object>"
      ]
     },
     "metadata": {},
     "output_type": "display_data"
    },
    {
     "data": {
      "application/javascript": [
       "\n",
       "        if (window._pyforest_update_imports_cell) { window._pyforest_update_imports_cell('import numpy as np\\nimport glob'); }\n",
       "    "
      ],
      "text/plain": [
       "<IPython.core.display.Javascript object>"
      ]
     },
     "metadata": {},
     "output_type": "display_data"
    },
    {
     "data": {
      "application/javascript": [
       "\n",
       "        if (window._pyforest_update_imports_cell) { window._pyforest_update_imports_cell('import numpy as np\\nimport glob'); }\n",
       "    "
      ],
      "text/plain": [
       "<IPython.core.display.Javascript object>"
      ]
     },
     "metadata": {},
     "output_type": "display_data"
    },
    {
     "data": {
      "application/javascript": [
       "\n",
       "        if (window._pyforest_update_imports_cell) { window._pyforest_update_imports_cell('import numpy as np\\nimport glob'); }\n",
       "    "
      ],
      "text/plain": [
       "<IPython.core.display.Javascript object>"
      ]
     },
     "metadata": {},
     "output_type": "display_data"
    },
    {
     "data": {
      "application/javascript": [
       "\n",
       "        if (window._pyforest_update_imports_cell) { window._pyforest_update_imports_cell('import numpy as np\\nimport glob'); }\n",
       "    "
      ],
      "text/plain": [
       "<IPython.core.display.Javascript object>"
      ]
     },
     "metadata": {},
     "output_type": "display_data"
    },
    {
     "data": {
      "application/javascript": [
       "\n",
       "        if (window._pyforest_update_imports_cell) { window._pyforest_update_imports_cell('import numpy as np\\nimport glob'); }\n",
       "    "
      ],
      "text/plain": [
       "<IPython.core.display.Javascript object>"
      ]
     },
     "metadata": {},
     "output_type": "display_data"
    },
    {
     "data": {
      "application/javascript": [
       "\n",
       "        if (window._pyforest_update_imports_cell) { window._pyforest_update_imports_cell('import numpy as np\\nimport glob'); }\n",
       "    "
      ],
      "text/plain": [
       "<IPython.core.display.Javascript object>"
      ]
     },
     "metadata": {},
     "output_type": "display_data"
    },
    {
     "data": {
      "application/javascript": [
       "\n",
       "        if (window._pyforest_update_imports_cell) { window._pyforest_update_imports_cell('import numpy as np\\nimport glob'); }\n",
       "    "
      ],
      "text/plain": [
       "<IPython.core.display.Javascript object>"
      ]
     },
     "metadata": {},
     "output_type": "display_data"
    },
    {
     "data": {
      "application/javascript": [
       "\n",
       "        if (window._pyforest_update_imports_cell) { window._pyforest_update_imports_cell('import numpy as np\\nimport glob'); }\n",
       "    "
      ],
      "text/plain": [
       "<IPython.core.display.Javascript object>"
      ]
     },
     "metadata": {},
     "output_type": "display_data"
    },
    {
     "data": {
      "application/javascript": [
       "\n",
       "        if (window._pyforest_update_imports_cell) { window._pyforest_update_imports_cell('import numpy as np\\nimport glob'); }\n",
       "    "
      ],
      "text/plain": [
       "<IPython.core.display.Javascript object>"
      ]
     },
     "metadata": {},
     "output_type": "display_data"
    },
    {
     "data": {
      "application/javascript": [
       "\n",
       "        if (window._pyforest_update_imports_cell) { window._pyforest_update_imports_cell('import numpy as np\\nimport glob'); }\n",
       "    "
      ],
      "text/plain": [
       "<IPython.core.display.Javascript object>"
      ]
     },
     "metadata": {},
     "output_type": "display_data"
    },
    {
     "data": {
      "application/javascript": [
       "\n",
       "        if (window._pyforest_update_imports_cell) { window._pyforest_update_imports_cell('import numpy as np\\nimport glob'); }\n",
       "    "
      ],
      "text/plain": [
       "<IPython.core.display.Javascript object>"
      ]
     },
     "metadata": {},
     "output_type": "display_data"
    },
    {
     "data": {
      "application/javascript": [
       "\n",
       "        if (window._pyforest_update_imports_cell) { window._pyforest_update_imports_cell('import numpy as np\\nimport glob'); }\n",
       "    "
      ],
      "text/plain": [
       "<IPython.core.display.Javascript object>"
      ]
     },
     "metadata": {},
     "output_type": "display_data"
    },
    {
     "data": {
      "application/javascript": [
       "\n",
       "        if (window._pyforest_update_imports_cell) { window._pyforest_update_imports_cell('import numpy as np\\nimport glob'); }\n",
       "    "
      ],
      "text/plain": [
       "<IPython.core.display.Javascript object>"
      ]
     },
     "metadata": {},
     "output_type": "display_data"
    },
    {
     "data": {
      "application/javascript": [
       "\n",
       "        if (window._pyforest_update_imports_cell) { window._pyforest_update_imports_cell('import numpy as np\\nimport glob'); }\n",
       "    "
      ],
      "text/plain": [
       "<IPython.core.display.Javascript object>"
      ]
     },
     "metadata": {},
     "output_type": "display_data"
    },
    {
     "data": {
      "application/javascript": [
       "\n",
       "        if (window._pyforest_update_imports_cell) { window._pyforest_update_imports_cell('import numpy as np\\nimport glob'); }\n",
       "    "
      ],
      "text/plain": [
       "<IPython.core.display.Javascript object>"
      ]
     },
     "metadata": {},
     "output_type": "display_data"
    },
    {
     "data": {
      "application/javascript": [
       "\n",
       "        if (window._pyforest_update_imports_cell) { window._pyforest_update_imports_cell('import numpy as np\\nimport glob'); }\n",
       "    "
      ],
      "text/plain": [
       "<IPython.core.display.Javascript object>"
      ]
     },
     "metadata": {},
     "output_type": "display_data"
    },
    {
     "data": {
      "application/javascript": [
       "\n",
       "        if (window._pyforest_update_imports_cell) { window._pyforest_update_imports_cell('import numpy as np\\nimport glob'); }\n",
       "    "
      ],
      "text/plain": [
       "<IPython.core.display.Javascript object>"
      ]
     },
     "metadata": {},
     "output_type": "display_data"
    },
    {
     "data": {
      "application/javascript": [
       "\n",
       "        if (window._pyforest_update_imports_cell) { window._pyforest_update_imports_cell('import numpy as np\\nimport glob'); }\n",
       "    "
      ],
      "text/plain": [
       "<IPython.core.display.Javascript object>"
      ]
     },
     "metadata": {},
     "output_type": "display_data"
    },
    {
     "data": {
      "application/javascript": [
       "\n",
       "        if (window._pyforest_update_imports_cell) { window._pyforest_update_imports_cell('import numpy as np\\nimport glob'); }\n",
       "    "
      ],
      "text/plain": [
       "<IPython.core.display.Javascript object>"
      ]
     },
     "metadata": {},
     "output_type": "display_data"
    },
    {
     "data": {
      "application/javascript": [
       "\n",
       "        if (window._pyforest_update_imports_cell) { window._pyforest_update_imports_cell('import numpy as np\\nimport glob'); }\n",
       "    "
      ],
      "text/plain": [
       "<IPython.core.display.Javascript object>"
      ]
     },
     "metadata": {},
     "output_type": "display_data"
    },
    {
     "data": {
      "application/javascript": [
       "\n",
       "        if (window._pyforest_update_imports_cell) { window._pyforest_update_imports_cell('import numpy as np\\nimport glob'); }\n",
       "    "
      ],
      "text/plain": [
       "<IPython.core.display.Javascript object>"
      ]
     },
     "metadata": {},
     "output_type": "display_data"
    },
    {
     "data": {
      "application/javascript": [
       "\n",
       "        if (window._pyforest_update_imports_cell) { window._pyforest_update_imports_cell('import numpy as np\\nimport glob'); }\n",
       "    "
      ],
      "text/plain": [
       "<IPython.core.display.Javascript object>"
      ]
     },
     "metadata": {},
     "output_type": "display_data"
    },
    {
     "data": {
      "application/javascript": [
       "\n",
       "        if (window._pyforest_update_imports_cell) { window._pyforest_update_imports_cell('import numpy as np\\nimport glob'); }\n",
       "    "
      ],
      "text/plain": [
       "<IPython.core.display.Javascript object>"
      ]
     },
     "metadata": {},
     "output_type": "display_data"
    },
    {
     "data": {
      "application/javascript": [
       "\n",
       "        if (window._pyforest_update_imports_cell) { window._pyforest_update_imports_cell('import numpy as np\\nimport glob'); }\n",
       "    "
      ],
      "text/plain": [
       "<IPython.core.display.Javascript object>"
      ]
     },
     "metadata": {},
     "output_type": "display_data"
    },
    {
     "data": {
      "application/javascript": [
       "\n",
       "        if (window._pyforest_update_imports_cell) { window._pyforest_update_imports_cell('import numpy as np\\nimport glob'); }\n",
       "    "
      ],
      "text/plain": [
       "<IPython.core.display.Javascript object>"
      ]
     },
     "metadata": {},
     "output_type": "display_data"
    },
    {
     "data": {
      "application/javascript": [
       "\n",
       "        if (window._pyforest_update_imports_cell) { window._pyforest_update_imports_cell('import numpy as np\\nimport glob'); }\n",
       "    "
      ],
      "text/plain": [
       "<IPython.core.display.Javascript object>"
      ]
     },
     "metadata": {},
     "output_type": "display_data"
    },
    {
     "data": {
      "application/javascript": [
       "\n",
       "        if (window._pyforest_update_imports_cell) { window._pyforest_update_imports_cell('import numpy as np\\nimport glob'); }\n",
       "    "
      ],
      "text/plain": [
       "<IPython.core.display.Javascript object>"
      ]
     },
     "metadata": {},
     "output_type": "display_data"
    },
    {
     "data": {
      "application/javascript": [
       "\n",
       "        if (window._pyforest_update_imports_cell) { window._pyforest_update_imports_cell('import numpy as np\\nimport glob'); }\n",
       "    "
      ],
      "text/plain": [
       "<IPython.core.display.Javascript object>"
      ]
     },
     "metadata": {},
     "output_type": "display_data"
    },
    {
     "data": {
      "application/javascript": [
       "\n",
       "        if (window._pyforest_update_imports_cell) { window._pyforest_update_imports_cell('import numpy as np\\nimport glob'); }\n",
       "    "
      ],
      "text/plain": [
       "<IPython.core.display.Javascript object>"
      ]
     },
     "metadata": {},
     "output_type": "display_data"
    },
    {
     "data": {
      "application/javascript": [
       "\n",
       "        if (window._pyforest_update_imports_cell) { window._pyforest_update_imports_cell('import numpy as np\\nimport glob'); }\n",
       "    "
      ],
      "text/plain": [
       "<IPython.core.display.Javascript object>"
      ]
     },
     "metadata": {},
     "output_type": "display_data"
    },
    {
     "data": {
      "application/javascript": [
       "\n",
       "        if (window._pyforest_update_imports_cell) { window._pyforest_update_imports_cell('import numpy as np\\nimport glob'); }\n",
       "    "
      ],
      "text/plain": [
       "<IPython.core.display.Javascript object>"
      ]
     },
     "metadata": {},
     "output_type": "display_data"
    },
    {
     "data": {
      "application/javascript": [
       "\n",
       "        if (window._pyforest_update_imports_cell) { window._pyforest_update_imports_cell('import numpy as np\\nimport glob'); }\n",
       "    "
      ],
      "text/plain": [
       "<IPython.core.display.Javascript object>"
      ]
     },
     "metadata": {},
     "output_type": "display_data"
    },
    {
     "data": {
      "application/javascript": [
       "\n",
       "        if (window._pyforest_update_imports_cell) { window._pyforest_update_imports_cell('import numpy as np\\nimport glob'); }\n",
       "    "
      ],
      "text/plain": [
       "<IPython.core.display.Javascript object>"
      ]
     },
     "metadata": {},
     "output_type": "display_data"
    },
    {
     "data": {
      "application/javascript": [
       "\n",
       "        if (window._pyforest_update_imports_cell) { window._pyforest_update_imports_cell('import numpy as np\\nimport glob'); }\n",
       "    "
      ],
      "text/plain": [
       "<IPython.core.display.Javascript object>"
      ]
     },
     "metadata": {},
     "output_type": "display_data"
    },
    {
     "data": {
      "application/javascript": [
       "\n",
       "        if (window._pyforest_update_imports_cell) { window._pyforest_update_imports_cell('import numpy as np\\nimport glob'); }\n",
       "    "
      ],
      "text/plain": [
       "<IPython.core.display.Javascript object>"
      ]
     },
     "metadata": {},
     "output_type": "display_data"
    },
    {
     "data": {
      "application/javascript": [
       "\n",
       "        if (window._pyforest_update_imports_cell) { window._pyforest_update_imports_cell('import numpy as np\\nimport glob'); }\n",
       "    "
      ],
      "text/plain": [
       "<IPython.core.display.Javascript object>"
      ]
     },
     "metadata": {},
     "output_type": "display_data"
    },
    {
     "data": {
      "application/javascript": [
       "\n",
       "        if (window._pyforest_update_imports_cell) { window._pyforest_update_imports_cell('import numpy as np\\nimport glob'); }\n",
       "    "
      ],
      "text/plain": [
       "<IPython.core.display.Javascript object>"
      ]
     },
     "metadata": {},
     "output_type": "display_data"
    },
    {
     "data": {
      "application/javascript": [
       "\n",
       "        if (window._pyforest_update_imports_cell) { window._pyforest_update_imports_cell('import numpy as np\\nimport glob'); }\n",
       "    "
      ],
      "text/plain": [
       "<IPython.core.display.Javascript object>"
      ]
     },
     "metadata": {},
     "output_type": "display_data"
    },
    {
     "data": {
      "application/javascript": [
       "\n",
       "        if (window._pyforest_update_imports_cell) { window._pyforest_update_imports_cell('import numpy as np\\nimport glob'); }\n",
       "    "
      ],
      "text/plain": [
       "<IPython.core.display.Javascript object>"
      ]
     },
     "metadata": {},
     "output_type": "display_data"
    },
    {
     "data": {
      "application/javascript": [
       "\n",
       "        if (window._pyforest_update_imports_cell) { window._pyforest_update_imports_cell('import numpy as np\\nimport glob'); }\n",
       "    "
      ],
      "text/plain": [
       "<IPython.core.display.Javascript object>"
      ]
     },
     "metadata": {},
     "output_type": "display_data"
    },
    {
     "data": {
      "application/javascript": [
       "\n",
       "        if (window._pyforest_update_imports_cell) { window._pyforest_update_imports_cell('import numpy as np\\nimport glob'); }\n",
       "    "
      ],
      "text/plain": [
       "<IPython.core.display.Javascript object>"
      ]
     },
     "metadata": {},
     "output_type": "display_data"
    },
    {
     "data": {
      "application/javascript": [
       "\n",
       "        if (window._pyforest_update_imports_cell) { window._pyforest_update_imports_cell('import numpy as np\\nimport glob'); }\n",
       "    "
      ],
      "text/plain": [
       "<IPython.core.display.Javascript object>"
      ]
     },
     "metadata": {},
     "output_type": "display_data"
    },
    {
     "data": {
      "application/javascript": [
       "\n",
       "        if (window._pyforest_update_imports_cell) { window._pyforest_update_imports_cell('import numpy as np\\nimport glob'); }\n",
       "    "
      ],
      "text/plain": [
       "<IPython.core.display.Javascript object>"
      ]
     },
     "metadata": {},
     "output_type": "display_data"
    },
    {
     "data": {
      "application/javascript": [
       "\n",
       "        if (window._pyforest_update_imports_cell) { window._pyforest_update_imports_cell('import numpy as np\\nimport glob'); }\n",
       "    "
      ],
      "text/plain": [
       "<IPython.core.display.Javascript object>"
      ]
     },
     "metadata": {},
     "output_type": "display_data"
    },
    {
     "data": {
      "application/javascript": [
       "\n",
       "        if (window._pyforest_update_imports_cell) { window._pyforest_update_imports_cell('import numpy as np\\nimport glob'); }\n",
       "    "
      ],
      "text/plain": [
       "<IPython.core.display.Javascript object>"
      ]
     },
     "metadata": {},
     "output_type": "display_data"
    },
    {
     "data": {
      "application/javascript": [
       "\n",
       "        if (window._pyforest_update_imports_cell) { window._pyforest_update_imports_cell('import numpy as np\\nimport glob'); }\n",
       "    "
      ],
      "text/plain": [
       "<IPython.core.display.Javascript object>"
      ]
     },
     "metadata": {},
     "output_type": "display_data"
    },
    {
     "data": {
      "application/javascript": [
       "\n",
       "        if (window._pyforest_update_imports_cell) { window._pyforest_update_imports_cell('import numpy as np\\nimport glob'); }\n",
       "    "
      ],
      "text/plain": [
       "<IPython.core.display.Javascript object>"
      ]
     },
     "metadata": {},
     "output_type": "display_data"
    },
    {
     "data": {
      "application/javascript": [
       "\n",
       "        if (window._pyforest_update_imports_cell) { window._pyforest_update_imports_cell('import numpy as np\\nimport glob'); }\n",
       "    "
      ],
      "text/plain": [
       "<IPython.core.display.Javascript object>"
      ]
     },
     "metadata": {},
     "output_type": "display_data"
    },
    {
     "data": {
      "application/javascript": [
       "\n",
       "        if (window._pyforest_update_imports_cell) { window._pyforest_update_imports_cell('import numpy as np\\nimport glob'); }\n",
       "    "
      ],
      "text/plain": [
       "<IPython.core.display.Javascript object>"
      ]
     },
     "metadata": {},
     "output_type": "display_data"
    },
    {
     "data": {
      "application/javascript": [
       "\n",
       "        if (window._pyforest_update_imports_cell) { window._pyforest_update_imports_cell('import numpy as np\\nimport glob'); }\n",
       "    "
      ],
      "text/plain": [
       "<IPython.core.display.Javascript object>"
      ]
     },
     "metadata": {},
     "output_type": "display_data"
    },
    {
     "data": {
      "application/javascript": [
       "\n",
       "        if (window._pyforest_update_imports_cell) { window._pyforest_update_imports_cell('import numpy as np\\nimport glob'); }\n",
       "    "
      ],
      "text/plain": [
       "<IPython.core.display.Javascript object>"
      ]
     },
     "metadata": {},
     "output_type": "display_data"
    },
    {
     "data": {
      "application/javascript": [
       "\n",
       "        if (window._pyforest_update_imports_cell) { window._pyforest_update_imports_cell('import numpy as np\\nimport glob'); }\n",
       "    "
      ],
      "text/plain": [
       "<IPython.core.display.Javascript object>"
      ]
     },
     "metadata": {},
     "output_type": "display_data"
    },
    {
     "data": {
      "application/javascript": [
       "\n",
       "        if (window._pyforest_update_imports_cell) { window._pyforest_update_imports_cell('import numpy as np\\nimport glob'); }\n",
       "    "
      ],
      "text/plain": [
       "<IPython.core.display.Javascript object>"
      ]
     },
     "metadata": {},
     "output_type": "display_data"
    },
    {
     "data": {
      "application/javascript": [
       "\n",
       "        if (window._pyforest_update_imports_cell) { window._pyforest_update_imports_cell('import numpy as np\\nimport glob'); }\n",
       "    "
      ],
      "text/plain": [
       "<IPython.core.display.Javascript object>"
      ]
     },
     "metadata": {},
     "output_type": "display_data"
    },
    {
     "data": {
      "application/javascript": [
       "\n",
       "        if (window._pyforest_update_imports_cell) { window._pyforest_update_imports_cell('import numpy as np\\nimport glob'); }\n",
       "    "
      ],
      "text/plain": [
       "<IPython.core.display.Javascript object>"
      ]
     },
     "metadata": {},
     "output_type": "display_data"
    },
    {
     "data": {
      "application/javascript": [
       "\n",
       "        if (window._pyforest_update_imports_cell) { window._pyforest_update_imports_cell('import numpy as np\\nimport glob'); }\n",
       "    "
      ],
      "text/plain": [
       "<IPython.core.display.Javascript object>"
      ]
     },
     "metadata": {},
     "output_type": "display_data"
    },
    {
     "data": {
      "application/javascript": [
       "\n",
       "        if (window._pyforest_update_imports_cell) { window._pyforest_update_imports_cell('import numpy as np\\nimport glob'); }\n",
       "    "
      ],
      "text/plain": [
       "<IPython.core.display.Javascript object>"
      ]
     },
     "metadata": {},
     "output_type": "display_data"
    },
    {
     "data": {
      "application/javascript": [
       "\n",
       "        if (window._pyforest_update_imports_cell) { window._pyforest_update_imports_cell('import numpy as np\\nimport glob'); }\n",
       "    "
      ],
      "text/plain": [
       "<IPython.core.display.Javascript object>"
      ]
     },
     "metadata": {},
     "output_type": "display_data"
    },
    {
     "data": {
      "application/javascript": [
       "\n",
       "        if (window._pyforest_update_imports_cell) { window._pyforest_update_imports_cell('import numpy as np\\nimport glob'); }\n",
       "    "
      ],
      "text/plain": [
       "<IPython.core.display.Javascript object>"
      ]
     },
     "metadata": {},
     "output_type": "display_data"
    },
    {
     "data": {
      "application/javascript": [
       "\n",
       "        if (window._pyforest_update_imports_cell) { window._pyforest_update_imports_cell('import numpy as np\\nimport glob'); }\n",
       "    "
      ],
      "text/plain": [
       "<IPython.core.display.Javascript object>"
      ]
     },
     "metadata": {},
     "output_type": "display_data"
    },
    {
     "data": {
      "application/javascript": [
       "\n",
       "        if (window._pyforest_update_imports_cell) { window._pyforest_update_imports_cell('import numpy as np\\nimport glob'); }\n",
       "    "
      ],
      "text/plain": [
       "<IPython.core.display.Javascript object>"
      ]
     },
     "metadata": {},
     "output_type": "display_data"
    },
    {
     "data": {
      "application/javascript": [
       "\n",
       "        if (window._pyforest_update_imports_cell) { window._pyforest_update_imports_cell('import numpy as np\\nimport glob'); }\n",
       "    "
      ],
      "text/plain": [
       "<IPython.core.display.Javascript object>"
      ]
     },
     "metadata": {},
     "output_type": "display_data"
    },
    {
     "data": {
      "application/javascript": [
       "\n",
       "        if (window._pyforest_update_imports_cell) { window._pyforest_update_imports_cell('import numpy as np\\nimport glob'); }\n",
       "    "
      ],
      "text/plain": [
       "<IPython.core.display.Javascript object>"
      ]
     },
     "metadata": {},
     "output_type": "display_data"
    },
    {
     "data": {
      "application/javascript": [
       "\n",
       "        if (window._pyforest_update_imports_cell) { window._pyforest_update_imports_cell('import numpy as np\\nimport glob'); }\n",
       "    "
      ],
      "text/plain": [
       "<IPython.core.display.Javascript object>"
      ]
     },
     "metadata": {},
     "output_type": "display_data"
    },
    {
     "data": {
      "application/javascript": [
       "\n",
       "        if (window._pyforest_update_imports_cell) { window._pyforest_update_imports_cell('import numpy as np\\nimport glob'); }\n",
       "    "
      ],
      "text/plain": [
       "<IPython.core.display.Javascript object>"
      ]
     },
     "metadata": {},
     "output_type": "display_data"
    },
    {
     "data": {
      "application/javascript": [
       "\n",
       "        if (window._pyforest_update_imports_cell) { window._pyforest_update_imports_cell('import numpy as np\\nimport glob'); }\n",
       "    "
      ],
      "text/plain": [
       "<IPython.core.display.Javascript object>"
      ]
     },
     "metadata": {},
     "output_type": "display_data"
    },
    {
     "data": {
      "application/javascript": [
       "\n",
       "        if (window._pyforest_update_imports_cell) { window._pyforest_update_imports_cell('import numpy as np\\nimport glob'); }\n",
       "    "
      ],
      "text/plain": [
       "<IPython.core.display.Javascript object>"
      ]
     },
     "metadata": {},
     "output_type": "display_data"
    },
    {
     "data": {
      "application/javascript": [
       "\n",
       "        if (window._pyforest_update_imports_cell) { window._pyforest_update_imports_cell('import numpy as np\\nimport glob'); }\n",
       "    "
      ],
      "text/plain": [
       "<IPython.core.display.Javascript object>"
      ]
     },
     "metadata": {},
     "output_type": "display_data"
    },
    {
     "data": {
      "application/javascript": [
       "\n",
       "        if (window._pyforest_update_imports_cell) { window._pyforest_update_imports_cell('import numpy as np\\nimport glob'); }\n",
       "    "
      ],
      "text/plain": [
       "<IPython.core.display.Javascript object>"
      ]
     },
     "metadata": {},
     "output_type": "display_data"
    },
    {
     "data": {
      "application/javascript": [
       "\n",
       "        if (window._pyforest_update_imports_cell) { window._pyforest_update_imports_cell('import numpy as np\\nimport glob'); }\n",
       "    "
      ],
      "text/plain": [
       "<IPython.core.display.Javascript object>"
      ]
     },
     "metadata": {},
     "output_type": "display_data"
    },
    {
     "data": {
      "application/javascript": [
       "\n",
       "        if (window._pyforest_update_imports_cell) { window._pyforest_update_imports_cell('import numpy as np\\nimport glob'); }\n",
       "    "
      ],
      "text/plain": [
       "<IPython.core.display.Javascript object>"
      ]
     },
     "metadata": {},
     "output_type": "display_data"
    },
    {
     "data": {
      "application/javascript": [
       "\n",
       "        if (window._pyforest_update_imports_cell) { window._pyforest_update_imports_cell('import numpy as np\\nimport glob'); }\n",
       "    "
      ],
      "text/plain": [
       "<IPython.core.display.Javascript object>"
      ]
     },
     "metadata": {},
     "output_type": "display_data"
    },
    {
     "data": {
      "application/javascript": [
       "\n",
       "        if (window._pyforest_update_imports_cell) { window._pyforest_update_imports_cell('import numpy as np\\nimport glob'); }\n",
       "    "
      ],
      "text/plain": [
       "<IPython.core.display.Javascript object>"
      ]
     },
     "metadata": {},
     "output_type": "display_data"
    },
    {
     "data": {
      "application/javascript": [
       "\n",
       "        if (window._pyforest_update_imports_cell) { window._pyforest_update_imports_cell('import numpy as np\\nimport glob'); }\n",
       "    "
      ],
      "text/plain": [
       "<IPython.core.display.Javascript object>"
      ]
     },
     "metadata": {},
     "output_type": "display_data"
    },
    {
     "data": {
      "application/javascript": [
       "\n",
       "        if (window._pyforest_update_imports_cell) { window._pyforest_update_imports_cell('import numpy as np\\nimport glob'); }\n",
       "    "
      ],
      "text/plain": [
       "<IPython.core.display.Javascript object>"
      ]
     },
     "metadata": {},
     "output_type": "display_data"
    },
    {
     "data": {
      "application/javascript": [
       "\n",
       "        if (window._pyforest_update_imports_cell) { window._pyforest_update_imports_cell('import numpy as np\\nimport glob'); }\n",
       "    "
      ],
      "text/plain": [
       "<IPython.core.display.Javascript object>"
      ]
     },
     "metadata": {},
     "output_type": "display_data"
    },
    {
     "data": {
      "application/javascript": [
       "\n",
       "        if (window._pyforest_update_imports_cell) { window._pyforest_update_imports_cell('import numpy as np\\nimport glob'); }\n",
       "    "
      ],
      "text/plain": [
       "<IPython.core.display.Javascript object>"
      ]
     },
     "metadata": {},
     "output_type": "display_data"
    },
    {
     "data": {
      "application/javascript": [
       "\n",
       "        if (window._pyforest_update_imports_cell) { window._pyforest_update_imports_cell('import numpy as np\\nimport glob'); }\n",
       "    "
      ],
      "text/plain": [
       "<IPython.core.display.Javascript object>"
      ]
     },
     "metadata": {},
     "output_type": "display_data"
    },
    {
     "data": {
      "application/javascript": [
       "\n",
       "        if (window._pyforest_update_imports_cell) { window._pyforest_update_imports_cell('import numpy as np\\nimport glob'); }\n",
       "    "
      ],
      "text/plain": [
       "<IPython.core.display.Javascript object>"
      ]
     },
     "metadata": {},
     "output_type": "display_data"
    },
    {
     "data": {
      "application/javascript": [
       "\n",
       "        if (window._pyforest_update_imports_cell) { window._pyforest_update_imports_cell('import numpy as np\\nimport glob'); }\n",
       "    "
      ],
      "text/plain": [
       "<IPython.core.display.Javascript object>"
      ]
     },
     "metadata": {},
     "output_type": "display_data"
    },
    {
     "data": {
      "application/javascript": [
       "\n",
       "        if (window._pyforest_update_imports_cell) { window._pyforest_update_imports_cell('import numpy as np\\nimport glob'); }\n",
       "    "
      ],
      "text/plain": [
       "<IPython.core.display.Javascript object>"
      ]
     },
     "metadata": {},
     "output_type": "display_data"
    },
    {
     "data": {
      "application/javascript": [
       "\n",
       "        if (window._pyforest_update_imports_cell) { window._pyforest_update_imports_cell('import numpy as np\\nimport glob'); }\n",
       "    "
      ],
      "text/plain": [
       "<IPython.core.display.Javascript object>"
      ]
     },
     "metadata": {},
     "output_type": "display_data"
    },
    {
     "data": {
      "application/javascript": [
       "\n",
       "        if (window._pyforest_update_imports_cell) { window._pyforest_update_imports_cell('import numpy as np\\nimport glob'); }\n",
       "    "
      ],
      "text/plain": [
       "<IPython.core.display.Javascript object>"
      ]
     },
     "metadata": {},
     "output_type": "display_data"
    },
    {
     "data": {
      "application/javascript": [
       "\n",
       "        if (window._pyforest_update_imports_cell) { window._pyforest_update_imports_cell('import numpy as np\\nimport glob'); }\n",
       "    "
      ],
      "text/plain": [
       "<IPython.core.display.Javascript object>"
      ]
     },
     "metadata": {},
     "output_type": "display_data"
    },
    {
     "data": {
      "application/javascript": [
       "\n",
       "        if (window._pyforest_update_imports_cell) { window._pyforest_update_imports_cell('import numpy as np\\nimport glob'); }\n",
       "    "
      ],
      "text/plain": [
       "<IPython.core.display.Javascript object>"
      ]
     },
     "metadata": {},
     "output_type": "display_data"
    },
    {
     "data": {
      "application/javascript": [
       "\n",
       "        if (window._pyforest_update_imports_cell) { window._pyforest_update_imports_cell('import numpy as np\\nimport glob'); }\n",
       "    "
      ],
      "text/plain": [
       "<IPython.core.display.Javascript object>"
      ]
     },
     "metadata": {},
     "output_type": "display_data"
    },
    {
     "data": {
      "application/javascript": [
       "\n",
       "        if (window._pyforest_update_imports_cell) { window._pyforest_update_imports_cell('import numpy as np\\nimport glob'); }\n",
       "    "
      ],
      "text/plain": [
       "<IPython.core.display.Javascript object>"
      ]
     },
     "metadata": {},
     "output_type": "display_data"
    },
    {
     "data": {
      "application/javascript": [
       "\n",
       "        if (window._pyforest_update_imports_cell) { window._pyforest_update_imports_cell('import numpy as np\\nimport glob'); }\n",
       "    "
      ],
      "text/plain": [
       "<IPython.core.display.Javascript object>"
      ]
     },
     "metadata": {},
     "output_type": "display_data"
    },
    {
     "data": {
      "application/javascript": [
       "\n",
       "        if (window._pyforest_update_imports_cell) { window._pyforest_update_imports_cell('import numpy as np\\nimport glob'); }\n",
       "    "
      ],
      "text/plain": [
       "<IPython.core.display.Javascript object>"
      ]
     },
     "metadata": {},
     "output_type": "display_data"
    },
    {
     "data": {
      "application/javascript": [
       "\n",
       "        if (window._pyforest_update_imports_cell) { window._pyforest_update_imports_cell('import numpy as np\\nimport glob'); }\n",
       "    "
      ],
      "text/plain": [
       "<IPython.core.display.Javascript object>"
      ]
     },
     "metadata": {},
     "output_type": "display_data"
    },
    {
     "data": {
      "application/javascript": [
       "\n",
       "        if (window._pyforest_update_imports_cell) { window._pyforest_update_imports_cell('import numpy as np\\nimport glob'); }\n",
       "    "
      ],
      "text/plain": [
       "<IPython.core.display.Javascript object>"
      ]
     },
     "metadata": {},
     "output_type": "display_data"
    },
    {
     "data": {
      "application/javascript": [
       "\n",
       "        if (window._pyforest_update_imports_cell) { window._pyforest_update_imports_cell('import numpy as np\\nimport glob'); }\n",
       "    "
      ],
      "text/plain": [
       "<IPython.core.display.Javascript object>"
      ]
     },
     "metadata": {},
     "output_type": "display_data"
    },
    {
     "data": {
      "application/javascript": [
       "\n",
       "        if (window._pyforest_update_imports_cell) { window._pyforest_update_imports_cell('import numpy as np\\nimport glob'); }\n",
       "    "
      ],
      "text/plain": [
       "<IPython.core.display.Javascript object>"
      ]
     },
     "metadata": {},
     "output_type": "display_data"
    },
    {
     "data": {
      "application/javascript": [
       "\n",
       "        if (window._pyforest_update_imports_cell) { window._pyforest_update_imports_cell('import numpy as np\\nimport glob'); }\n",
       "    "
      ],
      "text/plain": [
       "<IPython.core.display.Javascript object>"
      ]
     },
     "metadata": {},
     "output_type": "display_data"
    },
    {
     "data": {
      "application/javascript": [
       "\n",
       "        if (window._pyforest_update_imports_cell) { window._pyforest_update_imports_cell('import numpy as np\\nimport glob'); }\n",
       "    "
      ],
      "text/plain": [
       "<IPython.core.display.Javascript object>"
      ]
     },
     "metadata": {},
     "output_type": "display_data"
    },
    {
     "data": {
      "application/javascript": [
       "\n",
       "        if (window._pyforest_update_imports_cell) { window._pyforest_update_imports_cell('import numpy as np\\nimport glob'); }\n",
       "    "
      ],
      "text/plain": [
       "<IPython.core.display.Javascript object>"
      ]
     },
     "metadata": {},
     "output_type": "display_data"
    },
    {
     "data": {
      "application/javascript": [
       "\n",
       "        if (window._pyforest_update_imports_cell) { window._pyforest_update_imports_cell('import numpy as np\\nimport glob'); }\n",
       "    "
      ],
      "text/plain": [
       "<IPython.core.display.Javascript object>"
      ]
     },
     "metadata": {},
     "output_type": "display_data"
    },
    {
     "data": {
      "application/javascript": [
       "\n",
       "        if (window._pyforest_update_imports_cell) { window._pyforest_update_imports_cell('import numpy as np\\nimport glob'); }\n",
       "    "
      ],
      "text/plain": [
       "<IPython.core.display.Javascript object>"
      ]
     },
     "metadata": {},
     "output_type": "display_data"
    },
    {
     "data": {
      "application/javascript": [
       "\n",
       "        if (window._pyforest_update_imports_cell) { window._pyforest_update_imports_cell('import numpy as np\\nimport glob'); }\n",
       "    "
      ],
      "text/plain": [
       "<IPython.core.display.Javascript object>"
      ]
     },
     "metadata": {},
     "output_type": "display_data"
    },
    {
     "data": {
      "application/javascript": [
       "\n",
       "        if (window._pyforest_update_imports_cell) { window._pyforest_update_imports_cell('import numpy as np\\nimport glob'); }\n",
       "    "
      ],
      "text/plain": [
       "<IPython.core.display.Javascript object>"
      ]
     },
     "metadata": {},
     "output_type": "display_data"
    },
    {
     "data": {
      "application/javascript": [
       "\n",
       "        if (window._pyforest_update_imports_cell) { window._pyforest_update_imports_cell('import numpy as np\\nimport glob'); }\n",
       "    "
      ],
      "text/plain": [
       "<IPython.core.display.Javascript object>"
      ]
     },
     "metadata": {},
     "output_type": "display_data"
    },
    {
     "data": {
      "application/javascript": [
       "\n",
       "        if (window._pyforest_update_imports_cell) { window._pyforest_update_imports_cell('import numpy as np\\nimport glob'); }\n",
       "    "
      ],
      "text/plain": [
       "<IPython.core.display.Javascript object>"
      ]
     },
     "metadata": {},
     "output_type": "display_data"
    },
    {
     "data": {
      "application/javascript": [
       "\n",
       "        if (window._pyforest_update_imports_cell) { window._pyforest_update_imports_cell('import numpy as np\\nimport glob'); }\n",
       "    "
      ],
      "text/plain": [
       "<IPython.core.display.Javascript object>"
      ]
     },
     "metadata": {},
     "output_type": "display_data"
    },
    {
     "data": {
      "application/javascript": [
       "\n",
       "        if (window._pyforest_update_imports_cell) { window._pyforest_update_imports_cell('import numpy as np\\nimport glob'); }\n",
       "    "
      ],
      "text/plain": [
       "<IPython.core.display.Javascript object>"
      ]
     },
     "metadata": {},
     "output_type": "display_data"
    },
    {
     "data": {
      "application/javascript": [
       "\n",
       "        if (window._pyforest_update_imports_cell) { window._pyforest_update_imports_cell('import numpy as np\\nimport glob'); }\n",
       "    "
      ],
      "text/plain": [
       "<IPython.core.display.Javascript object>"
      ]
     },
     "metadata": {},
     "output_type": "display_data"
    },
    {
     "data": {
      "application/javascript": [
       "\n",
       "        if (window._pyforest_update_imports_cell) { window._pyforest_update_imports_cell('import numpy as np\\nimport glob'); }\n",
       "    "
      ],
      "text/plain": [
       "<IPython.core.display.Javascript object>"
      ]
     },
     "metadata": {},
     "output_type": "display_data"
    },
    {
     "data": {
      "application/javascript": [
       "\n",
       "        if (window._pyforest_update_imports_cell) { window._pyforest_update_imports_cell('import numpy as np\\nimport glob'); }\n",
       "    "
      ],
      "text/plain": [
       "<IPython.core.display.Javascript object>"
      ]
     },
     "metadata": {},
     "output_type": "display_data"
    },
    {
     "data": {
      "application/javascript": [
       "\n",
       "        if (window._pyforest_update_imports_cell) { window._pyforest_update_imports_cell('import numpy as np\\nimport glob'); }\n",
       "    "
      ],
      "text/plain": [
       "<IPython.core.display.Javascript object>"
      ]
     },
     "metadata": {},
     "output_type": "display_data"
    },
    {
     "data": {
      "application/javascript": [
       "\n",
       "        if (window._pyforest_update_imports_cell) { window._pyforest_update_imports_cell('import numpy as np\\nimport glob'); }\n",
       "    "
      ],
      "text/plain": [
       "<IPython.core.display.Javascript object>"
      ]
     },
     "metadata": {},
     "output_type": "display_data"
    },
    {
     "data": {
      "application/javascript": [
       "\n",
       "        if (window._pyforest_update_imports_cell) { window._pyforest_update_imports_cell('import numpy as np\\nimport glob'); }\n",
       "    "
      ],
      "text/plain": [
       "<IPython.core.display.Javascript object>"
      ]
     },
     "metadata": {},
     "output_type": "display_data"
    },
    {
     "data": {
      "application/javascript": [
       "\n",
       "        if (window._pyforest_update_imports_cell) { window._pyforest_update_imports_cell('import numpy as np\\nimport glob'); }\n",
       "    "
      ],
      "text/plain": [
       "<IPython.core.display.Javascript object>"
      ]
     },
     "metadata": {},
     "output_type": "display_data"
    },
    {
     "data": {
      "application/javascript": [
       "\n",
       "        if (window._pyforest_update_imports_cell) { window._pyforest_update_imports_cell('import numpy as np\\nimport glob'); }\n",
       "    "
      ],
      "text/plain": [
       "<IPython.core.display.Javascript object>"
      ]
     },
     "metadata": {},
     "output_type": "display_data"
    },
    {
     "data": {
      "application/javascript": [
       "\n",
       "        if (window._pyforest_update_imports_cell) { window._pyforest_update_imports_cell('import numpy as np\\nimport glob'); }\n",
       "    "
      ],
      "text/plain": [
       "<IPython.core.display.Javascript object>"
      ]
     },
     "metadata": {},
     "output_type": "display_data"
    },
    {
     "data": {
      "application/javascript": [
       "\n",
       "        if (window._pyforest_update_imports_cell) { window._pyforest_update_imports_cell('import numpy as np\\nimport glob'); }\n",
       "    "
      ],
      "text/plain": [
       "<IPython.core.display.Javascript object>"
      ]
     },
     "metadata": {},
     "output_type": "display_data"
    },
    {
     "data": {
      "application/javascript": [
       "\n",
       "        if (window._pyforest_update_imports_cell) { window._pyforest_update_imports_cell('import numpy as np\\nimport glob'); }\n",
       "    "
      ],
      "text/plain": [
       "<IPython.core.display.Javascript object>"
      ]
     },
     "metadata": {},
     "output_type": "display_data"
    },
    {
     "data": {
      "application/javascript": [
       "\n",
       "        if (window._pyforest_update_imports_cell) { window._pyforest_update_imports_cell('import numpy as np\\nimport glob'); }\n",
       "    "
      ],
      "text/plain": [
       "<IPython.core.display.Javascript object>"
      ]
     },
     "metadata": {},
     "output_type": "display_data"
    },
    {
     "data": {
      "application/javascript": [
       "\n",
       "        if (window._pyforest_update_imports_cell) { window._pyforest_update_imports_cell('import numpy as np\\nimport glob'); }\n",
       "    "
      ],
      "text/plain": [
       "<IPython.core.display.Javascript object>"
      ]
     },
     "metadata": {},
     "output_type": "display_data"
    },
    {
     "data": {
      "application/javascript": [
       "\n",
       "        if (window._pyforest_update_imports_cell) { window._pyforest_update_imports_cell('import numpy as np\\nimport glob'); }\n",
       "    "
      ],
      "text/plain": [
       "<IPython.core.display.Javascript object>"
      ]
     },
     "metadata": {},
     "output_type": "display_data"
    },
    {
     "data": {
      "application/javascript": [
       "\n",
       "        if (window._pyforest_update_imports_cell) { window._pyforest_update_imports_cell('import numpy as np\\nimport glob'); }\n",
       "    "
      ],
      "text/plain": [
       "<IPython.core.display.Javascript object>"
      ]
     },
     "metadata": {},
     "output_type": "display_data"
    },
    {
     "data": {
      "application/javascript": [
       "\n",
       "        if (window._pyforest_update_imports_cell) { window._pyforest_update_imports_cell('import numpy as np\\nimport glob'); }\n",
       "    "
      ],
      "text/plain": [
       "<IPython.core.display.Javascript object>"
      ]
     },
     "metadata": {},
     "output_type": "display_data"
    },
    {
     "data": {
      "application/javascript": [
       "\n",
       "        if (window._pyforest_update_imports_cell) { window._pyforest_update_imports_cell('import numpy as np\\nimport glob'); }\n",
       "    "
      ],
      "text/plain": [
       "<IPython.core.display.Javascript object>"
      ]
     },
     "metadata": {},
     "output_type": "display_data"
    },
    {
     "data": {
      "application/javascript": [
       "\n",
       "        if (window._pyforest_update_imports_cell) { window._pyforest_update_imports_cell('import numpy as np\\nimport glob'); }\n",
       "    "
      ],
      "text/plain": [
       "<IPython.core.display.Javascript object>"
      ]
     },
     "metadata": {},
     "output_type": "display_data"
    },
    {
     "data": {
      "application/javascript": [
       "\n",
       "        if (window._pyforest_update_imports_cell) { window._pyforest_update_imports_cell('import numpy as np\\nimport glob'); }\n",
       "    "
      ],
      "text/plain": [
       "<IPython.core.display.Javascript object>"
      ]
     },
     "metadata": {},
     "output_type": "display_data"
    },
    {
     "data": {
      "application/javascript": [
       "\n",
       "        if (window._pyforest_update_imports_cell) { window._pyforest_update_imports_cell('import numpy as np\\nimport glob'); }\n",
       "    "
      ],
      "text/plain": [
       "<IPython.core.display.Javascript object>"
      ]
     },
     "metadata": {},
     "output_type": "display_data"
    },
    {
     "data": {
      "application/javascript": [
       "\n",
       "        if (window._pyforest_update_imports_cell) { window._pyforest_update_imports_cell('import numpy as np\\nimport glob'); }\n",
       "    "
      ],
      "text/plain": [
       "<IPython.core.display.Javascript object>"
      ]
     },
     "metadata": {},
     "output_type": "display_data"
    },
    {
     "data": {
      "application/javascript": [
       "\n",
       "        if (window._pyforest_update_imports_cell) { window._pyforest_update_imports_cell('import numpy as np\\nimport glob'); }\n",
       "    "
      ],
      "text/plain": [
       "<IPython.core.display.Javascript object>"
      ]
     },
     "metadata": {},
     "output_type": "display_data"
    },
    {
     "data": {
      "application/javascript": [
       "\n",
       "        if (window._pyforest_update_imports_cell) { window._pyforest_update_imports_cell('import numpy as np\\nimport glob'); }\n",
       "    "
      ],
      "text/plain": [
       "<IPython.core.display.Javascript object>"
      ]
     },
     "metadata": {},
     "output_type": "display_data"
    },
    {
     "data": {
      "application/javascript": [
       "\n",
       "        if (window._pyforest_update_imports_cell) { window._pyforest_update_imports_cell('import numpy as np\\nimport glob'); }\n",
       "    "
      ],
      "text/plain": [
       "<IPython.core.display.Javascript object>"
      ]
     },
     "metadata": {},
     "output_type": "display_data"
    },
    {
     "data": {
      "application/javascript": [
       "\n",
       "        if (window._pyforest_update_imports_cell) { window._pyforest_update_imports_cell('import numpy as np\\nimport glob'); }\n",
       "    "
      ],
      "text/plain": [
       "<IPython.core.display.Javascript object>"
      ]
     },
     "metadata": {},
     "output_type": "display_data"
    },
    {
     "data": {
      "application/javascript": [
       "\n",
       "        if (window._pyforest_update_imports_cell) { window._pyforest_update_imports_cell('import numpy as np\\nimport glob'); }\n",
       "    "
      ],
      "text/plain": [
       "<IPython.core.display.Javascript object>"
      ]
     },
     "metadata": {},
     "output_type": "display_data"
    },
    {
     "data": {
      "application/javascript": [
       "\n",
       "        if (window._pyforest_update_imports_cell) { window._pyforest_update_imports_cell('import numpy as np\\nimport glob'); }\n",
       "    "
      ],
      "text/plain": [
       "<IPython.core.display.Javascript object>"
      ]
     },
     "metadata": {},
     "output_type": "display_data"
    },
    {
     "data": {
      "application/javascript": [
       "\n",
       "        if (window._pyforest_update_imports_cell) { window._pyforest_update_imports_cell('import numpy as np\\nimport glob'); }\n",
       "    "
      ],
      "text/plain": [
       "<IPython.core.display.Javascript object>"
      ]
     },
     "metadata": {},
     "output_type": "display_data"
    },
    {
     "data": {
      "application/javascript": [
       "\n",
       "        if (window._pyforest_update_imports_cell) { window._pyforest_update_imports_cell('import numpy as np\\nimport glob'); }\n",
       "    "
      ],
      "text/plain": [
       "<IPython.core.display.Javascript object>"
      ]
     },
     "metadata": {},
     "output_type": "display_data"
    },
    {
     "data": {
      "application/javascript": [
       "\n",
       "        if (window._pyforest_update_imports_cell) { window._pyforest_update_imports_cell('import numpy as np\\nimport glob'); }\n",
       "    "
      ],
      "text/plain": [
       "<IPython.core.display.Javascript object>"
      ]
     },
     "metadata": {},
     "output_type": "display_data"
    },
    {
     "data": {
      "application/javascript": [
       "\n",
       "        if (window._pyforest_update_imports_cell) { window._pyforest_update_imports_cell('import numpy as np\\nimport glob'); }\n",
       "    "
      ],
      "text/plain": [
       "<IPython.core.display.Javascript object>"
      ]
     },
     "metadata": {},
     "output_type": "display_data"
    },
    {
     "data": {
      "application/javascript": [
       "\n",
       "        if (window._pyforest_update_imports_cell) { window._pyforest_update_imports_cell('import numpy as np\\nimport glob'); }\n",
       "    "
      ],
      "text/plain": [
       "<IPython.core.display.Javascript object>"
      ]
     },
     "metadata": {},
     "output_type": "display_data"
    },
    {
     "data": {
      "application/javascript": [
       "\n",
       "        if (window._pyforest_update_imports_cell) { window._pyforest_update_imports_cell('import numpy as np\\nimport glob'); }\n",
       "    "
      ],
      "text/plain": [
       "<IPython.core.display.Javascript object>"
      ]
     },
     "metadata": {},
     "output_type": "display_data"
    },
    {
     "data": {
      "application/javascript": [
       "\n",
       "        if (window._pyforest_update_imports_cell) { window._pyforest_update_imports_cell('import numpy as np\\nimport glob'); }\n",
       "    "
      ],
      "text/plain": [
       "<IPython.core.display.Javascript object>"
      ]
     },
     "metadata": {},
     "output_type": "display_data"
    },
    {
     "data": {
      "application/javascript": [
       "\n",
       "        if (window._pyforest_update_imports_cell) { window._pyforest_update_imports_cell('import numpy as np\\nimport glob'); }\n",
       "    "
      ],
      "text/plain": [
       "<IPython.core.display.Javascript object>"
      ]
     },
     "metadata": {},
     "output_type": "display_data"
    },
    {
     "data": {
      "application/javascript": [
       "\n",
       "        if (window._pyforest_update_imports_cell) { window._pyforest_update_imports_cell('import numpy as np\\nimport glob'); }\n",
       "    "
      ],
      "text/plain": [
       "<IPython.core.display.Javascript object>"
      ]
     },
     "metadata": {},
     "output_type": "display_data"
    },
    {
     "data": {
      "application/javascript": [
       "\n",
       "        if (window._pyforest_update_imports_cell) { window._pyforest_update_imports_cell('import numpy as np\\nimport glob'); }\n",
       "    "
      ],
      "text/plain": [
       "<IPython.core.display.Javascript object>"
      ]
     },
     "metadata": {},
     "output_type": "display_data"
    },
    {
     "data": {
      "application/javascript": [
       "\n",
       "        if (window._pyforest_update_imports_cell) { window._pyforest_update_imports_cell('import numpy as np\\nimport glob'); }\n",
       "    "
      ],
      "text/plain": [
       "<IPython.core.display.Javascript object>"
      ]
     },
     "metadata": {},
     "output_type": "display_data"
    },
    {
     "data": {
      "application/javascript": [
       "\n",
       "        if (window._pyforest_update_imports_cell) { window._pyforest_update_imports_cell('import numpy as np\\nimport glob'); }\n",
       "    "
      ],
      "text/plain": [
       "<IPython.core.display.Javascript object>"
      ]
     },
     "metadata": {},
     "output_type": "display_data"
    },
    {
     "data": {
      "application/javascript": [
       "\n",
       "        if (window._pyforest_update_imports_cell) { window._pyforest_update_imports_cell('import numpy as np\\nimport glob'); }\n",
       "    "
      ],
      "text/plain": [
       "<IPython.core.display.Javascript object>"
      ]
     },
     "metadata": {},
     "output_type": "display_data"
    },
    {
     "data": {
      "application/javascript": [
       "\n",
       "        if (window._pyforest_update_imports_cell) { window._pyforest_update_imports_cell('import numpy as np\\nimport glob'); }\n",
       "    "
      ],
      "text/plain": [
       "<IPython.core.display.Javascript object>"
      ]
     },
     "metadata": {},
     "output_type": "display_data"
    },
    {
     "data": {
      "application/javascript": [
       "\n",
       "        if (window._pyforest_update_imports_cell) { window._pyforest_update_imports_cell('import numpy as np\\nimport glob'); }\n",
       "    "
      ],
      "text/plain": [
       "<IPython.core.display.Javascript object>"
      ]
     },
     "metadata": {},
     "output_type": "display_data"
    },
    {
     "data": {
      "application/javascript": [
       "\n",
       "        if (window._pyforest_update_imports_cell) { window._pyforest_update_imports_cell('import numpy as np\\nimport glob'); }\n",
       "    "
      ],
      "text/plain": [
       "<IPython.core.display.Javascript object>"
      ]
     },
     "metadata": {},
     "output_type": "display_data"
    },
    {
     "data": {
      "application/javascript": [
       "\n",
       "        if (window._pyforest_update_imports_cell) { window._pyforest_update_imports_cell('import numpy as np\\nimport glob'); }\n",
       "    "
      ],
      "text/plain": [
       "<IPython.core.display.Javascript object>"
      ]
     },
     "metadata": {},
     "output_type": "display_data"
    },
    {
     "data": {
      "application/javascript": [
       "\n",
       "        if (window._pyforest_update_imports_cell) { window._pyforest_update_imports_cell('import numpy as np\\nimport glob'); }\n",
       "    "
      ],
      "text/plain": [
       "<IPython.core.display.Javascript object>"
      ]
     },
     "metadata": {},
     "output_type": "display_data"
    },
    {
     "data": {
      "application/javascript": [
       "\n",
       "        if (window._pyforest_update_imports_cell) { window._pyforest_update_imports_cell('import numpy as np\\nimport glob'); }\n",
       "    "
      ],
      "text/plain": [
       "<IPython.core.display.Javascript object>"
      ]
     },
     "metadata": {},
     "output_type": "display_data"
    },
    {
     "data": {
      "application/javascript": [
       "\n",
       "        if (window._pyforest_update_imports_cell) { window._pyforest_update_imports_cell('import numpy as np\\nimport glob'); }\n",
       "    "
      ],
      "text/plain": [
       "<IPython.core.display.Javascript object>"
      ]
     },
     "metadata": {},
     "output_type": "display_data"
    },
    {
     "data": {
      "application/javascript": [
       "\n",
       "        if (window._pyforest_update_imports_cell) { window._pyforest_update_imports_cell('import numpy as np\\nimport glob'); }\n",
       "    "
      ],
      "text/plain": [
       "<IPython.core.display.Javascript object>"
      ]
     },
     "metadata": {},
     "output_type": "display_data"
    },
    {
     "data": {
      "application/javascript": [
       "\n",
       "        if (window._pyforest_update_imports_cell) { window._pyforest_update_imports_cell('import numpy as np\\nimport glob'); }\n",
       "    "
      ],
      "text/plain": [
       "<IPython.core.display.Javascript object>"
      ]
     },
     "metadata": {},
     "output_type": "display_data"
    },
    {
     "data": {
      "application/javascript": [
       "\n",
       "        if (window._pyforest_update_imports_cell) { window._pyforest_update_imports_cell('import numpy as np\\nimport glob'); }\n",
       "    "
      ],
      "text/plain": [
       "<IPython.core.display.Javascript object>"
      ]
     },
     "metadata": {},
     "output_type": "display_data"
    },
    {
     "data": {
      "application/javascript": [
       "\n",
       "        if (window._pyforest_update_imports_cell) { window._pyforest_update_imports_cell('import numpy as np\\nimport glob'); }\n",
       "    "
      ],
      "text/plain": [
       "<IPython.core.display.Javascript object>"
      ]
     },
     "metadata": {},
     "output_type": "display_data"
    },
    {
     "data": {
      "application/javascript": [
       "\n",
       "        if (window._pyforest_update_imports_cell) { window._pyforest_update_imports_cell('import numpy as np\\nimport glob'); }\n",
       "    "
      ],
      "text/plain": [
       "<IPython.core.display.Javascript object>"
      ]
     },
     "metadata": {},
     "output_type": "display_data"
    },
    {
     "data": {
      "application/javascript": [
       "\n",
       "        if (window._pyforest_update_imports_cell) { window._pyforest_update_imports_cell('import numpy as np\\nimport glob'); }\n",
       "    "
      ],
      "text/plain": [
       "<IPython.core.display.Javascript object>"
      ]
     },
     "metadata": {},
     "output_type": "display_data"
    },
    {
     "data": {
      "application/javascript": [
       "\n",
       "        if (window._pyforest_update_imports_cell) { window._pyforest_update_imports_cell('import numpy as np\\nimport glob'); }\n",
       "    "
      ],
      "text/plain": [
       "<IPython.core.display.Javascript object>"
      ]
     },
     "metadata": {},
     "output_type": "display_data"
    },
    {
     "data": {
      "application/javascript": [
       "\n",
       "        if (window._pyforest_update_imports_cell) { window._pyforest_update_imports_cell('import numpy as np\\nimport glob'); }\n",
       "    "
      ],
      "text/plain": [
       "<IPython.core.display.Javascript object>"
      ]
     },
     "metadata": {},
     "output_type": "display_data"
    },
    {
     "data": {
      "application/javascript": [
       "\n",
       "        if (window._pyforest_update_imports_cell) { window._pyforest_update_imports_cell('import numpy as np\\nimport glob'); }\n",
       "    "
      ],
      "text/plain": [
       "<IPython.core.display.Javascript object>"
      ]
     },
     "metadata": {},
     "output_type": "display_data"
    },
    {
     "data": {
      "application/javascript": [
       "\n",
       "        if (window._pyforest_update_imports_cell) { window._pyforest_update_imports_cell('import numpy as np\\nimport glob'); }\n",
       "    "
      ],
      "text/plain": [
       "<IPython.core.display.Javascript object>"
      ]
     },
     "metadata": {},
     "output_type": "display_data"
    },
    {
     "data": {
      "application/javascript": [
       "\n",
       "        if (window._pyforest_update_imports_cell) { window._pyforest_update_imports_cell('import numpy as np\\nimport glob'); }\n",
       "    "
      ],
      "text/plain": [
       "<IPython.core.display.Javascript object>"
      ]
     },
     "metadata": {},
     "output_type": "display_data"
    },
    {
     "data": {
      "application/javascript": [
       "\n",
       "        if (window._pyforest_update_imports_cell) { window._pyforest_update_imports_cell('import numpy as np\\nimport glob'); }\n",
       "    "
      ],
      "text/plain": [
       "<IPython.core.display.Javascript object>"
      ]
     },
     "metadata": {},
     "output_type": "display_data"
    },
    {
     "data": {
      "application/javascript": [
       "\n",
       "        if (window._pyforest_update_imports_cell) { window._pyforest_update_imports_cell('import numpy as np\\nimport glob'); }\n",
       "    "
      ],
      "text/plain": [
       "<IPython.core.display.Javascript object>"
      ]
     },
     "metadata": {},
     "output_type": "display_data"
    },
    {
     "data": {
      "application/javascript": [
       "\n",
       "        if (window._pyforest_update_imports_cell) { window._pyforest_update_imports_cell('import numpy as np\\nimport glob'); }\n",
       "    "
      ],
      "text/plain": [
       "<IPython.core.display.Javascript object>"
      ]
     },
     "metadata": {},
     "output_type": "display_data"
    },
    {
     "data": {
      "application/javascript": [
       "\n",
       "        if (window._pyforest_update_imports_cell) { window._pyforest_update_imports_cell('import numpy as np\\nimport glob'); }\n",
       "    "
      ],
      "text/plain": [
       "<IPython.core.display.Javascript object>"
      ]
     },
     "metadata": {},
     "output_type": "display_data"
    },
    {
     "data": {
      "application/javascript": [
       "\n",
       "        if (window._pyforest_update_imports_cell) { window._pyforest_update_imports_cell('import numpy as np\\nimport glob'); }\n",
       "    "
      ],
      "text/plain": [
       "<IPython.core.display.Javascript object>"
      ]
     },
     "metadata": {},
     "output_type": "display_data"
    },
    {
     "data": {
      "application/javascript": [
       "\n",
       "        if (window._pyforest_update_imports_cell) { window._pyforest_update_imports_cell('import numpy as np\\nimport glob'); }\n",
       "    "
      ],
      "text/plain": [
       "<IPython.core.display.Javascript object>"
      ]
     },
     "metadata": {},
     "output_type": "display_data"
    },
    {
     "data": {
      "application/javascript": [
       "\n",
       "        if (window._pyforest_update_imports_cell) { window._pyforest_update_imports_cell('import numpy as np\\nimport glob'); }\n",
       "    "
      ],
      "text/plain": [
       "<IPython.core.display.Javascript object>"
      ]
     },
     "metadata": {},
     "output_type": "display_data"
    },
    {
     "data": {
      "application/javascript": [
       "\n",
       "        if (window._pyforest_update_imports_cell) { window._pyforest_update_imports_cell('import numpy as np\\nimport glob'); }\n",
       "    "
      ],
      "text/plain": [
       "<IPython.core.display.Javascript object>"
      ]
     },
     "metadata": {},
     "output_type": "display_data"
    },
    {
     "data": {
      "application/javascript": [
       "\n",
       "        if (window._pyforest_update_imports_cell) { window._pyforest_update_imports_cell('import numpy as np\\nimport glob'); }\n",
       "    "
      ],
      "text/plain": [
       "<IPython.core.display.Javascript object>"
      ]
     },
     "metadata": {},
     "output_type": "display_data"
    },
    {
     "data": {
      "application/javascript": [
       "\n",
       "        if (window._pyforest_update_imports_cell) { window._pyforest_update_imports_cell('import numpy as np\\nimport glob'); }\n",
       "    "
      ],
      "text/plain": [
       "<IPython.core.display.Javascript object>"
      ]
     },
     "metadata": {},
     "output_type": "display_data"
    },
    {
     "data": {
      "application/javascript": [
       "\n",
       "        if (window._pyforest_update_imports_cell) { window._pyforest_update_imports_cell('import numpy as np\\nimport glob'); }\n",
       "    "
      ],
      "text/plain": [
       "<IPython.core.display.Javascript object>"
      ]
     },
     "metadata": {},
     "output_type": "display_data"
    },
    {
     "data": {
      "application/javascript": [
       "\n",
       "        if (window._pyforest_update_imports_cell) { window._pyforest_update_imports_cell('import numpy as np\\nimport glob'); }\n",
       "    "
      ],
      "text/plain": [
       "<IPython.core.display.Javascript object>"
      ]
     },
     "metadata": {},
     "output_type": "display_data"
    },
    {
     "data": {
      "application/javascript": [
       "\n",
       "        if (window._pyforest_update_imports_cell) { window._pyforest_update_imports_cell('import numpy as np\\nimport glob'); }\n",
       "    "
      ],
      "text/plain": [
       "<IPython.core.display.Javascript object>"
      ]
     },
     "metadata": {},
     "output_type": "display_data"
    },
    {
     "data": {
      "application/javascript": [
       "\n",
       "        if (window._pyforest_update_imports_cell) { window._pyforest_update_imports_cell('import numpy as np\\nimport glob'); }\n",
       "    "
      ],
      "text/plain": [
       "<IPython.core.display.Javascript object>"
      ]
     },
     "metadata": {},
     "output_type": "display_data"
    },
    {
     "data": {
      "application/javascript": [
       "\n",
       "        if (window._pyforest_update_imports_cell) { window._pyforest_update_imports_cell('import numpy as np\\nimport glob'); }\n",
       "    "
      ],
      "text/plain": [
       "<IPython.core.display.Javascript object>"
      ]
     },
     "metadata": {},
     "output_type": "display_data"
    },
    {
     "data": {
      "application/javascript": [
       "\n",
       "        if (window._pyforest_update_imports_cell) { window._pyforest_update_imports_cell('import numpy as np\\nimport glob'); }\n",
       "    "
      ],
      "text/plain": [
       "<IPython.core.display.Javascript object>"
      ]
     },
     "metadata": {},
     "output_type": "display_data"
    },
    {
     "data": {
      "application/javascript": [
       "\n",
       "        if (window._pyforest_update_imports_cell) { window._pyforest_update_imports_cell('import numpy as np\\nimport glob'); }\n",
       "    "
      ],
      "text/plain": [
       "<IPython.core.display.Javascript object>"
      ]
     },
     "metadata": {},
     "output_type": "display_data"
    },
    {
     "data": {
      "application/javascript": [
       "\n",
       "        if (window._pyforest_update_imports_cell) { window._pyforest_update_imports_cell('import numpy as np\\nimport glob'); }\n",
       "    "
      ],
      "text/plain": [
       "<IPython.core.display.Javascript object>"
      ]
     },
     "metadata": {},
     "output_type": "display_data"
    },
    {
     "data": {
      "application/javascript": [
       "\n",
       "        if (window._pyforest_update_imports_cell) { window._pyforest_update_imports_cell('import numpy as np\\nimport glob'); }\n",
       "    "
      ],
      "text/plain": [
       "<IPython.core.display.Javascript object>"
      ]
     },
     "metadata": {},
     "output_type": "display_data"
    },
    {
     "data": {
      "application/javascript": [
       "\n",
       "        if (window._pyforest_update_imports_cell) { window._pyforest_update_imports_cell('import numpy as np\\nimport glob'); }\n",
       "    "
      ],
      "text/plain": [
       "<IPython.core.display.Javascript object>"
      ]
     },
     "metadata": {},
     "output_type": "display_data"
    },
    {
     "data": {
      "application/javascript": [
       "\n",
       "        if (window._pyforest_update_imports_cell) { window._pyforest_update_imports_cell('import numpy as np\\nimport glob'); }\n",
       "    "
      ],
      "text/plain": [
       "<IPython.core.display.Javascript object>"
      ]
     },
     "metadata": {},
     "output_type": "display_data"
    },
    {
     "data": {
      "application/javascript": [
       "\n",
       "        if (window._pyforest_update_imports_cell) { window._pyforest_update_imports_cell('import numpy as np\\nimport glob'); }\n",
       "    "
      ],
      "text/plain": [
       "<IPython.core.display.Javascript object>"
      ]
     },
     "metadata": {},
     "output_type": "display_data"
    },
    {
     "data": {
      "application/javascript": [
       "\n",
       "        if (window._pyforest_update_imports_cell) { window._pyforest_update_imports_cell('import numpy as np\\nimport glob'); }\n",
       "    "
      ],
      "text/plain": [
       "<IPython.core.display.Javascript object>"
      ]
     },
     "metadata": {},
     "output_type": "display_data"
    },
    {
     "data": {
      "application/javascript": [
       "\n",
       "        if (window._pyforest_update_imports_cell) { window._pyforest_update_imports_cell('import numpy as np\\nimport glob'); }\n",
       "    "
      ],
      "text/plain": [
       "<IPython.core.display.Javascript object>"
      ]
     },
     "metadata": {},
     "output_type": "display_data"
    },
    {
     "data": {
      "application/javascript": [
       "\n",
       "        if (window._pyforest_update_imports_cell) { window._pyforest_update_imports_cell('import numpy as np\\nimport glob'); }\n",
       "    "
      ],
      "text/plain": [
       "<IPython.core.display.Javascript object>"
      ]
     },
     "metadata": {},
     "output_type": "display_data"
    }
   ],
   "source": [
    "# Keeping the unigram correction with the highest frequency\n",
    "\n",
    "non_words2['unigram_correction'] = [sort_unigram_tuple(x)[0][0] if len(x) != 0 else np.NaN for x in non_words2['unigram_suggestions']]"
   ]
  },
  {
   "cell_type": "code",
   "execution_count": 91,
   "metadata": {},
   "outputs": [],
   "source": [
    "# Create new column with just the most likely correction (based on frequency)\n",
    "\n",
    "def sort_bigram_tuple(tup):  \n",
    "    tup.sort(key = lambda x: x[0][2], reverse=True)  \n",
    "    return tup    "
   ]
  },
  {
   "cell_type": "code",
   "execution_count": 92,
   "metadata": {},
   "outputs": [
    {
     "data": {
      "application/javascript": [
       "\n",
       "        if (window._pyforest_update_imports_cell) { window._pyforest_update_imports_cell('import numpy as np\\nimport glob'); }\n",
       "    "
      ],
      "text/plain": [
       "<IPython.core.display.Javascript object>"
      ]
     },
     "metadata": {},
     "output_type": "display_data"
    },
    {
     "data": {
      "application/javascript": [
       "\n",
       "        if (window._pyforest_update_imports_cell) { window._pyforest_update_imports_cell('import numpy as np\\nimport glob'); }\n",
       "    "
      ],
      "text/plain": [
       "<IPython.core.display.Javascript object>"
      ]
     },
     "metadata": {},
     "output_type": "display_data"
    },
    {
     "data": {
      "application/javascript": [
       "\n",
       "        if (window._pyforest_update_imports_cell) { window._pyforest_update_imports_cell('import numpy as np\\nimport glob'); }\n",
       "    "
      ],
      "text/plain": [
       "<IPython.core.display.Javascript object>"
      ]
     },
     "metadata": {},
     "output_type": "display_data"
    },
    {
     "data": {
      "application/javascript": [
       "\n",
       "        if (window._pyforest_update_imports_cell) { window._pyforest_update_imports_cell('import numpy as np\\nimport glob'); }\n",
       "    "
      ],
      "text/plain": [
       "<IPython.core.display.Javascript object>"
      ]
     },
     "metadata": {},
     "output_type": "display_data"
    },
    {
     "data": {
      "application/javascript": [
       "\n",
       "        if (window._pyforest_update_imports_cell) { window._pyforest_update_imports_cell('import numpy as np\\nimport glob'); }\n",
       "    "
      ],
      "text/plain": [
       "<IPython.core.display.Javascript object>"
      ]
     },
     "metadata": {},
     "output_type": "display_data"
    },
    {
     "data": {
      "application/javascript": [
       "\n",
       "        if (window._pyforest_update_imports_cell) { window._pyforest_update_imports_cell('import numpy as np\\nimport glob'); }\n",
       "    "
      ],
      "text/plain": [
       "<IPython.core.display.Javascript object>"
      ]
     },
     "metadata": {},
     "output_type": "display_data"
    },
    {
     "data": {
      "application/javascript": [
       "\n",
       "        if (window._pyforest_update_imports_cell) { window._pyforest_update_imports_cell('import numpy as np\\nimport glob'); }\n",
       "    "
      ],
      "text/plain": [
       "<IPython.core.display.Javascript object>"
      ]
     },
     "metadata": {},
     "output_type": "display_data"
    },
    {
     "data": {
      "application/javascript": [
       "\n",
       "        if (window._pyforest_update_imports_cell) { window._pyforest_update_imports_cell('import numpy as np\\nimport glob'); }\n",
       "    "
      ],
      "text/plain": [
       "<IPython.core.display.Javascript object>"
      ]
     },
     "metadata": {},
     "output_type": "display_data"
    },
    {
     "data": {
      "application/javascript": [
       "\n",
       "        if (window._pyforest_update_imports_cell) { window._pyforest_update_imports_cell('import numpy as np\\nimport glob'); }\n",
       "    "
      ],
      "text/plain": [
       "<IPython.core.display.Javascript object>"
      ]
     },
     "metadata": {},
     "output_type": "display_data"
    },
    {
     "data": {
      "application/javascript": [
       "\n",
       "        if (window._pyforest_update_imports_cell) { window._pyforest_update_imports_cell('import numpy as np\\nimport glob'); }\n",
       "    "
      ],
      "text/plain": [
       "<IPython.core.display.Javascript object>"
      ]
     },
     "metadata": {},
     "output_type": "display_data"
    },
    {
     "data": {
      "application/javascript": [
       "\n",
       "        if (window._pyforest_update_imports_cell) { window._pyforest_update_imports_cell('import numpy as np\\nimport glob'); }\n",
       "    "
      ],
      "text/plain": [
       "<IPython.core.display.Javascript object>"
      ]
     },
     "metadata": {},
     "output_type": "display_data"
    },
    {
     "data": {
      "application/javascript": [
       "\n",
       "        if (window._pyforest_update_imports_cell) { window._pyforest_update_imports_cell('import numpy as np\\nimport glob'); }\n",
       "    "
      ],
      "text/plain": [
       "<IPython.core.display.Javascript object>"
      ]
     },
     "metadata": {},
     "output_type": "display_data"
    },
    {
     "data": {
      "application/javascript": [
       "\n",
       "        if (window._pyforest_update_imports_cell) { window._pyforest_update_imports_cell('import numpy as np\\nimport glob'); }\n",
       "    "
      ],
      "text/plain": [
       "<IPython.core.display.Javascript object>"
      ]
     },
     "metadata": {},
     "output_type": "display_data"
    },
    {
     "data": {
      "application/javascript": [
       "\n",
       "        if (window._pyforest_update_imports_cell) { window._pyforest_update_imports_cell('import numpy as np\\nimport glob'); }\n",
       "    "
      ],
      "text/plain": [
       "<IPython.core.display.Javascript object>"
      ]
     },
     "metadata": {},
     "output_type": "display_data"
    },
    {
     "data": {
      "application/javascript": [
       "\n",
       "        if (window._pyforest_update_imports_cell) { window._pyforest_update_imports_cell('import numpy as np\\nimport glob'); }\n",
       "    "
      ],
      "text/plain": [
       "<IPython.core.display.Javascript object>"
      ]
     },
     "metadata": {},
     "output_type": "display_data"
    },
    {
     "data": {
      "application/javascript": [
       "\n",
       "        if (window._pyforest_update_imports_cell) { window._pyforest_update_imports_cell('import numpy as np\\nimport glob'); }\n",
       "    "
      ],
      "text/plain": [
       "<IPython.core.display.Javascript object>"
      ]
     },
     "metadata": {},
     "output_type": "display_data"
    },
    {
     "data": {
      "application/javascript": [
       "\n",
       "        if (window._pyforest_update_imports_cell) { window._pyforest_update_imports_cell('import numpy as np\\nimport glob'); }\n",
       "    "
      ],
      "text/plain": [
       "<IPython.core.display.Javascript object>"
      ]
     },
     "metadata": {},
     "output_type": "display_data"
    },
    {
     "data": {
      "application/javascript": [
       "\n",
       "        if (window._pyforest_update_imports_cell) { window._pyforest_update_imports_cell('import numpy as np\\nimport glob'); }\n",
       "    "
      ],
      "text/plain": [
       "<IPython.core.display.Javascript object>"
      ]
     },
     "metadata": {},
     "output_type": "display_data"
    },
    {
     "data": {
      "application/javascript": [
       "\n",
       "        if (window._pyforest_update_imports_cell) { window._pyforest_update_imports_cell('import numpy as np\\nimport glob'); }\n",
       "    "
      ],
      "text/plain": [
       "<IPython.core.display.Javascript object>"
      ]
     },
     "metadata": {},
     "output_type": "display_data"
    },
    {
     "data": {
      "application/javascript": [
       "\n",
       "        if (window._pyforest_update_imports_cell) { window._pyforest_update_imports_cell('import numpy as np\\nimport glob'); }\n",
       "    "
      ],
      "text/plain": [
       "<IPython.core.display.Javascript object>"
      ]
     },
     "metadata": {},
     "output_type": "display_data"
    },
    {
     "data": {
      "application/javascript": [
       "\n",
       "        if (window._pyforest_update_imports_cell) { window._pyforest_update_imports_cell('import numpy as np\\nimport glob'); }\n",
       "    "
      ],
      "text/plain": [
       "<IPython.core.display.Javascript object>"
      ]
     },
     "metadata": {},
     "output_type": "display_data"
    },
    {
     "data": {
      "application/javascript": [
       "\n",
       "        if (window._pyforest_update_imports_cell) { window._pyforest_update_imports_cell('import numpy as np\\nimport glob'); }\n",
       "    "
      ],
      "text/plain": [
       "<IPython.core.display.Javascript object>"
      ]
     },
     "metadata": {},
     "output_type": "display_data"
    },
    {
     "data": {
      "application/javascript": [
       "\n",
       "        if (window._pyforest_update_imports_cell) { window._pyforest_update_imports_cell('import numpy as np\\nimport glob'); }\n",
       "    "
      ],
      "text/plain": [
       "<IPython.core.display.Javascript object>"
      ]
     },
     "metadata": {},
     "output_type": "display_data"
    },
    {
     "data": {
      "application/javascript": [
       "\n",
       "        if (window._pyforest_update_imports_cell) { window._pyforest_update_imports_cell('import numpy as np\\nimport glob'); }\n",
       "    "
      ],
      "text/plain": [
       "<IPython.core.display.Javascript object>"
      ]
     },
     "metadata": {},
     "output_type": "display_data"
    },
    {
     "data": {
      "application/javascript": [
       "\n",
       "        if (window._pyforest_update_imports_cell) { window._pyforest_update_imports_cell('import numpy as np\\nimport glob'); }\n",
       "    "
      ],
      "text/plain": [
       "<IPython.core.display.Javascript object>"
      ]
     },
     "metadata": {},
     "output_type": "display_data"
    },
    {
     "data": {
      "application/javascript": [
       "\n",
       "        if (window._pyforest_update_imports_cell) { window._pyforest_update_imports_cell('import numpy as np\\nimport glob'); }\n",
       "    "
      ],
      "text/plain": [
       "<IPython.core.display.Javascript object>"
      ]
     },
     "metadata": {},
     "output_type": "display_data"
    },
    {
     "data": {
      "application/javascript": [
       "\n",
       "        if (window._pyforest_update_imports_cell) { window._pyforest_update_imports_cell('import numpy as np\\nimport glob'); }\n",
       "    "
      ],
      "text/plain": [
       "<IPython.core.display.Javascript object>"
      ]
     },
     "metadata": {},
     "output_type": "display_data"
    },
    {
     "data": {
      "application/javascript": [
       "\n",
       "        if (window._pyforest_update_imports_cell) { window._pyforest_update_imports_cell('import numpy as np\\nimport glob'); }\n",
       "    "
      ],
      "text/plain": [
       "<IPython.core.display.Javascript object>"
      ]
     },
     "metadata": {},
     "output_type": "display_data"
    },
    {
     "data": {
      "application/javascript": [
       "\n",
       "        if (window._pyforest_update_imports_cell) { window._pyforest_update_imports_cell('import numpy as np\\nimport glob'); }\n",
       "    "
      ],
      "text/plain": [
       "<IPython.core.display.Javascript object>"
      ]
     },
     "metadata": {},
     "output_type": "display_data"
    },
    {
     "data": {
      "application/javascript": [
       "\n",
       "        if (window._pyforest_update_imports_cell) { window._pyforest_update_imports_cell('import numpy as np\\nimport glob'); }\n",
       "    "
      ],
      "text/plain": [
       "<IPython.core.display.Javascript object>"
      ]
     },
     "metadata": {},
     "output_type": "display_data"
    },
    {
     "data": {
      "application/javascript": [
       "\n",
       "        if (window._pyforest_update_imports_cell) { window._pyforest_update_imports_cell('import numpy as np\\nimport glob'); }\n",
       "    "
      ],
      "text/plain": [
       "<IPython.core.display.Javascript object>"
      ]
     },
     "metadata": {},
     "output_type": "display_data"
    },
    {
     "data": {
      "application/javascript": [
       "\n",
       "        if (window._pyforest_update_imports_cell) { window._pyforest_update_imports_cell('import numpy as np\\nimport glob'); }\n",
       "    "
      ],
      "text/plain": [
       "<IPython.core.display.Javascript object>"
      ]
     },
     "metadata": {},
     "output_type": "display_data"
    },
    {
     "data": {
      "application/javascript": [
       "\n",
       "        if (window._pyforest_update_imports_cell) { window._pyforest_update_imports_cell('import numpy as np\\nimport glob'); }\n",
       "    "
      ],
      "text/plain": [
       "<IPython.core.display.Javascript object>"
      ]
     },
     "metadata": {},
     "output_type": "display_data"
    },
    {
     "data": {
      "application/javascript": [
       "\n",
       "        if (window._pyforest_update_imports_cell) { window._pyforest_update_imports_cell('import numpy as np\\nimport glob'); }\n",
       "    "
      ],
      "text/plain": [
       "<IPython.core.display.Javascript object>"
      ]
     },
     "metadata": {},
     "output_type": "display_data"
    },
    {
     "data": {
      "application/javascript": [
       "\n",
       "        if (window._pyforest_update_imports_cell) { window._pyforest_update_imports_cell('import numpy as np\\nimport glob'); }\n",
       "    "
      ],
      "text/plain": [
       "<IPython.core.display.Javascript object>"
      ]
     },
     "metadata": {},
     "output_type": "display_data"
    },
    {
     "data": {
      "application/javascript": [
       "\n",
       "        if (window._pyforest_update_imports_cell) { window._pyforest_update_imports_cell('import numpy as np\\nimport glob'); }\n",
       "    "
      ],
      "text/plain": [
       "<IPython.core.display.Javascript object>"
      ]
     },
     "metadata": {},
     "output_type": "display_data"
    },
    {
     "data": {
      "application/javascript": [
       "\n",
       "        if (window._pyforest_update_imports_cell) { window._pyforest_update_imports_cell('import numpy as np\\nimport glob'); }\n",
       "    "
      ],
      "text/plain": [
       "<IPython.core.display.Javascript object>"
      ]
     },
     "metadata": {},
     "output_type": "display_data"
    },
    {
     "data": {
      "application/javascript": [
       "\n",
       "        if (window._pyforest_update_imports_cell) { window._pyforest_update_imports_cell('import numpy as np\\nimport glob'); }\n",
       "    "
      ],
      "text/plain": [
       "<IPython.core.display.Javascript object>"
      ]
     },
     "metadata": {},
     "output_type": "display_data"
    }
   ],
   "source": [
    "# Keeping the bigram correction with the highest frequency\n",
    "\n",
    "non_words2['bigram_correction'] = [(sort_bigram_tuple(x)[0][0][0],x[0][1]) if len(x) != 0 else np.NaN for x in non_words2['bigram_suggestions']]"
   ]
  },
  {
   "cell_type": "code",
   "execution_count": 93,
   "metadata": {},
   "outputs": [],
   "source": [
    "# Splitting the bigram corrections into separate words\n",
    "\n",
    "mask = non_words2.loc[non_words2.bigram_correction.isnull() == False].index\n",
    "non_words2.loc[mask, 'bigram_correction'] = non_words2.loc[mask, 'bigram_correction'].apply(\n",
    "    lambda x: (x[0].split(),x[1]))"
   ]
  },
  {
   "cell_type": "markdown",
   "metadata": {},
   "source": [
    "Some bigrams that were previously two words have now been corrected to one word, e.g. _paragragh, s --> paragraphs._  \n",
    "These will now be labelled Type 3."
   ]
  },
  {
   "cell_type": "code",
   "execution_count": 94,
   "metadata": {},
   "outputs": [
    {
     "data": {
      "text/html": [
       "<div>\n",
       "<style scoped>\n",
       "    .dataframe tbody tr th:only-of-type {\n",
       "        vertical-align: middle;\n",
       "    }\n",
       "\n",
       "    .dataframe tbody tr th {\n",
       "        vertical-align: top;\n",
       "    }\n",
       "\n",
       "    .dataframe thead th {\n",
       "        text-align: right;\n",
       "    }\n",
       "</style>\n",
       "<table border=\"1\" class=\"dataframe\">\n",
       "  <thead>\n",
       "    <tr style=\"text-align: right;\">\n",
       "      <th></th>\n",
       "      <th>index</th>\n",
       "      <th>tok_lem_POS_NLTK</th>\n",
       "      <th>misspelling</th>\n",
       "      <th>sentence</th>\n",
       "      <th>bigrams</th>\n",
       "      <th>unigram_suggestions</th>\n",
       "      <th>bigram_suggestions</th>\n",
       "      <th>unigram_correction</th>\n",
       "      <th>bigram_correction</th>\n",
       "    </tr>\n",
       "  </thead>\n",
       "  <tbody>\n",
       "    <tr>\n",
       "      <th>9</th>\n",
       "      <td>0</td>\n",
       "      <td>[(v, V, NNP), (pennsylvania, Pennsylvania, NNP...</td>\n",
       "      <td>(dep, Dep, NNP)</td>\n",
       "      <td>Mental Patient Civil Liberties Project v. Dep’...</td>\n",
       "      <td>[(v dep, 1), (dep t, 2)]</td>\n",
       "      <td>[(dep,  0,  3107120)]</td>\n",
       "      <td>[((dept,  1,  6534300), 2), ((a dep,  1,  2753...</td>\n",
       "      <td>dep</td>\n",
       "      <td>([dept], 2)</td>\n",
       "    </tr>\n",
       "    <tr>\n",
       "      <th>22</th>\n",
       "      <td>0</td>\n",
       "      <td>[(v, V, NNP), (pennsylvania, Pennsylvania, NNP...</td>\n",
       "      <td>(osser, Osser, NNP)</td>\n",
       "      <td>The court found that at least one of plaintiff...</td>\n",
       "      <td>[(v osser, 1), (osser 409, 2)]</td>\n",
       "      <td>[(tosser,  1,  64096), (osier,  1,  53672)]</td>\n",
       "      <td>[((tosser,  2,  64095), 1), ((tosser of a,  5,...</td>\n",
       "      <td>tosser</td>\n",
       "      <td>([tosser], 1)</td>\n",
       "    </tr>\n",
       "    <tr>\n",
       "      <th>27</th>\n",
       "      <td>1</td>\n",
       "      <td>[(pennsylvania, Pennsylvania, NNP), (associati...</td>\n",
       "      <td>(schmi, Schmi, NNP)</td>\n",
       "      <td>PPP:ef cc: Brown\\nSchmi dt\\nPhi 11 ips</td>\n",
       "      <td>[(brown schmi, 1), (schmi dt, 2)]</td>\n",
       "      <td>[(schmo,  1,  60716)]</td>\n",
       "      <td>[((schmidt,  1,  4367060), 2), ((brown schmo, ...</td>\n",
       "      <td>schmo</td>\n",
       "      <td>([schmidt], 2)</td>\n",
       "    </tr>\n",
       "    <tr>\n",
       "      <th>28</th>\n",
       "      <td>1</td>\n",
       "      <td>[(pennsylvania, Pennsylvania, NNP), (associati...</td>\n",
       "      <td>(dt, dt, VBD)</td>\n",
       "      <td>PPP:ef cc: Brown\\nSchmi dt\\nPhi 11 ips</td>\n",
       "      <td>[(schmi dt, 1), (dt phi, 2)]</td>\n",
       "      <td>[(do,  1,  950751722), (dpt,  1,  665373), (dt...</td>\n",
       "      <td>[((schmidt,  1,  4367060), 1), ((it phi,  1,  ...</td>\n",
       "      <td>do</td>\n",
       "      <td>([schmidt], 1)</td>\n",
       "    </tr>\n",
       "    <tr>\n",
       "      <th>29</th>\n",
       "      <td>1</td>\n",
       "      <td>[(pennsylvania, Pennsylvania, NNP), (associati...</td>\n",
       "      <td>(ips, ip, NNS)</td>\n",
       "      <td>PPP:ef cc: Brown\\nSchmi dt\\nPhi 11 ips</td>\n",
       "      <td>[(11 ips, 1)]</td>\n",
       "      <td>[(tips,  1,  94800899), (lips,  1,  9228435), ...</td>\n",
       "      <td>[((tips,  3,  94800899), 1)]</td>\n",
       "      <td>tips</td>\n",
       "      <td>([tips], 1)</td>\n",
       "    </tr>\n",
       "  </tbody>\n",
       "</table>\n",
       "</div>"
      ],
      "text/plain": [
       "    index                                   tok_lem_POS_NLTK  \\\n",
       "9       0  [(v, V, NNP), (pennsylvania, Pennsylvania, NNP...   \n",
       "22      0  [(v, V, NNP), (pennsylvania, Pennsylvania, NNP...   \n",
       "27      1  [(pennsylvania, Pennsylvania, NNP), (associati...   \n",
       "28      1  [(pennsylvania, Pennsylvania, NNP), (associati...   \n",
       "29      1  [(pennsylvania, Pennsylvania, NNP), (associati...   \n",
       "\n",
       "            misspelling                                           sentence  \\\n",
       "9       (dep, Dep, NNP)  Mental Patient Civil Liberties Project v. Dep’...   \n",
       "22  (osser, Osser, NNP)  The court found that at least one of plaintiff...   \n",
       "27  (schmi, Schmi, NNP)             PPP:ef cc: Brown\\nSchmi dt\\nPhi 11 ips   \n",
       "28        (dt, dt, VBD)             PPP:ef cc: Brown\\nSchmi dt\\nPhi 11 ips   \n",
       "29       (ips, ip, NNS)             PPP:ef cc: Brown\\nSchmi dt\\nPhi 11 ips   \n",
       "\n",
       "                              bigrams  \\\n",
       "9            [(v dep, 1), (dep t, 2)]   \n",
       "22     [(v osser, 1), (osser 409, 2)]   \n",
       "27  [(brown schmi, 1), (schmi dt, 2)]   \n",
       "28       [(schmi dt, 1), (dt phi, 2)]   \n",
       "29                      [(11 ips, 1)]   \n",
       "\n",
       "                                  unigram_suggestions  \\\n",
       "9                               [(dep,  0,  3107120)]   \n",
       "22        [(tosser,  1,  64096), (osier,  1,  53672)]   \n",
       "27                              [(schmo,  1,  60716)]   \n",
       "28  [(do,  1,  950751722), (dpt,  1,  665373), (dt...   \n",
       "29  [(tips,  1,  94800899), (lips,  1,  9228435), ...   \n",
       "\n",
       "                                   bigram_suggestions unigram_correction  \\\n",
       "9   [((dept,  1,  6534300), 2), ((a dep,  1,  2753...                dep   \n",
       "22  [((tosser,  2,  64095), 1), ((tosser of a,  5,...             tosser   \n",
       "27  [((schmidt,  1,  4367060), 2), ((brown schmo, ...              schmo   \n",
       "28  [((schmidt,  1,  4367060), 1), ((it phi,  1,  ...                 do   \n",
       "29                       [((tips,  3,  94800899), 1)]               tips   \n",
       "\n",
       "   bigram_correction  \n",
       "9        ([dept], 2)  \n",
       "22     ([tosser], 1)  \n",
       "27    ([schmidt], 2)  \n",
       "28    ([schmidt], 1)  \n",
       "29       ([tips], 1)  "
      ]
     },
     "execution_count": 94,
     "metadata": {},
     "output_type": "execute_result"
    },
    {
     "data": {
      "text/plain": [
       "5"
      ]
     },
     "execution_count": 94,
     "metadata": {},
     "output_type": "execute_result"
    }
   ],
   "source": [
    "mask2 = non_words2.loc[mask].loc[non_words2.loc[mask].bigram_correction.apply(lambda x: len(x[0])==1)].index \n",
    "non_words2.loc[mask2].head()\n",
    "len(non_words2.loc[mask2].head())"
   ]
  },
  {
   "cell_type": "code",
   "execution_count": 95,
   "metadata": {},
   "outputs": [],
   "source": [
    "non_words2.loc[mask2,'bigram_correction'] = non_words2.loc[mask2,'bigram_correction'].apply(lambda x: (x[0],3))"
   ]
  },
  {
   "cell_type": "code",
   "execution_count": 96,
   "metadata": {},
   "outputs": [],
   "source": [
    "# Keeping only the word in the bigram correction that was originally misspelled\n",
    "\n",
    "def corrected_only(bigram_tuple):\n",
    "    bigram_list = bigram_tuple[0]\n",
    "    bigram_type = bigram_tuple[1]\n",
    "    for tup in bigram_tuple:\n",
    "        if bigram_type == 1:\n",
    "            corrected_word = bigram_list[1:]\n",
    "        if bigram_type == 2:\n",
    "            corrected_word = bigram_list[:-1]\n",
    "        if bigram_type == 3:\n",
    "            corrected_word = bigram_list\n",
    "    return ' '.join(corrected_word)\n",
    "\n",
    "# Type 1 bigram = (word, misspelling), Type 2 bigram = (misspelling, word), Type 3 bigram = misspelling only"
   ]
  },
  {
   "cell_type": "code",
   "execution_count": 97,
   "metadata": {},
   "outputs": [],
   "source": [
    "# Applying the function\n",
    "\n",
    "non_words2.loc[mask, 'bigram_correction'] = non_words2.loc[mask, 'bigram_correction'].apply(\n",
    "    lambda x: corrected_only(x))"
   ]
  },
  {
   "cell_type": "code",
   "execution_count": 98,
   "metadata": {},
   "outputs": [
    {
     "data": {
      "application/javascript": [
       "\n",
       "        if (window._pyforest_update_imports_cell) { window._pyforest_update_imports_cell('import numpy as np\\nimport glob'); }\n",
       "    "
      ],
      "text/plain": [
       "<IPython.core.display.Javascript object>"
      ]
     },
     "metadata": {},
     "output_type": "display_data"
    }
   ],
   "source": [
    "# Creating a 'final_correction' column with order of preference: bigram_correction, unigram_correction, misspelling\n",
    "\n",
    "# Changing empty strings to NaN in the bigram correction column\n",
    "non_words2.bigram_correction.replace(\"\", np.nan, inplace=True)\n",
    "\n",
    "# Creating a tuple of these three items\n",
    "non_words2['final_correction'] = list(zip(non_words2.misspelling.apply(\n",
    "    lambda x: x[1]), non_words2.unigram_correction, non_words2.bigram_correction))\n",
    "\n",
    "# Choosing which item based on if strings or not (i.e. NaNs)\n",
    "non_words2['final_correction'] = [x[2] if isinstance(x[2], str) else x[1] if isinstance(x[1], str) else x[0] for x in non_words2['final_correction']]"
   ]
  },
  {
   "cell_type": "code",
   "execution_count": 99,
   "metadata": {},
   "outputs": [
    {
     "data": {
      "text/html": [
       "<div>\n",
       "<style scoped>\n",
       "    .dataframe tbody tr th:only-of-type {\n",
       "        vertical-align: middle;\n",
       "    }\n",
       "\n",
       "    .dataframe tbody tr th {\n",
       "        vertical-align: top;\n",
       "    }\n",
       "\n",
       "    .dataframe thead th {\n",
       "        text-align: right;\n",
       "    }\n",
       "</style>\n",
       "<table border=\"1\" class=\"dataframe\">\n",
       "  <thead>\n",
       "    <tr style=\"text-align: right;\">\n",
       "      <th></th>\n",
       "      <th>index</th>\n",
       "      <th>tok_lem_POS_NLTK</th>\n",
       "      <th>misspelling</th>\n",
       "      <th>sentence</th>\n",
       "      <th>bigrams</th>\n",
       "      <th>unigram_suggestions</th>\n",
       "      <th>bigram_suggestions</th>\n",
       "      <th>unigram_correction</th>\n",
       "      <th>bigram_correction</th>\n",
       "      <th>final_correction</th>\n",
       "      <th>final_correction_POS</th>\n",
       "    </tr>\n",
       "  </thead>\n",
       "  <tbody>\n",
       "    <tr>\n",
       "      <th>0</th>\n",
       "      <td>0</td>\n",
       "      <td>[(v, V, NNP), (pennsylvania, Pennsylvania, NNP...</td>\n",
       "      <td>(dpw, DPW, NNP)</td>\n",
       "      <td>Downs v. Pennsylvania DPW: outlines the plan w...</td>\n",
       "      <td>[(pennsylvania dpw, 1), (dpw outlines, 2)]</td>\n",
       "      <td>[(dpi,  1,  7260183), (dpt,  1,  665373), (daw...</td>\n",
       "      <td>[((dpi outlines,  1,  31), 2), ((pennsylvania ...</td>\n",
       "      <td>dpi</td>\n",
       "      <td>dpi</td>\n",
       "      <td>dpi</td>\n",
       "      <td>(dpi, dpi, NNP)</td>\n",
       "    </tr>\n",
       "    <tr>\n",
       "      <th>1</th>\n",
       "      <td>0</td>\n",
       "      <td>[(v, V, NNP), (pennsylvania, Pennsylvania, NNP...</td>\n",
       "      <td>(bazelon, Bazelon, NNP)</td>\n",
       "      <td>cc:\\tGilhool\\nBazelon Haggerty Cohen\\nPolloni ...</td>\n",
       "      <td>[(gilhool bazelon, 1), (bazelon haggerty, 2)]</td>\n",
       "      <td>[(ballon,  2,  372246), (babylon,  2,  3284724)]</td>\n",
       "      <td>[((girlhood babylon,  4,  0), 1), ((babylon ja...</td>\n",
       "      <td>ballon</td>\n",
       "      <td>babylon</td>\n",
       "      <td>babylon</td>\n",
       "      <td>(babylon, babylon, NNP)</td>\n",
       "    </tr>\n",
       "    <tr>\n",
       "      <th>2</th>\n",
       "      <td>0</td>\n",
       "      <td>[(v, V, NNP), (pennsylvania, Pennsylvania, NNP...</td>\n",
       "      <td>(nastav, Nastav, NNP)</td>\n",
       "      <td>cc:\\tGilhool\\nBazelon Haggerty Cohen\\nPolloni ...</td>\n",
       "      <td>[(roth nastav, 1), (nastav v, 2)]</td>\n",
       "      <td>[(nasty,  2,  7434847), (pasta,  2,  5855460),...</td>\n",
       "      <td>[((nasty a,  3,  65876), 2), ((roth nasty,  2,...</td>\n",
       "      <td>nasty</td>\n",
       "      <td>nasty</td>\n",
       "      <td>nasty</td>\n",
       "      <td>(nasty, nasty, NNP)</td>\n",
       "    </tr>\n",
       "    <tr>\n",
       "      <th>3</th>\n",
       "      <td>0</td>\n",
       "      <td>[(v, V, NNP), (pennsylvania, Pennsylvania, NNP...</td>\n",
       "      <td>(lgmiutbvno, lgmiutbvNo, NN)</td>\n",
       "      <td>9674. ycg£hi&lt;H^v^_Wo.bl!lgmiutbvNo.</td>\n",
       "      <td>[(bl lgmiutbvno, 1)]</td>\n",
       "      <td>[]</td>\n",
       "      <td>[((by limit bono,  5,  0), 1)]</td>\n",
       "      <td>NaN</td>\n",
       "      <td>limit bono</td>\n",
       "      <td>limit bono</td>\n",
       "      <td>(limit bono, limit bono, NN)</td>\n",
       "    </tr>\n",
       "    <tr>\n",
       "      <th>4</th>\n",
       "      <td>0</td>\n",
       "      <td>[(v, V, NNP), (pennsylvania, Pennsylvania, NNP...</td>\n",
       "      <td>(plaintitts, Plaintitts, NNP)</td>\n",
       "      <td>Plaintitts and Plaintiff-Intervenors represent...</td>\n",
       "      <td>[(plaintitts and, 2)]</td>\n",
       "      <td>[(plaintiffs,  2,  3433271)]</td>\n",
       "      <td>[((plaintiffs and,  2,  43539), 2)]</td>\n",
       "      <td>plaintiffs</td>\n",
       "      <td>plaintiffs</td>\n",
       "      <td>plaintiffs</td>\n",
       "      <td>(plaintiffs, plaintiffs, NNP)</td>\n",
       "    </tr>\n",
       "    <tr>\n",
       "      <th>5</th>\n",
       "      <td>0</td>\n",
       "      <td>[(v, V, NNP), (pennsylvania, Pennsylvania, NNP...</td>\n",
       "      <td>(untii, untii, IN)</td>\n",
       "      <td>The court has granted a motion to intervene an...</td>\n",
       "      <td>[(and untii, 1), (untii he, 2)]</td>\n",
       "      <td>[(untie,  1,  146576), (until,  1,  113090086)]</td>\n",
       "      <td>[((until he,  1,  93001), 2), ((and until,  1,...</td>\n",
       "      <td>untie</td>\n",
       "      <td>until</td>\n",
       "      <td>until</td>\n",
       "      <td>(until, until, IN)</td>\n",
       "    </tr>\n",
       "  </tbody>\n",
       "</table>\n",
       "</div>"
      ],
      "text/plain": [
       "   index                                   tok_lem_POS_NLTK  \\\n",
       "0      0  [(v, V, NNP), (pennsylvania, Pennsylvania, NNP...   \n",
       "1      0  [(v, V, NNP), (pennsylvania, Pennsylvania, NNP...   \n",
       "2      0  [(v, V, NNP), (pennsylvania, Pennsylvania, NNP...   \n",
       "3      0  [(v, V, NNP), (pennsylvania, Pennsylvania, NNP...   \n",
       "4      0  [(v, V, NNP), (pennsylvania, Pennsylvania, NNP...   \n",
       "5      0  [(v, V, NNP), (pennsylvania, Pennsylvania, NNP...   \n",
       "\n",
       "                     misspelling  \\\n",
       "0                (dpw, DPW, NNP)   \n",
       "1        (bazelon, Bazelon, NNP)   \n",
       "2          (nastav, Nastav, NNP)   \n",
       "3   (lgmiutbvno, lgmiutbvNo, NN)   \n",
       "4  (plaintitts, Plaintitts, NNP)   \n",
       "5             (untii, untii, IN)   \n",
       "\n",
       "                                            sentence  \\\n",
       "0  Downs v. Pennsylvania DPW: outlines the plan w...   \n",
       "1  cc:\\tGilhool\\nBazelon Haggerty Cohen\\nPolloni ...   \n",
       "2  cc:\\tGilhool\\nBazelon Haggerty Cohen\\nPolloni ...   \n",
       "3                9674. ycg£hi<H^v^_Wo.bl!lgmiutbvNo.   \n",
       "4  Plaintitts and Plaintiff-Intervenors represent...   \n",
       "5  The court has granted a motion to intervene an...   \n",
       "\n",
       "                                         bigrams  \\\n",
       "0     [(pennsylvania dpw, 1), (dpw outlines, 2)]   \n",
       "1  [(gilhool bazelon, 1), (bazelon haggerty, 2)]   \n",
       "2              [(roth nastav, 1), (nastav v, 2)]   \n",
       "3                           [(bl lgmiutbvno, 1)]   \n",
       "4                          [(plaintitts and, 2)]   \n",
       "5                [(and untii, 1), (untii he, 2)]   \n",
       "\n",
       "                                 unigram_suggestions  \\\n",
       "0  [(dpi,  1,  7260183), (dpt,  1,  665373), (daw...   \n",
       "1   [(ballon,  2,  372246), (babylon,  2,  3284724)]   \n",
       "2  [(nasty,  2,  7434847), (pasta,  2,  5855460),...   \n",
       "3                                                 []   \n",
       "4                       [(plaintiffs,  2,  3433271)]   \n",
       "5    [(untie,  1,  146576), (until,  1,  113090086)]   \n",
       "\n",
       "                                  bigram_suggestions unigram_correction  \\\n",
       "0  [((dpi outlines,  1,  31), 2), ((pennsylvania ...                dpi   \n",
       "1  [((girlhood babylon,  4,  0), 1), ((babylon ja...             ballon   \n",
       "2  [((nasty a,  3,  65876), 2), ((roth nasty,  2,...              nasty   \n",
       "3                     [((by limit bono,  5,  0), 1)]                NaN   \n",
       "4                [((plaintiffs and,  2,  43539), 2)]         plaintiffs   \n",
       "5  [((until he,  1,  93001), 2), ((and until,  1,...              untie   \n",
       "\n",
       "  bigram_correction final_correction           final_correction_POS  \n",
       "0               dpi              dpi                (dpi, dpi, NNP)  \n",
       "1           babylon          babylon        (babylon, babylon, NNP)  \n",
       "2             nasty            nasty            (nasty, nasty, NNP)  \n",
       "3        limit bono       limit bono   (limit bono, limit bono, NN)  \n",
       "4        plaintiffs       plaintiffs  (plaintiffs, plaintiffs, NNP)  \n",
       "5             until            until             (until, until, IN)  "
      ]
     },
     "execution_count": 99,
     "metadata": {},
     "output_type": "execute_result"
    }
   ],
   "source": [
    "# Create correction_POS column\n",
    "\n",
    "non_words2['final_correction_POS'] = list(zip(non_words2.final_correction, non_words2.final_correction, non_words2.misspelling.apply(lambda x: x[2])))\n",
    "non_words2.head(6)"
   ]
  },
  {
   "cell_type": "markdown",
   "metadata": {},
   "source": [
    "#### Incorporating corrections into `bob_df`"
   ]
  },
  {
   "cell_type": "code",
   "execution_count": 100,
   "metadata": {},
   "outputs": [
    {
     "data": {
      "text/plain": [
       "541"
      ]
     },
     "execution_count": 100,
     "metadata": {},
     "output_type": "execute_result"
    },
    {
     "data": {
      "text/plain": [
       "469"
      ]
     },
     "execution_count": 100,
     "metadata": {},
     "output_type": "execute_result"
    }
   ],
   "source": [
    "# Focusing on rows in bob_df containing spelling mistakes to replace\n",
    "\n",
    "mask = bob_df.index.isin(non_words2[\"index\"])\n",
    "len(bob_df)\n",
    "len(bob_df.loc[mask])"
   ]
  },
  {
   "cell_type": "code",
   "execution_count": 101,
   "metadata": {},
   "outputs": [],
   "source": [
    "# Transforming non_words2 back so that each row is a text (with a list of the misspellings and final corrections)\n",
    "\n",
    "# First create a column with tuples of misspellings and their corrections\n",
    "non_words2['misspelling_correction'] = list(zip(non_words2.misspelling, non_words2.final_correction_POS))"
   ]
  },
  {
   "cell_type": "code",
   "execution_count": 102,
   "metadata": {},
   "outputs": [
    {
     "data": {
      "text/html": [
       "<div>\n",
       "<style scoped>\n",
       "    .dataframe tbody tr th:only-of-type {\n",
       "        vertical-align: middle;\n",
       "    }\n",
       "\n",
       "    .dataframe tbody tr th {\n",
       "        vertical-align: top;\n",
       "    }\n",
       "\n",
       "    .dataframe thead th {\n",
       "        text-align: right;\n",
       "    }\n",
       "</style>\n",
       "<table border=\"1\" class=\"dataframe\">\n",
       "  <thead>\n",
       "    <tr style=\"text-align: right;\">\n",
       "      <th></th>\n",
       "      <th>tok_lem_POS_NLTK</th>\n",
       "      <th>misspelling_correction</th>\n",
       "    </tr>\n",
       "    <tr>\n",
       "      <th>index</th>\n",
       "      <th></th>\n",
       "      <th></th>\n",
       "    </tr>\n",
       "  </thead>\n",
       "  <tbody>\n",
       "    <tr>\n",
       "      <th>0</th>\n",
       "      <td>[(v, V, NNP), (pennsylvania, Pennsylvania, NNP...</td>\n",
       "      <td>[((dpw, DPW, NNP), (dpi, dpi, NNP)), ((bazelon...</td>\n",
       "    </tr>\n",
       "    <tr>\n",
       "      <th>1</th>\n",
       "      <td>[(pennsylvania, Pennsylvania, NNP), (associati...</td>\n",
       "      <td>[((ppp, PPP, NNP), (pop, pop, NNP)), ((schmi, ...</td>\n",
       "    </tr>\n",
       "    <tr>\n",
       "      <th>2</th>\n",
       "      <td>[(11, 11, CD), (families, FAMILIES, NNP), (&amp;, ...</td>\n",
       "      <td>[((fodi, Fodi, NNP), (jodi, jodi, NNP))]</td>\n",
       "    </tr>\n",
       "    <tr>\n",
       "      <th>3</th>\n",
       "      <td>[(families, FAMILIES, NNP), (&amp;, &amp;, CC), (frien...</td>\n",
       "      <td>[((tesident, tesident, NN), (resident, residen...</td>\n",
       "    </tr>\n",
       "    <tr>\n",
       "      <th>4</th>\n",
       "      <td>[(c, C, NNP), (ommonwealth, ommonwealth, NN), ...</td>\n",
       "      <td>[((ommonwealth, ommonwealth, NN), (commonwealt...</td>\n",
       "    </tr>\n",
       "  </tbody>\n",
       "</table>\n",
       "</div>"
      ],
      "text/plain": [
       "                                        tok_lem_POS_NLTK  \\\n",
       "index                                                      \n",
       "0      [(v, V, NNP), (pennsylvania, Pennsylvania, NNP...   \n",
       "1      [(pennsylvania, Pennsylvania, NNP), (associati...   \n",
       "2      [(11, 11, CD), (families, FAMILIES, NNP), (&, ...   \n",
       "3      [(families, FAMILIES, NNP), (&, &, CC), (frien...   \n",
       "4      [(c, C, NNP), (ommonwealth, ommonwealth, NN), ...   \n",
       "\n",
       "                                  misspelling_correction  \n",
       "index                                                     \n",
       "0      [((dpw, DPW, NNP), (dpi, dpi, NNP)), ((bazelon...  \n",
       "1      [((ppp, PPP, NNP), (pop, pop, NNP)), ((schmi, ...  \n",
       "2               [((fodi, Fodi, NNP), (jodi, jodi, NNP))]  \n",
       "3      [((tesident, tesident, NN), (resident, residen...  \n",
       "4      [((ommonwealth, ommonwealth, NN), (commonwealt...  "
      ]
     },
     "execution_count": 102,
     "metadata": {},
     "output_type": "execute_result"
    }
   ],
   "source": [
    "# Then group by the text and combine the misspelling_corrections\n",
    "\n",
    "non_words3 = non_words2[['index','tok_lem_POS_NLTK','misspelling_correction']]\n",
    "non_words3 = non_words2.groupby('index').agg({'tok_lem_POS_NLTK':'first','misspelling_correction': sum}).reset_index()\n",
    "non_words3.misspelling_correction = non_words3.misspelling_correction.apply(lambda x:list(zip(x[::2], x[1::2]))) #combining items into tuples\n",
    "non_words3 = non_words3.set_index('index') # use answer_id as new index since it is now unique\n",
    "non_words3.head()"
   ]
  },
  {
   "cell_type": "code",
   "execution_count": 103,
   "metadata": {},
   "outputs": [],
   "source": [
    "# Creating a function to find and replace misspellings\n",
    "\n",
    "def replace_misspelling(tok_lem_POS, misspelling_correction):\n",
    "    tok_lem_POS_corrected = []\n",
    "    misspellings = [x[0] for x in misspelling_correction]\n",
    "    corrections = [x[1] for x in misspelling_correction]\n",
    "    correction_dict = dict((x, y) for x, y in misspelling_correction)\n",
    "    for tok in tok_lem_POS:\n",
    "        if tok in misspellings:\n",
    "            tok = correction_dict[tok]\n",
    "        tok_lem_POS_corrected.append(tok)\n",
    "    return tok_lem_POS_corrected"
   ]
  },
  {
   "cell_type": "code",
   "execution_count": 104,
   "metadata": {},
   "outputs": [
    {
     "data": {
      "text/html": [
       "<div>\n",
       "<style scoped>\n",
       "    .dataframe tbody tr th:only-of-type {\n",
       "        vertical-align: middle;\n",
       "    }\n",
       "\n",
       "    .dataframe tbody tr th {\n",
       "        vertical-align: top;\n",
       "    }\n",
       "\n",
       "    .dataframe thead th {\n",
       "        text-align: right;\n",
       "    }\n",
       "</style>\n",
       "<table border=\"1\" class=\"dataframe\">\n",
       "  <thead>\n",
       "    <tr style=\"text-align: right;\">\n",
       "      <th></th>\n",
       "      <th>tok_lem_POS_NLTK</th>\n",
       "      <th>misspelling_correction</th>\n",
       "      <th>tok_lem_POS_NLTK_corrected</th>\n",
       "    </tr>\n",
       "    <tr>\n",
       "      <th>index</th>\n",
       "      <th></th>\n",
       "      <th></th>\n",
       "      <th></th>\n",
       "    </tr>\n",
       "  </thead>\n",
       "  <tbody>\n",
       "    <tr>\n",
       "      <th>0</th>\n",
       "      <td>[(v, V, NNP), (pennsylvania, Pennsylvania, NNP...</td>\n",
       "      <td>[((dpw, DPW, NNP), (dpi, dpi, NNP)), ((bazelon...</td>\n",
       "      <td>[(v, V, NNP), (pennsylvania, Pennsylvania, NNP...</td>\n",
       "    </tr>\n",
       "    <tr>\n",
       "      <th>1</th>\n",
       "      <td>[(pennsylvania, Pennsylvania, NNP), (associati...</td>\n",
       "      <td>[((ppp, PPP, NNP), (pop, pop, NNP)), ((schmi, ...</td>\n",
       "      <td>[(pennsylvania, Pennsylvania, NNP), (associati...</td>\n",
       "    </tr>\n",
       "    <tr>\n",
       "      <th>2</th>\n",
       "      <td>[(11, 11, CD), (families, FAMILIES, NNP), (&amp;, ...</td>\n",
       "      <td>[((fodi, Fodi, NNP), (jodi, jodi, NNP))]</td>\n",
       "      <td>[(11, 11, CD), (families, FAMILIES, NNP), (&amp;, ...</td>\n",
       "    </tr>\n",
       "    <tr>\n",
       "      <th>3</th>\n",
       "      <td>[(families, FAMILIES, NNP), (&amp;, &amp;, CC), (frien...</td>\n",
       "      <td>[((tesident, tesident, NN), (resident, residen...</td>\n",
       "      <td>[(families, FAMILIES, NNP), (&amp;, &amp;, CC), (frien...</td>\n",
       "    </tr>\n",
       "    <tr>\n",
       "      <th>4</th>\n",
       "      <td>[(c, C, NNP), (ommonwealth, ommonwealth, NN), ...</td>\n",
       "      <td>[((ommonwealth, ommonwealth, NN), (commonwealt...</td>\n",
       "      <td>[(c, C, NNP), (commonwealth, commonwealth, NN)...</td>\n",
       "    </tr>\n",
       "  </tbody>\n",
       "</table>\n",
       "</div>"
      ],
      "text/plain": [
       "                                        tok_lem_POS_NLTK  \\\n",
       "index                                                      \n",
       "0      [(v, V, NNP), (pennsylvania, Pennsylvania, NNP...   \n",
       "1      [(pennsylvania, Pennsylvania, NNP), (associati...   \n",
       "2      [(11, 11, CD), (families, FAMILIES, NNP), (&, ...   \n",
       "3      [(families, FAMILIES, NNP), (&, &, CC), (frien...   \n",
       "4      [(c, C, NNP), (ommonwealth, ommonwealth, NN), ...   \n",
       "\n",
       "                                  misspelling_correction  \\\n",
       "index                                                      \n",
       "0      [((dpw, DPW, NNP), (dpi, dpi, NNP)), ((bazelon...   \n",
       "1      [((ppp, PPP, NNP), (pop, pop, NNP)), ((schmi, ...   \n",
       "2               [((fodi, Fodi, NNP), (jodi, jodi, NNP))]   \n",
       "3      [((tesident, tesident, NN), (resident, residen...   \n",
       "4      [((ommonwealth, ommonwealth, NN), (commonwealt...   \n",
       "\n",
       "                              tok_lem_POS_NLTK_corrected  \n",
       "index                                                     \n",
       "0      [(v, V, NNP), (pennsylvania, Pennsylvania, NNP...  \n",
       "1      [(pennsylvania, Pennsylvania, NNP), (associati...  \n",
       "2      [(11, 11, CD), (families, FAMILIES, NNP), (&, ...  \n",
       "3      [(families, FAMILIES, NNP), (&, &, CC), (frien...  \n",
       "4      [(c, C, NNP), (commonwealth, commonwealth, NN)...  "
      ]
     },
     "execution_count": 104,
     "metadata": {},
     "output_type": "execute_result"
    }
   ],
   "source": [
    "# Applying the above function\n",
    "\n",
    "non_words3['tok_lem_POS_NLTK_corrected'] = non_words3[['tok_lem_POS_NLTK','misspelling_correction']].apply(\n",
    "    lambda x: replace_misspelling(x[0],x[1]), axis=1)\n",
    "\n",
    "non_words3.head()"
   ]
  },
  {
   "cell_type": "code",
   "execution_count": 105,
   "metadata": {},
   "outputs": [],
   "source": [
    "# Creating a dictionary of answer_id and tok_lem_POS_corrected\n",
    "\n",
    "corrected_text_dict = pd.Series(non_words3.tok_lem_POS_NLTK_corrected.values,non_words3.index).to_dict()"
   ]
  },
  {
   "cell_type": "code",
   "execution_count": 106,
   "metadata": {},
   "outputs": [],
   "source": [
    "# Adding the tok_lem_POS_corrected column to pelic_df\n",
    "\n",
    "bob_df['tok_lem_POS_NLTK_corrected'] = bob_df.index.map(corrected_text_dict)"
   ]
  },
  {
   "cell_type": "code",
   "execution_count": 107,
   "metadata": {},
   "outputs": [],
   "source": [
    "# Creating a dictionary of answer_id and misspelling_correction\n",
    "\n",
    "misspelling_correction_dict = pd.Series(non_words3.misspelling_correction.values,non_words3.index).to_dict()"
   ]
  },
  {
   "cell_type": "code",
   "execution_count": 108,
   "metadata": {},
   "outputs": [],
   "source": [
    "# Adding the misspelling_correction column to pelic_df\n",
    "\n",
    "bob_df['misspelling_correction'] = bob_df.index.map(misspelling_correction_dict)"
   ]
  },
  {
   "cell_type": "code",
   "execution_count": 109,
   "metadata": {},
   "outputs": [],
   "source": [
    "# Creating a column with number of corrected errors\n",
    "\n",
    "bob_df['len_errors'] = bob_df.misspelling_correction.fillna('').apply(len)"
   ]
  },
  {
   "cell_type": "code",
   "execution_count": 110,
   "metadata": {},
   "outputs": [
    {
     "name": "stdout",
     "output_type": "stream",
     "text": [
      "Pretty printing has been turned OFF\n"
     ]
    },
    {
     "data": {
      "text/plain": [
       "[('MARY', 'MARY', 'NNP'), ('LOU', 'LOU', 'NNP'), ('MAGISTRI', 'MAGISTRI', 'NNP'), (',', ',', ','), ('Public', 'Public', 'NNP'), ('Relationa', 'Relationa', 'NNP'), ('Director', 'Director', 'NNP'), ('Phone', 'Phone', 'NNP'), (':', ':', ':'), ('322-6008', '322-6008', 'CD'), ('of', 'of', 'IN'), ('the', 'the', 'DT'), ('Pennsylvania', 'Pennsylvania', 'NNP'), ('Association', 'Association', 'NNP'), ('for', 'for', 'IN'), ('Retarded', 'Retarded', 'NNP'), ('Children', 'Children', 'NNP'), (',', ',', ','), ('Inc.', 'Inc.', 'NNP'), ('917-1001', '917-1001', 'CD'), ('Brighton', 'Brighton', 'NNP'), ('Road', 'Road', 'NNP'), ('Pittsburgh', 'Pittsburgh', 'NNP'), (',', ',', ','), ('Pa.', 'Pa.', 'NNP'), ('15233', '15233', 'CD'), ('fom', 'fom', 'NN'), ('October', 'October', 'NNP'), ('24', '24', 'CD'), (',', ',', ','), ('1972', '1972', 'CD'), ('Information', 'Information', 'NN'), ('to', 'to', 'TO'), ('be', 'be', 'VB'), ('used', 'use', 'VBN'), ('by', 'by', 'IN'), ('Don', 'Don', 'NNP'), ('Cannon', 'Cannon', 'NNP'), ('and', 'and', 'CC'), ('Bob', 'Bob', 'NNP'), ('Sprague', 'Sprague', 'NNP'), ('in', 'in', 'IN'), ('preparing', 'prepare', 'VBG'), ('television', 'television', 'NN'), ('interview', 'interview', 'NN'), ('with', 'with', 'IN'), ('Virginia', 'Virginia', 'NNP'), ('Thornburgh', 'Thornburgh', 'NNP'), ('for', 'for', 'IN'), ('October', 'October', 'NNP'), ('28th', '28th', 'CD'), ('``', '``', '``'), ('Closeup', 'Closeup', 'NNP'), (\"''\", \"''\", \"''\"), ('.', '.', '.'), ('Virginia', 'Virginia', 'NNP'), ('Thornburgh', 'Thornburgh', 'NNP'), (':', ':', ':'), ('First', 'First', 'JJ'), ('Vice', 'Vice', 'NNP'), ('President', 'President', 'NNP'), ('of', 'of', 'IN'), ('ACC-PARC', 'ACC-PARC', 'NNP'), (';', ';', ':'), ('Chairman', 'Chairman', 'NNP'), ('of', 'of', 'IN'), ('ACC-PARC', 'ACC-PARC', 'NNP'), (\"'s\", \"'s\", 'POS'), ('State', 'State', 'NNP'), ('School', 'School', 'NNP'), ('and', 'and', 'CC'), (\"'\", \"'\", 'POS'), ('V', 'V', 'NNP'), ('.', '.', '.'), ('Hospital', 'Hospital', 'NNP'), ('and', 'and', 'CC'), ('Interim', 'Interim', 'NNP'), ('Care', 'Care', 'NNP'), ('Committee', 'Committee', 'NNP'), (';', ';', ':'), ('mother', 'mother', 'NN'), ('of', 'of', 'IN'), ('a', 'a', 'DT'), ('retarded', 'retard', 'JJ'), ('child', 'child', 'NN'), ('.', '.', '.'), ('History', 'History', 'NN'), (':', ':', ':'), ('In', 'In', 'IN'), ('June', 'June', 'NNP'), ('of', 'of', 'IN'), ('1972', '1972', 'CD'), (',', ',', ','), ('concerned', 'concerned', 'VBD'), ('that', 'that', 'IN'), ('the', 'the', 'DT'), ('Department', 'Department', 'NNP'), ('of', 'of', 'IN'), ('Public', 'Public', 'NNP'), ('Welfare', 'Welfare', 'NNP'), ('was', 'be', 'VBD'), ('not', 'not', 'RB'), ('adequately', 'adequately', 'RB'), ('serving', 'serve', 'VBG'), ('the', 'the', 'DT'), ('retarded', 'retard', 'VBN'), ('under', 'under', 'IN'), ('their', 'their', 'PRP$'), ('jurisdiction', 'jurisdiction', 'NN'), (',', ',', ','), ('ACC-PARC', 'ACC-PARC', 'NNP'), (\"'s\", \"'s\", 'POS'), ('Board', 'Board', 'NNP'), ('of', 'of', 'IN'), ('Directors', 'Directors', 'NNP'), ('charged', 'charge', 'VBD'), ('its', 'it', 'PRP$'), ('State', 'State', 'NNP'), ('School', 'School', 'NNP'), ('and', 'and', 'CC'), ('Hospital', 'Hospital', 'NNP'), ('and', 'and', 'CC'), ('Interim', 'Interim', 'NNP'), ('Care', 'Care', 'NNP'), ('Committee', 'Committee', 'NNP'), ('to', 'to', 'TO'), ('re-activate', 're-activate', 'VB'), ('visitations', 'visitation', 'NNS'), ('to', 'to', 'TO'), ('MR', 'MR', 'NNP'), ('facilities', 'facility', 'NNS'), ('in', 'in', 'IN'), ('the', 'the', 'DT'), ('western', 'western', 'JJ'), ('region', 'region', 'NN'), ('.', '.', '.'), ('The', 'The', 'DT'), ('death', 'death', 'NN'), ('of', 'of', 'IN'), ('Richard', 'Richard', 'NNP'), ('Hissim', 'Hissim', 'NNP'), ('at', 'at', 'IN'), ('Ridge', 'Ridge', 'NNP'), ('View', 'View', 'NNP'), ('Center', 'Center', 'NNP'), ('prompted', 'prompt', 'VBD'), ('several', 'several', 'JJ'), ('on-site', 'on-site', 'JJ'), ('inspections', 'inspection', 'NNS'), ('of', 'of', 'IN'), ('this', 'this', 'DT'), ('facility', 'facility', 'NN'), ('...', '...', ':'), ('with', 'with', 'IN'), ('requests', 'request', 'NNS'), ('■', '■', 'VBP'), ('to', 'to', 'TO'), ('DPW', 'DPW', 'NNP'), ('after', 'after', 'IN'), ('each', 'each', 'DT'), ('visitation', 'visitation', 'NN'), ('that', 'that', 'IN'), ('the', 'the', 'DT'), ('facility', 'facility', 'NN'), ('be', 'be', 'VB'), ('closed', 'close', 'VBN'), ('.', '.', '.'), ('These', 'These', 'DT'), ('requests', 'request', 'NNS'), ('were', 'be', 'VBD'), ('ignored', 'ignore', 'VBN'), ('.', '.', '.'), ('The', 'The', 'DT'), ('death', 'death', 'NN'), ('of', 'of', 'IN'), ('Louis', 'Louis', 'NNP'), ('Novak', 'Novak', 'NNP'), ('at', 'at', 'IN'), ('Ridge', 'Ridge', 'NNP'), ('View', 'View', 'NNP'), ('reinforced', 'reinforce', 'VBD'), ('the', 'the', 'DT'), ('local', 'local', 'JJ'), ('chapter', 'chapter', 'NN'), (\"'s\", \"'s\", 'POS'), ('fears', 'fear', 'NNS'), ('for', 'for', 'IN'), ('the', 'the', 'DT'), ('care', 'care', 'NN'), ('of', 'of', 'IN'), ('Allegheny', 'Allegheny', 'NNP'), ('County', 'County', 'NNP'), ('residents', 'resident', 'NNS'), ('placed', 'place', 'VBN'), ('in', 'in', 'IN'), ('.', '.', '.'), ('facilities', 'facility', 'NNS'), ('throughout', 'throughout', 'IN'), ('the', 'the', 'DT'), ('State', 'State', 'NNP'), ('...', '...', ':'), ('and', 'and', 'CC'), ('a', 'a', 'DT'), ('public', 'public', 'JJ'), ('pledge', 'pledge', 'NN'), ('was', 'be', 'VBD'), ('r', 'r', 'NN'), ('made', 'make', 'VBN'), ('in', 'in', 'IN'), ('August', 'August', 'NNP'), ('to', 'to', 'TO'), ('monitor', 'monitor', 'VB'), ('all', 'all', 'DT'), ('facilities', 'facility', 'NNS'), ('housing', 'housing', 'NN'), ('mentally', 'mentally', 'RB'), ('retarded', 'retard', 'JJ'), ('children', 'child', 'NNS'), ('cind', 'cind', 'VBP'), ('adults', 'adult', 'NNS'), ('from', 'from', 'IN'), ('Allegheny', 'Allegheny', 'NNP'), ('County', 'County', 'NNP'), ('.', '.', '.'), ('Mrs.', 'Mrs.', 'NNP'), ('Thornburgh', 'Thornburgh', 'NNP'), ('visited', 'visit', 'VBD'), ('the', 'the', 'DT'), ('following', 'follow', 'VBG'), ('facilities', 'facility', 'NNS'), ('that.have', 'that.have', 'VBP'), ('recently', 'recently', 'RB'), ('been', 'be', 'VBN'), ('in', 'in', 'IN'), ('the', 'the', 'DT'), ('news', 'news', 'NN'), (':', ':', ':'), ('Ridge', 'Ridge', 'NNP'), ('View', 'View', 'NNP'), (',', ',', ','), ('Mountain', 'Mountain', 'NNP'), ('Top', 'Top', 'NNP'), (',', ',', ','), ('Polk', 'Polk', 'NNP'), ('.', '.', '.'), ('Mrs.', 'Mrs.', 'NNP'), ('Mary', 'Mary', 'NNP'), ('Lou', 'Lou', 'NNP'), ('Magistri', 'Magistri', 'NNP'), ('Page', 'Page', 'NNP'), ('Two', 'Two', 'CD'), ('October', 'October', 'NNP'), ('24', '24', 'CD'), (',', ',', ','), ('1972', '1972', 'CD'), ('She', 'She', 'PRP'), ('will', 'will', 'MD'), ('answer', 'answer', 'VB'), ('any', 'any', 'DT'), ('questions', 'question', 'NNS'), ('regarding', 'regard', 'NN'), (':', ':', ':'), ('—what', '—what', 'WP'), ('she', 'she', 'PRP'), ('saw', 'saw', 'VBD'), ('on', 'on', 'IN'), ('these', 'these', 'DT'), ('inspections', 'inspection', 'NNS'), ('(', '(', '('), ('physical', 'physical', 'JJ'), ('plant', 'plant', 'NN'), (',', ',', ','), ('staffing', 'staff', 'VBG'), (',', ',', ','), ('\\\\', '\\\\', 'NNP'), ('programming', 'program', 'NN'), (',', ',', ','), ('residents', 'resident', 'NNS'), (')', ')', ')'), ('.', '.', '.'), ('—attitude', '—attitude', 'NN'), ('of', 'of', 'IN'), ('DPW', 'DPW', 'NNP'), ('(', '(', '('), ('especially', 'especially', 'RB'), ('N.E', 'N.E', 'NNP'), ('.', '.', '.'), ('Regional', 'Regional', 'NNP'), ('office', 'office', 'NN'), (')', ')', ')'), ('regarding', 'regard', 'VBG'), ('these', 'these', 'DT'), ('facilities', 'facility', 'NNS'), ('and', 'and', 'CC'), ('their', 'their', 'PRP$'), ('reaction', 'reaction', 'NN'), ('when', 'when', 'WRB'), ('confronted', 'confront', 'VBN'), ('by', 'by', 'IN'), ('team', 'team', 'NN'), ('—recommended', '—recommended', 'VBN'), ('changes', 'change', 'NNS'), ('in', 'in', 'IN'), ('care', 'care', 'NN'), ('and', 'and', 'CC'), ('treatment', 'treatment', 'NN'), ('of', 'of', 'IN'), ('mentally', 'mentally', 'RB'), ('retarded', 'retard', 'JJ'), (\"'■—anything\", \"'■—anything\", 'VBG'), ('else', 'else', 'JJ'), ('Cannon', 'Cannon', 'NNP'), ('and', 'and', 'CC'), ('Sprague', 'Sprague', 'NNP'), ('wish', 'wish', 'NN'), ('to', 'to', 'TO'), ('ask', 'ask', 'VB'), ('.', '.', '.'), ('Published', 'Published', 'VBN'), ('and', 'and', 'CC'), ('unpublished', 'unpublished', 'JJ'), ('reports', 'report', 'NNS'), ('of', 'of', 'IN'), ('ACC-PARC', 'ACC-PARC', 'NNP'), ('site', 'site', 'NN'), ('visitations', 'visitation', 'NNS'), ('are', 'be', 'VBP'), ('enclosed', 'enclose', 'VBN'), ('.', '.', '.')]"
      ]
     },
     "execution_count": 110,
     "metadata": {},
     "output_type": "execute_result"
    },
    {
     "data": {
      "text/plain": [
       "[('mary', 'MARY', 'NNP'), ('lou', 'LOU', 'NNP'), ('magistral', 'magistral', 'NNP'), (',', ',', ','), ('public', 'Public', 'NNP'), ('relations', 'relations', 'NNP'), ('director', 'Director', 'NNP'), ('phone', 'Phone', 'NNP'), (':', ':', ':'), ('322-6008', '322-6008', 'CD'), ('of', 'of', 'IN'), ('the', 'the', 'DT'), ('pennsylvania', 'Pennsylvania', 'NNP'), ('association', 'Association', 'NNP'), ('for', 'for', 'IN'), ('retarded', 'Retarded', 'NNP'), ('children', 'Children', 'NNP'), (',', ',', ','), ('inc.', 'Inc.', 'NNP'), ('917-1001', '917-1001', 'CD'), ('brighton', 'Brighton', 'NNP'), ('road', 'Road', 'NNP'), ('pittsburgh', 'Pittsburgh', 'NNP'), (',', ',', ','), ('pa.', 'Pa.', 'NNP'), ('15233', '15233', 'CD'), ('for', 'for', 'NN'), ('october', 'October', 'NNP'), ('24', '24', 'CD'), (',', ',', ','), ('1972', '1972', 'CD'), ('information', 'Information', 'NN'), ('to', 'to', 'TO'), ('be', 'be', 'VB'), ('used', 'use', 'VBN'), ('by', 'by', 'IN'), ('don', 'Don', 'NNP'), ('cannon', 'Cannon', 'NNP'), ('and', 'and', 'CC'), ('bob', 'Bob', 'NNP'), ('sprague', 'Sprague', 'NNP'), ('in', 'in', 'IN'), ('preparing', 'prepare', 'VBG'), ('television', 'television', 'NN'), ('interview', 'interview', 'NN'), ('with', 'with', 'IN'), ('virginia', 'Virginia', 'NNP'), ('thornburgh', 'Thornburgh', 'NNP'), ('for', 'for', 'IN'), ('october', 'October', 'NNP'), ('28th', '28th', 'CD'), ('``', '``', '``'), ('closeup', 'Closeup', 'NNP'), (\"''\", \"''\", \"''\"), ('.', '.', '.'), ('virginia', 'Virginia', 'NNP'), ('thornburgh', 'Thornburgh', 'NNP'), (':', ':', ':'), ('first', 'First', 'JJ'), ('vice', 'Vice', 'NNP'), ('president', 'President', 'NNP'), ('of', 'of', 'IN'), ('acc-parc', 'ACC-PARC', 'NNP'), (';', ';', ':'), ('chairman', 'Chairman', 'NNP'), ('of', 'of', 'IN'), ('acc-parc', 'ACC-PARC', 'NNP'), (\"'s\", \"'s\", 'POS'), ('state', 'State', 'NNP'), ('school', 'School', 'NNP'), ('and', 'and', 'CC'), (\"'\", \"'\", 'POS'), ('v', 'V', 'NNP'), ('.', '.', '.'), ('hospital', 'Hospital', 'NNP'), ('and', 'and', 'CC'), ('interim', 'Interim', 'NNP'), ('care', 'Care', 'NNP'), ('committee', 'Committee', 'NNP'), (';', ';', ':'), ('mother', 'mother', 'NN'), ('of', 'of', 'IN'), ('a', 'a', 'DT'), ('retarded', 'retard', 'JJ'), ('child', 'child', 'NN'), ('.', '.', '.'), ('history', 'History', 'NN'), (':', ':', ':'), ('in', 'In', 'IN'), ('june', 'June', 'NNP'), ('of', 'of', 'IN'), ('1972', '1972', 'CD'), (',', ',', ','), ('concerned', 'concerned', 'VBD'), ('that', 'that', 'IN'), ('the', 'the', 'DT'), ('department', 'Department', 'NNP'), ('of', 'of', 'IN'), ('public', 'Public', 'NNP'), ('welfare', 'Welfare', 'NNP'), ('was', 'be', 'VBD'), ('not', 'not', 'RB'), ('adequately', 'adequately', 'RB'), ('serving', 'serve', 'VBG'), ('the', 'the', 'DT'), ('retarded', 'retard', 'VBN'), ('under', 'under', 'IN'), ('their', 'their', 'PRP$'), ('jurisdiction', 'jurisdiction', 'NN'), (',', ',', ','), ('acc-parc', 'ACC-PARC', 'NNP'), (\"'s\", \"'s\", 'POS'), ('board', 'Board', 'NNP'), ('of', 'of', 'IN'), ('directors', 'Directors', 'NNP'), ('charged', 'charge', 'VBD'), ('its', 'it', 'PRP$'), ('state', 'State', 'NNP'), ('school', 'School', 'NNP'), ('and', 'and', 'CC'), ('hospital', 'Hospital', 'NNP'), ('and', 'and', 'CC'), ('interim', 'Interim', 'NNP'), ('care', 'Care', 'NNP'), ('committee', 'Committee', 'NNP'), ('to', 'to', 'TO'), ('re-activate', 're-activate', 'VB'), ('visitations', 'visitation', 'NNS'), ('to', 'to', 'TO'), ('mr', 'MR', 'NNP'), ('facilities', 'facility', 'NNS'), ('in', 'in', 'IN'), ('the', 'the', 'DT'), ('western', 'western', 'JJ'), ('region', 'region', 'NN'), ('.', '.', '.'), ('the', 'The', 'DT'), ('death', 'death', 'NN'), ('of', 'of', 'IN'), ('richard', 'Richard', 'NNP'), ('his sim', 'his sim', 'NNP'), ('at', 'at', 'IN'), ('ridge', 'Ridge', 'NNP'), ('view', 'View', 'NNP'), ('center', 'Center', 'NNP'), ('prompted', 'prompt', 'VBD'), ('several', 'several', 'JJ'), ('on-site', 'on-site', 'JJ'), ('inspections', 'inspection', 'NNS'), ('of', 'of', 'IN'), ('this', 'this', 'DT'), ('facility', 'facility', 'NN'), ('...', '...', ':'), ('with', 'with', 'IN'), ('requests', 'request', 'NNS'), ('■', '■', 'VBP'), ('to', 'to', 'TO'), ('dpi', 'dpi', 'NNP'), ('after', 'after', 'IN'), ('each', 'each', 'DT'), ('visitation', 'visitation', 'NN'), ('that', 'that', 'IN'), ('the', 'the', 'DT'), ('facility', 'facility', 'NN'), ('be', 'be', 'VB'), ('closed', 'close', 'VBN'), ('.', '.', '.'), ('these', 'These', 'DT'), ('requests', 'request', 'NNS'), ('were', 'be', 'VBD'), ('ignored', 'ignore', 'VBN'), ('.', '.', '.'), ('the', 'The', 'DT'), ('death', 'death', 'NN'), ('of', 'of', 'IN'), ('louis', 'Louis', 'NNP'), ('novak', 'Novak', 'NNP'), ('at', 'at', 'IN'), ('ridge', 'Ridge', 'NNP'), ('view', 'View', 'NNP'), ('reinforced', 'reinforce', 'VBD'), ('the', 'the', 'DT'), ('local', 'local', 'JJ'), ('chapter', 'chapter', 'NN'), (\"'s\", \"'s\", 'POS'), ('fears', 'fear', 'NNS'), ('for', 'for', 'IN'), ('the', 'the', 'DT'), ('care', 'care', 'NN'), ('of', 'of', 'IN'), ('allegheny', 'Allegheny', 'NNP'), ('county', 'County', 'NNP'), ('residents', 'resident', 'NNS'), ('placed', 'place', 'VBN'), ('in', 'in', 'IN'), ('.', '.', '.'), ('facilities', 'facility', 'NNS'), ('throughout', 'throughout', 'IN'), ('the', 'the', 'DT'), ('state', 'State', 'NNP'), ('...', '...', ':'), ('and', 'and', 'CC'), ('a', 'a', 'DT'), ('public', 'public', 'JJ'), ('pledge', 'pledge', 'NN'), ('was', 'be', 'VBD'), ('r', 'r', 'NN'), ('made', 'make', 'VBN'), ('in', 'in', 'IN'), ('august', 'August', 'NNP'), ('to', 'to', 'TO'), ('monitor', 'monitor', 'VB'), ('all', 'all', 'DT'), ('facilities', 'facility', 'NNS'), ('housing', 'housing', 'NN'), ('mentally', 'mentally', 'RB'), ('retarded', 'retard', 'JJ'), ('children', 'child', 'NNS'), ('find', 'find', 'VBP'), ('adults', 'adult', 'NNS'), ('from', 'from', 'IN'), ('allegheny', 'Allegheny', 'NNP'), ('county', 'County', 'NNP'), ('.', '.', '.'), ('mrs.', 'Mrs.', 'NNP'), ('thornburgh', 'Thornburgh', 'NNP'), ('visited', 'visit', 'VBD'), ('the', 'the', 'DT'), ('following', 'follow', 'VBG'), ('facilities', 'facility', 'NNS'), ('that.have', 'that.have', 'VBP'), ('recently', 'recently', 'RB'), ('been', 'be', 'VBN'), ('in', 'in', 'IN'), ('the', 'the', 'DT'), ('news', 'news', 'NN'), (':', ':', ':'), ('ridge', 'Ridge', 'NNP'), ('view', 'View', 'NNP'), (',', ',', ','), ('mountain', 'Mountain', 'NNP'), ('top', 'Top', 'NNP'), (',', ',', ','), ('polk', 'Polk', 'NNP'), ('.', '.', '.'), ('mrs.', 'Mrs.', 'NNP'), ('mary', 'Mary', 'NNP'), ('lou', 'Lou', 'NNP'), ('magistral', 'magistral', 'NNP'), ('page', 'Page', 'NNP'), ('two', 'Two', 'CD'), ('october', 'October', 'NNP'), ('24', '24', 'CD'), (',', ',', ','), ('1972', '1972', 'CD'), ('she', 'She', 'PRP'), ('will', 'will', 'MD'), ('answer', 'answer', 'VB'), ('any', 'any', 'DT'), ('questions', 'question', 'NNS'), ('regarding', 'regard', 'NN'), (':', ':', ':'), ('—what', '—what', 'WP'), ('she', 'she', 'PRP'), ('saw', 'saw', 'VBD'), ('on', 'on', 'IN'), ('these', 'these', 'DT'), ('inspections', 'inspection', 'NNS'), ('(', '(', '('), ('physical', 'physical', 'JJ'), ('plant', 'plant', 'NN'), (',', ',', ','), ('staffing', 'staff', 'VBG'), (',', ',', ','), ('\\\\', '\\\\', 'NNP'), ('programming', 'program', 'NN'), (',', ',', ','), ('residents', 'resident', 'NNS'), (')', ')', ')'), ('.', '.', '.'), ('—attitude', '—attitude', 'NN'), ('of', 'of', 'IN'), ('dpi', 'dpi', 'NNP'), ('(', '(', '('), ('especially', 'especially', 'RB'), ('n.e', 'N.E', 'NNP'), ('.', '.', '.'), ('regional', 'Regional', 'NNP'), ('office', 'office', 'NN'), (')', ')', ')'), ('regarding', 'regard', 'VBG'), ('these', 'these', 'DT'), ('facilities', 'facility', 'NNS'), ('and', 'and', 'CC'), ('their', 'their', 'PRP$'), ('reaction', 'reaction', 'NN'), ('when', 'when', 'WRB'), ('confronted', 'confront', 'VBN'), ('by', 'by', 'IN'), ('team', 'team', 'NN'), ('—recommended', '—recommended', 'VBN'), ('changes', 'change', 'NNS'), ('in', 'in', 'IN'), ('care', 'care', 'NN'), ('and', 'and', 'CC'), ('treatment', 'treatment', 'NN'), ('of', 'of', 'IN'), ('mentally', 'mentally', 'RB'), ('retarded', 'retard', 'JJ'), (\"'■—anything\", \"'■—anything\", 'VBG'), ('else', 'else', 'JJ'), ('cannon', 'Cannon', 'NNP'), ('and', 'and', 'CC'), ('sprague', 'Sprague', 'NNP'), ('wish', 'wish', 'NN'), ('to', 'to', 'TO'), ('ask', 'ask', 'VB'), ('.', '.', '.'), ('published', 'Published', 'VBN'), ('and', 'and', 'CC'), ('unpublished', 'unpublished', 'JJ'), ('reports', 'report', 'NNS'), ('of', 'of', 'IN'), ('acc-parc', 'ACC-PARC', 'NNP'), ('site', 'site', 'NN'), ('visitations', 'visitation', 'NNS'), ('are', 'be', 'VBP'), ('enclosed', 'enclose', 'VBN'), ('.', '.', '.')]"
      ]
     },
     "execution_count": 110,
     "metadata": {},
     "output_type": "execute_result"
    },
    {
     "data": {
      "text/plain": [
       "[(('magistri', 'MAGISTRI', 'NNP'), ('magistral', 'magistral', 'NNP')), (('relationa', 'Relationa', 'NNP'), ('relations', 'relations', 'NNP')), (('fom', 'fom', 'NN'), ('for', 'for', 'NN')), (('hissim', 'Hissim', 'NNP'), ('his sim', 'his sim', 'NNP')), (('dpw', 'DPW', 'NNP'), ('dpi', 'dpi', 'NNP')), (('cind', 'cind', 'VBP'), ('find', 'find', 'VBP')), (('magistri', 'Magistri', 'NNP'), ('magistral', 'magistral', 'NNP'))]"
      ]
     },
     "execution_count": 110,
     "metadata": {},
     "output_type": "execute_result"
    },
    {
     "name": "stdout",
     "output_type": "stream",
     "text": [
      "Pretty printing has been turned ON\n"
     ]
    }
   ],
   "source": [
    "%pprint\n",
    "\n",
    "# Checking with random short text\n",
    "\n",
    "bob_df.iloc[40,-5] #uncorrected\n",
    "bob_df.iloc[40,-3] #corrected\n",
    "bob_df.iloc[40,-2] #corrected mistakes\n",
    "\n",
    "%pprint"
   ]
  },
  {
   "cell_type": "code",
   "execution_count": 111,
   "metadata": {},
   "outputs": [
    {
     "data": {
      "text/html": [
       "<div>\n",
       "<style scoped>\n",
       "    .dataframe tbody tr th:only-of-type {\n",
       "        vertical-align: middle;\n",
       "    }\n",
       "\n",
       "    .dataframe tbody tr th {\n",
       "        vertical-align: top;\n",
       "    }\n",
       "\n",
       "    .dataframe thead th {\n",
       "        text-align: right;\n",
       "    }\n",
       "</style>\n",
       "<table border=\"1\" class=\"dataframe\">\n",
       "  <thead>\n",
       "    <tr style=\"text-align: right;\">\n",
       "      <th></th>\n",
       "      <th>id</th>\n",
       "      <th>title</th>\n",
       "      <th>display_date</th>\n",
       "      <th>abstract</th>\n",
       "      <th>host</th>\n",
       "      <th>series</th>\n",
       "      <th>container</th>\n",
       "      <th>owner</th>\n",
       "      <th>depositor</th>\n",
       "      <th>collection_id</th>\n",
       "      <th>text</th>\n",
       "      <th>language</th>\n",
       "      <th>len</th>\n",
       "      <th>tok_lem_POS_NLTK</th>\n",
       "      <th>tok_lem_POS_CLAWS</th>\n",
       "      <th>tok_lem_POS_NLTK_corrected</th>\n",
       "      <th>misspelling_correction</th>\n",
       "      <th>len_errors</th>\n",
       "    </tr>\n",
       "  </thead>\n",
       "  <tbody>\n",
       "    <tr>\n",
       "      <th>0</th>\n",
       "      <td>MSS_1002_B001_F11_I01</td>\n",
       "      <td>Recent Litigation Memo</td>\n",
       "      <td>July 11, 1975</td>\n",
       "      <td>A PARC internal memo that summarizes recent li...</td>\n",
       "      <td>Bob Nelkin Collection of ACC-PARC Records</td>\n",
       "      <td>I. Administrative Records 1953-1983</td>\n",
       "      <td>box 1, folder 11, Item 1</td>\n",
       "      <td>Heinz History Center</td>\n",
       "      <td>Detre Library &amp; Archives, Heinz History Center</td>\n",
       "      <td>collection.341</td>\n",
       "      <td>﻿V\\n\\nPennsylvania Association for Retarded Ci...</td>\n",
       "      <td>English</td>\n",
       "      <td>3042</td>\n",
       "      <td>[(V, V, NNP), (Pennsylvania, Pennsylvania, NNP...</td>\n",
       "      <td>[(Pennsylvania, pennsylvania, n), (Association...</td>\n",
       "      <td>[(v, V, NNP), (pennsylvania, Pennsylvania, NNP...</td>\n",
       "      <td>[((dpw, DPW, NNP), (dpi, dpi, NNP)), ((bazelon...</td>\n",
       "      <td>26</td>\n",
       "    </tr>\n",
       "    <tr>\n",
       "      <th>1</th>\n",
       "      <td>MSS_1002_B001_F12_I01</td>\n",
       "      <td>Letter from Peter Polloni to Bob Nelkin</td>\n",
       "      <td>March 11, 1975</td>\n",
       "      <td>A letter from Peter Polloni, executive directo...</td>\n",
       "      <td>Bob Nelkin Collection of ACC-PARC Records</td>\n",
       "      <td>I. Administrative Records 1953-1983</td>\n",
       "      <td>box 1, folder 12, Item 1</td>\n",
       "      <td>Heinz History Center</td>\n",
       "      <td>Detre Library &amp; Archives, Heinz History Center</td>\n",
       "      <td>collection.341</td>\n",
       "      <td>﻿Pennsylvania Association for Retarded Citizen...</td>\n",
       "      <td>English</td>\n",
       "      <td>242</td>\n",
       "      <td>[(Pennsylvania, Pennsylvania, NNP), (Associati...</td>\n",
       "      <td>[(Pennsylvania, pennsylvania, n), (Association...</td>\n",
       "      <td>[(pennsylvania, Pennsylvania, NNP), (associati...</td>\n",
       "      <td>[((ppp, PPP, NNP), (pop, pop, NNP)), ((schmi, ...</td>\n",
       "      <td>4</td>\n",
       "    </tr>\n",
       "    <tr>\n",
       "      <th>2</th>\n",
       "      <td>MSS_1002_B001_F13_I01</td>\n",
       "      <td>Letter to Frank Beal from Families and Friends...</td>\n",
       "      <td>August 19, 1976</td>\n",
       "      <td>A letter from Families and Friends of Southwes...</td>\n",
       "      <td>Bob Nelkin Collection of ACC-PARC Records</td>\n",
       "      <td>I. Administrative Records 1953-1983</td>\n",
       "      <td>box 1, folder 13, Item 1</td>\n",
       "      <td>Heinz History Center</td>\n",
       "      <td>Detre Library &amp; Archives, Heinz History Center</td>\n",
       "      <td>collection.341</td>\n",
       "      <td>﻿11\\nFAMILIES &amp; FRIENDS OF SOUTHWEST HABILITAT...</td>\n",
       "      <td>English</td>\n",
       "      <td>268</td>\n",
       "      <td>[(11, 11, CD), (FAMILIES, FAMILIES, NNP), (&amp;, ...</td>\n",
       "      <td>[(1, 1, m), (FAMILIES, family, n), (FRIENDS, f...</td>\n",
       "      <td>[(11, 11, CD), (families, FAMILIES, NNP), (&amp;, ...</td>\n",
       "      <td>[((fodi, Fodi, NNP), (jodi, jodi, NNP))]</td>\n",
       "      <td>1</td>\n",
       "    </tr>\n",
       "    <tr>\n",
       "      <th>3</th>\n",
       "      <td>MSS_1002_B001_F13_I02</td>\n",
       "      <td>Letter from families of patients at Southwest ...</td>\n",
       "      <td>July 27, 1976</td>\n",
       "      <td>A letter requesting Bob Nelkin's advice on adv...</td>\n",
       "      <td>Bob Nelkin Collection of ACC-PARC Records</td>\n",
       "      <td>I. Administrative Records 1953-1983</td>\n",
       "      <td>box 1, folder 13, Item 2</td>\n",
       "      <td>Heinz History Center</td>\n",
       "      <td>Detre Library &amp; Archives, Heinz History Center</td>\n",
       "      <td>collection.341</td>\n",
       "      <td>﻿FAMILIES &amp; FRIENDS OF\\nSOUTHWEST HABILITATION...</td>\n",
       "      <td>English</td>\n",
       "      <td>320</td>\n",
       "      <td>[(FAMILIES, FAMILIES, NNP), (&amp;, &amp;, CC), (FRIEN...</td>\n",
       "      <td>[(FAMILIES, family, n), (FRIENDS, friend, n), ...</td>\n",
       "      <td>[(families, FAMILIES, NNP), (&amp;, &amp;, CC), (frien...</td>\n",
       "      <td>[((tesident, tesident, NN), (resident, residen...</td>\n",
       "      <td>3</td>\n",
       "    </tr>\n",
       "    <tr>\n",
       "      <th>4</th>\n",
       "      <td>MSS_1002_B001_F16_I01</td>\n",
       "      <td>ACC-PARC Recent Benefits to Families Memo</td>\n",
       "      <td>March 28, 1977</td>\n",
       "      <td>Correspondence from Bob Nelkin to Joan Murdoch...</td>\n",
       "      <td>Bob Nelkin Collection of ACC-PARC Records</td>\n",
       "      <td>I. Administrative Records 1953-1983</td>\n",
       "      <td>box 1, folder 16, Item 1</td>\n",
       "      <td>Heinz History Center</td>\n",
       "      <td>Detre Library &amp; Archives, Heinz History Center</td>\n",
       "      <td>collection.341</td>\n",
       "      <td>C ommonwealth of Pennsylvania\\n\\nDepartment of...</td>\n",
       "      <td>English</td>\n",
       "      <td>6932</td>\n",
       "      <td>[(C, C, NNP), (ommonwealth, ommonwealth, NN), ...</td>\n",
       "      <td>[(C, c, n), (ommonwealth, ommonwealth, n), (of...</td>\n",
       "      <td>[(c, C, NNP), (commonwealth, commonwealth, NN)...</td>\n",
       "      <td>[((ommonwealth, ommonwealth, NN), (commonwealt...</td>\n",
       "      <td>209</td>\n",
       "    </tr>\n",
       "  </tbody>\n",
       "</table>\n",
       "</div>"
      ],
      "text/plain": [
       "                      id                                              title  \\\n",
       "0  MSS_1002_B001_F11_I01                             Recent Litigation Memo   \n",
       "1  MSS_1002_B001_F12_I01            Letter from Peter Polloni to Bob Nelkin   \n",
       "2  MSS_1002_B001_F13_I01  Letter to Frank Beal from Families and Friends...   \n",
       "3  MSS_1002_B001_F13_I02  Letter from families of patients at Southwest ...   \n",
       "4  MSS_1002_B001_F16_I01          ACC-PARC Recent Benefits to Families Memo   \n",
       "\n",
       "      display_date                                           abstract  \\\n",
       "0    July 11, 1975  A PARC internal memo that summarizes recent li...   \n",
       "1   March 11, 1975  A letter from Peter Polloni, executive directo...   \n",
       "2  August 19, 1976  A letter from Families and Friends of Southwes...   \n",
       "3    July 27, 1976  A letter requesting Bob Nelkin's advice on adv...   \n",
       "4   March 28, 1977  Correspondence from Bob Nelkin to Joan Murdoch...   \n",
       "\n",
       "                                        host  \\\n",
       "0  Bob Nelkin Collection of ACC-PARC Records   \n",
       "1  Bob Nelkin Collection of ACC-PARC Records   \n",
       "2  Bob Nelkin Collection of ACC-PARC Records   \n",
       "3  Bob Nelkin Collection of ACC-PARC Records   \n",
       "4  Bob Nelkin Collection of ACC-PARC Records   \n",
       "\n",
       "                                series                 container  \\\n",
       "0  I. Administrative Records 1953-1983  box 1, folder 11, Item 1   \n",
       "1  I. Administrative Records 1953-1983  box 1, folder 12, Item 1   \n",
       "2  I. Administrative Records 1953-1983  box 1, folder 13, Item 1   \n",
       "3  I. Administrative Records 1953-1983  box 1, folder 13, Item 2   \n",
       "4  I. Administrative Records 1953-1983  box 1, folder 16, Item 1   \n",
       "\n",
       "                  owner                                       depositor  \\\n",
       "0  Heinz History Center  Detre Library & Archives, Heinz History Center   \n",
       "1  Heinz History Center  Detre Library & Archives, Heinz History Center   \n",
       "2  Heinz History Center  Detre Library & Archives, Heinz History Center   \n",
       "3  Heinz History Center  Detre Library & Archives, Heinz History Center   \n",
       "4  Heinz History Center  Detre Library & Archives, Heinz History Center   \n",
       "\n",
       "    collection_id                                               text language  \\\n",
       "0  collection.341  ﻿V\\n\\nPennsylvania Association for Retarded Ci...  English   \n",
       "1  collection.341  ﻿Pennsylvania Association for Retarded Citizen...  English   \n",
       "2  collection.341  ﻿11\\nFAMILIES & FRIENDS OF SOUTHWEST HABILITAT...  English   \n",
       "3  collection.341  ﻿FAMILIES & FRIENDS OF\\nSOUTHWEST HABILITATION...  English   \n",
       "4  collection.341  C ommonwealth of Pennsylvania\\n\\nDepartment of...  English   \n",
       "\n",
       "    len                                   tok_lem_POS_NLTK  \\\n",
       "0  3042  [(V, V, NNP), (Pennsylvania, Pennsylvania, NNP...   \n",
       "1   242  [(Pennsylvania, Pennsylvania, NNP), (Associati...   \n",
       "2   268  [(11, 11, CD), (FAMILIES, FAMILIES, NNP), (&, ...   \n",
       "3   320  [(FAMILIES, FAMILIES, NNP), (&, &, CC), (FRIEN...   \n",
       "4  6932  [(C, C, NNP), (ommonwealth, ommonwealth, NN), ...   \n",
       "\n",
       "                                   tok_lem_POS_CLAWS  \\\n",
       "0  [(Pennsylvania, pennsylvania, n), (Association...   \n",
       "1  [(Pennsylvania, pennsylvania, n), (Association...   \n",
       "2  [(1, 1, m), (FAMILIES, family, n), (FRIENDS, f...   \n",
       "3  [(FAMILIES, family, n), (FRIENDS, friend, n), ...   \n",
       "4  [(C, c, n), (ommonwealth, ommonwealth, n), (of...   \n",
       "\n",
       "                          tok_lem_POS_NLTK_corrected  \\\n",
       "0  [(v, V, NNP), (pennsylvania, Pennsylvania, NNP...   \n",
       "1  [(pennsylvania, Pennsylvania, NNP), (associati...   \n",
       "2  [(11, 11, CD), (families, FAMILIES, NNP), (&, ...   \n",
       "3  [(families, FAMILIES, NNP), (&, &, CC), (frien...   \n",
       "4  [(c, C, NNP), (commonwealth, commonwealth, NN)...   \n",
       "\n",
       "                              misspelling_correction  len_errors  \n",
       "0  [((dpw, DPW, NNP), (dpi, dpi, NNP)), ((bazelon...          26  \n",
       "1  [((ppp, PPP, NNP), (pop, pop, NNP)), ((schmi, ...           4  \n",
       "2           [((fodi, Fodi, NNP), (jodi, jodi, NNP))]           1  \n",
       "3  [((tesident, tesident, NN), (resident, residen...           3  \n",
       "4  [((ommonwealth, ommonwealth, NN), (commonwealt...         209  "
      ]
     },
     "execution_count": 111,
     "metadata": {},
     "output_type": "execute_result"
    }
   ],
   "source": [
    "bob_df.head()"
   ]
  },
  {
   "cell_type": "markdown",
   "metadata": {},
   "source": [
    "## 6. Genre tagging\n",
    "\n",
    "As much as possible has been done automatically based on titles and abstract, and then the rest have been manually checked. The first genre column keeps the genre terms used in the collection, and the second genre column uses the [MODS metadata terms](https://github.com/uls-mad/islandora_metadata/wiki/Genre-Terms-for-Historic-Pittsburgh-Digital-Objects)."
   ]
  },
  {
   "cell_type": "code",
   "execution_count": 112,
   "metadata": {},
   "outputs": [],
   "source": [
    "# Create lists based on titles (these have each been checked)\n",
    "\n",
    "letter = [(x,'letter') for x in bob_df.title if 'letter' in x.lower()]\n",
    "memo = [(x,'memo') for x in bob_df.title if 'memo' in x.lower()]\n",
    "report = [(x,'report') for x in bob_df.title if 'report' in x.lower()]\n",
    "excerpt = [(x,'excerpt') for x in bob_df.title if 'excerpt' in x.lower()]\n",
    "pamphlet = [(x,'pamphlet') for x in bob_df.title if 'pamphlet' in x.lower()]\n",
    "flyer = [(x,'flyer') for x in bob_df.title if 'flyer' in x.lower()]\n",
    "handout = [(x,'handout') for x in bob_df.title if 'handout' in x.lower()]\n",
    "summary = [(x,'summary') for x in bob_df.title if 'summary' in x.lower()]\n",
    "news_request = [(x,'news_request') for x in bob_df.title if 'request for coverage' in x.lower()]\n",
    "minutes = [(x,'minutes') for x in bob_df.title if 'minutes' in x.lower()]\n",
    "news_release = [(x,'news_release') for x in bob_df.title if 'news release' in x.lower()]\n",
    "senate_bill = [(x,'senate_bill') for x in bob_df.title if 'senate bill' in x.lower()]\n",
    "note = [(x,'note') for x in bob_df.title if 'note' in x.lower()]\n",
    "notes = [(x,'notes') for x in bob_df.title if 'notes' in x.lower()] #make sure to update this one after 'note'\n",
    "statement = [(x,'statement') for x in bob_df.title if 'statement' in x.lower()]\n",
    "telegram = [(x,'telegram') for x in bob_df.title if 'telegram' in x.lower()]\n",
    "article = [(x,'article') for x in bob_df.title if 'article' in x.lower()]\n",
    "transcript = [(x,'transcript') for x in bob_df.title if 'transcript' in x.lower()]\n",
    "news_conference = [(x,'news_conference') for x in bob_df.title if 'news conference' in x.lower()]\n",
    "proclamation = [(x,'proclamation') for x in bob_df.title if 'proclamation' in x.lower()]\n",
    "data = [(x,'data') for x in bob_df.title if 'data' in x.lower()]\n",
    "agreement = [(x,'agreement') for x in bob_df.title if 'agreement' in x.lower()]\n",
    "court_order = [(x,'court_order') for x in bob_df.title if 'court order' in x.lower()]\n",
    "legislative_action = [(x,'legislative_action') for x in bob_df.title if 'legislative action' in x.lower()]\n",
    "press_release = [(x,'press_release') for x in bob_df.title if 'press release' in x.lower()]\n",
    "transcript = [(x,'transcript') for x in bob_df.title if 'transcript' in x.lower()]\n",
    "findings = [(x,'findings') for x in bob_df.title if 'findings' in x.lower()]\n",
    "review = [(x,'review') for x in bob_df.title if 'review of' in x.lower()]\n",
    "policy = [(x,'policy') for x in bob_df.title if 'polic' in x.lower()]\n",
    "court_order = [(x,'court_order') for x in bob_df.title if 'court order' in x.lower()]\n",
    "speech = [(x,'speech') for x in bob_df.title if 'speech' in x.lower()]\n",
    "questions = [(x,'questions') for x in bob_df.title if 'questions' in x.lower()]\n",
    "plan = [(x,'plan') for x in bob_df.title if 'plan' in x.lower()]\n",
    "response = [(x,'response') for x in bob_df.title if 'response' in x.lower()]\n",
    "information = [(x,'information') for x in bob_df.title if 'information' in x.lower()]\n",
    "press_packet = [(x,'press_packet') for x in bob_df.title if 'press packet' in x.lower()]\n",
    "trial_testimony = [(x,'trial_testimony') for x in bob_df.title if 'trial testimony' in x.lower()]"
   ]
  },
  {
   "cell_type": "code",
   "execution_count": 113,
   "metadata": {},
   "outputs": [],
   "source": [
    "# Manual genre classifications\n",
    "\n",
    "manual_dict = {\n",
    "    'Halderman v. Pennhurst Appendices':'court_order',\n",
    "    'Release of Investigation into the Death of Paul Jenkins':'report',\n",
    "    'Highland Park Center Restraining Chair':'photograph',\n",
    "    'Highland Park Center Resident Helmet':'photograph',\n",
    "    'Highland Park Center Resident Helmet (2)':'photograph',\n",
    "    'Highland Park Center Straitjacket':'photograph',\n",
    "    'Highland Park Center Cattle Prod':'photograph',\n",
    "    'Monitoring of Community Living Arrangements in Allegheny County':'plan',\n",
    "    'ACC-PARC Residential Services Committee Listing of Objectives Draft':'plan',\n",
    "    \"December 1972 Visit to Children's Rehabilitation Center\":'report',\n",
    "    'Parent Training Workshop Ideas':'notes',\n",
    "    'Supreme Court of the United States Pennhurst State School and Hospital v. Halderman et al., On Writ of Certiorari to the United States Court of Appeals for the Third Circuit':'legal_brief',\n",
    "    'Progress in Pennhurst Dispersal':'report',\n",
    "    'Joyce Z. Case Petition for Civil Court Commitment Under Section 406 of The Mental Health and Mental Retardation Act of 1966':'report',\n",
    "    'Quiet Room Orders from Physicians':'report',\n",
    "    'Immediate Needs for Intermediate Unit 1 at Western State School and Hospital':'report',\n",
    "    'Gardenside Building Concerns':'letter',\n",
    "    'Parent Allegations Against Polk State School and Hospital':'letter',\n",
    "    'Resolution from the Borough of Grove City in Support of Dr. James McClelland':'resolution'\n",
    "}"
   ]
  },
  {
   "cell_type": "code",
   "execution_count": 114,
   "metadata": {},
   "outputs": [],
   "source": [
    "# Create and add to genre_dict\n",
    "\n",
    "genre_dict = {}\n",
    "genre_dict.update(dict(plan))\n",
    "genre_dict.update(dict(questions))\n",
    "genre_dict.update(dict(agreement))\n",
    "genre_dict.update(dict(policy))\n",
    "genre_dict.update(dict(letter))\n",
    "genre_dict.update(dict(memo))\n",
    "genre_dict.update(dict(court_order))\n",
    "genre_dict.update(dict(report))\n",
    "genre_dict.update(dict(excerpt))\n",
    "genre_dict.update(dict(pamphlet))\n",
    "genre_dict.update(dict(flyer))\n",
    "genre_dict.update(dict(handout))\n",
    "genre_dict.update(dict(summary))\n",
    "genre_dict.update(dict(news_request))\n",
    "genre_dict.update(dict(minutes))\n",
    "genre_dict.update(dict(news_release))\n",
    "genre_dict.update(dict(senate_bill))\n",
    "genre_dict.update(dict(note))\n",
    "genre_dict.update(dict(notes))\n",
    "genre_dict.update(dict(statement))\n",
    "genre_dict.update(dict(telegram))\n",
    "genre_dict.update(dict(article))\n",
    "genre_dict.update(dict(news_conference))\n",
    "genre_dict.update(dict(proclamation))\n",
    "genre_dict.update(dict(data))\n",
    "genre_dict.update(dict(court_order))\n",
    "genre_dict.update(dict(legislative_action))\n",
    "genre_dict.update(dict(press_release))\n",
    "genre_dict.update(dict(transcript))\n",
    "genre_dict.update(dict(findings))\n",
    "genre_dict.update(dict(review))\n",
    "genre_dict.update(dict(speech))\n",
    "genre_dict.update(dict(response))\n",
    "genre_dict.update(dict(information))\n",
    "genre_dict.update(dict(press_packet))\n",
    "genre_dict.update(dict(trial_testimony))\n",
    "genre_dict.update(manual_dict)"
   ]
  },
  {
   "cell_type": "code",
   "execution_count": 115,
   "metadata": {},
   "outputs": [
    {
     "data": {
      "text/plain": [
       "0"
      ]
     },
     "execution_count": 115,
     "metadata": {},
     "output_type": "execute_result"
    }
   ],
   "source": [
    "# Check that all texts are in dict\n",
    "\n",
    "len([x for x in bob_df.title if x not in genre_dict])"
   ]
  },
  {
   "cell_type": "code",
   "execution_count": 116,
   "metadata": {},
   "outputs": [
    {
     "data": {
      "text/plain": [
       "0"
      ]
     },
     "execution_count": 116,
     "metadata": {},
     "output_type": "execute_result"
    }
   ],
   "source": [
    "# Map to dataframe\n",
    "\n",
    "bob_df['genre'] = bob_df.title.map(genre_dict)\n",
    "len(bob_df.loc[bob_df.genre.isnull()])"
   ]
  },
  {
   "cell_type": "code",
   "execution_count": 117,
   "metadata": {},
   "outputs": [
    {
     "data": {
      "text/plain": [
       "\"An ACC-PARC News announcement requesting press coverage for Frank S. Beal's follow-up visit. The third in a series of meetings on a lack of programs, services, and facilities.\""
      ]
     },
     "execution_count": 117,
     "metadata": {},
     "output_type": "execute_result"
    }
   ],
   "source": [
    "bob_df.loc[bob_df.genre == 'news_request','abstract'].to_list()[0]"
   ]
  },
  {
   "cell_type": "code",
   "execution_count": 118,
   "metadata": {},
   "outputs": [
    {
     "data": {
      "text/plain": [
       "letter                314\n",
       "report                 37\n",
       "article                33\n",
       "memo                   32\n",
       "news_release           13\n",
       "notes                  11\n",
       "minutes                10\n",
       "telegram               10\n",
       "plan                    7\n",
       "statement               6\n",
       "senate_bill             6\n",
       "photograph              5\n",
       "policy                  5\n",
       "information             4\n",
       "court_order             4\n",
       "excerpt                 4\n",
       "review                  4\n",
       "response                3\n",
       "questions               3\n",
       "summary                 3\n",
       "note                    3\n",
       "transcript              2\n",
       "news_request            2\n",
       "data                    2\n",
       "findings                2\n",
       "press_release           2\n",
       "flyer                   2\n",
       "agreement               2\n",
       "resolution              1\n",
       "legislative_action      1\n",
       "legal_brief             1\n",
       "trial_testimony         1\n",
       "proclamation            1\n",
       "press_packet            1\n",
       "handout                 1\n",
       "news_conference         1\n",
       "speech                  1\n",
       "pamphlet                1\n",
       "Name: genre, dtype: int64"
      ]
     },
     "execution_count": 118,
     "metadata": {},
     "output_type": "execute_result"
    }
   ],
   "source": [
    "# Check results\n",
    "\n",
    "bob_df.genre.value_counts()\n",
    "\n",
    "# These can be collapsed if desired"
   ]
  },
  {
   "cell_type": "code",
   "execution_count": 119,
   "metadata": {},
   "outputs": [],
   "source": [
    "# Create column with MODS dict and categories\n",
    "\n",
    "mods_dict = {'letter': 'correspondence',\n",
    "             'report': 'report',\n",
    "             'article': 'newspaper',\n",
    "             'memo': 'correspondence',\n",
    "             'news_release': 'press release',\n",
    "             'notes': 'correspondence',\n",
    "             'telegram':'correspondence',\n",
    "             'minutes':'minutes',\n",
    "             'plan':'report',\n",
    "             'statement':'press release',\n",
    "             'senate_bill':'case file',\n",
    "             'photograph':'photograph',\n",
    "             'policy':'report',\n",
    "             'review':'report',\n",
    "             'information':'report',\n",
    "             'court_order':'case file',\n",
    "             'excerpt':'clipping',\n",
    "             'response':'correspondence',\n",
    "             'summary':'report',\n",
    "             'note':'correspondence',\n",
    "             'questions':'correspondence',\n",
    "             'data':'case file',\n",
    "             'agreement':'case file',\n",
    "             'news_request':'correspondence',\n",
    "             'flyer':'flier',\n",
    "             'transcript':'transcript',\n",
    "             'findings':'report',\n",
    "             'speech':'transcript',\n",
    "             'resolution':'report',\n",
    "             'press packet':'press release',\n",
    "             'handout':'broadside',\n",
    "             'trial_testimony':'case file',\n",
    "             'news_conference':'press release',\n",
    "             'pamphlet':'pamphlet',\n",
    "             'legal_brief':'case file',\n",
    "             'legislative_action':'case file',\n",
    "             'proclamation':'broadside'}"
   ]
  },
  {
   "cell_type": "code",
   "execution_count": 120,
   "metadata": {},
   "outputs": [
    {
     "data": {
      "text/plain": [
       "correspondence    378\n",
       "report             63\n",
       "newspaper          33\n",
       "press release      20\n",
       "case file          17\n",
       "minutes            10\n",
       "photograph          5\n",
       "clipping            4\n",
       "transcript          3\n",
       "flier               2\n",
       "broadside           2\n",
       "pamphlet            1\n",
       "Name: genre_MODS, dtype: int64"
      ]
     },
     "execution_count": 120,
     "metadata": {},
     "output_type": "execute_result"
    }
   ],
   "source": [
    "bob_df['genre_MODS'] = bob_df.genre.map(mods_dict)\n",
    "bob_df.genre_MODS.value_counts()"
   ]
  },
  {
   "cell_type": "code",
   "execution_count": 121,
   "metadata": {},
   "outputs": [
    {
     "data": {
      "text/plain": [
       "text           536\n",
       "still image      5\n",
       "Name: resource_type, dtype: int64"
      ]
     },
     "execution_count": 121,
     "metadata": {},
     "output_type": "execute_result"
    }
   ],
   "source": [
    "# Create resource_type column\n",
    "\n",
    "bob_df['resource_type'] = ['text' if x != 'photograph' else 'still image' for x in bob_df.genre_MODS]\n",
    "bob_df.resource_type.value_counts()"
   ]
  },
  {
   "cell_type": "markdown",
   "metadata": {},
   "source": [
    "## 7. Wrap-up"
   ]
  },
  {
   "cell_type": "code",
   "execution_count": 122,
   "metadata": {},
   "outputs": [
    {
     "data": {
      "text/plain": [
       "['bob_df.pkl']"
      ]
     },
     "execution_count": 122,
     "metadata": {},
     "output_type": "execute_result"
    }
   ],
   "source": [
    "# Write out dataframe as .pkl file\n",
    "\n",
    "joblib.dump(bob_df,'bob_df.pkl')"
   ]
  },
  {
   "cell_type": "code",
   "execution_count": 123,
   "metadata": {},
   "outputs": [
    {
     "data": {
      "text/html": [
       "<div>\n",
       "<style scoped>\n",
       "    .dataframe tbody tr th:only-of-type {\n",
       "        vertical-align: middle;\n",
       "    }\n",
       "\n",
       "    .dataframe tbody tr th {\n",
       "        vertical-align: top;\n",
       "    }\n",
       "\n",
       "    .dataframe thead th {\n",
       "        text-align: right;\n",
       "    }\n",
       "</style>\n",
       "<table border=\"1\" class=\"dataframe\">\n",
       "  <thead>\n",
       "    <tr style=\"text-align: right;\">\n",
       "      <th></th>\n",
       "      <th>id</th>\n",
       "      <th>title</th>\n",
       "      <th>display_date</th>\n",
       "      <th>abstract</th>\n",
       "      <th>host</th>\n",
       "      <th>series</th>\n",
       "      <th>container</th>\n",
       "      <th>owner</th>\n",
       "      <th>depositor</th>\n",
       "      <th>collection_id</th>\n",
       "      <th>text</th>\n",
       "      <th>language</th>\n",
       "      <th>len</th>\n",
       "      <th>tok_lem_POS_NLTK</th>\n",
       "      <th>tok_lem_POS_CLAWS</th>\n",
       "      <th>tok_lem_POS_NLTK_corrected</th>\n",
       "      <th>misspelling_correction</th>\n",
       "      <th>len_errors</th>\n",
       "      <th>genre</th>\n",
       "      <th>genre_MODS</th>\n",
       "      <th>resource_type</th>\n",
       "    </tr>\n",
       "  </thead>\n",
       "  <tbody>\n",
       "    <tr>\n",
       "      <th>0</th>\n",
       "      <td>MSS_1002_B001_F11_I01</td>\n",
       "      <td>Recent Litigation Memo</td>\n",
       "      <td>July 11, 1975</td>\n",
       "      <td>A PARC internal memo that summarizes recent li...</td>\n",
       "      <td>Bob Nelkin Collection of ACC-PARC Records</td>\n",
       "      <td>I. Administrative Records 1953-1983</td>\n",
       "      <td>box 1, folder 11, Item 1</td>\n",
       "      <td>Heinz History Center</td>\n",
       "      <td>Detre Library &amp; Archives, Heinz History Center</td>\n",
       "      <td>collection.341</td>\n",
       "      <td>﻿V\\n\\nPennsylvania Association for Retarded Ci...</td>\n",
       "      <td>English</td>\n",
       "      <td>3042</td>\n",
       "      <td>[(V, V, NNP), (Pennsylvania, Pennsylvania, NNP...</td>\n",
       "      <td>[(Pennsylvania, pennsylvania, n), (Association...</td>\n",
       "      <td>[(v, V, NNP), (pennsylvania, Pennsylvania, NNP...</td>\n",
       "      <td>[((dpw, DPW, NNP), (dpi, dpi, NNP)), ((bazelon...</td>\n",
       "      <td>26</td>\n",
       "      <td>memo</td>\n",
       "      <td>correspondence</td>\n",
       "      <td>text</td>\n",
       "    </tr>\n",
       "    <tr>\n",
       "      <th>1</th>\n",
       "      <td>MSS_1002_B001_F12_I01</td>\n",
       "      <td>Letter from Peter Polloni to Bob Nelkin</td>\n",
       "      <td>March 11, 1975</td>\n",
       "      <td>A letter from Peter Polloni, executive directo...</td>\n",
       "      <td>Bob Nelkin Collection of ACC-PARC Records</td>\n",
       "      <td>I. Administrative Records 1953-1983</td>\n",
       "      <td>box 1, folder 12, Item 1</td>\n",
       "      <td>Heinz History Center</td>\n",
       "      <td>Detre Library &amp; Archives, Heinz History Center</td>\n",
       "      <td>collection.341</td>\n",
       "      <td>﻿Pennsylvania Association for Retarded Citizen...</td>\n",
       "      <td>English</td>\n",
       "      <td>242</td>\n",
       "      <td>[(Pennsylvania, Pennsylvania, NNP), (Associati...</td>\n",
       "      <td>[(Pennsylvania, pennsylvania, n), (Association...</td>\n",
       "      <td>[(pennsylvania, Pennsylvania, NNP), (associati...</td>\n",
       "      <td>[((ppp, PPP, NNP), (pop, pop, NNP)), ((schmi, ...</td>\n",
       "      <td>4</td>\n",
       "      <td>letter</td>\n",
       "      <td>correspondence</td>\n",
       "      <td>text</td>\n",
       "    </tr>\n",
       "    <tr>\n",
       "      <th>2</th>\n",
       "      <td>MSS_1002_B001_F13_I01</td>\n",
       "      <td>Letter to Frank Beal from Families and Friends...</td>\n",
       "      <td>August 19, 1976</td>\n",
       "      <td>A letter from Families and Friends of Southwes...</td>\n",
       "      <td>Bob Nelkin Collection of ACC-PARC Records</td>\n",
       "      <td>I. Administrative Records 1953-1983</td>\n",
       "      <td>box 1, folder 13, Item 1</td>\n",
       "      <td>Heinz History Center</td>\n",
       "      <td>Detre Library &amp; Archives, Heinz History Center</td>\n",
       "      <td>collection.341</td>\n",
       "      <td>﻿11\\nFAMILIES &amp; FRIENDS OF SOUTHWEST HABILITAT...</td>\n",
       "      <td>English</td>\n",
       "      <td>268</td>\n",
       "      <td>[(11, 11, CD), (FAMILIES, FAMILIES, NNP), (&amp;, ...</td>\n",
       "      <td>[(1, 1, m), (FAMILIES, family, n), (FRIENDS, f...</td>\n",
       "      <td>[(11, 11, CD), (families, FAMILIES, NNP), (&amp;, ...</td>\n",
       "      <td>[((fodi, Fodi, NNP), (jodi, jodi, NNP))]</td>\n",
       "      <td>1</td>\n",
       "      <td>letter</td>\n",
       "      <td>correspondence</td>\n",
       "      <td>text</td>\n",
       "    </tr>\n",
       "    <tr>\n",
       "      <th>3</th>\n",
       "      <td>MSS_1002_B001_F13_I02</td>\n",
       "      <td>Letter from families of patients at Southwest ...</td>\n",
       "      <td>July 27, 1976</td>\n",
       "      <td>A letter requesting Bob Nelkin's advice on adv...</td>\n",
       "      <td>Bob Nelkin Collection of ACC-PARC Records</td>\n",
       "      <td>I. Administrative Records 1953-1983</td>\n",
       "      <td>box 1, folder 13, Item 2</td>\n",
       "      <td>Heinz History Center</td>\n",
       "      <td>Detre Library &amp; Archives, Heinz History Center</td>\n",
       "      <td>collection.341</td>\n",
       "      <td>﻿FAMILIES &amp; FRIENDS OF\\nSOUTHWEST HABILITATION...</td>\n",
       "      <td>English</td>\n",
       "      <td>320</td>\n",
       "      <td>[(FAMILIES, FAMILIES, NNP), (&amp;, &amp;, CC), (FRIEN...</td>\n",
       "      <td>[(FAMILIES, family, n), (FRIENDS, friend, n), ...</td>\n",
       "      <td>[(families, FAMILIES, NNP), (&amp;, &amp;, CC), (frien...</td>\n",
       "      <td>[((tesident, tesident, NN), (resident, residen...</td>\n",
       "      <td>3</td>\n",
       "      <td>letter</td>\n",
       "      <td>correspondence</td>\n",
       "      <td>text</td>\n",
       "    </tr>\n",
       "    <tr>\n",
       "      <th>4</th>\n",
       "      <td>MSS_1002_B001_F16_I01</td>\n",
       "      <td>ACC-PARC Recent Benefits to Families Memo</td>\n",
       "      <td>March 28, 1977</td>\n",
       "      <td>Correspondence from Bob Nelkin to Joan Murdoch...</td>\n",
       "      <td>Bob Nelkin Collection of ACC-PARC Records</td>\n",
       "      <td>I. Administrative Records 1953-1983</td>\n",
       "      <td>box 1, folder 16, Item 1</td>\n",
       "      <td>Heinz History Center</td>\n",
       "      <td>Detre Library &amp; Archives, Heinz History Center</td>\n",
       "      <td>collection.341</td>\n",
       "      <td>C ommonwealth of Pennsylvania\\n\\nDepartment of...</td>\n",
       "      <td>English</td>\n",
       "      <td>6932</td>\n",
       "      <td>[(C, C, NNP), (ommonwealth, ommonwealth, NN), ...</td>\n",
       "      <td>[(C, c, n), (ommonwealth, ommonwealth, n), (of...</td>\n",
       "      <td>[(c, C, NNP), (commonwealth, commonwealth, NN)...</td>\n",
       "      <td>[((ommonwealth, ommonwealth, NN), (commonwealt...</td>\n",
       "      <td>209</td>\n",
       "      <td>memo</td>\n",
       "      <td>correspondence</td>\n",
       "      <td>text</td>\n",
       "    </tr>\n",
       "  </tbody>\n",
       "</table>\n",
       "</div>"
      ],
      "text/plain": [
       "                      id                                              title  \\\n",
       "0  MSS_1002_B001_F11_I01                             Recent Litigation Memo   \n",
       "1  MSS_1002_B001_F12_I01            Letter from Peter Polloni to Bob Nelkin   \n",
       "2  MSS_1002_B001_F13_I01  Letter to Frank Beal from Families and Friends...   \n",
       "3  MSS_1002_B001_F13_I02  Letter from families of patients at Southwest ...   \n",
       "4  MSS_1002_B001_F16_I01          ACC-PARC Recent Benefits to Families Memo   \n",
       "\n",
       "      display_date                                           abstract  \\\n",
       "0    July 11, 1975  A PARC internal memo that summarizes recent li...   \n",
       "1   March 11, 1975  A letter from Peter Polloni, executive directo...   \n",
       "2  August 19, 1976  A letter from Families and Friends of Southwes...   \n",
       "3    July 27, 1976  A letter requesting Bob Nelkin's advice on adv...   \n",
       "4   March 28, 1977  Correspondence from Bob Nelkin to Joan Murdoch...   \n",
       "\n",
       "                                        host  \\\n",
       "0  Bob Nelkin Collection of ACC-PARC Records   \n",
       "1  Bob Nelkin Collection of ACC-PARC Records   \n",
       "2  Bob Nelkin Collection of ACC-PARC Records   \n",
       "3  Bob Nelkin Collection of ACC-PARC Records   \n",
       "4  Bob Nelkin Collection of ACC-PARC Records   \n",
       "\n",
       "                                series                 container  \\\n",
       "0  I. Administrative Records 1953-1983  box 1, folder 11, Item 1   \n",
       "1  I. Administrative Records 1953-1983  box 1, folder 12, Item 1   \n",
       "2  I. Administrative Records 1953-1983  box 1, folder 13, Item 1   \n",
       "3  I. Administrative Records 1953-1983  box 1, folder 13, Item 2   \n",
       "4  I. Administrative Records 1953-1983  box 1, folder 16, Item 1   \n",
       "\n",
       "                  owner                                       depositor  \\\n",
       "0  Heinz History Center  Detre Library & Archives, Heinz History Center   \n",
       "1  Heinz History Center  Detre Library & Archives, Heinz History Center   \n",
       "2  Heinz History Center  Detre Library & Archives, Heinz History Center   \n",
       "3  Heinz History Center  Detre Library & Archives, Heinz History Center   \n",
       "4  Heinz History Center  Detre Library & Archives, Heinz History Center   \n",
       "\n",
       "    collection_id                                               text language  \\\n",
       "0  collection.341  ﻿V\\n\\nPennsylvania Association for Retarded Ci...  English   \n",
       "1  collection.341  ﻿Pennsylvania Association for Retarded Citizen...  English   \n",
       "2  collection.341  ﻿11\\nFAMILIES & FRIENDS OF SOUTHWEST HABILITAT...  English   \n",
       "3  collection.341  ﻿FAMILIES & FRIENDS OF\\nSOUTHWEST HABILITATION...  English   \n",
       "4  collection.341  C ommonwealth of Pennsylvania\\n\\nDepartment of...  English   \n",
       "\n",
       "    len                                   tok_lem_POS_NLTK  \\\n",
       "0  3042  [(V, V, NNP), (Pennsylvania, Pennsylvania, NNP...   \n",
       "1   242  [(Pennsylvania, Pennsylvania, NNP), (Associati...   \n",
       "2   268  [(11, 11, CD), (FAMILIES, FAMILIES, NNP), (&, ...   \n",
       "3   320  [(FAMILIES, FAMILIES, NNP), (&, &, CC), (FRIEN...   \n",
       "4  6932  [(C, C, NNP), (ommonwealth, ommonwealth, NN), ...   \n",
       "\n",
       "                                   tok_lem_POS_CLAWS  \\\n",
       "0  [(Pennsylvania, pennsylvania, n), (Association...   \n",
       "1  [(Pennsylvania, pennsylvania, n), (Association...   \n",
       "2  [(1, 1, m), (FAMILIES, family, n), (FRIENDS, f...   \n",
       "3  [(FAMILIES, family, n), (FRIENDS, friend, n), ...   \n",
       "4  [(C, c, n), (ommonwealth, ommonwealth, n), (of...   \n",
       "\n",
       "                          tok_lem_POS_NLTK_corrected  \\\n",
       "0  [(v, V, NNP), (pennsylvania, Pennsylvania, NNP...   \n",
       "1  [(pennsylvania, Pennsylvania, NNP), (associati...   \n",
       "2  [(11, 11, CD), (families, FAMILIES, NNP), (&, ...   \n",
       "3  [(families, FAMILIES, NNP), (&, &, CC), (frien...   \n",
       "4  [(c, C, NNP), (commonwealth, commonwealth, NN)...   \n",
       "\n",
       "                              misspelling_correction  len_errors   genre  \\\n",
       "0  [((dpw, DPW, NNP), (dpi, dpi, NNP)), ((bazelon...          26    memo   \n",
       "1  [((ppp, PPP, NNP), (pop, pop, NNP)), ((schmi, ...           4  letter   \n",
       "2           [((fodi, Fodi, NNP), (jodi, jodi, NNP))]           1  letter   \n",
       "3  [((tesident, tesident, NN), (resident, residen...           3  letter   \n",
       "4  [((ommonwealth, ommonwealth, NN), (commonwealt...         209    memo   \n",
       "\n",
       "       genre_MODS resource_type  \n",
       "0  correspondence          text  \n",
       "1  correspondence          text  \n",
       "2  correspondence          text  \n",
       "3  correspondence          text  \n",
       "4  correspondence          text  "
      ]
     },
     "execution_count": 123,
     "metadata": {},
     "output_type": "execute_result"
    }
   ],
   "source": [
    "bob_df.head()"
   ]
  },
  {
   "cell_type": "markdown",
   "metadata": {},
   "source": [
    "[Back to top](#Bob-Nelkin-Collection---Processing)"
   ]
  }
 ],
 "metadata": {
  "kernelspec": {
   "display_name": "Python 3",
   "language": "python",
   "name": "python3"
  },
  "language_info": {
   "codemirror_mode": {
    "name": "ipython",
    "version": 3
   },
   "file_extension": ".py",
   "mimetype": "text/x-python",
   "name": "python",
   "nbconvert_exporter": "python",
   "pygments_lexer": "ipython3",
   "version": "3.7.6"
  }
 },
 "nbformat": 4,
 "nbformat_minor": 4
}
