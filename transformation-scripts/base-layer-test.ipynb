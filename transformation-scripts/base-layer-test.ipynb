{
 "cells": [
  {
   "cell_type": "code",
   "execution_count": 1,
   "metadata": {},
   "outputs": [],
   "source": [
    "import extract_base_layer as ebl"
   ]
  },
  {
   "cell_type": "code",
   "execution_count": 2,
   "metadata": {},
   "outputs": [
    {
     "name": "stdout",
     "output_type": "stream",
     "text": [
      "working with 13 mods files\n",
      "success!\n"
     ]
    }
   ],
   "source": [
    "result = ebl.base_layer_maker('test_monograph', 'monograph', 'digital')\n",
    "#locations = ['hervey-allen-papers', 'fred-wright-cartoons', 'american-left-ephemera', 'communist-collection-forbes']\n",
    "#for z in locations:\n",
    "    #result = ebl.base_layer_maker(z, 'archive', 'digital')\n",
    "result"
   ]
  },
  {
   "cell_type": "code",
   "execution_count": null,
   "metadata": {},
   "outputs": [],
   "source": [
    "from data_layers_config import * \n",
    "MONOGRAPH_ITEM_MODS_MAP"
   ]
  },
  {
   "cell_type": "code",
   "execution_count": null,
   "metadata": {},
   "outputs": [],
   "source": [
    "#serial_locations = ['african-and-african-diasporic-serials', 'shooting-star-review']\n",
    "#for z in serial_locations:\n",
    "#    result = ebl.base_layer_maker(z, 'serial', 'digital')\n"
   ]
  },
  {
   "cell_type": "code",
   "execution_count": null,
   "metadata": {},
   "outputs": [],
   "source": [
    "item_dir = \"source-data/test_monograph/marc_mods/\"\n",
    "item_data = ebl.get_bs_from_xml(item_dir, 'mods')\n",
    "item_data[0]"
   ]
  },
  {
   "cell_type": "code",
   "execution_count": null,
   "metadata": {},
   "outputs": [],
   "source": [
    "item_output_rows = []\n",
    "for f in item_data:\n",
    "    for x in f.find_all('mods'):\n",
    "        row = ebl.get_fields_from_bs(x, MONOGRAPH_ITEM_MODS_MAP)\n",
    "        item_output_rows.append(row)\n",
    "item_output_rows[0]"
   ]
  },
  {
   "cell_type": "code",
   "execution_count": null,
   "metadata": {},
   "outputs": [],
   "source": [
    "#from bs4 import BeautifulSoup\n",
    "for location in locations:\n",
    "    item_dir = \"source-data/%s/mods/\" % location\n",
    "    print(item_dir)\n",
    "    item_data = ebl.get_bs_from_xml(item_dir, 'mods')\n",
    "\n",
    "    count = 0\n",
    "    for i in item_data:\n",
    "        #result = i.select('relatedItem > genre')\n",
    "        result = i.select(':not(relatedItem) > genre')\n",
    "        if len(result) > 0:\n",
    "            print(result)\n",
    "            #print(i.select(':not(relatedItem) > genre'))\n",
    "            count +=1\n",
    "            if count > 10:\n",
    "                break\n",
    "                "
   ]
  },
  {
   "cell_type": "code",
   "execution_count": null,
   "metadata": {},
   "outputs": [],
   "source": [
    "_dir = \"source-data/fred-wright-cartoons/mods/\"\n",
    "bs_list = ebl.get_bs_from_xml(_dir, \"mods\")"
   ]
  },
  {
   "cell_type": "code",
   "execution_count": null,
   "metadata": {},
   "outputs": [],
   "source": [
    "len(bs_list)"
   ]
  },
  {
   "cell_type": "code",
   "execution_count": null,
   "metadata": {},
   "outputs": [],
   "source": [
    "field_dict = {'depositor': {'bs_exp': 'mods > name'}}\n",
    "ebl.get_fields_from_bs(bs_list[0], field_dict)"
   ]
  },
  {
   "cell_type": "code",
   "execution_count": null,
   "metadata": {
    "scrolled": true
   },
   "outputs": [],
   "source": [
    "bs_list[0]"
   ]
  },
  {
   "cell_type": "code",
   "execution_count": null,
   "metadata": {},
   "outputs": [],
   "source": [
    "names = bs_list[0].find_all('name')\n",
    "for n in names:\n",
    "    role = n.find('role')\n",
    "    namePart = n.find('namePart')\n",
    "    if role:\n",
    "        if role.text.lower().strip() == 'creator':\n",
    "            print(namePart.text)\n",
    "    "
   ]
  },
  {
   "cell_type": "code",
   "execution_count": null,
   "metadata": {},
   "outputs": [],
   "source": [
    "for u in role:\n",
    "    #print(u)\n",
    "    print(u.find('mods:namePart'))"
   ]
  },
  {
   "cell_type": "code",
   "execution_count": null,
   "metadata": {},
   "outputs": [],
   "source": []
  }
 ],
 "metadata": {
  "kernelspec": {
   "display_name": "Python 3",
   "language": "python",
   "name": "python3"
  },
  "language_info": {
   "codemirror_mode": {
    "name": "ipython",
    "version": 3
   },
   "file_extension": ".py",
   "mimetype": "text/x-python",
   "name": "python",
   "nbconvert_exporter": "python",
   "pygments_lexer": "ipython3",
   "version": "3.6.5"
  }
 },
 "nbformat": 4,
 "nbformat_minor": 2
}
