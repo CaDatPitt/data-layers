{
 "cells": [
  {
   "cell_type": "code",
   "execution_count": 37,
   "metadata": {},
   "outputs": [],
   "source": [
    "import os\n",
    "import pandas as pd\n",
    "from collections import Counter\n",
    "locations = ['hervey-allen-papers', 'fred-wright-cartoons', 'american-left-ephemera', 'communist-collection-forbes']"
   ]
  },
  {
   "cell_type": "code",
   "execution_count": 44,
   "metadata": {},
   "outputs": [],
   "source": [
    "def make_tf(txt):\n",
    "    lowered = txt.lower()\n",
    "    tokens = lowered.split(\" \")\n",
    "    new_tokens = []\n",
    "    for token in tokens:\n",
    "        newtoken = \"\"\n",
    "        for t in token:\n",
    "            if t.isalpha():\n",
    "                newtoken+=t\n",
    "        if newtoken != \"\":\n",
    "            new_tokens.append(newtoken)\n",
    "    ctr = Counter(new_tokens)\n",
    "    tf = pd.DataFrame.from_dict(ctr, orient='index').reset_index()\n",
    "    try:\n",
    "        tf = tf.rename(columns={'index':'term', 0:'count'}).sort_values(by='count', ascending=False).reset_index(drop=True)\n",
    "    except:\n",
    "        pass\n",
    "    return tf\n",
    "\n",
    "def make_tf_layer(collection_folder, source_csv=\"item\", source_column=\"title\"):\n",
    "    print(collection_folder)\n",
    "    for root,folders,files in os.walk(\"base-layers/\"+ collection_folder):\n",
    "        for f in files:\n",
    "            if source_csv in f:\n",
    "                with open(root+'/'+f) as base:\n",
    "                    df = pd.read_csv(base)\n",
    "                \n",
    "                tf_all = make_tf(\" \".join(list(df[source_column])))\n",
    "                \n",
    "                #make dir for collection if not exists\n",
    "                newdir = \"extension-layers/\" + collection_folder\n",
    "                try:\n",
    "                    os.stat(newdir)\n",
    "                except:\n",
    "                    os.mkdir(newdir)\n",
    "                tf_all.to_csv(\"extension-layers/\"+collection_folder+\"/tf_all_by_\"+source_column+\".csv\")\n",
    "                \n",
    "                #make dir if not exists\n",
    "                itemdir = \"extension-layers/\" + collection_folder + \"/tf_items_by_\"+source_column\n",
    "                try:\n",
    "                    os.stat(itemdir)\n",
    "                except:\n",
    "                    os.mkdir(itemdir)\n",
    "                if source_csv == 'item':\n",
    "                    #loop rows\n",
    "                    for index, data in df.iterrows():\n",
    "                        identifier = data['identifier']\n",
    "                        this_tf = make_tf((data[source_column]))\n",
    "                        this_tf.to_csv(\"extension-layers/\" + collection_folder + \"/tf_items_by_\" + source_column + \"/\" + identifier + \".csv\")\n",
    "                                          \n",
    "#test               \n",
    "#make_tf_layer('hervey-allen-papers')"
   ]
  },
  {
   "cell_type": "code",
   "execution_count": 45,
   "metadata": {},
   "outputs": [
    {
     "name": "stdout",
     "output_type": "stream",
     "text": [
      "hervey-allen-papers\n",
      "fred-wright-cartoons\n",
      "american-left-ephemera\n",
      "communist-collection-forbes\n"
     ]
    }
   ],
   "source": [
    "for z in locations:\n",
    "    make_tf_layer(z)"
   ]
  },
  {
   "cell_type": "code",
   "execution_count": null,
   "metadata": {},
   "outputs": [],
   "source": []
  }
 ],
 "metadata": {
  "kernelspec": {
   "display_name": "Python 3",
   "language": "python",
   "name": "python3"
  },
  "language_info": {
   "codemirror_mode": {
    "name": "ipython",
    "version": 3
   },
   "file_extension": ".py",
   "mimetype": "text/x-python",
   "name": "python",
   "nbconvert_exporter": "python",
   "pygments_lexer": "ipython3",
   "version": "3.6.5"
  }
 },
 "nbformat": 4,
 "nbformat_minor": 2
}
